{
 "cells": [
  {
   "cell_type": "markdown",
   "metadata": {},
   "source": [
    "### nltk 함수와 re함수를 가져온다. re는 regular expression 의 준말이다."
   ]
  },
  {
   "cell_type": "code",
   "execution_count": 1,
   "metadata": {},
   "outputs": [],
   "source": [
    "import nltk\n",
    "import re"
   ]
  },
  {
   "cell_type": "markdown",
   "metadata": {},
   "source": [
    "앞에 \"\"\" 해주고 뒤에 \"\"\" 해주면  \"\"사이의 내용들은 전부 markdown이 된다. 밑의 내용들은 기본적인 레귤러 익스프레션 문법들이다."
   ]
  },
  {
   "cell_type": "code",
   "execution_count": 3,
   "metadata": {},
   "outputs": [
    {
     "data": {
      "text/plain": [
       "' Basic Regular Expression Meta-Characters, Including Wildcards, Ranges and Closures\\n.\\t        Wildcard, matches any character\\n^abc\\t    Matches some pattern abc at the start of a string\\nabc$\\t    Matches some pattern abc at the end of a string\\n[abc]\\t    Matches one of a set of characters\\n[^abc]      Matches anything but a set of characters\\n[A-Z0-9]\\tMatches one of a range of characters\\ned|ing|s\\tMatches one of the specified strings (disjunction)\\n*\\t        Zero or more of previous item, e.g. a*, [a-z]* (also known as Kleene Closure)\\n+\\t        One or more of previous item, e.g. a+, [a-z]+\\n?\\t        Zero or one of the previous item (i.e. optional), e.g. a?, [a-z]?\\n{n}\\t        Exactly n repeats where n is a non-negative integer\\n{n,}\\t    At least n repeats\\n{,n}\\t    No more than n repeats\\n{m,n}\\t    At least m and no more than n repeats\\na(b|c)+\\t    Parentheses that indicate the scope of the operators '"
      ]
     },
     "execution_count": 3,
     "metadata": {},
     "output_type": "execute_result"
    }
   ],
   "source": [
    "\"\"\" Basic Regular Expression Meta-Characters, Including Wildcards, Ranges and Closures\n",
    ".\t        Wildcard, matches any character\n",
    "^abc\t    Matches some pattern abc at the start of a string\n",
    "abc$\t    Matches some pattern abc at the end of a string\n",
    "[abc]\t    Matches one of a set of characters\n",
    "[^abc]      Matches anything but a set of characters\n",
    "[A-Z0-9]\tMatches one of a range of characters\n",
    "ed|ing|s\tMatches one of the specified strings (disjunction)\n",
    "*\t        Zero or more of previous item, e.g. a*, [a-z]* (also known as Kleene Closure)\n",
    "+\t        One or more of previous item, e.g. a+, [a-z]+\n",
    "?\t        Zero or one of the previous item (i.e. optional), e.g. a?, [a-z]?\n",
    "{n}\t        Exactly n repeats where n is a non-negative integer\n",
    "{n,}\t    At least n repeats\n",
    "{,n}\t    No more than n repeats\n",
    "{m,n}\t    At least m and no more than n repeats\n",
    "a(b|c)+\t    Parentheses that indicate the scope of the operators \"\"\""
   ]
  },
  {
   "cell_type": "markdown",
   "metadata": {},
   "source": [
    "### for loop가 나왔을 때는 항상 in 뒤의 코드를 봐줘야한다. nltk.corpus.words.words('en')- nltk에 포함된 corpus 함수로서 영어 단어를 모두 가져와준다. 그 길이는 매우 방대해서 ...으로 생략된다. worldlist는 모든 영어단어 들 중에서 소문자인 단어만 받는다. 그 중 앞의 10개다."
   ]
  },
  {
   "cell_type": "code",
   "execution_count": 36,
   "metadata": {},
   "outputs": [
    {
     "name": "stdout",
     "output_type": "stream",
     "text": [
      "['a', 'aa', 'aal', 'aalii', 'aam', 'aardvark', 'aardwolf', 'aba', 'abac', 'abaca']\n"
     ]
    }
   ],
   "source": [
    "wordlist = [w for w in nltk.corpus.words.words('en') if w.islower()]\n",
    "print(wordlist[:10])"
   ]
  },
  {
   "cell_type": "code",
   "execution_count": 5,
   "metadata": {
    "collapsed": true
   },
   "outputs": [
    {
     "data": {
      "text/plain": [
       "['A',\n",
       " 'a',\n",
       " 'aa',\n",
       " 'aal',\n",
       " 'aalii',\n",
       " 'aam',\n",
       " 'Aani',\n",
       " 'aardvark',\n",
       " 'aardwolf',\n",
       " 'Aaron',\n",
       " 'Aaronic',\n",
       " 'Aaronical',\n",
       " 'Aaronite',\n",
       " 'Aaronitic',\n",
       " 'Aaru',\n",
       " 'Ab',\n",
       " 'aba',\n",
       " 'Ababdeh',\n",
       " 'Ababua',\n",
       " 'abac',\n",
       " 'abaca',\n",
       " 'abacate',\n",
       " 'abacay',\n",
       " 'abacinate',\n",
       " 'abacination',\n",
       " 'abaciscus',\n",
       " 'abacist',\n",
       " 'aback',\n",
       " 'abactinal',\n",
       " 'abactinally',\n",
       " 'abaction',\n",
       " 'abactor',\n",
       " 'abaculus',\n",
       " 'abacus',\n",
       " 'Abadite',\n",
       " 'abaff',\n",
       " 'abaft',\n",
       " 'abaisance',\n",
       " 'abaiser',\n",
       " 'abaissed',\n",
       " 'abalienate',\n",
       " 'abalienation',\n",
       " 'abalone',\n",
       " 'Abama',\n",
       " 'abampere',\n",
       " 'abandon',\n",
       " 'abandonable',\n",
       " 'abandoned',\n",
       " 'abandonedly',\n",
       " 'abandonee',\n",
       " 'abandoner',\n",
       " 'abandonment',\n",
       " 'Abanic',\n",
       " 'Abantes',\n",
       " 'abaptiston',\n",
       " 'Abarambo',\n",
       " 'Abaris',\n",
       " 'abarthrosis',\n",
       " 'abarticular',\n",
       " 'abarticulation',\n",
       " 'abas',\n",
       " 'abase',\n",
       " 'abased',\n",
       " 'abasedly',\n",
       " 'abasedness',\n",
       " 'abasement',\n",
       " 'abaser',\n",
       " 'Abasgi',\n",
       " 'abash',\n",
       " 'abashed',\n",
       " 'abashedly',\n",
       " 'abashedness',\n",
       " 'abashless',\n",
       " 'abashlessly',\n",
       " 'abashment',\n",
       " 'abasia',\n",
       " 'abasic',\n",
       " 'abask',\n",
       " 'Abassin',\n",
       " 'abastardize',\n",
       " 'abatable',\n",
       " 'abate',\n",
       " 'abatement',\n",
       " 'abater',\n",
       " 'abatis',\n",
       " 'abatised',\n",
       " 'abaton',\n",
       " 'abator',\n",
       " 'abattoir',\n",
       " 'Abatua',\n",
       " 'abature',\n",
       " 'abave',\n",
       " 'abaxial',\n",
       " 'abaxile',\n",
       " 'abaze',\n",
       " 'abb',\n",
       " 'Abba',\n",
       " 'abbacomes',\n",
       " 'abbacy',\n",
       " 'Abbadide',\n",
       " 'abbas',\n",
       " 'abbasi',\n",
       " 'abbassi',\n",
       " 'Abbasside',\n",
       " 'abbatial',\n",
       " 'abbatical',\n",
       " 'abbess',\n",
       " 'abbey',\n",
       " 'abbeystede',\n",
       " 'Abbie',\n",
       " 'abbot',\n",
       " 'abbotcy',\n",
       " 'abbotnullius',\n",
       " 'abbotship',\n",
       " 'abbreviate',\n",
       " 'abbreviately',\n",
       " 'abbreviation',\n",
       " 'abbreviator',\n",
       " 'abbreviatory',\n",
       " 'abbreviature',\n",
       " 'Abby',\n",
       " 'abcoulomb',\n",
       " 'abdal',\n",
       " 'abdat',\n",
       " 'Abderian',\n",
       " 'Abderite',\n",
       " 'abdest',\n",
       " 'abdicable',\n",
       " 'abdicant',\n",
       " 'abdicate',\n",
       " 'abdication',\n",
       " 'abdicative',\n",
       " 'abdicator',\n",
       " 'Abdiel',\n",
       " 'abditive',\n",
       " 'abditory',\n",
       " 'abdomen',\n",
       " 'abdominal',\n",
       " 'Abdominales',\n",
       " 'abdominalian',\n",
       " 'abdominally',\n",
       " 'abdominoanterior',\n",
       " 'abdominocardiac',\n",
       " 'abdominocentesis',\n",
       " 'abdominocystic',\n",
       " 'abdominogenital',\n",
       " 'abdominohysterectomy',\n",
       " 'abdominohysterotomy',\n",
       " 'abdominoposterior',\n",
       " 'abdominoscope',\n",
       " 'abdominoscopy',\n",
       " 'abdominothoracic',\n",
       " 'abdominous',\n",
       " 'abdominovaginal',\n",
       " 'abdominovesical',\n",
       " 'abduce',\n",
       " 'abducens',\n",
       " 'abducent',\n",
       " 'abduct',\n",
       " 'abduction',\n",
       " 'abductor',\n",
       " 'Abe',\n",
       " 'abeam',\n",
       " 'abear',\n",
       " 'abearance',\n",
       " 'abecedarian',\n",
       " 'abecedarium',\n",
       " 'abecedary',\n",
       " 'abed',\n",
       " 'abeigh',\n",
       " 'Abel',\n",
       " 'abele',\n",
       " 'Abelia',\n",
       " 'Abelian',\n",
       " 'Abelicea',\n",
       " 'Abelite',\n",
       " 'abelite',\n",
       " 'Abelmoschus',\n",
       " 'abelmosk',\n",
       " 'Abelonian',\n",
       " 'abeltree',\n",
       " 'Abencerrages',\n",
       " 'abenteric',\n",
       " 'abepithymia',\n",
       " 'Aberdeen',\n",
       " 'aberdevine',\n",
       " 'Aberdonian',\n",
       " 'Aberia',\n",
       " 'aberrance',\n",
       " 'aberrancy',\n",
       " 'aberrant',\n",
       " 'aberrate',\n",
       " 'aberration',\n",
       " 'aberrational',\n",
       " 'aberrator',\n",
       " 'aberrometer',\n",
       " 'aberroscope',\n",
       " 'aberuncator',\n",
       " 'abet',\n",
       " 'abetment',\n",
       " 'abettal',\n",
       " 'abettor',\n",
       " 'abevacuation',\n",
       " 'abey',\n",
       " 'abeyance',\n",
       " 'abeyancy',\n",
       " 'abeyant',\n",
       " 'abfarad',\n",
       " 'abhenry',\n",
       " 'abhiseka',\n",
       " 'abhominable',\n",
       " 'abhor',\n",
       " 'abhorrence',\n",
       " 'abhorrency',\n",
       " 'abhorrent',\n",
       " 'abhorrently',\n",
       " 'abhorrer',\n",
       " 'abhorrible',\n",
       " 'abhorring',\n",
       " 'Abhorson',\n",
       " 'abidal',\n",
       " 'abidance',\n",
       " 'abide',\n",
       " 'abider',\n",
       " 'abidi',\n",
       " 'abiding',\n",
       " 'abidingly',\n",
       " 'abidingness',\n",
       " 'Abie',\n",
       " 'Abies',\n",
       " 'abietate',\n",
       " 'abietene',\n",
       " 'abietic',\n",
       " 'abietin',\n",
       " 'Abietineae',\n",
       " 'abietineous',\n",
       " 'abietinic',\n",
       " 'Abiezer',\n",
       " 'Abigail',\n",
       " 'abigail',\n",
       " 'abigailship',\n",
       " 'abigeat',\n",
       " 'abigeus',\n",
       " 'abilao',\n",
       " 'ability',\n",
       " 'abilla',\n",
       " 'abilo',\n",
       " 'abintestate',\n",
       " 'abiogenesis',\n",
       " 'abiogenesist',\n",
       " 'abiogenetic',\n",
       " 'abiogenetical',\n",
       " 'abiogenetically',\n",
       " 'abiogenist',\n",
       " 'abiogenous',\n",
       " 'abiogeny',\n",
       " 'abiological',\n",
       " 'abiologically',\n",
       " 'abiology',\n",
       " 'abiosis',\n",
       " 'abiotic',\n",
       " 'abiotrophic',\n",
       " 'abiotrophy',\n",
       " 'Abipon',\n",
       " 'abir',\n",
       " 'abirritant',\n",
       " 'abirritate',\n",
       " 'abirritation',\n",
       " 'abirritative',\n",
       " 'abiston',\n",
       " 'Abitibi',\n",
       " 'abiuret',\n",
       " 'abject',\n",
       " 'abjectedness',\n",
       " 'abjection',\n",
       " 'abjective',\n",
       " 'abjectly',\n",
       " 'abjectness',\n",
       " 'abjoint',\n",
       " 'abjudge',\n",
       " 'abjudicate',\n",
       " 'abjudication',\n",
       " 'abjunction',\n",
       " 'abjunctive',\n",
       " 'abjuration',\n",
       " 'abjuratory',\n",
       " 'abjure',\n",
       " 'abjurement',\n",
       " 'abjurer',\n",
       " 'abkar',\n",
       " 'abkari',\n",
       " 'Abkhas',\n",
       " 'Abkhasian',\n",
       " 'ablach',\n",
       " 'ablactate',\n",
       " 'ablactation',\n",
       " 'ablare',\n",
       " 'ablastemic',\n",
       " 'ablastous',\n",
       " 'ablate',\n",
       " 'ablation',\n",
       " 'ablatitious',\n",
       " 'ablatival',\n",
       " 'ablative',\n",
       " 'ablator',\n",
       " 'ablaut',\n",
       " 'ablaze',\n",
       " 'able',\n",
       " 'ableeze',\n",
       " 'ablegate',\n",
       " 'ableness',\n",
       " 'ablepharia',\n",
       " 'ablepharon',\n",
       " 'ablepharous',\n",
       " 'Ablepharus',\n",
       " 'ablepsia',\n",
       " 'ableptical',\n",
       " 'ableptically',\n",
       " 'abler',\n",
       " 'ablest',\n",
       " 'ablewhackets',\n",
       " 'ablins',\n",
       " 'abloom',\n",
       " 'ablow',\n",
       " 'ablude',\n",
       " 'abluent',\n",
       " 'ablush',\n",
       " 'ablution',\n",
       " 'ablutionary',\n",
       " 'abluvion',\n",
       " 'ably',\n",
       " 'abmho',\n",
       " 'Abnaki',\n",
       " 'abnegate',\n",
       " 'abnegation',\n",
       " 'abnegative',\n",
       " 'abnegator',\n",
       " 'Abner',\n",
       " 'abnerval',\n",
       " 'abnet',\n",
       " 'abneural',\n",
       " 'abnormal',\n",
       " 'abnormalism',\n",
       " 'abnormalist',\n",
       " 'abnormality',\n",
       " 'abnormalize',\n",
       " 'abnormally',\n",
       " 'abnormalness',\n",
       " 'abnormity',\n",
       " 'abnormous',\n",
       " 'abnumerable',\n",
       " 'Abo',\n",
       " 'aboard',\n",
       " 'Abobra',\n",
       " 'abode',\n",
       " 'abodement',\n",
       " 'abody',\n",
       " 'abohm',\n",
       " 'aboil',\n",
       " 'abolish',\n",
       " 'abolisher',\n",
       " 'abolishment',\n",
       " 'abolition',\n",
       " 'abolitionary',\n",
       " 'abolitionism',\n",
       " 'abolitionist',\n",
       " 'abolitionize',\n",
       " 'abolla',\n",
       " 'aboma',\n",
       " 'abomasum',\n",
       " 'abomasus',\n",
       " 'abominable',\n",
       " 'abominableness',\n",
       " 'abominably',\n",
       " 'abominate',\n",
       " 'abomination',\n",
       " 'abominator',\n",
       " 'abomine',\n",
       " 'Abongo',\n",
       " 'aboon',\n",
       " 'aborad',\n",
       " 'aboral',\n",
       " 'aborally',\n",
       " 'abord',\n",
       " 'aboriginal',\n",
       " 'aboriginality',\n",
       " 'aboriginally',\n",
       " 'aboriginary',\n",
       " 'aborigine',\n",
       " 'abort',\n",
       " 'aborted',\n",
       " 'aborticide',\n",
       " 'abortient',\n",
       " 'abortifacient',\n",
       " 'abortin',\n",
       " 'abortion',\n",
       " 'abortional',\n",
       " 'abortionist',\n",
       " 'abortive',\n",
       " 'abortively',\n",
       " 'abortiveness',\n",
       " 'abortus',\n",
       " 'abouchement',\n",
       " 'abound',\n",
       " 'abounder',\n",
       " 'abounding',\n",
       " 'aboundingly',\n",
       " 'about',\n",
       " 'abouts',\n",
       " 'above',\n",
       " 'aboveboard',\n",
       " 'abovedeck',\n",
       " 'aboveground',\n",
       " 'aboveproof',\n",
       " 'abovestairs',\n",
       " 'abox',\n",
       " 'abracadabra',\n",
       " 'abrachia',\n",
       " 'abradant',\n",
       " 'abrade',\n",
       " 'abrader',\n",
       " 'Abraham',\n",
       " 'Abrahamic',\n",
       " 'Abrahamidae',\n",
       " 'Abrahamite',\n",
       " 'Abrahamitic',\n",
       " 'abraid',\n",
       " 'Abram',\n",
       " 'Abramis',\n",
       " 'abranchial',\n",
       " 'abranchialism',\n",
       " 'abranchian',\n",
       " 'Abranchiata',\n",
       " 'abranchiate',\n",
       " 'abranchious',\n",
       " 'abrasax',\n",
       " 'abrase',\n",
       " 'abrash',\n",
       " 'abrasiometer',\n",
       " 'abrasion',\n",
       " 'abrasive',\n",
       " 'abrastol',\n",
       " 'abraum',\n",
       " 'abraxas',\n",
       " 'abreact',\n",
       " 'abreaction',\n",
       " 'abreast',\n",
       " 'abrenounce',\n",
       " 'abret',\n",
       " 'abrico',\n",
       " 'abridge',\n",
       " 'abridgeable',\n",
       " 'abridged',\n",
       " 'abridgedly',\n",
       " 'abridger',\n",
       " 'abridgment',\n",
       " 'abrim',\n",
       " 'abrin',\n",
       " 'abristle',\n",
       " 'abroach',\n",
       " 'abroad',\n",
       " 'Abrocoma',\n",
       " 'abrocome',\n",
       " 'abrogable',\n",
       " 'abrogate',\n",
       " 'abrogation',\n",
       " 'abrogative',\n",
       " 'abrogator',\n",
       " 'Abroma',\n",
       " 'Abronia',\n",
       " 'abrook',\n",
       " 'abrotanum',\n",
       " 'abrotine',\n",
       " 'abrupt',\n",
       " 'abruptedly',\n",
       " 'abruption',\n",
       " 'abruptly',\n",
       " 'abruptness',\n",
       " 'Abrus',\n",
       " 'Absalom',\n",
       " 'absampere',\n",
       " 'Absaroka',\n",
       " 'absarokite',\n",
       " 'abscess',\n",
       " 'abscessed',\n",
       " 'abscession',\n",
       " 'abscessroot',\n",
       " 'abscind',\n",
       " 'abscise',\n",
       " 'abscision',\n",
       " 'absciss',\n",
       " 'abscissa',\n",
       " 'abscissae',\n",
       " 'abscisse',\n",
       " 'abscission',\n",
       " 'absconce',\n",
       " 'abscond',\n",
       " 'absconded',\n",
       " 'abscondedly',\n",
       " 'abscondence',\n",
       " 'absconder',\n",
       " 'absconsa',\n",
       " 'abscoulomb',\n",
       " 'absence',\n",
       " 'absent',\n",
       " 'absentation',\n",
       " 'absentee',\n",
       " 'absenteeism',\n",
       " 'absenteeship',\n",
       " 'absenter',\n",
       " 'absently',\n",
       " 'absentment',\n",
       " 'absentmindedly',\n",
       " 'absentness',\n",
       " 'absfarad',\n",
       " 'abshenry',\n",
       " 'Absi',\n",
       " 'absinthe',\n",
       " 'absinthial',\n",
       " 'absinthian',\n",
       " 'absinthiate',\n",
       " 'absinthic',\n",
       " 'absinthin',\n",
       " 'absinthine',\n",
       " 'absinthism',\n",
       " 'absinthismic',\n",
       " 'absinthium',\n",
       " 'absinthol',\n",
       " 'absit',\n",
       " 'absmho',\n",
       " 'absohm',\n",
       " 'absolute',\n",
       " 'absolutely',\n",
       " 'absoluteness',\n",
       " 'absolution',\n",
       " 'absolutism',\n",
       " 'absolutist',\n",
       " 'absolutistic',\n",
       " 'absolutistically',\n",
       " 'absolutive',\n",
       " 'absolutization',\n",
       " 'absolutize',\n",
       " 'absolutory',\n",
       " 'absolvable',\n",
       " 'absolvatory',\n",
       " 'absolve',\n",
       " 'absolvent',\n",
       " 'absolver',\n",
       " 'absolvitor',\n",
       " 'absolvitory',\n",
       " 'absonant',\n",
       " 'absonous',\n",
       " 'absorb',\n",
       " 'absorbability',\n",
       " 'absorbable',\n",
       " 'absorbed',\n",
       " 'absorbedly',\n",
       " 'absorbedness',\n",
       " 'absorbefacient',\n",
       " 'absorbency',\n",
       " 'absorbent',\n",
       " 'absorber',\n",
       " 'absorbing',\n",
       " 'absorbingly',\n",
       " 'absorbition',\n",
       " 'absorpt',\n",
       " 'absorptance',\n",
       " 'absorptiometer',\n",
       " 'absorptiometric',\n",
       " 'absorption',\n",
       " 'absorptive',\n",
       " 'absorptively',\n",
       " 'absorptiveness',\n",
       " 'absorptivity',\n",
       " 'absquatulate',\n",
       " 'abstain',\n",
       " 'abstainer',\n",
       " 'abstainment',\n",
       " 'abstemious',\n",
       " 'abstemiously',\n",
       " 'abstemiousness',\n",
       " 'abstention',\n",
       " 'abstentionist',\n",
       " 'abstentious',\n",
       " 'absterge',\n",
       " 'abstergent',\n",
       " 'abstersion',\n",
       " 'abstersive',\n",
       " 'abstersiveness',\n",
       " 'abstinence',\n",
       " 'abstinency',\n",
       " 'abstinent',\n",
       " 'abstinential',\n",
       " 'abstinently',\n",
       " 'abstract',\n",
       " 'abstracted',\n",
       " 'abstractedly',\n",
       " 'abstractedness',\n",
       " 'abstracter',\n",
       " 'abstraction',\n",
       " 'abstractional',\n",
       " 'abstractionism',\n",
       " 'abstractionist',\n",
       " 'abstractitious',\n",
       " 'abstractive',\n",
       " 'abstractively',\n",
       " 'abstractiveness',\n",
       " 'abstractly',\n",
       " 'abstractness',\n",
       " 'abstractor',\n",
       " 'abstrahent',\n",
       " 'abstricted',\n",
       " 'abstriction',\n",
       " 'abstruse',\n",
       " 'abstrusely',\n",
       " 'abstruseness',\n",
       " 'abstrusion',\n",
       " 'abstrusity',\n",
       " 'absume',\n",
       " 'absumption',\n",
       " 'absurd',\n",
       " 'absurdity',\n",
       " 'absurdly',\n",
       " 'absurdness',\n",
       " 'absvolt',\n",
       " 'Absyrtus',\n",
       " 'abterminal',\n",
       " 'abthain',\n",
       " 'abthainrie',\n",
       " 'abthainry',\n",
       " 'abthanage',\n",
       " 'Abu',\n",
       " 'abu',\n",
       " 'abucco',\n",
       " 'abulia',\n",
       " 'abulic',\n",
       " 'abulomania',\n",
       " 'abuna',\n",
       " 'abundance',\n",
       " 'abundancy',\n",
       " 'abundant',\n",
       " 'Abundantia',\n",
       " 'abundantly',\n",
       " 'abura',\n",
       " 'aburabozu',\n",
       " 'aburban',\n",
       " 'aburst',\n",
       " 'aburton',\n",
       " 'abusable',\n",
       " 'abuse',\n",
       " 'abusedly',\n",
       " 'abusee',\n",
       " 'abuseful',\n",
       " 'abusefully',\n",
       " 'abusefulness',\n",
       " 'abuser',\n",
       " 'abusion',\n",
       " 'abusious',\n",
       " 'abusive',\n",
       " 'abusively',\n",
       " 'abusiveness',\n",
       " 'abut',\n",
       " 'Abuta',\n",
       " 'Abutilon',\n",
       " 'abutment',\n",
       " 'abuttal',\n",
       " 'abutter',\n",
       " 'abutting',\n",
       " 'abuzz',\n",
       " 'abvolt',\n",
       " 'abwab',\n",
       " 'aby',\n",
       " 'abysm',\n",
       " 'abysmal',\n",
       " 'abysmally',\n",
       " 'abyss',\n",
       " 'abyssal',\n",
       " 'Abyssinian',\n",
       " 'abyssobenthonic',\n",
       " 'abyssolith',\n",
       " 'abyssopelagic',\n",
       " 'acacatechin',\n",
       " 'acacatechol',\n",
       " 'acacetin',\n",
       " 'Acacia',\n",
       " 'Acacian',\n",
       " 'acaciin',\n",
       " 'acacin',\n",
       " 'academe',\n",
       " 'academial',\n",
       " 'academian',\n",
       " 'Academic',\n",
       " 'academic',\n",
       " 'academical',\n",
       " 'academically',\n",
       " 'academicals',\n",
       " 'academician',\n",
       " 'academicism',\n",
       " 'academism',\n",
       " 'academist',\n",
       " 'academite',\n",
       " 'academization',\n",
       " 'academize',\n",
       " 'Academus',\n",
       " 'academy',\n",
       " 'Acadia',\n",
       " 'acadialite',\n",
       " 'Acadian',\n",
       " 'Acadie',\n",
       " 'Acaena',\n",
       " 'acajou',\n",
       " 'acaleph',\n",
       " 'Acalepha',\n",
       " 'Acalephae',\n",
       " 'acalephan',\n",
       " 'acalephoid',\n",
       " 'acalycal',\n",
       " 'acalycine',\n",
       " 'acalycinous',\n",
       " 'acalyculate',\n",
       " 'Acalypha',\n",
       " 'Acalypterae',\n",
       " 'Acalyptrata',\n",
       " 'Acalyptratae',\n",
       " 'acalyptrate',\n",
       " 'Acamar',\n",
       " 'acampsia',\n",
       " 'acana',\n",
       " 'acanaceous',\n",
       " 'acanonical',\n",
       " 'acanth',\n",
       " 'acantha',\n",
       " 'Acanthaceae',\n",
       " 'acanthaceous',\n",
       " 'acanthad',\n",
       " 'Acantharia',\n",
       " 'Acanthia',\n",
       " 'acanthial',\n",
       " 'acanthin',\n",
       " 'acanthine',\n",
       " 'acanthion',\n",
       " 'acanthite',\n",
       " 'acanthocarpous',\n",
       " 'Acanthocephala',\n",
       " 'acanthocephalan',\n",
       " 'Acanthocephali',\n",
       " 'acanthocephalous',\n",
       " 'Acanthocereus',\n",
       " 'acanthocladous',\n",
       " 'Acanthodea',\n",
       " 'acanthodean',\n",
       " 'Acanthodei',\n",
       " 'Acanthodes',\n",
       " 'acanthodian',\n",
       " 'Acanthodidae',\n",
       " 'Acanthodii',\n",
       " 'Acanthodini',\n",
       " 'acanthoid',\n",
       " 'Acantholimon',\n",
       " 'acanthological',\n",
       " 'acanthology',\n",
       " 'acantholysis',\n",
       " 'acanthoma',\n",
       " 'Acanthomeridae',\n",
       " 'acanthon',\n",
       " 'Acanthopanax',\n",
       " 'Acanthophis',\n",
       " 'acanthophorous',\n",
       " 'acanthopod',\n",
       " 'acanthopodous',\n",
       " 'acanthopomatous',\n",
       " 'acanthopore',\n",
       " 'acanthopteran',\n",
       " 'Acanthopteri',\n",
       " 'acanthopterous',\n",
       " 'acanthopterygian',\n",
       " 'Acanthopterygii',\n",
       " 'acanthosis',\n",
       " 'acanthous',\n",
       " 'Acanthuridae',\n",
       " 'Acanthurus',\n",
       " 'acanthus',\n",
       " 'acapnia',\n",
       " 'acapnial',\n",
       " 'acapsular',\n",
       " 'acapu',\n",
       " 'acapulco',\n",
       " 'acara',\n",
       " 'Acarapis',\n",
       " 'acardia',\n",
       " 'acardiac',\n",
       " 'acari',\n",
       " 'acarian',\n",
       " 'acariasis',\n",
       " 'acaricidal',\n",
       " 'acaricide',\n",
       " 'acarid',\n",
       " 'Acarida',\n",
       " 'Acaridea',\n",
       " 'acaridean',\n",
       " 'acaridomatium',\n",
       " 'acariform',\n",
       " 'Acarina',\n",
       " 'acarine',\n",
       " 'acarinosis',\n",
       " 'acarocecidium',\n",
       " 'acarodermatitis',\n",
       " 'acaroid',\n",
       " 'acarol',\n",
       " 'acarologist',\n",
       " 'acarology',\n",
       " 'acarophilous',\n",
       " 'acarophobia',\n",
       " 'acarotoxic',\n",
       " 'acarpelous',\n",
       " 'acarpous',\n",
       " 'Acarus',\n",
       " 'Acastus',\n",
       " 'acatalectic',\n",
       " 'acatalepsia',\n",
       " 'acatalepsy',\n",
       " 'acataleptic',\n",
       " 'acatallactic',\n",
       " 'acatamathesia',\n",
       " 'acataphasia',\n",
       " 'acataposis',\n",
       " 'acatastasia',\n",
       " 'acatastatic',\n",
       " 'acate',\n",
       " 'acategorical',\n",
       " 'acatery',\n",
       " 'acatharsia',\n",
       " 'acatharsy',\n",
       " 'acatholic',\n",
       " 'acaudal',\n",
       " 'acaudate',\n",
       " 'acaulescent',\n",
       " 'acauline',\n",
       " 'acaulose',\n",
       " 'acaulous',\n",
       " 'acca',\n",
       " 'accede',\n",
       " 'accedence',\n",
       " 'acceder',\n",
       " 'accelerable',\n",
       " 'accelerando',\n",
       " 'accelerant',\n",
       " 'accelerate',\n",
       " 'accelerated',\n",
       " 'acceleratedly',\n",
       " 'acceleration',\n",
       " 'accelerative',\n",
       " 'accelerator',\n",
       " 'acceleratory',\n",
       " 'accelerograph',\n",
       " 'accelerometer',\n",
       " 'accend',\n",
       " 'accendibility',\n",
       " 'accendible',\n",
       " 'accension',\n",
       " 'accensor',\n",
       " 'accent',\n",
       " 'accentless',\n",
       " 'accentor',\n",
       " 'accentuable',\n",
       " 'accentual',\n",
       " 'accentuality',\n",
       " 'accentually',\n",
       " 'accentuate',\n",
       " 'accentuation',\n",
       " 'accentuator',\n",
       " 'accentus',\n",
       " 'accept',\n",
       " 'acceptability',\n",
       " 'acceptable',\n",
       " 'acceptableness',\n",
       " 'acceptably',\n",
       " 'acceptance',\n",
       " 'acceptancy',\n",
       " 'acceptant',\n",
       " 'acceptation',\n",
       " 'accepted',\n",
       " 'acceptedly',\n",
       " 'accepter',\n",
       " 'acceptilate',\n",
       " 'acceptilation',\n",
       " 'acception',\n",
       " 'acceptive',\n",
       " 'acceptor',\n",
       " 'acceptress',\n",
       " 'accerse',\n",
       " 'accersition',\n",
       " 'accersitor',\n",
       " 'access',\n",
       " 'accessarily',\n",
       " 'accessariness',\n",
       " 'accessary',\n",
       " 'accessaryship',\n",
       " 'accessibility',\n",
       " 'accessible',\n",
       " 'accessibly',\n",
       " 'accession',\n",
       " 'accessional',\n",
       " 'accessioner',\n",
       " 'accessive',\n",
       " 'accessively',\n",
       " 'accessless',\n",
       " 'accessorial',\n",
       " 'accessorily',\n",
       " 'accessoriness',\n",
       " 'accessorius',\n",
       " 'accessory',\n",
       " 'accidence',\n",
       " 'accidency',\n",
       " 'accident',\n",
       " 'accidental',\n",
       " 'accidentalism',\n",
       " 'accidentalist',\n",
       " 'accidentality',\n",
       " 'accidentally',\n",
       " 'accidentalness',\n",
       " 'accidented',\n",
       " 'accidential',\n",
       " 'accidentiality',\n",
       " 'accidently',\n",
       " 'accidia',\n",
       " 'accidie',\n",
       " 'accinge',\n",
       " 'accipient',\n",
       " 'Accipiter',\n",
       " 'accipitral',\n",
       " 'accipitrary',\n",
       " 'Accipitres',\n",
       " 'accipitrine',\n",
       " 'accismus',\n",
       " 'accite',\n",
       " 'acclaim',\n",
       " 'acclaimable',\n",
       " 'acclaimer',\n",
       " 'acclamation',\n",
       " 'acclamator',\n",
       " 'acclamatory',\n",
       " 'acclimatable',\n",
       " 'acclimatation',\n",
       " 'acclimate',\n",
       " 'acclimatement',\n",
       " 'acclimation',\n",
       " 'acclimatizable',\n",
       " 'acclimatization',\n",
       " 'acclimatize',\n",
       " 'acclimatizer',\n",
       " 'acclimature',\n",
       " 'acclinal',\n",
       " 'acclinate',\n",
       " 'acclivitous',\n",
       " 'acclivity',\n",
       " 'acclivous',\n",
       " 'accloy',\n",
       " 'accoast',\n",
       " 'accoil',\n",
       " 'accolade',\n",
       " 'accoladed',\n",
       " 'accolated',\n",
       " 'accolent',\n",
       " 'accolle',\n",
       " 'accombination',\n",
       " 'accommodable',\n",
       " 'accommodableness',\n",
       " 'accommodate',\n",
       " 'accommodately',\n",
       " 'accommodateness',\n",
       " 'accommodating',\n",
       " 'accommodatingly',\n",
       " 'accommodation',\n",
       " 'accommodational',\n",
       " 'accommodative',\n",
       " 'accommodativeness',\n",
       " 'accommodator',\n",
       " 'accompanier',\n",
       " 'accompaniment',\n",
       " 'accompanimental',\n",
       " 'accompanist',\n",
       " 'accompany',\n",
       " 'accompanyist',\n",
       " 'accompletive',\n",
       " 'accomplice',\n",
       " 'accompliceship',\n",
       " 'accomplicity',\n",
       " 'accomplish',\n",
       " 'accomplishable',\n",
       " 'accomplished',\n",
       " 'accomplisher',\n",
       " 'accomplishment',\n",
       " 'accomplisht',\n",
       " 'accompt',\n",
       " 'accord',\n",
       " 'accordable',\n",
       " 'accordance',\n",
       " 'accordancy',\n",
       " 'accordant',\n",
       " ...]"
      ]
     },
     "execution_count": 5,
     "metadata": {},
     "output_type": "execute_result"
    }
   ],
   "source": [
    "nltk.corpus.words.words('en')"
   ]
  },
  {
   "cell_type": "markdown",
   "metadata": {},
   "source": [
    " #### 위에서 wordlist를 모든 소문자 영어단어들로 설정해뒀다. 그리고 이번엔 re.search('ed$', w)가 사용됐는데 이 함수는 w중에서 ed$를 찾는 것이다. ed$는 스트링끝에 ed가 붙은 것이다. 여기서 w는 미정의 스트링이다. 따라서result는 모든 소문자 영단어 중에 끝에 ed가 붙은 단어들이다. "
   ]
  },
  {
   "cell_type": "code",
   "execution_count": 7,
   "metadata": {
    "scrolled": true
   },
   "outputs": [
    {
     "name": "stdout",
     "output_type": "stream",
     "text": [
      "['abaissed', 'abandoned', 'abased', 'abashed', 'abatised', 'abed', 'aborted', 'abridged', 'abscessed', 'absconded']\n"
     ]
    }
   ],
   "source": [
    "result = [w for w in wordlist if re.search('ed$', w)]\n",
    "print(result[:10])"
   ]
  },
  {
   "cell_type": "code",
   "execution_count": 40,
   "metadata": {},
   "outputs": [
    {
     "name": "stdout",
     "output_type": "stream",
     "text": [
      "['abhorring', 'abiding', 'abounding', 'absorbing', 'abutting', 'accommodating', 'according', 'accounting', 'aching', 'acting']\n"
     ]
    }
   ],
   "source": [
    "result = [w for w in wordlist if re.search('ing$', w)]\n",
    "print(result[:10])"
   ]
  },
  {
   "cell_type": "markdown",
   "metadata": {},
   "source": [
    "#### re.search('^..j..t..$', w) - 위와 마찬가지다. w 중에서 '^..j..t..$'를 찾는것이다. ^-는 스트링의 맨 앞이고 $는 스트링의 맨 끝이다. .은 정해지지 않은 알파벳이다. 따라서 총8글자의 스트링인데 세번째에 j 여섯번째에 t인 소문자 단어를 찾는 것이다. 그 중 앞쪽의 10개다."
   ]
  },
  {
   "cell_type": "code",
   "execution_count": 8,
   "metadata": {},
   "outputs": [
    {
     "name": "stdout",
     "output_type": "stream",
     "text": [
      "['abjectly', 'adjuster', 'dejected', 'dejectly', 'injector', 'majestic', 'objectee', 'objector', 'rejecter', 'rejector']\n"
     ]
    }
   ],
   "source": [
    "result = [w for w in wordlist if re.search('^..j..t..$', w)]\n",
    "print(result[:10])"
   ]
  },
  {
   "cell_type": "code",
   "execution_count": 38,
   "metadata": {},
   "outputs": [
    {
     "name": "stdout",
     "output_type": "stream",
     "text": [
      "['abac', 'abas', 'abed', 'abet', 'abey', 'abir', 'able', 'ably', 'abox', 'abut']\n"
     ]
    }
   ],
   "source": [
    "result = [w for w in wordlist if re.search('^....$', w)]\n",
    "print(result[:10])"
   ]
  },
  {
   "cell_type": "code",
   "execution_count": 39,
   "metadata": {
    "collapsed": true
   },
   "outputs": [
    {
     "name": "stdout",
     "output_type": "stream",
     "text": [
      "['abacay', 'abacus', 'abased', 'abaser', 'abasia', 'abasic', 'abater', 'abatis', 'abaton', 'abator', 'abbacy', 'abbasi', 'abbess', 'abdest', 'abduce', 'abduct', 'abeigh', 'abidal', 'abider', 'abilao', 'abilla', 'abject', 'abjure', 'abkari', 'ablach', 'ablare', 'ablate', 'ablaut', 'ablaze', 'ablest', 'ablins', 'abloom', 'ablude', 'ablush', 'aboard', 'abolla', 'aborad', 'aboral', 'abound', 'abouts', 'abrade', 'abraid', 'abrase', 'abrash', 'abraum', 'abrico', 'abroad', 'abrook', 'abrupt', 'absent', 'absmho', 'absohm', 'absorb', 'absume', 'absurd', 'abucco', 'abulia', 'abulic', 'aburst', 'abusee', 'abuser', 'abvolt', 'acacin', 'acajou', 'acanth', 'acarid', 'acarol', 'accede', 'accend', 'accent', 'accept', 'access', 'accite', 'accloy', 'accoil', 'accord', 'accost', 'accrue', 'accuse', 'acedia', 'acerin', 'acerra', 'acetal', 'acetic', 'acetin', 'acetol', 'acetum', 'acetyl', 'achage', 'achate', 'achene', 'achete', 'achill', 'achime', 'aching', 'achira', 'achree', 'achtel', 'acider', 'acidic', 'acidly', 'acidyl', 'acinar', 'acinic', 'acinus', 'ackman', 'acknow', 'acloud', 'acmite', 'acnode', 'acoine', 'acomia', 'aconic', 'aconin', 'acopic', 'acopon', 'acorea', 'acoria', 'acoupa', 'acquit', 'acracy', 'acrawl', 'acraze', 'acreak', 'acream', 'acrite', 'acrook', 'acrose', 'across', 'actify', 'actine', 'acting', 'action', 'active', 'actual', 'acture', 'acuate', 'acuity', 'aculea', 'acumen', 'adagio', 'adamas', 'adance', 'adapid', 'adarme', 'adatom', 'adaunt', 'addend', 'addict', 'adduce', 'adduct', 'adenia', 'adenyl', 'adhaka', 'adhere', 'adiate', 'adieux', 'adipic', 'adipsy', 'adipyl', 'adital', 'aditus', 'adject', 'adjoin', 'adjure', 'adjust', 'adless', 'admire', 'adnate', 'adnoun', 'adonin', 'adoral', 'adorer', 'adread', 'adream', 'adrift', 'adroit', 'adroop', 'adsbud', 'adsorb', 'adular', 'advene', 'adverb', 'advert', 'advice', 'advise', 'adyton', 'adytum', 'aecial', 'aecium', 'aedile', 'aefald', 'aenach', 'aenean', 'aeolid', 'aerage', 'aerate', 'aerial', 'aeried', 'aerify', 'aerobe', 'aerose', 'aerugo', 'afaint', 'afeard', 'afetal', 'affair', 'affect', 'affeer', 'affeir', 'affine', 'affirm', 'afflux', 'afford', 'affray', 'affuse', 'afield', 'aflame', 'aflare', 'afloat', 'aflush', 'afraid', 'afreet', 'afresh', 'afront', 'afrown', 'aftaba', 'aftosa', 'agalma', 'agamic', 'agamid', 'agaric', 'agazed', 'agedly', 'agency', 'agenda', 'aghast', 'aglare', 'agleaf', 'agleam', 'aglint', 'agnail', 'agname', 'agnate', 'agnize', 'agnosy', 'agogic', 'agoing', 'agonal', 'agonic', 'agouta', 'agouti', 'agreed', 'agreer', 'agrege', 'agrise', 'agrito', 'agroan', 'agroof', 'agrope', 'agrufe', 'agruif', 'aguish', 'agunah', 'agyria', 'ahimsa', 'ahmadi', 'ahorse', 'aidant', 'aidful', 'aiglet', 'ailing', 'ailuro', 'aimara', 'aimful', 'aiming', 'ainhum', 'airily', 'airing', 'airish', 'airman', 'airway', 'aisled', 'aition', 'ajoint', 'ajowan', 'akaroa', 'akazga', 'akcheh', 'akeake', 'akeley', 'akhrot', 'akimbo', 'akoasm', 'akonge', 'alacha', 'alaihi', 'alaite', 'alalus', 'alanyl', 'alares', 'alarum', 'alated', 'albata', 'albedo', 'albeit', 'albify', 'albino', 'albite', 'albugo', 'alburn', 'alcine', 'alclad', 'alcove', 'alcyon', 'aldane', 'aldern', 'aldime', 'aldine', 'aldose', 'alecup', 'alegar', 'alephs', 'alepot', 'alerce', 'alerse', 'alesan', 'aletap', 'alette', 'alevin', 'alexia', 'alexic', 'alexin', 'alfaje', 'algate', 'algedo', 'algine', 'algist', 'algoid', 'algous', 'alible', 'alight', 'aliped', 'alison', 'aliyah', 'aljoba', 'alkali', 'alkane', 'alkene', 'alkide', 'alkine', 'alkool', 'alkoxy', 'alkyne', 'allege', 'allele', 'allene', 'allice', 'allied', 'allies', 'allose', 'alltud', 'allude', 'allure', 'almond', 'almost', 'almous', 'almuce', 'almude', 'alnage', 'alnein', 'alnico', 'alnuin', 'alogia', 'aloose', 'alpaca', 'alpeen', 'alphol', 'alphos', 'alphyl', 'alpieu', 'alpine', 'alpist', 'alraun', 'alroot', 'alruna', 'alsoon', 'altern', 'althea', 'altoun', 'aludel', 'alular', 'alulet', 'alumic', 'alumna', 'alumni', 'alupag', 'alveus', 'alvine', 'alvite', 'always', 'alypin', 'amadou', 'amamau', 'amania', 'amarin', 'amasty', 'amatol', 'amazed', 'amazia', 'ambage', 'ambary', 'ambash', 'ambeer', 'ambery', 'ambier', 'ambler', 'ambury', 'ambush', 'amelia', 'amelus', 'amende', 'amends', 'amenia', 'amerce', 'amgarn', 'amhran', 'amical', 'amiced', 'amidic', 'amidid', 'amidin', 'amidol', 'amidon', 'amidst', 'amimia', 'aminic', 'amiray', 'amixia', 'amlong', 'ammine', 'ammono', 'amniac', 'amnion', 'amober', 'amobyr', 'amoeba', 'amomal', 'amomum', 'amoral', 'amoret', 'amotus', 'amount', 'ampere', 'ampery', 'amphid', 'amrita', 'amsath', 'amtman', 'amulet', 'amulla', 'amunam', 'amurca', 'amused', 'amusee', 'amuser', 'amusia', 'amuyon', 'amylan', 'amylic', 'amylin', 'amylom', 'amylon', 'amylum', 'amyous', 'amyrin', 'amyrol', 'anacid', 'anadem', 'anagap', 'anagep', 'anagua', 'anahau', 'analav', 'anally', 'ananas', 'ananda', 'ananym', 'anaqua', 'anarch', 'anarya', 'anatox', 'anaxon', 'anbury', 'anchor', 'ancile', 'ancone', 'ancony', 'ancora', 'andric', 'androl', 'andron', 'aneath', 'anemia', 'anemic', 'anenst', 'anepia', 'anergy', 'anerly', 'anesis', 'angary', 'angico', 'angild', 'angili', 'angina', 'angled', 'angler', 'anguid', 'anguis', 'angula', 'anhang', 'anhima', 'anicut', 'anight', 'anilao', 'anilau', 'anilic', 'anilid', 'anilla', 'animal', 'animus', 'anisal', 'anisic', 'anisil', 'anisum', 'anisyl', 'anklet', 'anlace', 'anlaut', 'annale', 'annals', 'anneal', 'annexa', 'annite', 'annona', 'annual', 'anodal', 'anodic', 'anodos', 'anoine', 'anoint', 'anonol', 'anonym', 'anopia', 'anorak', 'anorth', 'anotia', 'anotta', 'anotto', 'anotus', 'anoxia', 'anoxic', 'ansate', 'answer', 'antdom', 'anteal', 'anthem', 'anther', 'antiae', 'antiar', 'antler', 'antlia', 'antral', 'antrin', 'antrum', 'anuran', 'anuria', 'anuric', 'anusim', 'anyhow', 'anyone', 'anyway', 'anywhy', 'aogiri', 'aonach', 'aorist', 'aortal', 'aortic', 'aosmic', 'aoudad', 'apache', 'apalit', 'apatan', 'apathy', 'apedom', 'apelet', 'apepsy', 'aperch', 'aperea', 'apexed', 'apheta', 'aphony', 'aphtha', 'apiary', 'apicad', 'apical', 'apices', 'apiece', 'apinch', 'apioid', 'apiole', 'apiose', 'aplite', 'aplomb', 'aplome', 'apneal', 'apneic', 'apocha', 'apodal', 'apodan', 'apodia', 'apogee', 'apoise', 'apolar', 'aponia', 'aponic', 'aporia', 'aposia', 'apozem', 'appall', 'appeal', 'appear', 'append', 'appete', 'applot', 'apport', 'appose', 'aptote', 'apulse', 'aquage', 'aquose', 'araban', 'arabin', 'arabit', 'arable', 'aralie', 'aranga', 'arango', 'ararao', 'arbalo', 'arbute', 'arcade', 'arcana', 'arcane', 'arcate', 'archae', 'arched', 'archer', 'arches', 'archil', 'archly', 'archon', 'arcing', 'arcked', 'arctic', 'arcual', 'arcula', 'ardent', 'ardish', 'areach', 'areito', 'arenae', 'areola', 'areole', 'argala', 'argali', 'argans', 'argent', 'arghan', 'arghel', 'argosy', 'arguer', 'argufy', 'argute', 'aridge', 'aridly', 'aright', 'arigue', 'ariled', 'ariose', 'arioso', 'arisen', 'arista', 'arkite', 'arkose', 'armada', 'armful', 'armied', 'arming', 'armlet', 'armory', 'armpit', 'armure', 'arnica', 'aroast', 'aroint', 'arolla', 'around', 'arouse', 'aroxyl', 'arpent', 'arrack', 'arrame', 'arrant', 'arrear', 'arrect', 'arrent', 'arrest', 'arriba', 'arride', 'arrish', 'arrive', 'arroba', 'arrope', 'arrowy', 'arroyo', 'arseno', 'arshin', 'arsine', 'arsino', 'arsono', 'artaba', 'artabe', 'artery', 'artful', 'arthel', 'artiad', 'artist', 'artlet', 'arumin', 'arusha', 'asaron', 'asbest', 'ascare', 'ascend', 'ascent', 'ascham', 'ascian', 'ascoma', 'ascula', 'aseity', 'asemia', 'ashake', 'ashame', 'ashery', 'ashily', 'ashine', 'ashlar', 'ashman', 'ashore', 'ashpan', 'ashpit', 'ashraf', 'asideu', 'asilid', 'asimen', 'asitia', 'askant', 'askari', 'aslant', 'asleep', 'aslope', 'asmack', 'asmear', 'asmile', 'asmoke', 'asnort', 'asonia', 'asouth', 'aspace', 'aspect', 'aspire', 'aspish', 'asport', 'aspout', 'asquat', 'assacu', 'assail', 'assart', 'assary', 'assate', 'assaut', 'assbaa', 'asself', 'assent', 'assert', 'assess', 'assets', 'assify', 'assign', 'assise', 'assish', 'assist', 'assize', 'assman', 'assoil', 'assort', 'assume', 'assure', 'astalk', 'astare', 'astart', 'asteam', 'asteep', 'asteer', 'astely', 'astern', 'asthma', 'astint', 'astite', 'astony', 'astoop', 'astral', 'astray', 'astrer', 'astrut', 'astute', 'aswail', 'aswarm', 'asweat', 'aswell', 'aswing', 'aswirl', 'aswoon', 'asylum', 'atabal', 'atabeg', 'atabek', 'ataman', 'ataunt', 'atavic', 'atavus', 'ataxia', 'ataxic', 'atazir', 'atbash', 'athing', 'athort', 'athrob', 'athymy', 'atimon', 'atinga', 'atlatl', 'atloid', 'atocha', 'atocia', 'atokal', 'atomic', 'atonal', 'atoner', 'atonia', 'atonic', 'atopic', 'atoxic', 'atoxyl', 'atrail', 'atresy', 'atrial', 'atrium', 'atrous', 'attach', 'attack', 'attain', 'attask', 'attend', 'attent', 'attern', 'attery', 'attest', 'attire', 'attorn', 'attrap', 'attune', 'atwain', 'atweel', 'atween', 'atwirl', 'atwist', 'atwixt', 'atypic', 'auburn', 'aucuba', 'audile', 'audion', 'augend', 'augite', 'augury', 'august', 'auhuhu', 'auklet', 'aulete', 'aumaga', 'aumail', 'aumbry', 'aumery', 'aumous', 'aumrie', 'auncel', 'auntie', 'auntly', 'aupaka', 'aurate', 'aureus', 'auride', 'aurify', 'aurist', 'aurite', 'aurora', 'aurore', 'aurous', 'aurure', 'auspex', 'ausubo', 'autecy', 'author', 'autism', 'autist', 'automa', 'autumn', 'avania', 'avaunt', 'aveloz', 'avener', 'avenge', 'avenin', 'avenue', 'averah', 'averil', 'averin', 'averse', 'aviary', 'aviate', 'avichi', 'avidly', 'avidya', 'avijja', 'avital', 'avitic', 'avives', 'avocet', 'avouch', 'avowal', 'avowed', 'avower', 'avowry', 'avoyer', 'avulse', 'awaken', 'awalim', 'awaste', 'awatch', 'awater', 'aweary', 'aweigh', 'awheel', 'awheft', 'awhile', 'awhirl', 'awless', 'awmous', 'awning', 'awreck', 'awrist', 'awrong', 'axenic', 'axhead', 'axiate', 'axilla', 'axised', 'axonal', 'axseed', 'axtree', 'axunge', 'axweed', 'axwise', 'axwort', 'ayless', 'azalea', 'azilut', 'aziola', 'azonal', 'azonic', 'azoted', 'azotic', 'azteca', 'azured', 'azygos', 'babble', 'babbly', 'babery', 'babied', 'babish', 'bablah', 'babloh', 'baboen', 'baboon', 'baboot', 'bacaba', 'bacach', 'baccae', 'bachel', 'backed', 'backen', 'backer', 'backet', 'backie', 'backup', 'baclin', 'bacony', 'bacula', 'bacule', 'baculi', 'bacury', 'badger', 'badian', 'baetyl', 'bafaro', 'baffle', 'bagani', 'bagful', 'bagged', 'bagger', 'baggie', 'baggit', 'bagman', 'bagnio', 'bagnut', 'bagwig', 'bagwyn', 'bahera', 'baikie', 'bailee', 'bailer', 'bailey', 'bailie', 'bailor', 'bainie', 'baiter', 'bajada', 'bajree', 'bajury', 'bakery', 'baking', 'baktun', 'bakula', 'balafo', 'balata', 'balboa', 'balden', 'balder', 'baldly', 'baleen', 'balete', 'baline', 'balita', 'balker', 'ballad', 'ballam', 'ballan', 'balled', 'baller', 'ballet', 'ballot', 'ballow', 'ballup', 'balsam', 'baltei', 'balter', 'bamban', 'bamboo', 'bamoth', 'banaba', 'banago', 'banana', 'bancal', 'banchi', 'bancus', 'bandar', 'banded', 'bander', 'bandhu', 'bandie', 'bandit', 'bandle', 'bandog', 'banger', 'banghy', 'bangle', 'banian', 'banish', 'baniwa', 'baniya', 'banked', 'banker', 'banket', 'banner', 'bannet', 'bannut', 'bantam', 'bantay', 'banter', 'banuyo', 'banyan', 'banzai', 'baobab', 'barbal', 'barbas', 'barbed', 'barbel', 'barber', 'barbet', 'bardel', 'bardic', 'bardie', 'bareca', 'barely', 'barfly', 'barful', 'bargee', 'barger', 'barile', 'baring', 'barish', 'barite', 'barium', 'barken', 'barker', 'barkey', 'barkle', 'barley', 'barlow', 'barman', 'barney', 'barolo', 'barong', 'barony', 'baroto', 'barrad', 'barras', 'barred', 'barrel', 'barren', 'barrer', 'barret', 'barrio', 'barrow', 'barsom', 'barter', 'barton', 'barvel', 'barwal', 'barway', 'baryta', 'basale', 'basalt', 'basely', 'bashaw', 'basial', 'basify', 'basion', 'basker', 'basket', 'basoid', 'basote', 'basque', 'bassan', 'basset', 'bassie', 'bassus', 'basten', 'baster', 'baston', 'bataan', 'batara', 'batata', 'bateau', 'bather', 'bathic', 'bathos', 'bating', 'batino', 'batlan', 'batlon', 'batman', 'batoid', 'battel', 'batten', 'batter', 'battik', 'battle', 'battue', 'batule', 'batzen', 'bauble', 'bauson', 'bavary', 'bavian', 'bavoso', 'bawbee', 'bawdry', 'bawler', 'bawley', 'bawtie', 'baxter', 'bayamo', 'bayard', 'bayeta', 'bayish', 'baylet', 'bayman', 'bazaar', 'beachy', 'beacon', 'beaded', 'beader', 'beadle', 'beagle', 'beaked', 'beaker', 'beamed', 'beamer', 'beanie', 'beardy', 'bearer', 'beatae', 'beatee', 'beaten', 'beater', 'beatus', 'beauti', 'beauty', 'beaver', 'beback', 'bebait', 'bebang', 'bebite', 'bebled', 'beboss', 'bebump', 'bebusy', 'becall', 'becalm', 'becard', 'becher', 'becker', 'becket', 'beckon', 'beclad', 'beclaw', 'beclog', 'become', 'becoom', 'becost', 'becram', 'becuna', 'becurl', 'bedamn', 'bedamp', 'bedare', 'bedark', 'bedash', 'bedaub', 'bedawn', 'bedaze', 'bedbug', 'bedcap', 'bedded', 'bedder', 'bedead', 'bedeaf', 'bedebt', 'bedeck', 'bedene', 'bedirt', 'bedkey', 'bedlam', 'bedlar', 'bedman', 'bedolt', 'bedote', 'bedown', 'bedoyo', 'bedpan', 'bedral', 'bedrid', 'bedrip', 'bedrop', 'bedrug', 'beduck', 'beduke', 'bedull', 'bedumb', 'bedung', 'bedusk', 'bedust', 'bedway', 'beearn', 'beechy', 'beedom', 'beefer', 'beefin', 'beeish', 'beelol', 'beeman', 'beetle', 'beeway', 'befall', 'befame', 'befile', 'befire', 'befist', 'beflag', 'beflap', 'beflea', 'beflum', 'befoam', 'befool', 'before', 'befoul', 'befret', 'befriz', 'befume', 'begall', 'begani', 'begari', 'begash', 'begaud', 'begaze', 'begeck', 'beggar', 'begift', 'begild', 'begird', 'beglad', 'beglic', 'begluc', 'beglue', 'begnaw', 'begobs', 'begohm', 'begone', 'begoud', 'begowk', 'begray', 'begrim', 'begulf', 'begunk', 'behale', 'behalf', 'behave', 'behead', 'behear', 'beheld', 'behelp', 'behest', 'behind', 'behint', 'behold', 'behoof', 'behoot', 'behorn', 'behowl', 'behung', 'behymn', 'bejade', 'bejant', 'bejazz', 'bekick', 'beking', 'bekiss', 'beknit', 'beknow', 'belady', 'belage', 'belard', 'belash', 'belate', 'belaud', 'beldam', 'beleaf', 'beleap', 'belfry', 'belick', 'belief', 'belier', 'belion', 'belite', 'belive', 'belled', 'bellow', 'beloam', 'beloid', 'belong', 'belord', 'belout', 'belove', 'belted', 'belter', 'beltie', 'belton', 'beluga', 'belute', 'bemail', 'bemaim', 'bemask', 'bemata', 'bemaul', 'bemeal', 'bemean', 'bemire', 'bemist', 'bemoan', 'bemoat', 'bemock', 'bemoil', 'bemole', 'bemolt', 'bemoon', 'bemuck', 'bemuse', 'bemusk', 'bename', 'benami', 'benben', 'benchy', 'bended', 'bender', 'benign', 'bennel', 'bennet', 'benote', 'bensel', 'benshi', 'benumb', 'benzal', 'benzil', 'benzol', 'benzyl', 'bepaid', 'bepale', 'bepart', 'bepelt', 'bepile', 'bepill', 'bepity', 'bepray', 'bepuff', 'berain', 'berake', 'berapt', 'berate', 'bereft', 'berend', 'berger', 'bergut', 'beride', 'berith', 'berley', 'berlin', 'beroll', 'berret', 'berust', 'bervie', 'bescab', 'beseam', 'beseem', 'beseen', 'beshag', 'beshod', 'beshow', 'beside', 'besigh', 'besing', 'beslab', 'beslap', 'beslow', 'beslur', 'besmut', 'besnow', 'besoil', 'besoot', 'besoul', 'besour', 'besped', 'bespew', 'bespin', 'bespit', 'bespot', 'bestab', 'bestar', 'bestay', 'bester', 'bestir', 'bestow', 'bestud', 'besuit', 'beswim', 'betail', 'betalk', 'betask', 'betear', 'beteem', 'bethel', 'betide', 'betire', 'betoil', 'betone', 'betony', 'betoss', 'betrap', 'betray', 'betrim', 'betted', 'better', 'bettor', 'betwit', 'beveil', 'beveto', 'bewail', 'bewall', 'beware', 'bewash', 'beweep', 'bewept', 'bewest', 'bewhig', 'bewith', 'bework', 'beworm', 'beworn', 'bewrap', 'bewray', 'beydom', 'beylic', 'beyond', 'bezant', 'bezoar', 'bezzle', 'bhabar', 'bhakta', 'bhakti', 'bhangi', 'bharal', 'bhikku', 'bhoosa', 'bhungi', 'biacid', 'bianco', 'biaxal', 'bibber', 'bibble', 'bibiri', 'biblus', 'biceps', 'bichir', 'bicker', 'bicone', 'bicorn', 'bicron', 'bidder', 'bident', 'biding', 'bieldy', 'bienly', 'bietle', 'bifara', 'biffin', 'biflex', 'bifoil', 'bifold', 'biform', 'bigamy', 'bigeye', 'biggah', 'biggen', 'bigger', 'biggin', 'biglot', 'bignou', 'bigwig', 'bijoux', 'bikini', 'bilabe', 'bilalo', 'bilbie', 'bildar', 'bilify', 'bilith', 'bilker', 'billed', 'biller', 'billet', 'billon', 'billot', 'billow', 'bilobe', 'bimane', 'bimbil', 'bimeby', 'binary', 'binate', 'binder', 'bindle', 'bingey', 'binghi', 'bingle', 'binman', 'binode', 'binous', 'biogen', 'biopsy', 'bioral', 'biosis', 'biotic', 'biotin', 'bipack', 'birder', 'birdie', 'bireme', 'biriba', 'birken', 'birkie', 'birler', 'birlie', 'birsle', 'birthy', 'bisalt', 'bisect', 'bisext', 'bishop', 'bismar', 'bisque', 'bisson', 'bister', 'bistro', 'biting', 'bitted', 'bitten', 'bitter', 'bittie', 'bitume', 'biurea', 'biuret', 'bizone', 'blacky', 'bladed', 'blader', 'blamed', 'blamer', 'blanca', 'blanch', 'blanco', 'blanda', 'blanky', 'blarny', 'blashy', 'blasty', 'blatta', 'blatti', 'blaver', 'blazer', 'blazon', 'bleach', 'bleaky', 'bleary', 'bleaty', 'blebby', 'bleery', 'bleeze', 'bleezy', 'blench', 'blende', 'blenny', 'blight', 'blinks', 'blinky', 'blithe', 'blobby', 'blocky', 'blolly', 'blonde', 'bloody', 'blooey', 'bloomy', 'blosmy', 'blotch', 'blotto', 'blotty', 'blouse', 'blowen', 'blower', 'blowth', 'blowup', 'blowze', 'blowzy', 'bluely', 'bluffy', 'bluggy', 'bluing', 'bluish', 'bluism', 'blunge', 'blunks', 'blurry', 'blushy', 'boardy', 'boater', 'boatie', 'boatly', 'bobbed', 'bobber', 'bobbin', 'bobble', 'bobcat', 'bobfly', 'bocher', 'bodach', 'bodega', 'bodger', 'bodice', 'bodied', 'bodier', 'bodily', 'boding', 'bodkin', 'bodock', 'bogard', 'bogart', 'boggin', 'boggle', 'bogier', 'boglet', 'bogman', 'bogong', 'bogway', 'bohawn', 'bohunk', 'boiled', 'boiler', 'bojite', 'bokard', 'bokark', 'bolden', 'boldly', 'bolero', 'bolete', 'bolide', 'bolled', 'boller', 'bolson', 'boltel', 'bolter', 'bombed', 'bomber', 'bonaci', 'bonagh', 'bonair', 'bonang', 'bonbon', 'bondar', 'bonded', 'bonder', 'bonduc', 'bonify', 'bonito', 'bonnaz', 'bonnet', 'bonsai', 'bonxie', 'bonzer', 'boodie', 'boodle', 'booger', 'boohoo', 'boojum', 'booked', 'booker', 'bookie', 'boolya', 'boomah', 'boomer', 'boopis', 'booted', 'bootee', 'booter', 'boozed', 'boozer', 'bopeep', 'borage', 'borate', 'bordar', 'bordel', 'border', 'boread', 'boreal', 'borean', 'boreen', 'borele', 'boride', 'borine', 'boring', 'borish', 'borism', 'bority', 'borize', 'bornyl', 'borrel', 'borrow', 'borsch', 'borsht', 'borzoi', 'bosher', 'bosker', 'bosket', 'bosomy', 'bossed', 'bosser', 'bosset', 'boston', 'botany', 'botchy', 'botfly', 'bother', 'botong', 'bottle', 'bottom', 'bouche', 'bougar', 'bouget', 'bought', 'boughy', 'bougie', 'boukit', 'bounce', 'bounty', 'bourse', 'bouser', 'bovate', 'bovine', 'bovoid', 'bowboy', 'bowels', 'bowery', 'bowfin', 'bowing', 'bowker', 'bowleg', 'bowler', 'bowman', 'bowpin', 'bowwow', 'bowyer', 'boxcar', 'boxful', 'boxing', 'boxman', 'boyang', 'boyard', 'boydom', 'boyish', 'boyism', 'braced', 'bracer', 'braces', 'bracky', 'brains', 'brainy', 'braird', 'brairo', 'braise', 'braker', 'brakie', 'branch', 'brandy', 'branle', 'branny', 'brashy', 'brasse', 'brassy', 'brauna', 'braver', 'brawly', 'brawny', 'brayer', 'brazen', 'brazer', 'brazil', 'breach', 'breast', 'breath', 'breech', 'breedy', 'breeze', 'breezy', 'bregma', 'brehon', 'brelaw', 'brevet', 'brevit', 'brewer', 'brewis', 'brewst', 'bribee', 'briber', 'bricky', 'bridal', 'bridge', 'bridle', 'briefs', 'briery', 'brieve', 'bright', 'brills', 'briner', 'brique', 'broach', 'broche', 'brocho', 'brogan', 'brogue', 'broken', 'broker', 'brolga', 'brolly', 'bromal', 'bromic', 'bromol', 'bronco', 'bronze', 'bronzy', 'brooch', 'broody', 'brooky', 'broomy', 'broose', 'brosot', 'brotan', 'brothy', 'brough', 'browed', 'browis', 'browny', 'browse', 'browst', 'bruang', 'brucia', 'bruise', 'brulee', 'brumal', 'brumby', 'brunch', 'brunet', 'brushy', 'brutal', 'bryony', 'bubble', 'bubbly', 'buboed', 'bucare', 'buccal', 'buccan', 'bucked', 'bucker', 'bucket', 'buckie', 'buckle', 'buckra', 'budder', 'buddhi', 'buddle', 'budger', 'budget', 'budlet', 'budzat', 'buffed', 'buffer', 'buffet', 'buffle', 'bugdom', 'bugger', 'bugled', 'bugler', 'buglet', 'bukshi', 'bulbar', 'bulbed', 'bulbil', 'bulbul', 'bulger', 'bulimy', 'bulked', 'bulker', 'bullan', 'buller', 'bullet', 'bullit', 'bulter', 'bultey', 'bultow', 'bumbee', 'bumble', 'bummed', 'bummer', 'bummie', 'bumpee', 'bumper', 'buncal', 'bunchy', 'bunder', 'bundle', 'bungee', 'bungey', 'bungfu', 'bungle', 'bunion', 'bunker', 'bunkie', 'bunkum', 'buntal', 'bunted', 'bunter', 'bunton', 'bunyah', 'bunyip', 'burble', 'burbly', 'burbot', 'burden', 'burdie', 'burdon', 'bureau', 'burele', 'burgee', 'burgle', 'burgoo', 'burgul', 'burgus', 'burial', 'burian', 'buried', 'burier', 'burion', 'buriti', 'burker', 'burlap', 'burled', 'burler', 'burlet', 'burned', 'burner', 'burnet', 'burnie', 'burnut', 'burrah', 'burred', 'burrel', 'burrer', 'burrow', 'bursal', 'bursar', 'burton', 'bushed', 'bushel', 'busher', 'bushwa', 'busied', 'busily', 'busine', 'busked', 'busker', 'busket', 'buskin', 'buskle', 'busman', 'busser', 'busted', 'bustee', 'buster', 'bustic', 'bustle', 'butane', 'butein', 'butene', 'butine', 'butler', 'butoxy', 'butter', 'buttle', 'button', 'butyne', 'buzane', 'buzzer', 'buzzle', 'byeman', 'bygane', 'bygone', 'byhand', 'byname', 'bypass', 'bypast', 'bypath', 'byplay', 'byrlaw', 'byrnie', 'byroad', 'byrrus', 'byssal', 'byssin', 'byssus', 'bytime', 'bywalk', 'byword', 'bywork', 'cabaan', 'caback', 'cabaho', 'cabala', 'cabana', 'cabber', 'cabble', 'cabled', 'cabler', 'cablet', 'cabman', 'cabook', 'cabree', 'cabrit', 'cabuya', 'cachet', 'cachou', 'cackle', 'cacoon', 'cadbit', 'caddie', 'caddis', 'caddle', 'caddow', 'cadent', 'cadger', 'cadism', 'cadjan', 'cadmia', 'cadmic', 'caduac', 'caduca', 'caecal', 'caecum', 'caeoma', 'caffle', 'caffoy', 'caftan', 'cagily', 'cagmag', 'cahoot', 'caiman', 'caique', 'cairny', 'cajole', 'calaba', 'calade', 'calais', 'calalu', 'calash', 'calcar', 'calced', 'calcic', 'calden', 'calean', 'calico', 'caliga', 'caligo', 'caliph', 'calker', 'calkin', 'caller', 'callet', 'callid', 'callow', 'callus', 'calmer', 'calmly', 'calool', 'calpac', 'calved', 'calver', 'calves', 'camaca', 'camail', 'camara', 'camass', 'camata', 'camber', 'camera', 'camion', 'camise', 'camlet', 'cammed', 'camper', 'campho', 'cample', 'campoo', 'campus', 'canaba', 'canada', 'canamo', 'canape', 'canard', 'canari', 'canary', 'canaut', 'cancan', 'cancel', 'cancer', 'candid', 'candle', 'candor', 'candys', 'canelo', 'canful', 'cangan', 'cangia', 'cangle', 'cangue', 'canine', 'canjac', 'canker', 'canman', 'canned', 'cannel', 'canner', 'cannet', 'cannon', 'cannot', 'canopy', 'canroy', 'cantar', 'canted', 'canter', 'cantic', 'cantle', 'canton', 'cantor', 'cantus', 'canvas', 'canyon', 'canzon', 'capful', 'caphar', 'capias', 'capivi', 'capkin', 'caplin', 'capman', 'capomo', 'capote', 'capped', 'capper', 'cappie', 'capple', 'capric', 'caprid', 'caprin', 'capryl', 'capsid', 'captor', 'caract', 'carafe', 'carane', 'carapo', 'carbon', 'carboy', 'carbro', 'carbyl', 'carcel', 'carded', 'cardel', 'carder', 'cardia', 'cardin', 'cardol', 'cardon', 'careen', 'career', 'carene', 'caress', 'carest', 'carfax', 'carful', 'carhop', 'caries', 'carina', 'carlet', 'carlie', 'carlin', 'carlot', 'carman', 'carmot', 'carnal', 'carney', 'carnic', 'caroba', 'caroli', 'carone', 'caroon', 'carpal', 'carpel', 'carper', 'carpet', 'carpid', 'carpos', 'carpus', 'carrel', 'carrot', 'carrow', 'cartel', 'carter', 'carton', 'carval', 'carvel', 'carven', 'carver', 'carvol', 'carvyl', 'casaba', 'casabe', 'casate', 'casaun', 'casava', 'casave', 'casavi', 'casbah', 'cascol', 'casefy', 'caseic', 'casein', 'casern', 'caseum', 'cashaw', 'cashel', 'cashew', 'casing', 'casino', 'casiri', 'casket', 'casque', 'cassia', 'cassie', 'cassis', 'casson', 'caster', 'castle', 'castor', 'castra', 'casual', 'casula', 'catchy', 'catdom', 'catena', 'cateye', 'catgut', 'cathin', 'cathop', 'cathro', 'cation', 'cativo', 'catkin', 'catlap', 'catlin', 'catnip', 'catsup', 'cattle', 'caucho', 'caucus', 'caudad', 'caudae', 'caudal', 'caudex', 'caudle', 'caught', 'caules', 'caulis', 'caunch', 'causal', 'causer', 'causey', 'causse', 'cautel', 'cauter', 'cavate', 'caveat', 'cavern', 'caviar', 'caving', 'cavish', 'cavity', 'caviya', 'cavort', 'cawney', 'caxiri', 'cayman', 'cazimi', 'cearin', 'cebell', 'cebian', 'cebine', 'ceboid', 'cecils', 'cecity', 'cedarn', 'cedary', 'cedent', 'cedrat', 'cedrin', 'cedrol', 'cedron', 'cedula', 'ceiler', 'celery', 'celiac', 'celite', 'cellae', 'cellar', 'celled', 'cement', 'cendre', 'cenoby', 'censer', 'censor', 'census', 'cental', 'center', 'centry', 'centum', 'cephid', 'ceptor', 'cerago', 'cerata', 'cerate', 'cercal', 'cercus', 'cereal', 'ceride', 'cerine', 'cerise', 'cerite', 'cerium', 'cermet', 'ceroma', 'cerote', 'cerous', 'cerris', 'certie', 'certis', 'cerule', 'ceruse', 'cervid', 'cervix', 'cesium', 'cesser', 'cessor', 'cestus', 'cetane', 'cetene', 'cevine', 'chabot', 'chabuk', 'chacma', 'chacte', 'chaeta', 'chafer', 'chaffy', 'chagan', 'chagul', 'chahar', 'chaise', 'chakar', 'chakra', 'chaksi', 'chalet', 'chalky', 'chalon', 'chalta', 'chamal', 'chamar', 'chamma', 'champy', 'chance', 'chanco', 'chancy', 'chandi', 'chandu', 'changa', 'change', 'chanst', 'chapah', 'chaped', 'chapel', 'chapin', 'chappy', 'charac', 'charas', 'charer', 'charet', 'charge', 'charka', 'charry', 'charuk', 'chaser', 'chasma', 'chasmy', 'chasse', 'chaste', 'chatta', 'chatty', 'chaute', 'chauth', 'chawan', 'chawer', 'chazan', 'chebec', 'chebel', 'chebog', 'checky', 'cheder', 'cheeky', 'cheepy', 'cheery', 'cheese', 'cheesy', 'chegoe', 'chegre', 'chekan', 'chelem', 'chello', 'chelys', 'chemic', 'chemis', 'chende', 'cheque', 'cherem', 'cherry', 'cherte', 'cherty', 'cherub', 'cheson', 'chesty', 'chetty', 'cheval', 'cheven', 'chevin', 'chevon', 'chewer', 'chiasm', 'chiaus', 'chichi', 'chicky', 'chicle', 'chicot', 'chider', 'chidra', 'chield', 'chigoe', 'chihfu', 'childe', 'chilla', 'chillo', 'chilly', 'chimer', 'chinar', 'chinch', 'chined', 'chinik', 'chinin', 'chinks', 'chinky', 'chinny', 'chinoa', 'chinol', 'chinse', 'chintz', 'chippy', 'chiral', 'chirpy', 'chisel', 'chitak', 'chital', 'chitin', 'chiton', 'chitra', 'chitty', 'chivey', 'chlore', 'choana', 'choate', 'choaty', 'chocho', 'chogak', 'choice', 'choicy', 'choker', 'chokra', 'choler', 'cholic', 'cholla', 'cholum', 'chonta', 'choose', 'choosy', 'chopin', 'choppy', 'choral', 'chorda', 'chorea', 'choree', 'choric', 'chorus', 'chosen', 'chough', 'chouka', 'chouse', 'chowry', 'chrism', 'chroma', 'chrome', 'chromo', 'chromy', 'chubby', 'chucky', 'chuffy', 'chuhra', 'chukar', 'chukor', 'chulan', 'chummy', 'chumpy', 'chunga', 'chunky', 'chupak', 'chupon', 'church', 'churel', 'churly', 'chuter', 'chyack', 'chymia', 'chymic', 'chypre', 'chytra', 'cibory', 'cicada', 'cicala', 'cicely', 'cigala', 'cilice', 'cilium', 'cimbia', 'cinder', 'cinema', 'cinene', 'cingle', 'cinnyl', 'cinque', 'cinter', 'cipher', 'cippus', 'circle', 'circus', 'cirque', 'cirrus', 'cisele', 'cistae', 'cisted', 'cistic', 'citess', 'cither', 'citied', 'citify', 'citole', 'citral', 'citric', 'citril', 'citrin', 'citron', 'citrus', 'civics', 'civism', 'cixiid', 'cladus', 'claggy', 'claith', 'clamer', 'clammy', 'clamor', 'claque', 'claret', 'clarin', 'clarty', 'clashy', 'claspt', 'classy', 'clatch', 'clatty', 'clause', 'claval', 'clavel', 'claver', 'clavis', 'clavus', 'clawed', 'clawer', 'clayen', 'clayer', 'clayey', 'cleach', 'cleave', 'cleche', 'cledge', 'cledgy', 'cleeky', 'clench', 'cleoid', 'clergy', 'cleric', 'clerid', 'cletch', 'cleuch', 'clever', 'clevis', 'cliack', 'cliche', 'clicky', 'client', 'cliffy', 'clifty', 'climax', 'clinal', 'clinch', 'clingy', 'clinia', 'clinic', 'clinty', 'clipei', 'clipse', 'clique', 'cliquy', 'clitch', 'clites', 'clithe', 'clitia', 'clival', 'clivis', 'clivus', 'cloaca', 'cloche', 'cloddy', 'cloggy', 'clonal', 'clonic', 'clonus', 'closed', 'closen', 'closer', 'closet', 'clothe', 'clothy', 'clotty', 'cloudy', 'clough', 'clouty', 'cloven', 'clover', 'cloyer', 'clubby', 'clumpy', 'clumse', 'clumsy', 'clunch', 'clutch', 'clysis', 'clysma', 'cnemis', 'cnicin', 'coachy', 'coaged', 'coaita', 'coakum', 'coaler', 'coarse', 'coated', 'coatee', 'coater', 'coatie', 'coaxal', 'coaxer', 'cobaea', 'cobalt', 'cobang', 'cobbed', 'cobber', 'cobble', 'cobbly', 'cobbra', 'cobcab', 'cobego', 'cobnut', 'cobola', 'coburg', 'cobweb', 'cocash', 'coccal', 'coccid', 'coccus', 'coccyx', 'cochal', 'cockal', 'cocked', 'cocker', 'cocket', 'cockle', 'cockly', 'cockup', 'cocoon', 'cocuyo', 'codder', 'coddle', 'codger', 'codify', 'codist', 'codman', 'coecal', 'coecum', 'coelar', 'coelho', 'coelia', 'coelin', 'coelom', 'coempt', 'coerce', 'coetus', 'coeval', 'coffee', 'coffer', 'coffin', 'coffle', 'cogent', 'cogged', 'cogger', 'coggie', 'coggle', 'coggly', 'coghle', 'cogman', 'cognac', 'cogway', 'coheir', 'cohere', 'cohoba', 'cohort', 'cohosh', 'cohune', 'coifed', 'coigue', 'coiled', 'coiler', 'coiner', 'coital', 'coitus', 'cokery', 'coking', 'colane', 'colate', 'colder', 'coldly', 'coleur', 'colima', 'coling', 'collar', 'collet', 'colley', 'collie', 'collin', 'collop', 'collum', 'colmar', 'colony', 'colors', 'colory', 'coloss', 'colove', 'colpeo', 'colpus', 'colter', 'colugo', 'column', 'colure', 'colyum', 'comart', 'comate', 'combat', 'combed', 'comber', 'comble', 'comboy', 'comedo', 'comedy', 'comely', 'comfit', 'coming', 'comino', 'comism', 'comity', 'commie', 'commit', 'commix', 'common', 'commot', 'comoid', 'comose', 'comous', 'compel', 'comply', 'compos', 'concha', 'conche', 'conchy', 'concur', 'condor', 'coneen', 'confab', 'confix', 'congee', 'conger', 'congou', 'conics', 'conima', 'conine', 'conker', 'conner', 'connex', 'conoid', 'conred', 'consol', 'consul', 'conter', 'contra', 'conure', 'convex', 'convey', 'convoy', 'coodle', 'cooing', 'cookee', 'cooker', 'coolen', 'cooler', 'coolie', 'coolly', 'coolth', 'cooper', 'cooree', 'coorie', 'cooser', 'cooter', 'cootie', 'copalm', 'copart', 'copied', 'copier', 'coping', 'copist', 'copita', 'copped', 'copper', 'coppet', 'coppin', 'copple', 'copter', 'copula', 'coquet', 'corach', 'corban', 'corbel', 'corbie', 'corcir', 'cordax', 'corded', 'cordel', 'corder', 'cordon', 'cordyl', 'coreid', 'corial', 'coriin', 'coring', 'corium', 'corked', 'corker', 'cormel', 'cormus', 'cornea', 'cornel', 'corner', 'cornet', 'cornic', 'cornin', 'corody', 'corona', 'corozo', 'corpse', 'corpus', 'corral', 'corrie', 'corsac', 'corset', 'corsie', 'cortex', 'cortez', 'cortin', 'coruco', 'corver', 'corymb', 'coryza', 'coscet', 'coseat', 'cosech', 'cosher', 'cosily', 'cosine', 'cosmic', 'cosmos', 'cossas', 'cosset', 'cossid', 'costal', 'costar', 'coster', 'costly', 'cothon', 'cotise', 'cotman', 'cotoin', 'cotoro', 'cotset', 'cotted', 'cotter', 'cottid', 'cotton', 'cotuit', 'cotula', 'cotwin', 'cotyla', 'cotype', 'coucal', 'couchy', 'coudee', 'cougar', 'coulee', 'county', 'couped', 'coupee', 'couper', 'couple', 'coupon', 'courap', 'courge', 'couril', 'course', 'cousin', 'coutel', 'couter', 'coutil', 'couxia', 'covado', 'covent', 'covert', 'coving', 'covite', 'coward', 'cowboy', 'cowdie', 'coween', 'cowish', 'cowled', 'cowman', 'cowpea', 'cowpen', 'cowpox', 'cowrie', 'coxite', 'coydog', 'coyish', 'coynye', 'coyote', 'coyure', 'cozier', 'cozily', 'crabby', 'craber', 'cracky', 'craddy', 'cradge', 'cradle', 'crafty', 'craggy', 'crakow', 'crambe', 'crambo', 'crampy', 'crance', 'craner', 'craney', 'crania', 'cranic', 'cranky', 'cranny', 'crants', 'crappo', 'crasis', 'cratch', 'crater', 'cravat', 'craven', 'craver', 'crawly', 'crayer', 'crayon', 'crazed', 'creagh', 'creaky', 'creamy', 'creant', 'crease', 'creasy', 'create', 'creche', 'credit', 'creeky', 'creepy', 'creese', 'creesh', 'cremor', 'crenel', 'crenic', 'creole', 'crepon', 'cresol', 'cressy', 'cresyl', 'cretic', 'cretin', 'crewel', 'crewer', 'crimpy', 'crinal', 'crined', 'crinet', 'cringe', 'cripes', 'crises', 'crisic', 'crisis', 'crispy', 'crista', 'critch', 'critic', 'croaky', 'croche', 'crocin', 'crocky', 'crocus', 'cronet', 'croppa', 'croppy', 'crosse', 'crotal', 'crotch', 'crotin', 'crotyl', 'crouch', 'croupe', 'croupy', 'crouse', 'croute', 'crowdy', 'crower', 'crozer', 'cruces', 'cruche', 'cruels', 'cruent', 'cruety', 'cruise', 'cruive', 'crumby', 'crumen', 'crummy', 'crumpy', 'crunch', 'crural', 'crusie', 'crusta', 'crusty', 'crutch', 'crying', 'crypta', 'cuadra', 'cuarta', 'cubage', 'cubdom', 'cubica', 'cubism', 'cubist', 'cubito', 'cuboid', 'cuckoo', 'cudava', 'cudden', 'cuddle', 'cuddly', 'cudgel', 'cueist', 'cueman', 'cuerda', 'cuesta', 'cuffer', 'cuffin', 'cuisse', 'culbut', 'culeus', 'culgee', 'culler', 'cullet', 'cullis', 'culmen', 'cultch', 'cultic', 'cultus', 'culver', 'cumber', 'cumbha', 'cumbly', 'cumbre', 'cumene', 'cumhal', 'cummer', 'cummin', 'cumuli', 'cuneal', 'cuneus', 'cunila', 'cunjah', 'cunjer', 'cunner', 'cuorin', 'cupful', 'cupman', 'cupola', 'cupped', 'cupper', 'cupric', 'cuprum', 'cupula', 'cupule', 'curacy', 'curare', 'curate', 'curber', 'curcas', 'curdle', 'curdly', 'curfew', 'curial', 'curine', 'curing', 'curite', 'curium', 'curled', 'curler', 'curlew', 'curney', 'curple', 'cursal', 'cursed', 'curser', 'cursor', 'cursus', 'curtal', 'curtly', 'curtsy', 'curuba', 'curule', 'cururo', 'curved', 'curver', 'curvet', 'cuscus', 'cushag', 'cushat', 'cushaw', 'cuspal', 'cusped', 'cuspid', 'cussed', 'cusser', 'custom', 'cutely', 'cutler', 'cutlet', 'cutoff', 'cutout', 'cutted', 'cutter', 'cuttle', 'cuttoo', 'cwierc', 'cyanic', 'cyanin', 'cyanol', 'cyanus', 'cyclar', 'cyclas', 'cycler', 'cyclic', 'cyclus', 'cyesis', 'cygnet', 'cymbal', 'cymene', 'cymoid', 'cymose', 'cymous', 'cymule', 'cynism', 'cynoid', 'cypres', 'cystal', 'cysted', 'cystic', 'cystid', 'cystis', 'cytase', 'cytode', 'cytoid', 'cytoma', 'cytost', 'cytula', 'czaric', 'dabber', 'dabble', 'dablet', 'daboia', 'daboya', 'dacite', 'dacker', 'dacoit', 'dactyl', 'dadder', 'daddle', 'daedal', 'daemon', 'daffle', 'daftly', 'dagaba', 'dagame', 'dagesh', 'dagger', 'daggle', 'daggly', 'dagoba', 'dahoon', 'daidle', 'daidly', 'daiker', 'daikon', 'daimen', 'daimio', 'daimon', 'dainty', 'daitya', 'daleth', 'dalles', 'dalton', 'damage', 'damask', 'damier', 'damine', 'dammar', 'dammer', 'damned', 'damner', 'damped', 'dampen', 'damper', 'damply', 'damsel', 'damson', 'danaid', 'dancer', 'dander', 'dandle', 'danger', 'dangle', 'dankly', 'danner', 'danton', 'daoine', 'dapico', 'dapper', 'dapple', 'darbha', 'dargah', 'darger', 'dargue', 'daring', 'darken', 'darkle', 'darkly', 'darned', 'darnel', 'darner', 'darnex', 'daroga', 'darter', 'dartle', 'dartos', 'dartre', 'darzee', 'dashed', 'dashee', 'dasher', 'dassie', 'dastur', 'datary', 'datcha', 'dating', 'dation', 'dative', 'dauber', 'daunch', 'dauncy', 'dautie', 'davach', 'davoch', 'davyne', 'dawdle', 'dawish', 'dawkin', 'dawtet', 'dawtit', 'dayfly', 'daylit', 'dayman', 'dazzle', 'deacon', 'deaden', 'deader', 'deadly', 'deafen', 'deafly', 'dealer', 'deaner', 'dearie', 'dearly', 'dearth', 'deasil', 'deathy', 'debark', 'debase', 'debate', 'debile', 'debind', 'debord', 'debosh', 'debris', 'debtee', 'debtor', 'debunk', 'decade', 'decamp', 'decane', 'decani', 'decant', 'decare', 'decart', 'decast', 'decate', 'deceit', 'decene', 'decent', 'decern', 'decess', 'decide', 'decile', 'decima', 'decked', 'deckel', 'decker', 'deckie', 'deckle', 'decoat', 'decoct', 'decode', 'decoic', 'decoke', 'decree', 'decrew', 'decury', 'decyne', 'deduce', 'deduct', 'deemer', 'deemie', 'deepen', 'deeply', 'deevey', 'deface', 'defalk', 'defame', 'defeat', 'defect', 'defend', 'defial', 'defier', 'defile', 'define', 'deflex', 'deform', 'defoul', 'defray', 'deftly', 'defuse', 'degerm', 'degged', 'degger', 'degree', 'degust', 'dehair', 'dehorn', 'dehors', 'dehort', 'dehull', 'dehusk', 'deicer', 'deific', 'deinos', 'deject', 'delate', 'delawn', 'delead', 'delete', 'delict', 'delime', 'delint', 'deloul', 'deltal', 'deltic', 'delude', 'deluge', 'deluxe', 'delver', 'demand', 'demark', 'demast', 'demean', 'dement', 'demiox', 'demise', 'demiss', 'demoid', 'demote', 'demure', 'denaro', 'denary', 'dengue', 'denial', 'denier', 'dennet', 'denote', 'densen', 'dental', 'dentel', 'denter', 'dentex', 'dentil', 'dentin', 'denude', 'depark', 'depart', 'depass', 'depend', 'depict', 'deploy', 'depone', 'deport', 'depose', 'depute', 'deputy', 'derail', 'derate', 'deride', 'derive', 'dermad', 'dermal', 'dermic', 'dermis', 'dermol', 'derout', 'derust', 'desalt', 'desand', 'descry', 'deseed', 'desert', 'design', 'desire', 'desist', 'desize', 'desman', 'desmic', 'desmid', 'desmon', 'despot', 'dessil', 'detach', 'detail', 'detain', 'detect', 'detent', 'detest', 'detour', 'detune', 'deuced', 'deuton', 'devall', 'devast', 'devata', 'devest', 'device', 'devily', 'devise', 'devoid', 'devoir', 'devote', 'devour', 'devout', 'devvel', 'dewcup', 'dewily', 'dewlap', 'dewool', 'deworm', 'dewret', 'dewtry', 'dexter', 'dextro', 'dezinc', 'dhanuk', 'dharma', 'dharna', 'dhaura', 'dhauri', 'dhurra', 'dhyana', 'diacid', 'diacle', 'diadem', 'diaene', 'dialer', 'dialin', 'diaper', 'diarch', 'diatom', 'diaxon', 'dibase', 'dibber', 'dibble', 'dibbuk', 'dibrom', 'dicast', 'dichas', 'dicing', 'dicker', 'dickey', 'dictic', 'dictum', 'didder', 'diddle', 'didine', 'diesel', 'diesis', 'dietal', 'dieter', 'dietic', 'differ', 'digamy', 'digeny', 'digest', 'digger', 'diglot', 'digram', 'dihalo', 'diiamb', 'diiodo', 'dikage', 'diketo', 'dikkop', 'dilate', 'dilker', 'dillue', 'dilogy', 'dilute', 'dimber', 'dimble', 'dimiss', 'dimity', 'dimmed', 'dimmer', 'dimmet', 'dimple', 'dimply', 'dimpsy', 'dinder', 'dindle', 'dinero', 'dingar', 'dingee', 'dinghy', 'dingle', 'dingly', 'dingus', 'dining', 'dinkey', 'dinkum', 'dinner', 'diobol', 'dioecy', 'dionym', 'diotic', 'diplex', 'diploe', 'dipode', 'dipody', 'dipole', 'dipped', 'dipper', 'dipsas', 'dipsey', 'dipter', 'dipyre', 'dirdum', 'direct', 'direly', 'dirhem', 'dirndl', 'dirten', 'disarm', 'disawa', 'disazo', 'disbar', 'disbud', 'discal', 'discus', 'disdub', 'diseme', 'disfen', 'disgig', 'dished', 'disher', 'dislip', 'dismal', 'disman', 'dismay', 'disnew', 'disorb', 'disown', 'dispel', 'distad', 'distal', 'disuse', 'dither', 'ditone', 'dittay', 'diurne', 'divata', 'divers', 'divert', 'divest', 'divide', 'divine', 'diving', 'divoto', 'diwata', 'dizain', 'dizoic', 'djehad', 'djerib', 'djersa', 'doable', 'doated', 'doater', 'dobbed', 'dobber', 'dobbin', 'doblon', 'dobrao', 'dobson', 'docent', 'docile', 'docity', 'docken', 'docker', 'docket', 'docmac', 'doctor', 'dodded', 'dodder', 'doddie', 'doddle', 'dodger', 'dodkin', 'dodlet', 'dodman', 'doesnt', 'doffer', 'dogate', 'dogdom', 'dogged', 'dogger', 'dogman', 'dogtie', 'doiled', 'doings', 'doited', 'dokhma', 'dolcan', 'dolent', 'doless', 'dolina', 'doline', 'dolium', 'dollar', 'dollop', 'dolman', 'dolmen', 'dolose', 'dolous', 'domain', 'doment', 'domett', 'domine', 'domino', 'domite', 'domnei', 'domoid', 'donary', 'donate', 'dongon', 'donjon', 'donkey', 'donnot', 'donsie', 'doocot', 'doodab', 'doodad', 'doodle', 'dooket', 'dookit', 'doolee', 'dooley', 'doolie', 'doomer', 'doorba', 'doored', 'dopper', 'doppia', 'dorado', 'dorlot', 'dormer', 'dormie', 'dornic', 'dorsad', 'dorsal', 'dorsel', 'dorser', 'dorsum', 'dorter', 'doruck', 'dosadh', 'dosage', 'dossal', 'dossel', 'dosser', 'dossil', 'dotage', 'dotard', 'dotate', 'doting', 'dotish', 'dotkin', 'dotted', 'dotter', 'dottle', 'double', 'doubly', 'doucet', 'douche', 'doucin', 'doudle', 'dought', 'doughy', 'dourly', 'douser', 'douter', 'dovish', 'dowcet', 'dowery', 'dowily', 'dowlas', 'downby', 'downer', 'dowser', 'dowset', 'dozily', 'drabby', 'drably', 'drachm', 'dracma', 'draffy', 'drafty', 'draggy', 'dragon', 'draine', 'dramme', 'draper', 'dravya', 'drawee', 'drawer', 'drawly', 'drazel', 'dreamt', 'dreamy', 'dreary', 'dredge', 'dreepy', 'dreggy', 'drench', 'dressy', 'driest', 'drifty', 'drippy', 'drivel', 'driven', 'driver', 'drogue', 'drolly', 'dromic', 'dromos', 'droner', 'drongo', 'droopt', 'droopy', 'droppy', 'dropsy', 'drosky', 'drossy', 'drover', 'drowse', 'drowsy', 'drudge', 'druery', 'druggy', 'druith', 'drumly', 'drummy', 'drupal', 'drupel', 'drying', 'dryish', 'duadic', 'dualin', 'dually', 'duarch', 'dubash', 'dubbah', 'dubber', 'ducape', 'ducato', 'ducker', 'duckie', 'ducted', 'ductor', 'dudaim', 'dudder', 'dudeen', 'dudine', 'dudish', 'dudism', 'dudler', 'dudley', 'dudman', 'dueler', 'duello', 'duenna', 'duffel', 'duffer', 'dufoil', 'dufter', 'dugdug', 'dugong', 'dugout', 'dugway', 'duiker', 'dukely', 'dukery', 'dukker', 'dulcet', 'duller', 'dultie', 'dumbly', 'dumdum', 'dummel', 'dumose', 'dumper', 'dumple', 'dunair', 'dunder', 'dunger', 'dungol', 'dungon', 'dunite', 'dunker', 'dunlin', 'dunner', 'duntle', 'duopod', 'dupery', 'dupion', 'duplet', 'duplex', 'durain', 'durant', 'durbar', 'durene', 'duress', 'durgan', 'durian', 'during', 'durity', 'durrie', 'durrin', 'dusack', 'duscle', 'dusken', 'duskly', 'dustee', 'duster', 'dutied', 'duyker', 'dvaita', 'dwarfy', 'dyadic', 'dyeing', 'dynamo', 'dynast', 'dzeren', 'eaglet', 'earbob', 'earcap', 'earful', 'earing', 'earlap', 'earlet', 'earner', 'eartab', 'earthy', 'earwax', 'earwig', 'easier', 'easily', 'easing', 'easter', 'eatage', 'eatery', 'eating', 'ebbman', 'ebulus', 'ecanda', 'ecarte', 'ecbole', 'ecesic', 'ecesis', 'echoer', 'echoic', 'eclair', 'eclegm', 'ectene', 'ectopy', 'ectype', 'eczema', 'eddish', 'edemic', 'edging', 'edgrew', 'edible', 'edital', 'editor', 'eelbob', 'eelery', 'eelpot', 'eerily', 'efface', 'effect', 'effete', 'effigy', 'efflux', 'efform', 'effort', 'effund', 'effuse', 'eftest', 'egence', 'egeran', 'egesta', 'eggcup', 'egghot', 'egging', 'eggler', 'eggnog', 'egipto', 'egoism', 'egoist', 'egoity', 'egoize', 'egress', 'ehlite', 'ehuawa', 'eident', 'eighth', 'eighty', 'either', 'ejecta', 'ektene', 'elaine', 'elance', 'elanet', 'elapid', 'elapse', 'elated', 'elater', 'elator', 'elbowy', 'elcaja', 'elchee', 'eldest', 'elding', 'elegit', 'elemin', 'elench', 'elenge', 'eleven', 'elevon', 'elfish', 'elfkin', 'elicit', 'elisor', 'elixir', 'elleck', 'ellops', 'eloign', 'eloper', 'eluate', 'eluder', 'elutor', 'elvish', 'elysia', 'emball', 'embalm', 'embank', 'embark', 'embind', 'embira', 'emblem', 'emblic', 'embody', 'embole', 'embolo', 'emboly', 'emboss', 'embryo', 'embuia', 'embusk', 'emerge', 'emerse', 'emesis', 'emetic', 'emodin', 'emoloa', 'empall', 'empark', 'empasm', 'empery', 'empire', 'employ', 'emptor', 'enable', 'enaena', 'enalid', 'enamel', 'enamor', 'enarch', 'enarme', 'enatic', 'encage', 'encake', 'encamp', 'encase', 'encash', 'encave', 'encell', 'encina', 'encist', 'encode', 'encoil', 'encoop', 'encore', 'encowl', 'encurl', 'encyst', 'endaze', 'endear', 'endere', 'ending', 'endite', 'endive', 'endome', 'endore', 'endoss', 'endura', 'endure', 'endyma', 'energy', 'eneuch', 'eneugh', 'enface', 'enfile', 'enfoil', 'enfold', 'enfork', 'enfoul', 'enfree', 'engage', 'engaol', 'engarb', 'engaud', 'engaze', 'engild', 'engine', 'engird', 'engirt', 'englad', 'englut', 'englyn', 'engobe', 'engold', 'engore', 'engram', 'engulf', 'enhalo', 'enhelm', 'enhusk', 'enigma', 'enisle', 'enjail', 'enjamb', 'enjoin', 'enlace', 'enlard', 'enleaf', 'enlief', 'enlife', 'enlink', 'enlist', 'enlock', 'enmask', 'enmass', 'enmesh', 'enmist', 'enmity', 'enmoss', 'ennead', 'ennoic', 'enodal', 'enolic', 'enough', 'enrace', 'enrage', 'enrank', 'enrapt', 'enrich', 'enring', 'enrive', 'enrobe', 'enroll', 'enroot', 'enruin', 'ensand', 'ensate', 'enseam', 'enseat', 'enseem', 'enserf', 'ensete', 'ensign', 'ensile', 'ensnow', 'ensoul', 'enstar', 'ensuer', 'ensure', 'entach', 'entail', 'entame', 'entice', 'entify', 'entire', 'entity', 'entoil', 'entomb', 'entone', 'entrap', 'entree', 'enurny', 'enveil', 'envied', 'envier', 'enwind', 'enwomb', 'enwood', 'enwrap', 'enzone', 'enzyme', 'eolith', 'eonism', 'eosate', 'eoside', 'eozoon', 'epacme', 'eparch', 'epaule', 'ephebe', 'ephete', 'ephyra', 'epical', 'epicly', 'epimer', 'epizoa', 'epocha', 'epodic', 'eponym', 'epopee', 'epulis', 'epural', 'equant', 'equate', 'equine', 'equity', 'equoid', 'erased', 'eraser', 'erbium', 'eremic', 'erenow', 'ericad', 'erical', 'ermine', 'eroded', 'erotic', 'errand', 'errant', 'errata', 'erring', 'errite', 'ersatz', 'erthen', 'erthly', 'erucic', 'erucin', 'erudit', 'eryngo', 'escape', 'escarp', 'eschar', 'eschew', 'escoba', 'escort', 'escrol', 'escrow', 'escudo', 'esodic', 'espave', 'espial', 'espier', 'espino', 'essang', 'essoin', 'estado', 'estamp', 'estate', 'esteem', 'estray', 'estrin', 'estufa', 'etalon', 'etcher', 'ethane', 'ethene', 'ethics', 'ethide', 'ethine', 'ethnal', 'ethnic', 'ethnos', 'ethrog', 'ethyne', 'etymic', 'etymon', 'etypic', 'euchre', 'eucone', 'eugeny', 'eulogy', 'eunomy', 'eunuch', 'euonym', 'euouae', 'euphon', 'eupnea', 'eureka', 'eurite', 'euryon', 'eutaxy', 'eutony', 'evacue', 'evader', 'evalue', 'evejar', 'evener', 'evenly', 'eveque', 'evilly', 'evince', 'evoker', 'evolve', 'evovae', 'evulse', 'evzone', 'ewerer', 'examen', 'exarch', 'excamb', 'excave', 'exceed', 'except', 'excess', 'excide', 'excise', 'excite', 'excuse', 'excuss', 'excyst', 'exedra', 'exempt', 'exequy', 'exeunt', 'exhale', 'exhort', 'exhume', 'exiler', 'exilic', 'exitus', 'exodic', 'exodos', 'exodus', 'exogen', 'exomis', 'exoner', 'exopod', 'exotic', 'expand', 'expect', 'expede', 'expend', 'expert', 'expire', 'expiry', 'expone', 'export', 'expose', 'expugn', 'exsect', 'exsert', 'exship', 'extant', 'extend', 'extent', 'extern', 'extima', 'extine', 'extoll', 'extort', 'extund', 'eyalet', 'eyebar', 'eyecup', 'eyedot', 'eyeful', 'eyelet', 'eyelid', 'eyepit', 'fabled', 'fabler', 'fabric', 'facade', 'facete', 'facial', 'facies', 'facile', 'facing', 'factor', 'factum', 'facula', 'facund', 'faddle', 'fading', 'faerie', 'faffle', 'fagald', 'fagger', 'fagine', 'fagoty', 'faille', 'fainly', 'faints', 'fainty', 'fairer', 'fairly', 'fakery', 'falcer', 'falces', 'falcon', 'fallen', 'faller', 'fallow', 'falsen', 'falser', 'falsie', 'falter', 'famble', 'family', 'famine', 'famish', 'famous', 'fandom', 'fanega', 'fanged', 'fangle', 'fangot', 'fanion', 'fanman', 'fannel', 'fanner', 'fantod', 'farcer', 'fardel', 'farfel', 'farina', 'faring', 'farish', 'farleu', 'farmer', 'farrow', 'farset', 'fasces', 'fascet', 'fascia', 'fascis', 'fasher', 'fasten', 'faster', 'fastus', 'father', 'fathom', 'fatiha', 'fatsia', 'fatten', 'fatter', 'faucal', 'fauces', 'faucet', 'faucre', 'faulty', 'faunal', 'fautor', 'favism', 'favose', 'favous', 'fawner', 'fayles', 'feague', 'fealty', 'feared', 'fearer', 'feasor', 'featly', 'feckly', 'fecula', 'fecund', 'feddan', 'feeble', 'feebly', 'feeder', 'feeler', 'fegary', 'feisty', 'feline', 'fellah', 'fellen', 'feller', 'fellic', 'felloe', 'fellow', 'feloid', 'felony', 'felted', 'felter', 'female', 'femora', 'fencer', 'fender', 'fenite', 'fenman', 'fennec', 'fennel', 'fennig', 'fenter', 'feodal', 'feower', 'ferash', 'ferfet', 'ferial', 'ferine', 'ferity', 'ferned', 'ferret', 'ferric', 'ferrum', 'ferula', 'ferule', 'fervid', 'fervor', 'fescue', 'festal', 'fester', 'fetial', 'fetish', 'fetlow', 'fetter', 'fettle', 'feuage', 'feucht', 'feudal', 'feudee', 'fewter', 'fezzed', 'fiacre', 'fiance', 'fiasco', 'fibber', 'fibdom', 'fibril', 'fibrin', 'fibula', 'ficary', 'fickle', 'fickly', 'ficoid', 'fidate', 'fiddle', 'fidfad', 'fidget', 'fieldy', 'fierce', 'fiesta', 'fifish', 'figaro', 'figent', 'figged', 'figgle', 'figure', 'figury', 'filace', 'filate', 'filial', 'filing', 'filite', 'filled', 'filler', 'fillet', 'fillip', 'filmet', 'filmic', 'filose', 'filter', 'filthy', 'fimble', 'finale', 'findal', 'finder', 'finely', 'finery', 'finger', 'finial', 'finick', 'finify', 'fining', 'finish', 'finite', 'finity', 'finjan', 'finkel', 'finlet', 'finnac', 'finned', 'finner', 'finnip', 'fiorin', 'fipple', 'firing', 'firker', 'firkin', 'firlot', 'firman', 'firmer', 'firmly', 'fiscal', 'fished', 'fisher', 'fishet', 'fisted', 'fister', 'fistic', 'fitful', 'fitout', 'fitted', 'fitten', 'fitter', 'fixage', 'fixate', 'fixing', 'fixity', 'fixure', 'fizgig', 'fizzer', 'fizzle', 'flabby', 'flaggy', 'flagon', 'flaith', 'flaker', 'flamed', 'flamen', 'flamer', 'flanch', 'flange', 'flanky', 'flaser', 'flashy', 'flated', 'flatly', 'flatus', 'flaunt', 'flavic', 'flavid', 'flavin', 'flavor', 'flawed', 'flaxen', 'flayer', 'fleche', 'flecky', 'fledge', 'fledgy', 'fleece', 'fleech', 'fleecy', 'flench', 'flense', 'flerry', 'fleshy', 'fletch', 'fleury', 'flewed', 'flewit', 'flexed', 'flexor', 'flicky', 'flight', 'flimsy', 'flinch', 'flingy', 'flinty', 'flioma', 'flirty', 'flisky', 'flitch', 'floaty', 'flobby', 'flocky', 'flodge', 'floody', 'floozy', 'floppy', 'floral', 'floran', 'flores', 'floret', 'florid', 'florin', 'flossy', 'floury', 'flouse', 'flower', 'fluate', 'flucan', 'fluent', 'fluffy', 'fluked', 'flunky', 'flurry', 'flushy', 'fluted', 'fluter', 'fluxer', 'flyboy', 'flying', 'flyman', 'flyway', 'foamer', 'focsle', 'fodder', 'fodgel', 'foeish', 'foeman', 'fogbow', 'fogdog', 'fogdom', 'fogged', 'fogger', 'fogman', 'fogram', 'foible', 'foiler', 'foison', 'foisty', 'foiter', 'folded', 'folden', 'folder', 'folial', 'foliar', 'foliot', 'folium', 'folksy', 'folles', 'follis', 'follow', 'foment', 'fondak', 'fondle', 'fondly', 'fondue', 'fonduk', 'fontal', 'fonted', 'fooder', 'fooner', 'footed', 'footer', 'footle', 'foozle', 'forage', 'forane', 'forbar', 'forbid', 'forbit', 'forbow', 'forced', 'forcer', 'forche', 'forego', 'forest', 'forfar', 'forged', 'forger', 'forget', 'forgie', 'forgot', 'forhoo', 'forhow', 'forint', 'forked', 'forker', 'forlet', 'formal', 'format', 'formed', 'formee', 'formel', 'former', 'formic', 'formin', 'formyl', 'fornix', 'forpet', 'forpit', 'forrad', 'forrit', 'forrue', 'forset', 'forthy', 'fortin', 'fortis', 'fossed', 'fossil', 'fossor', 'foster', 'fother', 'fotmal', 'fought', 'fouler', 'foully', 'fourer', 'fourre', 'fourth', 'foussa', 'fouter', 'foveal', 'fowler', 'foxery', 'foxily', 'foxing', 'foxish', 'fracas', 'frache', 'fraise', 'framea', 'framed', 'framer', 'franco', 'franzy', 'frappe', 'frasco', 'fratch', 'frater', 'fratry', 'fraxin', 'frayed', 'frazer', 'frazil', 'freaky', 'freath', 'freely', 'freety', 'freeze', 'freity', 'frenal', 'frenum', 'frenzy', 'fresco', 'fresno', 'frette', 'fretty', 'fretum', 'friand', 'friary', 'fribby', 'friend', 'frieze', 'friezy', 'fright', 'frigid', 'frijol', 'frilly', 'fringe', 'fringy', 'frisca', 'frisky', 'frison', 'frivol', 'frizer', 'frizzy', 'froggy', 'froise', 'frolic', 'frosty', 'frothy', 'frough', 'frower', 'frowny', 'frowst', 'frowze', 'frowzy', 'frozen', 'frugal', 'fruity', 'frumpy', 'fucate', 'fucoid', 'fucose', 'fucous', 'fuddle', 'fudger', 'fueler', 'fuerte', 'fugler', 'fulgid', 'fulgor', 'fulham', 'fullam', 'fuller', 'fullom', 'fulmar', 'fulvid', 'fulyie', 'fulzie', 'fumado', 'fumage', 'fumble', 'fumily', 'fuming', 'fumose', 'fumous', 'fundal', 'funded', 'funder', 'fundic', 'fundus', 'funest', 'fungal', 'fungic', 'fungin', 'fungus', 'funker', 'funnel', 'funori', 'furcal', 'furdel', 'furfur', 'furied', 'furify', 'furler', 'furner', 'furoic', 'furoid', 'furoin', 'furole', 'furore', 'furphy', 'furred', 'furrow', 'furzed', 'fusain', 'fusate', 'fuscin', 'fusion', 'fusoid', 'fusser', 'fustee', 'fustet', 'fustic', 'fustin', 'fustle', 'fusuma', 'fusure', 'futile', 'future', 'fylfot', 'gabber', 'gabble', 'gabbro', 'gabgab', 'gabion', 'gablet', 'gadbee', 'gadded', 'gadder', 'gadfly', 'gadger', 'gadget', 'gadman', 'gadoid', 'gaduin', 'gaffer', 'gaffle', 'gagate', 'gagger', 'gaggle', 'gagman', 'gaiety', 'gainer', 'gainly', 'gainst', 'gaited', 'gaiter', 'galant', 'galany', 'galaxy', 'galban', 'galeid', 'galena', 'galera', 'galgal', 'galiot', 'gallah', 'galled', 'galler', 'gallet', 'galley', 'gallic', 'gallon', 'gallop', 'galoot', 'galore', 'galosh', 'galuth', 'galyac', 'galyak', 'gamahe', 'gambet', 'gambia', 'gambit', 'gamble', 'gambol', 'gamely', 'gamene', 'gamete', 'gamily', 'gaming', 'gammer', 'gammon', 'gamont', 'gamori', 'gander', 'gandul', 'gandum', 'gangan', 'ganger', 'gangly', 'gangue', 'ganner', 'gannet', 'ganoid', 'ganoin', 'gansel', 'gansey', 'ganton', 'gantry', 'gantsl', 'ganzie', 'gaoler', 'gaping', 'garage', 'garava', 'garawi', 'garbel', 'garble', 'garden', 'garget', 'gargle', 'gargol', 'garial', 'gariba', 'garish', 'garlic', 'garnel', 'garner', 'garnet', 'garran', 'garret', 'garrot', 'garsil', 'garten', 'garter', 'garvey', 'gasbag', 'gashes', 'gashly', 'gasify', 'gasket', 'gaskin', 'gaslit', 'gasman', 'gasper', 'gasser', 'gaster', 'gather', 'gating', 'gatter', 'gauche', 'gaufer', 'gaufre', 'gauger', 'gaulin', 'gaunty', 'gaupus', 'gavall', 'gavial', 'gawcie', 'gawney', 'gawsie', 'gaycat', 'gayish', 'gayyou', 'gazabo', 'gazebo', 'gazing', 'geared', 'geason', 'gebang', 'gebbie', 'gedder', 'geejee', 'geerah', 'geezer', 'geggee', 'gegger', 'geisha', 'geison', 'gelada', 'gelder', 'gelong', 'gelose', 'gemmae', 'gemmer', 'gemuti', 'genapp', 'gender', 'genear', 'geneat', 'geneki', 'genera', 'geneva', 'genial', 'genian', 'genion', 'genipa', 'genius', 'genome', 'genson', 'gentes', 'gentle', 'gently', 'gentry', 'genual', 'geodal', 'geodic', 'geosid', 'geotic', 'gerate', 'geraty', 'gerbil', 'gerefa', 'gerent', 'germal', 'german', 'germen', 'germin', 'germon', 'geront', 'gersum', 'gerund', 'gervao', 'gesith', 'gested', 'gesten', 'gestic', 'gether', 'getter', 'gewgaw', 'geyser', 'ghafir', 'ghaist', 'ghalva', 'gharry', 'ghatti', 'ghetti', 'ghetto', 'ghosty', 'ghrush', 'ghurry', 'giarra', 'giarre', 'gibaro', 'gibbed', 'gibber', 'gibbet', 'gibbon', 'gibbus', 'gibing', 'gibleh', 'giblet', 'giddap', 'giddea', 'gidgee', 'gifted', 'giftie', 'gigful', 'gigger', 'giggit', 'giggle', 'giggly', 'giglet', 'giglot', 'gigman', 'gigolo', 'gigunu', 'gilded', 'gilden', 'gilder', 'gilguy', 'gilled', 'giller', 'gillie', 'gimbal', 'gimble', 'gimlet', 'gimmal', 'gimmer', 'gimped', 'gimper', 'ginger', 'ginkgo', 'ginned', 'ginner', 'ginney', 'ginnle', 'gipper', 'gipser', 'girder', 'girdle', 'girlie', 'girsle', 'gisler', 'giving', 'gizzen', 'glacis', 'gladdy', 'gladii', 'gladly', 'glairy', 'glaive', 'glaked', 'glance', 'glarry', 'glassy', 'glaury', 'glaver', 'glazed', 'glazen', 'glazer', 'gleamy', 'gleary', 'glebal', 'gleety', 'glegly', 'gleyde', 'glibly', 'glider', 'glioma', 'gliosa', 'glisky', 'global', 'globed', 'globin', 'gloeal', 'glomus', 'gloomy', 'glossa', 'glossy', 'glover', 'glovey', 'glower', 'glucid', 'gluish', 'glumal', 'glumly', 'glummy', 'glumpy', 'glunch', 'glusid', 'glutch', 'gluten', 'glutin', 'glycid', 'glycol', 'glycyl', 'gnarly', 'gnatty', 'gnawer', 'gneiss', 'gnomed', 'gnomic', 'gnomon', 'gnosis', 'goalee', 'goalie', 'goanna', 'goatee', 'goatly', 'goback', 'gobang', 'gobber', 'gobbet', 'gobbin', 'gobble', 'gobiid', 'goblet', 'goblin', 'gobony', 'gocart', 'godded', 'godkin', 'godlet', 'godown', 'godson', 'godwit', 'goetia', 'goetic', 'goffer', 'goffle', 'goggan', 'goggle', 'goggly', 'goglet', 'goiter', 'golach', 'golden', 'golder', 'goldie', 'goldin', 'golfer', 'gollar', 'gomari', 'gomart', 'gombay', 'gomlah', 'gomuti', 'goniac', 'gonial', 'gonion', 'gonium', 'goober', 'goodly', 'goofer', 'googly', 'googol', 'googul', 'goolah', 'goonie', 'gopher', 'gopura', 'gorbal', 'gorbet', 'gorble', 'gorfly', 'gorged', 'gorger', 'gorget', 'gorhen', 'gorily', 'goring', 'gorlin', 'gormaw', 'gormed', 'gorraf', 'gosain', 'goslet', 'gospel', 'gossan', 'gossip', 'gotten', 'gouger', 'goujon', 'gourde', 'gourdy', 'gousty', 'goutte', 'govern', 'gowfer', 'gowked', 'gowkit', 'gowpen', 'gozell', 'graben', 'gracer', 'gradal', 'graded', 'grader', 'gradin', 'gradus', 'graham', 'grainy', 'graith', 'gramme', 'grampa', 'granch', 'grange', 'granny', 'granza', 'graped', 'graphy', 'grappa', 'grassy', 'grater', 'gratis', 'graved', 'gravel', 'graven', 'graver', 'gravic', 'gravid', 'grawls', 'grayly', 'grazer', 'grease', 'greasy', 'greave', 'greedy', 'greeny', 'gregal', 'greige', 'greund', 'greyly', 'griece', 'grieve', 'griffe', 'grigri', 'grille', 'grilse', 'grimly', 'grimme', 'grinch', 'gringo', 'grinny', 'griper', 'grippe', 'grippy', 'grisly', 'grison', 'gristy', 'gritty', 'grivet', 'grivna', 'groats', 'grocer', 'groggy', 'groomy', 'groose', 'grooty', 'groove', 'groovy', 'groper', 'groser', 'groset', 'grosso', 'groszy', 'grotto', 'grouch', 'grough', 'ground', 'grouse', 'grousy', 'grouts', 'grouty', 'grouze', 'groved', 'grovel', 'growan', 'growed', 'grower', 'growly', 'growse', 'growth', 'grozet', 'grubby', 'grudge', 'gruffs', 'gruffy', 'grugru', 'gruine', 'grumly', 'grumph', 'grumpy', 'grundy', 'grutch', 'grylli', 'guacin', 'guaiac', 'guaiol', 'guanay', 'guango', 'guanyl', 'guardo', 'guarri', 'gudame', 'guddle', 'gudget', 'guemal', 'guenon', 'guffaw', 'guffer', 'guffin', 'guggle', 'guglet', 'guglia', 'guglio', 'guider', 'guidon', 'guilty', 'guimpe', 'guinea', 'guiser', 'guitar', 'gulden', 'gulgul', 'gullet', 'gulose', 'gulper', 'gulpin', 'gummed', 'gummer', 'gumpus', 'gunate', 'gunebo', 'gunite', 'gunman', 'gunnel', 'gunner', 'gunong', 'gunsel', 'gunter', 'gunyah', 'gunyeh', 'gurdle', 'gurges', 'gurgle', 'gurgly', 'gurjun', 'gurnet', 'gurrah', 'gusher', 'gushet', 'gusset', 'gussie', 'gutter', 'guttie', 'guttle', 'guttus', 'guydom', 'guzzle', 'gweduc', 'gweeon', 'gymnic', 'gympie', 'gynics', 'gypper', 'gypsum', 'gyrant', 'gyrate', 'gyrene', 'gyroma', 'gyrose', 'gyrous', 'habble', 'habeas', 'habena', 'habile', 'habnab', 'haboob', 'hacked', 'hackee', 'hacker', 'hackin', 'hackle', 'hackly', 'hadbot', 'hadden', 'haddie', 'hading', 'haffet', 'haffle', 'hafnyl', 'hafter', 'hagdon', 'hageen', 'hagged', 'hagger', 'haggis', 'haggle', 'haggly', 'haglet', 'haglin', 'haikai', 'haikal', 'hailer', 'hailse', 'hairdo', 'haired', 'hairen', 'hairif', 'hairup', 'hakdar', 'hakeem', 'halebi', 'halerz', 'halfer', 'halide', 'halite', 'hallah', 'hallan', 'hallel', 'hallex', 'halloo', 'hallow', 'hallux', 'haloid', 'halsen', 'halter', 'halutz', 'halved', 'halver', 'halves', 'hamald', 'hamate', 'hamble', 'hameil', 'hamfat', 'hamlah', 'hamlet', 'hammam', 'hammer', 'hamose', 'hamous', 'hamper', 'hamule', 'hanced', 'handed', 'hander', 'handle', 'hangar', 'hangby', 'hangee', 'hanger', 'hangie', 'hangle', 'hangul', 'hanker', 'hankie', 'hankle', 'hansel', 'hansom', 'hantle', 'happen', 'hapten', 'haptic', 'hapuku', 'harass', 'harbor', 'harden', 'harder', 'hardim', 'hardly', 'harish', 'harlot', 'harmal', 'harman', 'harmel', 'harmer', 'harper', 'harrow', 'hartal', 'hartin', 'hashab', 'hasher', 'haslet', 'hassar', 'hassel', 'hassle', 'hasten', 'haster', 'hatbox', 'hatful', 'hatpin', 'hatred', 'hatted', 'hatter', 'haught', 'hauler', 'haulmy', 'haunch', 'haunty', 'hausen', 'hausse', 'havage', 'havent', 'havers', 'havier', 'hawked', 'hawker', 'hawkie', 'hawser', 'haycap', 'haymow', 'haysel', 'hazard', 'hazily', 'hazing', 'hazzan', 'headed', 'header', 'healer', 'health', 'heaper', 'hearer', 'hearse', 'hearst', 'hearth', 'hearts', 'hearty', 'heater', 'heathy', 'heaume', 'heaven', 'heaver', 'hebete', 'heckle', 'hectic', 'hector', 'heddle', 'hedebo', 'hedger', 'heeder', 'heehaw', 'heeled', 'heeler', 'heezie', 'hefter', 'hegari', 'hegira', 'heifer', 'height', 'heimin', 'helbeh', 'helder', 'helide', 'heling', 'helium', 'heller', 'helluo', 'helmed', 'helmet', 'heloma', 'helper', 'helply', 'helver', 'hemase', 'hemera', 'hemina', 'hemine', 'hemmel', 'hemmer', 'hemoid', 'hempen', 'henbit', 'hendly', 'henism', 'hennin', 'henpen', 'henter', 'hepcat', 'heppen', 'hepper', 'heptad', 'heptal', 'heptyl', 'herald', 'herbal', 'herder', 'herdic', 'hereat', 'hereby', 'herein', 'hereof', 'hereon', 'heresy', 'hereto', 'herile', 'heriot', 'hermit', 'hernia', 'heroic', 'heroid', 'heroin', 'herpes', 'hersed', 'hersir', 'hetero', 'hetman', 'hetter', 'hexace', 'hexact', 'hexane', 'hexene', 'hexine', 'hexode', 'hexoic', 'hexone', 'hexose', 'hexyne', 'heyday', 'hiatal', 'hiatus', 'hibbin', 'hiccup', 'hickey', 'hidage', 'hidden', 'hieder', 'hiemal', 'hieron', 'hieros', 'higdon', 'higgle', 'higher', 'highly', 'hijack', 'hiller', 'hillet', 'hinder', 'hinger', 'hingle', 'hinney', 'hinoid', 'hinoki', 'hinter', 'hipped', 'hippen', 'hippic', 'hipple', 'hippus', 'hirmos', 'hirple', 'hirsel', 'hirsle', 'hispid', 'hisser', 'histie', 'histon', 'hitchy', 'hither', 'hitter', 'hoarse', 'hoaxee', 'hoaxer', 'hobber', 'hobbet', 'hobbil', 'hobble', 'hobbly', 'hobnob', 'hocker', 'hocket', 'hockey', 'hodden', 'hodder', 'hoddle', 'hodful', 'hodman', 'hoeful', 'hogged', 'hogger', 'hogget', 'hoggie', 'hoggin', 'hognut', 'hogpen', 'hogsty', 'holard', 'holcad', 'holden', 'holder', 'holdup', 'holily', 'holing', 'holism', 'holler', 'hollin', 'hollow', 'holmia', 'holmic', 'holmos', 'holour', 'homage', 'homely', 'homily', 'hominy', 'homish', 'homrai', 'honest', 'honied', 'honily', 'honker', 'hooded', 'hoodie', 'hoodoo', 'hoofed', 'hoofer', 'hookah', 'hooked', 'hooker', 'hookum', 'hookup', 'hooped', 'hooper', 'hoopla', 'hoople', 'hoopoe', 'hootay', 'hooter', 'hooven', 'hoovey', 'hopoff', 'hopped', 'hopper', 'hoppet', 'hopple', 'horary', 'hormic', 'hormos', 'horned', 'horner', 'hornet', 'horrid', 'horror', 'horser', 'hosier', 'hostel', 'hoster', 'hostie', 'hostly', 'hostry', 'hotbed', 'hotbox', 'hotter', 'hounce', 'houndy', 'hourly', 'housal', 'housel', 'houser', 'housty', 'houtou', 'howdah', 'howder', 'howdie', 'howish', 'howkit', 'howler', 'howlet', 'hoyden', 'hoyman', 'hubber', 'hubble', 'hubbly', 'hubbub', 'hubshi', 'huchen', 'huckle', 'huddle', 'huddup', 'hueful', 'huffle', 'hugely', 'hugger', 'huggle', 'huipil', 'huldee', 'huller', 'hulloo', 'hulver', 'humane', 'humate', 'humble', 'humbly', 'humbug', 'humect', 'humeri', 'humhum', 'humify', 'humite', 'humlie', 'hummel', 'hummer', 'hummie', 'humous', 'humped', 'humpty', 'hunchy', 'hunger', 'hungry', 'hunker', 'hurdis', 'hurdle', 'hureek', 'hurkle', 'hurled', 'hurler', 'hurley', 'hurrah', 'hurroo', 'hurted', 'hurter', 'hurtle', 'hushel', 'husher', 'husked', 'husker', 'huspil', 'hussar', 'hustle', 'hutlet', 'huzoor', 'hyaena', 'hybrid', 'hydria', 'hydric', 'hydroa', 'hydrol', 'hyenic', 'hyetal', 'hygric', 'hylism', 'hylist', 'hyloid', 'hymnal', 'hymner', 'hymnic', 'hypate', 'hyphal', 'hyphen', 'hypoid', 'hyssop', 'iambic', 'iambus', 'iatric', 'ibices', 'icebox', 'icecap', 'iceman', 'icicle', 'iconic', 'idalia', 'ideaed', 'ideate', 'ideist', 'idiasm', 'idiocy', 'iditol', 'idlety', 'idlish', 'idolum', 'idyler', 'ignify', 'ignite', 'ignore', 'ignote', 'iguana', 'iliahi', 'ilicic', 'ilicin', 'ilkane', 'illeck', 'illess', 'illish', 'illium', 'illude', 'illume', 'illupi', 'illure', 'imager', 'imamah', 'imamic', 'imaret', 'imband', 'imbark', 'imbarn', 'imbibe', 'imbrex', 'imbrue', 'imidic', 'immane', 'immask', 'immerd', 'immund', 'immune', 'immure', 'immute', 'impack', 'impact', 'impair', 'impala', 'impale', 'impall', 'impalm', 'impane', 'impark', 'imparl', 'impart', 'impave', 'impawn', 'impede', 'impend', 'impent', 'impest', 'imphee', 'impish', 'implex', 'impofo', 'impone', 'impoor', 'import', 'impose', 'impost', 'impreg', 'impugn', 'impure', 'impute', 'inanga', 'inarch', 'inaxon', 'inbent', 'inblow', 'inbond', 'inborn', 'inbred', 'incarn', 'incase', 'incast', 'incept', 'incest', 'inched', 'incide', 'incise', 'incite', 'inclip', 'income', 'incubi', 'incult', 'incuse', 'indaba', 'indane', 'indart', 'indebt', 'indeed', 'indene', 'indent', 'indict', 'indign', 'indigo', 'indite', 'indium', 'indole', 'indoor', 'induce', 'induct', 'indult', 'induna', 'ineunt', 'inface', 'infall', 'infame', 'infamy', 'infand', 'infang', 'infant', 'infare', 'infect', 'infeed', 'infeft', 'infelt', 'infern', 'infest', 'infill', 'infilm', 'infirm', 'inflex', 'inflow', 'influx', 'infold', 'inform', 'infula', 'infuse', 'ingate', 'ingest', 'ingrow', 'inguen', 'ingulf', 'inhale', 'inhaul', 'inhere', 'inhume', 'iniome', 'initis', 'inject', 'injure', 'injury', 'inkish', 'inknot', 'inkosi', 'inkpot', 'inlaid', 'inlaik', 'inlake', 'inland', 'inlaut', 'inleak', 'inlier', 'inlook', 'inmate', 'inmost', 'innate', 'inness', 'innest', 'inning', 'inogen', 'inosic', 'inosin', 'inower', 'inport', 'inpour', 'inpush', 'inring', 'inroad', 'inroll', 'inrush', 'insack', 'insane', 'inseam', 'insect', 'inseer', 'insert', 'inship', 'inshoe', 'inside', 'insist', 'insole', 'insorb', 'insoul', 'inspan', 'instar', 'instep', 'insula', 'insult', 'insunk', 'insure', 'intact', 'intake', 'intend', 'intent', 'intern', 'intext', 'intima', 'intine', 'intoed', 'intone', 'intort', 'intown', 'intube', 'intuit', 'inturn', 'inulin', 'inunct', 'inured', 'invade', 'inveil', 'invein', 'invent', 'invert', 'invest', 'invite', 'invoke', 'inwale', 'inwall', 'inward', 'inweed', 'inwick', 'inwind', 'inwith', 'inwood', 'inwork', 'inworn', 'inwrap', 'inwrit', 'inyoke', 'iodate', 'iodide', 'iodine', 'iodism', 'iodite', 'iodize', 'iodoso', 'iodous', 'iodoxy', 'iolite', 'ionium', 'ionize', 'ionone', 'iotize', 'ipecac', 'ipomea', 'ireful', 'irenic', 'iridal', 'irides', 'iridic', 'iridin', 'irised', 'irisin', 'iritic', 'iritis', 'ironer', 'ironly', 'irrupt', 'isagon', 'isatic', 'isatin', 'island', 'ismdom', 'isobar', 'isogen', 'isogon', 'isohel', 'isomer', 'isonym', 'isopag', 'isopod', 'isotac', 'issite', 'issuer', 'isthmi', 'istoke', 'isuret', 'itself', 'itzebu', 'iwaiwa', 'ixodic', 'ixodid', 'izzard', 'jabbed', 'jabber', 'jabble', 'jabers', 'jabiru', 'jacami', 'jacana', 'jacare', 'jacate', 'jacent', 'jackal', 'jacker', 'jacket', 'jacoby', 'jadder', 'jadery', 'jadish', 'jaeger', 'jagged', 'jagger', 'jagong', 'jaguar', 'jailer', 'jajman', 'jalapa', 'jalkar', 'jalopy', 'jammer', 'jampan', 'janapa', 'jangle', 'jangly', 'janker', 'japery', 'japing', 'japish', 'jarble', 'jarbot', 'jarfly', 'jarful', 'jargon', 'jarnut', 'jarool', 'jarrah', 'jarvey', 'jasper', 'jaspis', 'jassid', 'jaudie', 'jaunce', 'jaunty', 'javali', 'jaypie', 'jazzer', 'jeerer', 'jejune', 'jelick', 'jenkin', 'jennet', 'jerboa', 'jereed', 'jerker', 'jerkin', 'jerque', 'jersey', 'jervia', 'jessed', 'jessur', 'jestee', 'jester', 'jetsam', 'jetted', 'jetter', 'jetton', 'jewely', 'jezail', 'jeziah', 'jharal', 'jibbah', 'jibber', 'jibman', 'jicama', 'jicara', 'jiffle', 'jigger', 'jigget', 'jiggle', 'jiggly', 'jigman', 'jillet', 'jiltee', 'jilter', 'jimjam', 'jimply', 'jingal', 'jingle', 'jingly', 'jinker', 'jinket', 'jinkle', 'jipper', 'jirble', 'jitney', 'jitter', 'jobade', 'jobber', 'jobbet', 'jobble', 'jobman', 'jocker', 'jockey', 'jocose', 'jocote', 'jocuma', 'jocund', 'jodelr', 'jogger', 'joggle', 'joggly', 'johnin', 'joiner', 'jointy', 'jojoba', 'jokish', 'jokist', 'jollop', 'jolter', 'jonque', 'jordan', 'josher', 'joskin', 'josser', 'jostle', 'jotisi', 'jotter', 'jounce', 'jovial', 'jowari', 'jowery', 'jowler', 'jowlop', 'jowser', 'jowter', 'joyant', 'joyful', 'joyhop', 'joylet', 'joyous', 'jubate', 'jubbah', 'judger', 'jugale', 'jugate', 'jugful', 'jugger', 'juggle', 'jujube', 'juloid', 'julole', 'jumart', 'jumble', 'jumbly', 'jument', 'jumfru', 'jumper', 'jungle', 'jungli', 'jungly', 'junior', 'junker', 'junket', 'jupati', 'jurant', 'jurara', 'juring', 'jurist', 'jussel', 'justen', 'justly', 'juvite', 'kabaya', 'kaberu', 'kabiet', 'kabuki', 'kachin', 'kadaya', 'kadein', 'kaffir', 'kahili', 'kahuna', 'kainga', 'kainsi', 'kainyn', 'kaiser', 'kakapo', 'kakkak', 'kalema', 'kalian', 'kalium', 'kallah', 'kalong', 'kalpis', 'kamahi', 'kamala', 'kambal', 'kamboh', 'kamias', 'kanagi', 'kanara', 'kanari', 'kandol', 'kankie', 'kanoon', 'kanten', 'kaolin', 'karaka', 'karamu', 'karate', 'karaya', 'kareao', 'karela', 'karite', 'karmic', 'kaross', 'karree', 'karroo', 'karsha', 'kartel', 'kartos', 'karwar', 'karyon', 'kasbah', 'kasher', 'kashga', 'kasida', 'kathal', 'katipo', 'katmon', 'katsup', 'katuka', 'kavaic', 'kavass', 'kawaka', 'kawika', 'kayles', 'kebbie', 'kechel', 'keckle', 'kecksy', 'keddah', 'kedger', 'keeker', 'keeled', 'keeler', 'keelie', 'keened', 'keener', 'keenly', 'keeper', 'keffel', 'kegler', 'kehaya', 'kekuna', 'kelebe', 'keloid', 'kelper', 'kelpie', 'kelter', 'kelvin', 'kemple', 'kendir', 'kendyr', 'kennel', 'kenner', 'kenyte', 'kerana', 'kermes', 'kermis', 'kernel', 'kerner', 'kernos', 'kerrie', 'kerril', 'kersey', 'ketene', 'ketole', 'ketone', 'ketose', 'kettle', 'ketuba', 'ketupa', 'kewpie', 'keyage', 'keylet', 'keyway', 'khaiki', 'khajur', 'khalsa', 'khanda', 'khanum', 'kharaj', 'kharua', 'khatib', 'khatri', 'khilat', 'khirka', 'kialee', 'kiaugh', 'kibber', 'kibble', 'kibitz', 'kiblah', 'kibosh', 'kickee', 'kicker', 'kickup', 'kidder', 'kidlet', 'kidnap', 'kidney', 'kiekie', 'kikuel', 'kildee', 'kilerg', 'kilhig', 'killas', 'killcu', 'killer', 'kilter', 'kiltie', 'kimnel', 'kimono', 'kinase', 'kincob', 'kindle', 'kindly', 'kingly', 'kinkle', 'kinkly', 'kintar', 'kipage', 'kipper', 'kipsey', 'kirker', 'kirmew', 'kirsch', 'kirtle', 'kirver', 'kishen', 'kishon', 'kismet', 'kissar', 'kisser', 'kitcat', 'kitish', 'kittel', 'kitten', 'kitter', 'kittle', 'kittly', 'kittul', 'klaxon', 'klepht', 'klippe', 'knacky', 'knaggy', 'knarry', 'knawel', 'kniazi', 'knifer', 'knight', 'knitch', 'knived', 'knivey', 'knobby', 'knolly', 'knoppy', 'knotty', 'knower', 'knubby', 'knurly', 'knutty', 'knyazi', 'kobird', 'kobold', 'kobong', 'kohemp', 'koilon', 'koinon', 'kojang', 'kokako', 'koklas', 'kokoon', 'kolach', 'kolhoz', 'koller', 'kolsun', 'kommos', 'konini', 'konjak', 'kookri', 'koolah', 'kopeck', 'koppen', 'korait', 'korari', 'koreci', 'korero', 'korona', 'korova', 'korrel', 'koruna', 'korzec', 'kosher', 'kosong', 'kotuku', 'kotwal', 'kotyle', 'koulan', 'kowhai', 'kowtow', 'kraken', 'krasis', 'krelos', 'kronen', 'kroner', 'kronor', 'kronur', 'kuchen', 'kudize', 'kukupa', 'kulack', 'kulang', 'kulmet', 'kumhar', 'kumiss', 'kummel', 'kumrah', 'kunkur', 'kuphar', 'kupper', 'kurgan', 'kuruma', 'kurung', 'kurvey', 'kuskos', 'kuskus', 'kutcha', 'kuttab', 'kuttar', 'kuvasz', 'kwamme', 'kwarta', 'kyaung', 'kylite', 'kyrine', 'laager', 'labara', 'labber', 'labefy', 'labial', 'labile', 'labium', 'lablab', 'labour', 'labral', 'labret', 'labrum', 'labrys', 'laccol', 'lacery', 'laches', 'lachsa', 'lacily', 'lacing', 'lacker', 'lackey', 'lacmus', 'lacrym', 'lactam', 'lactic', 'lactid', 'lactim', 'lactol', 'lactyl', 'lacuna', 'lacune', 'ladder', 'laddie', 'ladies', 'ladify', 'lading', 'ladkin', 'ladler', 'ladyfy', 'ladyly', 'laetic', 'lagena', 'lagend', 'laggar', 'lagged', 'laggen', 'lagger', 'laggin', 'lagoon', 'laical', 'laiose', 'laking', 'lakish', 'lakism', 'lakist', 'lalang', 'lamaic', 'lamany', 'lambda', 'lamber', 'lambie', 'lambly', 'lamedh', 'lamely', 'lament', 'lamiid', 'lamina', 'lamish', 'lammas', 'lammer', 'lamnid', 'lampad', 'lampas', 'lamper', 'lanate', 'lanced', 'lancer', 'lances', 'lancet', 'lancha', 'landau', 'landed', 'lander', 'lanete', 'langca', 'langle', 'langur', 'lanket', 'lankly', 'lanner', 'lanose', 'lansat', 'lanseh', 'lanson', 'lantum', 'lanugo', 'lapful', 'lapped', 'lapper', 'lappet', 'lapsed', 'lapser', 'larder', 'lardon', 'largen', 'lariat', 'larick', 'larigo', 'lariid', 'larine', 'larker', 'larnax', 'laroid', 'larrup', 'larvae', 'larval', 'larynx', 'lascar', 'lasher', 'lasket', 'lasque', 'lasset', 'lassie', 'laster', 'lastly', 'lastre', 'lateen', 'lately', 'latent', 'latera', 'latest', 'lathee', 'lathen', 'lather', 'latigo', 'lation', 'latish', 'latite', 'latomy', 'latria', 'latron', 'latten', 'latter', 'lauder', 'laughy', 'launce', 'launch', 'laurel', 'lauric', 'laurin', 'lauryl', 'lavabo', 'lavage', 'lavant', 'laveer', 'lavish', 'lawful', 'lawing', 'lawish', 'lawman', 'lawned', 'lawner', 'lawter', 'lawyer', 'laxate', 'laxism', 'laxist', 'laxity', 'layboy', 'layery', 'laying', 'layman', 'layoff', 'layout', 'lazily', 'lazule', 'lazuli', 'leachy', 'leaded', 'leaden', 'leader', 'leadin', 'leafed', 'leafen', 'leafer', 'leafit', 'league', 'leaker', 'leally', 'lealty', 'leamer', 'leaner', 'leanly', 'leaper', 'learnt', 'leaser', 'leasow', 'leaved', 'leaven', 'leaver', 'leaves', 'lebbek', 'lecama', 'lecher', 'lechwe', 'lecker', 'lector', 'lecyth', 'ledged', 'ledger', 'leepit', 'leewan', 'leeway', 'legacy', 'legate', 'legato', 'legend', 'legged', 'legger', 'legion', 'legist', 'leglen', 'leglet', 'legman', 'leguan', 'legume', 'lekach', 'lekane', 'lemnad', 'lemony', 'lenard', 'lendee', 'lender', 'length', 'lenify', 'lenity', 'lennow', 'lensed', 'lentil', 'lentor', 'lenvoi', 'lenvoy', 'lepric', 'leptid', 'lepton', 'leptus', 'lerret', 'lesche', 'lesion', 'lessee', 'lessen', 'lesser', 'lesson', 'lessor', 'letchy', 'lethal', 'letoff', 'letten', 'letter', 'leucon', 'leucyl', 'levant', 'levers', 'levier', 'levity', 'lewdly', 'liable', 'libant', 'libate', 'libber', 'libbet', 'libbra', 'libido', 'libken', 'libral', 'licham', 'lichen', 'licker', 'licorn', 'lictor', 'lidded', 'lidder', 'lieger', 'lienal', 'lienee', 'lienic', 'lienor', 'lierne', 'lierre', 'lifter', 'ligate', 'ligger', 'lignin', 'lignum', 'ligula', 'ligule', 'ligure', 'likely', 'liking', 'liknon', 'lilied', 'lilyfy', 'limbal', 'limbat', 'limbed', 'limber', 'limbic', 'limbie', 'limbus', 'liming', 'limmer', 'limner', 'limoid', 'limose', 'limous', 'limper', 'limpet', 'limpid', 'limpin', 'limply', 'limpsy', 'linaga', 'linage', 'linden', 'linder', 'lineal', 'linear', 'lingel', 'linger', 'lingua', 'linhay', 'lining', 'liniya', 'linked', 'linker', 'linnet', 'linous', 'linpin', 'linsey', 'lintel', 'linten', 'linter', 'lintie', 'lionel', 'lionet', 'lionly', 'lipase', 'lipide', 'liplet', 'lipoid', 'lipoma', 'lipped', 'lippen', 'lipper', 'liquid', 'liquor', 'lirate', 'lisere', 'lisper', 'lissom', 'listed', 'listel', 'listen', 'lister', 'litany', 'litchi', 'lithia', 'lithic', 'litmus', 'litten', 'litter', 'little', 'lituus', 'livedo', 'lively', 'livery', 'livier', 'living', 'lixive', 'lizard', 'llautu', 'loaded', 'loaden', 'loader', 'loafer', 'loaner', 'loanin', 'loathe', 'lobate', 'lobber', 'lobfig', 'lobing', 'lobola', 'lobose', 'lobule', 'locale', 'locate', 'lochan', 'lochia', 'lochus', 'locked', 'locker', 'locket', 'lockup', 'locule', 'locust', 'lodged', 'lodger', 'lofter', 'logeum', 'loggat', 'logged', 'logger', 'loggia', 'loggin', 'logion', 'logium', 'loglet', 'logman', 'logway', 'lohoch', 'loimic', 'loined', 'loiter', 'lokiec', 'loller', 'lollop', 'lomboy', 'loment', 'lomita', 'lonely', 'longan', 'longer', 'longly', 'longue', 'lontar', 'loofah', 'loofie', 'looker', 'lookum', 'loomer', 'looney', 'looper', 'loosen', 'looser', 'looten', 'looter', 'lootie', 'lopper', 'loppet', 'loquat', 'lorate', 'lorcha', 'lordly', 'loreal', 'lorica', 'loriot', 'losing', 'lotase', 'lotion', 'lotter', 'louden', 'loudly', 'lounge', 'loungy', 'lourdy', 'louter', 'louvar', 'louver', 'lovage', 'lovely', 'loving', 'lowboy', 'lowdah', 'lowder', 'lowery', 'lowish', 'lowmen', 'lownly', 'lubber', 'lubric', 'lucban', 'lucent', 'lucern', 'lucida', 'lucken', 'luckie', 'lucule', 'ludden', 'luetic', 'luggar', 'lugged', 'lugger', 'luggie', 'lukely', 'luller', 'lumbar', 'lumber', 'lumine', 'lummox', 'lumper', 'lumpet', 'lunacy', 'lunare', 'lunary', 'lunate', 'lunged', 'lunger', 'lungie', 'lungis', 'lunoid', 'lunula', 'lunule', 'lupeol', 'lupine', 'lupoid', 'lupous', 'lurdan', 'lurker', 'lusher', 'lushly', 'lusory', 'luster', 'lustra', 'lutany', 'luteal', 'lutein', 'luting', 'lutist', 'lutose', 'lutrin', 'luxate', 'luxury', 'lyceal', 'lyceum', 'lyctid', 'lydite', 'lymphy', 'lyrate', 'lyrism', 'lyrist', 'lysate', 'lysine', 'lyssic', 'lyxose', 'mabolo', 'macaco', 'macana', 'machan', 'machar', 'machin', 'macies', 'mackle', 'macled', 'macron', 'macuca', 'macula', 'macule', 'macuta', 'madame', 'madcap', 'madden', 'madder', 'maddle', 'madefy', 'madman', 'madnep', 'maduro', 'maenad', 'maffia', 'maffle', 'mafura', 'magani', 'magged', 'maggle', 'maggot', 'magnes', 'magnet', 'magnum', 'magpie', 'maguey', 'mahant', 'mahmal', 'maholi', 'mahone', 'mahout', 'maidan', 'maiden', 'maigre', 'mailed', 'mailer', 'mailie', 'maimed', 'maimer', 'maimon', 'mainly', 'maioid', 'maizer', 'majoon', 'making', 'makluk', 'malady', 'malapi', 'malate', 'malati', 'maleic', 'malfed', 'malice', 'malign', 'maline', 'malism', 'malist', 'malkin', 'mallee', 'mallet', 'mallow', 'mallum', 'mallus', 'malter', 'maltha', 'mammal', 'mammee', 'mammer', 'mammon', 'manage', 'manbot', 'manche', 'mancus', 'mandil', 'mandom', 'mandra', 'mandua', 'manege', 'manent', 'maness', 'manful', 'mangal', 'mangel', 'manger', 'mangle', 'mangue', 'maniac', 'manify', 'manila', 'manioc', 'manism', 'manist', 'manito', 'manjak', 'mankin', 'manlet', 'mannan', 'manner', 'mannie', 'manque', 'manred', 'mantal', 'mantel', 'manter', 'mantes', 'mantic', 'mantid', 'mantis', 'mantle', 'mantra', 'mantua', 'manual', 'manuao', 'manuka', 'manuma', 'manure', 'manway', 'manzil', 'maomao', 'mapach', 'mapper', 'maquis', 'maraca', 'marang', 'marara', 'maraud', 'marble', 'marbly', 'marcel', 'marcid', 'marcor', 'margay', 'margin', 'marina', 'marine', 'marish', 'marked', 'marker', 'market', 'markka', 'markup', 'marled', 'marler', 'marlin', 'marmit', 'marmot', 'maroon', 'marque', 'marree', 'marrer', 'marron', 'marrot', 'marrow', 'marshy', 'martel', 'marten', 'martin', 'martyr', 'marvel', 'marver', 'mascot', 'masdeu', 'mashal', 'masher', 'mashie', 'mashru', 'masjid', 'masked', 'masker', 'maslin', 'masque', 'massel', 'masser', 'massif', 'massoy', 'mastax', 'masted', 'master', 'mastic', 'mataco', 'matapi', 'matara', 'matchy', 'mately', 'mathes', 'matico', 'mating', 'matins', 'matipo', 'matlow', 'matral', 'matric', 'matris', 'matrix', 'matron', 'matted', 'matter', 'mature', 'matzos', 'maudle', 'mauger', 'mauler', 'mauley', 'maumet', 'maundy', 'maunge', 'maxima', 'maxixe', 'mayday', 'mayhap', 'mayhem', 'maypop', 'maysin', 'mayten', 'mazame', 'mazard', 'mazily', 'mazuca', 'mazuma', 'meable', 'meader', 'meadow', 'meager', 'meagre', 'mealer', 'meaned', 'meaner', 'meanly', 'measle', 'measly', 'meatal', 'meated', 'meatus', 'mecate', 'meddle', 'mediad', 'medial', 'median', 'medico', 'medimn', 'medino', 'medium', 'medius', 'medlar', 'medley', 'meebos', 'meeken', 'meekly', 'meered', 'meeten', 'meeter', 'meetly', 'megerg', 'megilp', 'megmho', 'megohm', 'megrim', 'mehari', 'mehtar', 'meinie', 'melada', 'melano', 'melder', 'melena', 'melene', 'meline', 'mellay', 'meller', 'mellit', 'mellon', 'mellow', 'melody', 'meloid', 'melosa', 'melted', 'melter', 'melton', 'member', 'memoir', 'memory', 'menace', 'menage', 'menald', 'mendee', 'mender', 'menhir', 'menial', 'meninx', 'mennom', 'mensal', 'menses', 'mental', 'mentor', 'mentum', 'menyie', 'menzie', 'mercal', 'mercer', 'merely', 'merger', 'meriah', 'merice', 'merism', 'merist', 'merkin', 'merlin', 'merlon', 'merman', 'merrow', 'mesail', 'mescal', 'meshed', 'mesiad', 'mesial', 'mesian', 'mesion', 'mesode', 'mesole', 'mespil', 'messan', 'messer', 'messet', 'messin', 'messor', 'messrs', 'mestee', 'mester', 'metage', 'metate', 'meteor', 'mether', 'methid', 'method', 'methyl', 'metier', 'metope', 'metria', 'metric', 'mettar', 'mettle', 'meward', 'mewler', 'mezcal', 'miamia', 'miasma', 'micate', 'micher', 'mickle', 'micron', 'midday', 'midden', 'middle', 'midget', 'midleg', 'midpit', 'midrib', 'midtap', 'midway', 'mighty', 'miglio', 'mignon', 'mihrab', 'mikado', 'milady', 'milchy', 'milden', 'milder', 'mildew', 'mildly', 'milieu', 'milium', 'milken', 'milker', 'milled', 'miller', 'millet', 'milner', 'milord', 'milsey', 'milsie', 'milter', 'mimbar', 'mimble', 'mimine', 'mimsey', 'mincer', 'minded', 'minder', 'minery', 'mingle', 'minhag', 'minhah', 'minify', 'minima', 'mining', 'minion', 'minish', 'minium', 'minnie', 'minnow', 'minter', 'minuet', 'minute', 'minyan', 'mirach', 'mirage', 'miragy', 'mirate', 'mirish', 'mirror', 'misact', 'misadd', 'misaim', 'miscue', 'miscut', 'misery', 'misfit', 'mishap', 'misken', 'mislay', 'misled', 'mispay', 'misput', 'missal', 'missay', 'missel', 'misset', 'missis', 'misted', 'mister', 'mistic', 'mistle', 'mistry', 'misura', 'misuse', 'miswed', 'mitome', 'mitral', 'mitrer', 'mitten', 'miurus', 'mixite', 'mizzen', 'mizzle', 'mizzly', 'mnemic', 'mnesic', 'mnioid', 'mobber', 'mobcap', 'mobile', 'mocker', 'mocuck', 'modena', 'modern', 'modest', 'modify', 'modish', 'modist', 'modius', 'module', 'modulo', 'mogdad', 'moggan', 'moguey', 'mohair', 'moider', 'moiety', 'moiler', 'moiles', 'moiley', 'moisty', 'moksha', 'molary', 'molave', 'molder', 'molest', 'moline', 'mollie', 'molman', 'moloid', 'molten', 'molter', 'mombin', 'momble', 'moment', 'momism', 'mommet', 'monase', 'monger', 'mongst', 'monial', 'monism', 'monist', 'monkey', 'monkly', 'monody', 'monoid', 'monont', 'monose', 'montem', 'monton', 'moocha', 'mooder', 'moodle', 'mooing', 'moolet', 'moolum', 'mooned', 'mooner', 'moonja', 'moorup', 'moosey', 'mooter', 'mopane', 'moping', 'mopish', 'mopper', 'moppet', 'morale', 'morals', 'morass', 'morate', 'morbid', 'moreen', 'morgan', 'morgay', 'morgen', 'morgue', 'morion', 'morkin', 'morlop', 'mormon', 'mormyr', 'morned', 'morong', 'morose', 'morris', 'morrow', 'morsal', 'morsel', 'mortal', 'mortar', 'morula', 'morule', 'morvin', 'mosaic', 'mosker', 'mosque', 'mossed', 'mosser', 'mostly', 'mothed', 'mother', 'motile', 'motion', 'motive', 'motley', 'motmot', 'motory', 'mottle', 'motyka', 'mouche', 'moudie', 'moujik', 'moulin', 'moundy', 'mouser', 'mousey', 'mousle', 'mousse', 'moutan', 'mouthy', 'mouton', 'mouzah', 'movant', 'moving', 'mowana', 'mowcht', 'mowing', 'mowrah', 'moyite', 'mozing', 'mucago', 'mucaro', 'muchly', 'mucker', 'mucket', 'muckle', 'muckna', 'mucksy', 'mucluc', 'mucoid', 'mucosa', 'mucose', 'mucous', 'mudcap', 'mudden', 'muddle', 'muermo', 'muffed', 'muffet', 'muffin', 'muffle', 'mugful', 'mugger', 'mugget', 'mukluk', 'muktar', 'mulder', 'muleta', 'mulier', 'mulish', 'mulism', 'mulita', 'mullah', 'mullar', 'muller', 'mullet', 'mulley', 'mullid', 'mulmul', 'multum', 'mumble', 'mummer', 'mumper', 'mundic', 'mundil', 'mundle', 'mungey', 'munity', 'munshi', 'muntin', 'murage', 'murchy', 'murder', 'murine', 'muriti', 'murium', 'murkly', 'murlin', 'murmur', 'murphy', 'murrey', 'muruxi', 'musang', 'muscat', 'muscid', 'muscle', 'muscly', 'muscot', 'musery', 'museum', 'mushaa', 'mushed', 'musher', 'mushla', 'mushru', 'musico', 'musily', 'musing', 'muskat', 'muskeg', 'musket', 'muskie', 'muslin', 'musnud', 'musrol', 'mussal', 'mussel', 'mussuk', 'mustee', 'muster', 'mustnt', 'mutage', 'mutant', 'mutase', 'mutate', 'mutely', 'mutiny', 'mutism', 'mutist', 'mutive', 'mutsje', 'mutter', 'mutton', 'mutual', 'mutule', 'mutuum', 'muyusa', 'muzhik', 'muzzle', 'mycele', 'mycoid', 'mycose', 'mydine', 'myelic', 'myelin', 'myelon', 'mygale', 'myitis', 'mykiss', 'myogen', 'myopia', 'myopic', 'myosin', 'myosis', 'myotic', 'myowun', 'myrcia', 'myriad', 'myrica', 'myrrhy', 'myrtal', 'myrtle', 'myrtol', 'myself', 'mysell', 'mysoid', 'mysost', 'mystax', 'mystes', 'mystic', 'mythos', 'mythus', 'myxoid', 'myxoma', 'myzont', 'nabber', 'nacket', 'nacred', 'nadder', 'nagana', 'nagara', 'nagger', 'naggin', 'naggle', 'naggly', 'nagman', 'nagnag', 'nagual', 'naiant', 'naifly', 'naigie', 'nailer', 'nakhod', 'nakong', 'nallah', 'namely', 'naming', 'nammad', 'nandow', 'nanism', 'nankin', 'nanoid', 'nanpie', 'nantle', 'napalm', 'napead', 'napery', 'napkin', 'napped', 'napper', 'napron', 'nardoo', 'nargil', 'narial', 'narica', 'narine', 'narras', 'narrow', 'nasard', 'nasial', 'nasion', 'nasrol', 'nastic', 'nasute', 'nataka', 'natals', 'natant', 'nather', 'nation', 'native', 'natron', 'natter', 'nattle', 'nature', 'nauger', 'naught', 'nausea', 'nautch', 'nautic', 'navite', 'nayaur', 'naysay', 'neanic', 'neaped', 'nearby', 'nearly', 'neaten', 'neatly', 'neback', 'nebbed', 'nebbuk', 'nebris', 'nebula', 'nebule', 'neckar', 'necked', 'necker', 'nectar', 'nedder', 'neebor', 'needer', 'needle', 'needly', 'neeger', 'neetup', 'nefast', 'negate', 'neiper', 'nekton', 'nelson', 'nephew', 'nepman', 'nepote', 'nerine', 'nerval', 'nerver', 'nervid', 'neshly', 'nester', 'nestle', 'netcha', 'netful', 'nether', 'netman', 'netted', 'netter', 'nettle', 'nettly', 'neumic', 'neurad', 'neural', 'neuric', 'neurin', 'neuron', 'neuter', 'nevoid', 'newcal', 'newing', 'newish', 'newton', 'nextly', 'niacin', 'nibbed', 'nibber', 'nibble', 'nibong', 'nicely', 'nicety', 'nicher', 'nickel', 'nicker', 'nickey', 'nickle', 'nicolo', 'nidana', 'niddle', 'nidget', 'nidify', 'niding', 'niello', 'niffer', 'nigger', 'niggle', 'niggly', 'nighly', 'nights', 'nignay', 'nignye', 'nigori', 'nilgai', 'nimbed', 'nimble', 'nimbly', 'nimbus', 'niminy', 'nimmer', 'nimshi', 'nincom', 'ninety', 'niobic', 'nipper', 'nipple', 'nipter', 'nirles', 'nisnas', 'nither', 'nitric', 'nitryl', 'nitter', 'nitwit', 'niyoga', 'nobber', 'nobble', 'nobbut', 'nobley', 'nobody', 'nocake', 'nocent', 'nocket', 'nodder', 'noddle', 'nodiak', 'nodose', 'nodous', 'nodule', 'noetic', 'nogada', 'noggen', 'noggin', 'noiler', 'nomial', 'nomina', 'nominy', 'nomism', 'nonact', 'nonage', 'nonaid', 'nonair', 'nonane', 'nonary', 'noncom', 'noncon', 'nonego', 'nonene', 'nonent', 'nonfat', 'nongas', 'nongod', 'nonion', 'nonius', 'nonnat', 'nonoic', 'nonpar', 'nonrun', 'nontan', 'nontax', 'nonuse', 'nonwar', 'noodle', 'nooked', 'nooser', 'norard', 'norate', 'norite', 'normal', 'norsel', 'nosean', 'nosine', 'nosing', 'nosism', 'nostic', 'notary', 'notate', 'notchy', 'nother', 'notice', 'notify', 'notion', 'notour', 'nougat', 'nought', 'nounal', 'novate', 'novcic', 'novena', 'novene', 'novice', 'novity', 'noways', 'nowhat', 'nowhen', 'nowhit', 'nowise', 'noyade', 'nozzle', 'nuance', 'nubbin', 'nubble', 'nubbly', 'nubile', 'nuchal', 'nuclei', 'nucule', 'nudate', 'nuddle', 'nudely', 'nudger', 'nudish', 'nudism', 'nudist', 'nudity', 'nuggar', 'nugget', 'nugify', 'nullah', 'number', 'numble', 'numbly', 'numdah', 'numero', 'nummus', 'nuncio', 'nuncle', 'nunlet', 'nurhag', 'nurser', 'nursle', 'nutant', 'nutate', 'nutlet', 'nutmeg', 'nutria', 'nutted', 'nutter', 'nuzzer', 'nuzzle', 'nyanza', 'nylast', 'nympha', 'oafdom', 'oafish', 'oaklet', 'oakweb', 'oarage', 'oarial', 'oarium', 'oarlop', 'oarman', 'oasean', 'oatbin', 'oatear', 'oathay', 'oathed', 'obeche', 'obeism', 'obelia', 'obelus', 'obeyer', 'obispo', 'object', 'objure', 'oblate', 'oblige', 'oblong', 'oboist', 'obolet', 'obolus', 'oboval', 'obsede', 'obsess', 'obtain', 'obtect', 'obtest', 'obtund', 'obtuse', 'obvert', 'occamy', 'occult', 'occupy', 'ocelli', 'ocelot', 'ochava', 'ochavo', 'ochery', 'ochone', 'ochrea', 'oclock', 'ocracy', 'octane', 'octant', 'octary', 'octave', 'octavo', 'octene', 'octine', 'octoad', 'octoic', 'octoid', 'octoon', 'octopi', 'octose', 'octoyl', 'octroi', 'octroy', 'octuor', 'octyne', 'ocular', 'oculus', 'oddish', 'oddity', 'oddman', 'odelet', 'odious', 'odored', 'odylic', 'oecist', 'offcut', 'offend', 'office', 'offing', 'offish', 'offlet', 'offset', 'oflete', 'oftens', 'oftest', 'ogaire', 'ogamic', 'ogdoad', 'ogdoas', 'ogival', 'ogived', 'ogress', 'ogrish', 'ogrism', 'ohmage', 'oilcan', 'oilcup', 'oildom', 'oilery', 'oilily', 'oillet', 'oilman', 'oilway', 'oitava', 'olamic', 'oldish', 'oleana', 'olease', 'oleate', 'olefin', 'olenid', 'oleose', 'oleous', 'olfact', 'oliban', 'olived', 'olivet', 'olivil', 'ollamh', 'ollock', 'olomao', 'omagra', 'omasum', 'omelet', 'omened', 'omitis', 'omnify', 'omnist', 'omnium', 'onager', 'onagra', 'oncome', 'oncost', 'ondine', 'onehow', 'oneism', 'oneyer', 'onfall', 'onflow', 'ongaro', 'oniony', 'onlepy', 'onlook', 'onrush', 'onside', 'onward', 'onycha', 'onymal', 'onyxis', 'oocyst', 'oocyte', 'oodles', 'oogamy', 'oogeny', 'ooglea', 'oogone', 'ooidal', 'oolite', 'oology', 'oolong', 'oorali', 'ootype', 'oozily', 'opaled', 'opaque', 'opelet', 'opener', 'openly', 'operae', 'ophite', 'opiate', 'opiism', 'opiner', 'oppose', 'oppugn', 'optant', 'optate', 'optics', 'optime', 'option', 'optive', 'opulus', 'oracle', 'oraler', 'orally', 'orange', 'orator', 'orbite', 'orblet', 'orcein', 'orchat', 'orchel', 'orchic', 'orchid', 'orchil', 'ordain', 'ordeal', 'ordure', 'oreman', 'orenda', 'orexis', 'orgasm', 'orgeat', 'orgiac', 'orgyia', 'orient', 'origan', 'origin', 'orihon', 'oriole', 'orison', 'orlean', 'ormolu', 'ornate', 'ornery', 'orogen', 'oroide', 'orphan', 'orpine', 'orrery', 'orthal', 'orthic', 'orthid', 'ortiga', 'ortive', 'osamin', 'oscine', 'oscule', 'osiery', 'osmate', 'osmina', 'osmium', 'osmose', 'osmous', 'osmund', 'osophy', 'osprey', 'ossein', 'ossify', 'osteal', 'ostein', 'ostent', 'ostial', 'ostium', 'otalgy', 'otiant', 'otiose', 'otitic', 'otitis', 'otosis', 'oturia', 'ouroub', 'ouster', 'outact', 'outage', 'outask', 'outawe', 'outban', 'outbar', 'outbeg', 'outbid', 'outbow', 'outbox', 'outbud', 'outbuy', 'outcry', 'outcut', 'outeat', 'outeye', 'outfit', 'outfly', 'outgas', 'outgun', 'outher', 'outhit', 'outhue', 'outhut', 'outing', 'outish', 'outjet', 'outjut', 'outlaw', 'outlay', 'outler', 'outlet', 'outlie', 'outlip', 'outman', 'outpay', 'outpop', 'outpry', 'output', 'outrap', 'outray', 'outrig', 'outrow', 'outrun', 'outsay', 'outsea', 'outsee', 'outset', 'outsin', 'outsit', 'outsum', 'outtop', 'outvie', 'outwar', 'outwit', 'outwoe', 'ovally', 'ovarin', 'ovated', 'ovenly', 'overby', 'overdo', 'overgo', 'overly', 'ovinia', 'ovisac', 'ovular', 'owelty', 'owerby', 'owldom', 'owlery', 'owling', 'owlish', 'owlism', 'oxacid', 'oxalan', 'oxalic', 'oxalyl', 'oxamic', 'oxamid', 'oxanic', 'oxbane', 'oxbird', 'oxcart', 'oxeate', 'oxeote', 'oxgang', 'oxgoad', 'oxhead', 'oxheal', 'oxhide', 'oxhoft', 'oxhorn', 'oxidic', 'oxland', 'oxlike', 'oxonic', 'oxreim', 'oxshoe', 'oxskin', 'oxtail', 'oxwort', 'oxygas', 'oxygen', 'oxymel', 'oyster', 'ozoned', 'ozonic', 'pabble', 'pacate', 'pacaya', 'pachak', 'pacify', 'packer', 'packet', 'packly', 'padder', 'paddle', 'padnag', 'paegel', 'paegle', 'pagina', 'pagoda', 'pagrus', 'paigle', 'pailou', 'pained', 'painty', 'paired', 'pairer', 'pajama', 'pajock', 'pakeha', 'palace', 'palama', 'palame', 'palate', 'palely', 'paletz', 'palgat', 'palila', 'paling', 'palish', 'palkee', 'pallae', 'pallah', 'palled', 'pallet', 'pallid', 'pallor', 'palmad', 'palmar', 'palmed', 'palmer', 'palmus', 'palolo', 'palpal', 'palped', 'palpon', 'palpus', 'palter', 'paltry', 'palule', 'pament', 'pampas', 'pamper', 'pampre', 'panace', 'panada', 'panade', 'panama', 'panary', 'pandal', 'pandan', 'pander', 'pandle', 'panela', 'panfil', 'panful', 'pangen', 'panisc', 'pankin', 'panman', 'panmug', 'pannam', 'pannel', 'panner', 'pannum', 'pannus', 'pantas', 'panter', 'pantie', 'pantle', 'pantod', 'panton', 'pantry', 'pantun', 'panung', 'panyar', 'papacy', 'papain', 'papane', 'papaya', 'papern', 'papery', 'papess', 'papion', 'papish', 'papism', 'papist', 'papize', 'pappox', 'pappus', 'papreg', 'papula', 'papule', 'papyri', 'paquet', 'parade', 'parado', 'parage', 'parale', 'paramo', 'parang', 'paraph', 'parate', 'parcel', 'parchy', 'pardao', 'parded', 'pardon', 'parent', 'parget', 'pariah', 'parial', 'parian', 'paries', 'parify', 'parine', 'paring', 'parish', 'parity', 'parkee', 'parker', 'parkin', 'parlay', 'parley', 'parlor', 'parmak', 'parnas', 'parnel', 'paroch', 'parode', 'parody', 'parole', 'paroli', 'parous', 'parpal', 'parrel', 'parrot', 'parsec', 'parser', 'parson', 'partan', 'parted', 'parter', 'partly', 'parure', 'parvis', 'pasang', 'passee', 'passen', 'passer', 'passir', 'passus', 'pasted', 'pastel', 'paster', 'pastil', 'pastor', 'pastry', 'pataca', 'pataco', 'pataka', 'patchy', 'patefy', 'patent', 'patera', 'patesi', 'pathed', 'pathic', 'pathos', 'patina', 'patine', 'patois', 'patola', 'patria', 'patrin', 'patrix', 'patrol', 'patron', 'pattee', 'patten', 'patter', 'paular', 'paulie', 'paulin', 'paunch', 'pauper', 'pausal', 'pauser', 'pavage', 'pavane', 'pavier', 'paving', 'pavior', 'pawing', 'pawnee', 'pawner', 'pawnie', 'pawnor', 'pawpaw', 'paxwax', 'payday', 'payeny', 'paying', 'paynim', 'payoff', 'payong', 'peachy', 'peacod', 'peahen', 'peaked', 'peaker', 'peanut', 'pearly', 'peasen', 'peason', 'peavey', 'pebble', 'pebbly', 'pecite', 'pecked', 'pecker', 'pecket', 'peckle', 'peckly', 'pecten', 'pectic', 'pectin', 'pectus', 'pedage', 'pedant', 'pedary', 'pedate', 'pedder', 'peddle', 'pedion', 'pedlar', 'pedule', 'peeled', 'peeler', 'peenge', 'peeper', 'peerie', 'peerly', 'peeved', 'peever', 'peewee', 'pegall', 'pegbox', 'pegged', 'pegger', 'peggle', 'peglet', 'pegman', 'peiser', 'pelage', 'pelean', 'pelick', 'pelike', 'peliom', 'pelite', 'pellar', 'pellas', 'peller', 'pellet', 'pelmet', 'pelota', 'pelter', 'peltry', 'peludo', 'pelves', 'pelvic', 'pelvis', 'penang', 'pencel', 'pencil', 'pendle', 'pendom', 'penful', 'penial', 'penide', 'penile', 'penman', 'pennae', 'penner', 'pennet', 'pennia', 'pennon', 'pensum', 'pentad', 'pentit', 'pentol', 'pentyl', 'penult', 'penury', 'people', 'pepful', 'pepino', 'peplos', 'peplum', 'peplus', 'pepper', 'peppin', 'pepsin', 'pepsis', 'peptic', 'peract', 'percha', 'percid', 'percur', 'perine', 'period', 'perish', 'perite', 'perkin', 'perlid', 'permit', 'pernor', 'pernyi', 'peroba', 'peroxy', 'perron', 'persis', 'person', 'perten', 'pertly', 'peruke', 'perula', 'perule', 'peruse', 'pesade', 'pesage', 'peseta', 'peshwa', 'pester', 'pestle', 'petaly', 'petard', 'petary', 'peteca', 'petful', 'petite', 'petkin', 'petrel', 'petrie', 'petrol', 'petted', 'petter', 'pettle', 'petune', 'pewage', 'pewdom', 'pewful', 'pewing', 'pewter', 'peyote', 'peyotl', 'peyton', 'phanic', 'pharos', 'phases', 'phasic', 'phasis', 'phasma', 'phemic', 'phenic', 'phenin', 'phenol', 'phenyl', 'phiale', 'phizes', 'phizog', 'phlegm', 'phloem', 'phobic', 'phocal', 'phocid', 'phoebe', 'pholad', 'phonal', 'phonic', 'phoria', 'phorid', 'phosis', 'phossy', 'photal', 'photic', 'photon', 'phrase', 'phrasy', 'phthor', 'phulwa', 'phylic', 'phylon', 'phylum', 'physic', 'phytic', 'phytin', 'phytol', 'phyton', 'phytyl', 'piacle', 'piaffe', 'pialyn', 'pianic', 'piazza', 'picara', 'picaro', 'picary', 'picene', 'picine', 'pickax', 'picked', 'pickee', 'picker', 'picket', 'pickle', 'pickup', 'picnic', 'picoid', 'picric', 'picrol', 'picryl', 'picuda', 'picudo', 'piddle', 'pidgin', 'piecen', 'piecer', 'piedly', 'pielet', 'pielum', 'piemag', 'pieman', 'piepan', 'pierce', 'pierid', 'pietas', 'pietic', 'piffle', 'pifine', 'pigdan', 'pigdom', 'pigeon', 'pigful', 'piggin', 'piggle', 'piglet', 'pigman', 'pignon', 'pignus', 'pignut', 'pigpen', 'pigsty', 'piitis', 'piking', 'pilage', 'pilary', 'pileus', 'pilfer', 'pilger', 'piline', 'piling', 'pillar', 'pillas', 'pilled', 'pillet', 'pillow', 'pilori', 'pilose', 'pilous', 'pilpul', 'pilula', 'pilule', 'pimola', 'pimple', 'pimplo', 'pimply', 'pinang', 'pincer', 'pinche', 'pinder', 'pineal', 'pinene', 'pinery', 'pingle', 'pingue', 'pining', 'pinion', 'pinite', 'pinjra', 'pinked', 'pinken', 'pinker', 'pinkie', 'pinkly', 'pinnae', 'pinnal', 'pinned', 'pinnel', 'pinner', 'pinnet', 'pinole', 'pintle', 'pinyon', 'pioted', 'piotty', 'pioury', 'pipage', 'pipery', 'piping', 'pipiri', 'pipkin', 'pipped', 'pipper', 'pippin', 'piquet', 'piquia', 'piqure', 'piracy', 'pirate', 'piraty', 'pirner', 'pirnie', 'pisaca', 'pisang', 'pistic', 'pistil', 'pistle', 'pistol', 'piston', 'pitaya', 'pitchi', 'pitchy', 'pithos', 'pitier', 'pitman', 'pitpan', 'pitpit', 'pitted', 'pitter', 'pituri', 'pizzle', 'placer', 'placet', 'placid', 'plagal', 'plague', 'plaguy', 'plaice', 'plaidy', 'plaint', 'plakat', 'planar', 'planch', 'planer', 'planet', 'planky', 'planta', 'plaque', 'plashy', 'plasma', 'platan', 'platch', 'platea', 'plated', 'platen', 'plater', 'platic', 'platty', 'player', 'pleach', 'please', 'pledge', 'pleion', 'plenty', 'plenum', 'pleura', 'plexal', 'plexor', 'plexus', 'pliant', 'plical', 'pliers', 'plight', 'plinth', 'plisky', 'plodge', 'plotty', 'plough', 'plouky', 'plover', 'plower', 'plucky', 'pluffy', 'pluggy', 'plumed', 'plumer', 'plumet', 'plummy', 'plumps', 'plumpy', 'plunge', 'plural', 'plushy', 'plying', 'pneuma', 'poachy', 'pochay', 'pocket', 'podded', 'podder', 'poddle', 'podeon', 'podger', 'podial', 'podite', 'podium', 'podler', 'podley', 'podsol', 'podzol', 'poemet', 'poesie', 'poesis', 'poetic', 'poetly', 'poetry', 'pogrom', 'pointy', 'poised', 'poiser', 'poison', 'pokily', 'poking', 'pokunt', 'polack', 'polder', 'poleax', 'poliad', 'police', 'policy', 'polish', 'polite', 'polity', 'pollam', 'pollan', 'polled', 'pollen', 'poller', 'pollex', 'polloi', 'pollux', 'polony', 'polska', 'polyad', 'polypi', 'pomace', 'pomade', 'pomane', 'pomate', 'pomato', 'pomelo', 'pommee', 'pommel', 'pommet', 'pommey', 'pompal', 'pompey', 'pompon', 'poncho', 'ponder', 'pondok', 'pondus', 'ponent', 'pongee', 'ponica', 'ponier', 'pontal', 'pontee', 'pontes', 'pontic', 'pontil', 'pontin', 'ponton', 'pooder', 'poodle', 'poogye', 'pookoo', 'pooler', 'poonac', 'poonga', 'pooped', 'poorly', 'popely', 'popery', 'popess', 'popeye', 'popgun', 'popify', 'popish', 'popjoy', 'poplar', 'poplin', 'poppel', 'popper', 'poppet', 'poppin', 'popple', 'popply', 'porger', 'poring', 'porism', 'porite', 'porker', 'porket', 'poroma', 'porose', 'porous', 'porret', 'portal', 'ported', 'porter', 'portia', 'portio', 'portly', 'porule', 'poseur', 'posing', 'posnet', 'posole', 'posset', 'possum', 'postal', 'posted', 'poster', 'postic', 'postil', 'potash', 'potass', 'potate', 'potato', 'potboy', 'potdar', 'poteen', 'potent', 'poteye', 'potful', 'potgun', 'pother', 'potion', 'potleg', 'potlid', 'potman', 'potong', 'potpie', 'pottah', 'potted', 'potter', 'pottle', 'poucer', 'poucey', 'pouchy', 'poulpe', 'pounce', 'pourer', 'pourie', 'pouser', 'pouter', 'powder', 'powdry', 'pownie', 'powwow', 'prabhu', 'praise', 'prajna', 'prance', 'prancy', 'pranky', 'pratal', 'prater', 'pratey', 'prawny', 'praxis', 'prayer', 'preach', 'preact', 'prearm', 'prebid', 'preces', 'precis', 'precox', 'precut', 'preday', 'predry', 'preeze', 'prefab', 'prefer', 'prefix', 'prelim', 'premix', 'prepay', 'presay', 'presee', 'preses', 'preset', 'presto', 'pretan', 'pretry', 'pretty', 'prevue', 'prewar', 'preyer', 'priced', 'pricer', 'pricks', 'pricky', 'priest', 'primal', 'primar', 'primer', 'primly', 'primus', 'prince', 'prinky', 'priory', 'prisal', 'prismy', 'prison', 'prissy', 'pritch', 'privet', 'prizer', 'probal', 'prober', 'profit', 'progne', 'proker', 'prolan', 'proleg', 'prolix', 'prolyl', 'promic', 'prompt', 'pronic', 'pronpl', 'pronto', 'proofy', 'proper', 'propyl', 'prosar', 'proser', 'prossy', 'protax', 'protea', 'proton', 'protyl', 'proved', 'proven', 'prover', 'prowar', 'prowed', 'pruner', 'prutah', 'prying', 'pryler', 'psalis', 'psalmy', 'pseudo', 'psiloi', 'psocid', 'psoric', 'psyche', 'psylla', 'pteric', 'ptinid', 'ptisan', 'ptosis', 'ptotic', 'ptyxis', 'pubble', 'pubian', 'public', 'pucker', 'puckle', 'puddee', 'pudder', 'puddle', 'puddly', 'pudent', 'pudsey', 'pueblo', 'puerer', 'puffed', 'puffer', 'puffin', 'pugged', 'pugger', 'puggle', 'pugman', 'puisne', 'pukeko', 'pukish', 'pukras', 'puling', 'pulish', 'pullen', 'puller', 'pullet', 'pulley', 'pullus', 'pulpal', 'pulper', 'pulpit', 'pulque', 'pulton', 'pulvic', 'pulvil', 'pulwar', 'pumice', 'pummel', 'pumper', 'pumple', 'punchy', 'pundit', 'pundum', 'puneca', 'pungar', 'punger', 'pungey', 'pungle', 'punily', 'punish', 'punjum', 'punkah', 'punkie', 'punlet', 'punner', 'punnet', 'punnic', 'puntal', 'puntel', 'punter', 'puntil', 'pupate', 'pupelo', 'pupoid', 'puppet', 'pupulo', 'purana', 'purdah', 'purely', 'purfle', 'purfly', 'purger', 'purify', 'purine', 'puriri', 'purism', 'purist', 'purity', 'purler', 'purlin', 'purple', 'purply', 'purree', 'purrel', 'purrer', 'pursed', 'purser', 'pursue', 'purvey', 'purvoe', 'pusher', 'putage', 'puteal', 'puther', 'putlog', 'putois', 'putrid', 'puttee', 'putter', 'puture', 'puzzle', 'pycnia', 'pycnid', 'pyelic', 'pyemia', 'pyemic', 'pygarg', 'pyjama', 'pyknic', 'pyosis', 'pyrena', 'pyrene', 'pyrgom', 'pyrite', 'pyroid', 'pyrone', 'pyrope', 'pyrrol', 'pyrryl', 'python', 'pyuria', 'qasida', 'qintar', 'quacky', 'quadra', 'quagga', 'quaggy', 'quahog', 'quaily', 'quaint', 'quaker', 'qualmy', 'quandy', 'quanta', 'quarle', 'quarry', 'quarto', 'quartz', 'quashy', 'quasky', 'quatch', 'quatre', 'quaver', 'queach', 'queasy', 'queery', 'queest', 'queeve', 'quelch', 'quench', 'quetch', 'quiapo', 'quiles', 'quilly', 'quince', 'quinch', 'quinia', 'quinic', 'quinin', 'quinoa', 'quinol', 'quinse', 'quinsy', 'quinte', 'quinto', 'quinyl', 'quinze', 'quippy', 'quirky', 'quisby', 'quisle', 'quitch', 'quiver', 'quizzy', 'quoits', 'quorum', 'quotee', 'quoter', 'quotha', 'quotum', 'raband', 'rabbet', 'rabbin', 'rabbit', 'rabble', 'rabies', 'raceme', 'rachis', 'racial', 'racily', 'racing', 'racism', 'racist', 'rackan', 'racker', 'racket', 'rackle', 'racoon', 'raddle', 'radial', 'radian', 'radish', 'radium', 'radius', 'radman', 'radome', 'radula', 'raffee', 'raffia', 'raffle', 'rafter', 'ragged', 'raggee', 'ragger', 'raggil', 'raggle', 'raging', 'raglan', 'raglet', 'raglin', 'ragman', 'ragout', 'ragtag', 'ragule', 'raguly', 'rahdar', 'raider', 'railer', 'railly', 'rainer', 'raioid', 'raised', 'raiser', 'raisin', 'rakery', 'rakily', 'raking', 'rakish', 'ramada', 'ramage', 'ramass', 'ramate', 'rambeh', 'ramble', 'rameal', 'rament', 'ramify', 'rammel', 'rammer', 'ramose', 'ramous', 'ramped', 'ramper', 'ramrod', 'ramsch', 'ramson', 'ramtil', 'ramule', 'rancel', 'rancer', 'ranche', 'rancho', 'rancid', 'rancor', 'randan', 'randem', 'rander', 'randir', 'randle', 'random', 'ranged', 'ranger', 'rangey', 'rangle', 'ranine', 'ranked', 'ranker', 'rankle', 'rankly', 'rannel', 'ransel', 'ransom', 'rantan', 'ranter', 'ranula', 'raphis', 'rapier', 'rapine', 'raping', 'rapist', 'rappel', 'rapper', 'raptly', 'raptor', 'raptus', 'rarefy', 'rarely', 'rarish', 'rarity', 'rasant', 'rascal', 'rasher', 'rashly', 'rasion', 'rasped', 'rasper', 'rassle', 'raster', 'rastik', 'rastle', 'rasure', 'rathed', 'rather', 'ratify', 'ratine', 'rating', 'ration', 'ratite', 'ratoon', 'rattan', 'ratten', 'ratter', 'rattle', 'rattly', 'ratton', 'raucid', 'raught', 'raukle', 'raunge', 'rauque', 'ravage', 'ravens', 'ravine', 'raving', 'ravish', 'rawish', 'rayage', 'rayful', 'raylet', 'razzia', 'razzly', 'reachy', 'reader', 'reagin', 'reales', 'really', 'realty', 'reamer', 'reaper', 'rearer', 'reason', 'reasty', 'reatus', 'reaver', 'reavow', 'reback', 'rebait', 'rebake', 'rebale', 'rebase', 'rebate', 'rebato', 'rebawl', 'rebear', 'rebeat', 'rebeck', 'rebend', 'rebias', 'rebill', 'rebind', 'rebite', 'reblot', 'reblow', 'reblue', 'reboil', 'rebold', 'rebolt', 'rebone', 'rebook', 'rebore', 'reborn', 'rebrew', 'rebuff', 'rebuke', 'rebulk', 'rebuoy', 'reburn', 'rebury', 'rebush', 'rebusy', 'rebute', 'recage', 'recalk', 'recall', 'recant', 'recart', 'recase', 'recash', 'recast', 'recede', 'recent', 'recept', 'recess', 'rechal', 'rechar', 'rechaw', 'rechew', 'rechip', 'recipe', 'recite', 'reckla', 'reckon', 'recoal', 'recoat', 'recock', 'recoct', 'recode', 'recoil', 'recoin', 'recoke', 'recomb', 'recook', 'recool', 'recopy', 'record', 'recork', 'recoup', 'recrew', 'recrop', 'rectal', 'rector', 'rectum', 'rectus', 'recure', 'recurl', 'recuse', 'redact', 'redare', 'redarn', 'redart', 'redate', 'redaub', 'redawn', 'redbud', 'redcap', 'redden', 'redder', 'redeal', 'redeck', 'redeed', 'redeem', 'redefy', 'redeny', 'redeye', 'redfin', 'redive', 'redleg', 'redock', 'redoom', 'redowa', 'redrag', 'redraw', 'redtab', 'redtop', 'reduce', 'reduct', 'reechy', 'reeded', 'reeden', 'reeder', 'reefer', 'reeker', 'reeled', 'reeler', 'reenge', 'reeper', 'reesle', 'reesty', 'reetam', 'reetle', 'reface', 'refall', 'refect', 'refeed', 'refeel', 'refill', 'refilm', 'refind', 'refine', 'refire', 'reflag', 'reflee', 'reflex', 'reflog', 'reflow', 'reflux', 'refold', 'refont', 'refool', 'refoot', 'reford', 'reform', 'refuel', 'refuge', 'refund', 'refurl', 'refuse', 'refute', 'regain', 'regale', 'regard', 'regent', 'regift', 'regild', 'regill', 'regime', 'region', 'regive', 'reglet', 'reglow', 'reglue', 'regnal', 'regret', 'regrip', 'regrow', 'regula', 'reguli', 'regush', 'rehair', 'rehale', 'rehang', 'reharm', 'rehash', 'rehaul', 'rehead', 'reheal', 'reheap', 'rehear', 'reheat', 'reheel', 'rehood', 'rehook', 'rehoop', 'rehung', 'reiter', 'reiver', 'rejail', 'reject', 'rejerk', 'rejoin', 'rejolt', 'rekick', 'rekill', 'reking', 'rekiss', 'reknit', 'reknow', 'relace', 'relade', 'relais', 'relamp', 'reland', 'relast', 'relata', 'relate', 'relbun', 'relead', 'releap', 'relend', 'relent', 'relevy', 'relick', 'relict', 'relief', 'relier', 'relift', 'relime', 'reline', 'relink', 'relish', 'relist', 'relive', 'reload', 'reloan', 'relock', 'relook', 'relose', 'relost', 'relove', 'reluct', 'relume', 'remade', 'remail', 'remain', 'remake', 'remand', 'remark', 'remask', 'remass', 'remast', 'remble', 'remede', 'remedy', 'remeet', 'remelt', 'remend', 'remica', 'remill', 'remind', 'remint', 'remise', 'remiss', 'remock', 'remold', 'remora', 'remord', 'remote', 'remove', 'renail', 'rename', 'render', 'renege', 'renish', 'rennet', 'rennin', 'renown', 'rental', 'rented', 'rentee', 'renter', 'renvoi', 'renvoy', 'reomit', 'reopen', 'repace', 'repack', 'repage', 'repair', 'repale', 'repand', 'repark', 'repass', 'repast', 'repave', 'repawn', 'repeal', 'repeat', 'repent', 'repick', 'repile', 'repine', 'repipe', 'repkie', 'replan', 'replay', 'replod', 'replot', 'replow', 'replum', 'repoll', 'repone', 'repope', 'report', 'repose', 'repost', 'repour', 'repped', 'repray', 'repuff', 'repugn', 'repump', 'repute', 'requin', 'requit', 'requiz', 'rerack', 'rerail', 'rerake', 'rerank', 'rerate', 'reread', 'rereel', 'rerent', 'rering', 'rerise', 'rerobe', 'reroll', 'reroof', 'reroot', 'rerope', 'resaca', 'resack', 'resail', 'resale', 'resalt', 'rescan', 'rescue', 'reseal', 'reseam', 'reseat', 'resect', 'reseda', 'reseed', 'reseek', 'reself', 'resell', 'resend', 'resene', 'resent', 'reship', 'reshoe', 'reshun', 'reshut', 'reside', 'resift', 'resigh', 'resign', 'resile', 'resina', 'resing', 'resink', 'resiny', 'resist', 'resize', 'reskin', 'reslay', 'reslot', 'resnap', 'resnub', 'resoak', 'resoap', 'resoil', 'resole', 'resorb', 'resort', 'respan', 'respin', 'respot', 'respue', 'restem', 'restep', 'rester', 'restes', 'restir', 'restis', 'restow', 'resuck', 'resuit', 'result', 'resume', 'reswim', 'retack', 'retail', 'retain', 'retake', 'retalk', 'retama', 'retame', 'retape', 'retard', 'retare', 'retell', 'retene', 'retent', 'retest', 'rethaw', 'retial', 'retier', 'retile', 'retill', 'retime', 'retina', 'retire', 'retold', 'retomb', 'retook', 'retool', 'retort', 'retoss', 'retour', 'retrad', 'retral', 'retree', 'retrim', 'retrip', 'retrot', 'retrue', 'retted', 'retter', 'retube', 'retuck', 'retune', 'returf', 'return', 'retuse', 'retype', 'reurge', 'revamp', 'revary', 'reveal', 'reveil', 'revend', 'revent', 'reverb', 'revere', 'revers', 'revert', 'revery', 'revest', 'revete', 'review', 'revile', 'revise', 'revive', 'revoke', 'revolt', 'revote', 'rewade', 'rewake', 'rewall', 'reward', 'rewarm', 'rewarn', 'rewash', 'rewave', 'rewear', 'reweld', 'rewend', 'rewind', 'rewire', 'rewish', 'rewood', 'reword', 'rework', 'rewove', 'rewrap', 'reyoke', 'rhagon', 'rhason', 'rhebok', 'rhesus', 'rhetor', 'rheumy', 'rhexis', 'rhinal', 'rhodic', 'rhumba', 'rhymer', 'rhymic', 'rhythm', 'rhyton', 'riancy', 'ribald', 'riband', 'ribbed', 'ribber', 'ribbet', 'ribble', 'ribbon', 'riblet', 'ribose', 'richen', 'riches', 'richly', 'ricine', 'ricker', 'rickey', 'rickle', 'ricrac', 'rictal', 'rictus', 'riddam', 'riddel', 'ridden', 'ridder', 'riddle', 'rideau', 'rident', 'ridged', 'ridgel', 'ridger', 'ridgil', 'riding', 'rifely', 'riffle', 'rifler', 'rifter', 'rigger', 'riggot', 'righto', 'righty', 'rignum', 'rigsby', 'riksha', 'rilawa', 'rillet', 'rimate', 'rimmed', 'rimmer', 'rimose', 'rimous', 'rimple', 'rimula', 'rincon', 'rinded', 'rindle', 'ringed', 'ringer', 'ringle', 'rinker', 'rinner', 'rinser', 'rioter', 'riotry', 'ripely', 'ripgut', 'ripier', 'ripost', 'ripper', 'rippet', 'rippit', 'ripple', 'ripply', 'rippon', 'riprap', 'ripsaw', 'risala', 'rising', 'risker', 'risper', 'risque', 'rissel', 'risser', 'rissle', 'ritual', 'rivage', 'rivell', 'rivery', 'riving', 'rivose', 'rizzar', 'rizzle', 'rizzom', 'roaded', 'roader', 'roamer', 'roarer', 'robalo', 'roband', 'robber', 'robbin', 'roberd', 'robing', 'robomb', 'robust', 'rocher', 'rochet', 'rocker', 'rocket', 'rococo', 'roddin', 'rodent', 'rodham', 'roding', 'rodlet', 'rodman', 'rodney', 'roggle', 'rohuna', 'rolled', 'roller', 'rolley', 'rollix', 'rombos', 'romero', 'romper', 'roncet', 'rondel', 'rondle', 'ronyon', 'roodle', 'roofer', 'rooker', 'rookie', 'roomed', 'roomer', 'roomie', 'roomth', 'rooted', 'rooter', 'rootle', 'ropery', 'ropily', 'roping', 'ropish', 'roquer', 'roquet', 'rosary', 'roscid', 'roseal', 'rosery', 'rosety', 'rosied', 'rosier', 'rosily', 'rosiny', 'rosoli', 'rosser', 'rostel', 'roster', 'rostra', 'rotang', 'rotary', 'rotate', 'rotgut', 'rother', 'rottan', 'rotten', 'rotter', 'rottle', 'rotula', 'rotund', 'roucou', 'roughy', 'rounce', 'rouncy', 'roundy', 'rouper', 'roupet', 'roupit', 'rouser', 'router', 'routhy', 'roving', 'rowing', 'rowlet', 'royale', 'rubato', 'rubbed', 'rubber', 'rubble', 'rubbly', 'rubied', 'rubify', 'rubine', 'rublis', 'rubric', 'rucker', 'ruckle', 'ruckus', 'rudder', 'ruddle', 'rudely', 'rudish', 'rudity', 'rueful', 'ruelle', 'ruffed', 'ruffer', 'ruffin', 'ruffle', 'ruffly', 'rufous', 'rufter', 'rugate', 'rugged', 'ruggle', 'rugosa', 'rugose', 'rugous', 'ruined', 'ruiner', 'ruling', 'ruller', 'rumble', 'rumbly', 'rumkin', 'rummer', 'rumney', 'rumpad', 'rumple', 'rumply', 'rumpus', 'rundle', 'runite', 'runkle', 'runkly', 'runlet', 'runman', 'runnel', 'runner', 'runnet', 'runoff', 'runout', 'runrig', 'runted', 'runtee', 'runway', 'rupiah', 'rupial', 'rurban', 'rushed', 'rushen', 'rusher', 'rusine', 'ruskin', 'russel', 'russet', 'russia', 'russud', 'rustic', 'rustle', 'rustly', 'rustre', 'ruswut', 'rutate', 'ruther', 'rutile', 'ruttee', 'rutter', 'ryania', 'rypeck', 'sabalo', 'sabbat', 'sabeca', 'sabicu', 'sabina', 'sabine', 'sabino', 'sabora', 'saccos', 'saccus', 'sachem', 'sachet', 'sacked', 'sacken', 'sacker', 'sacope', 'sacque', 'sacrad', 'sacral', 'sacred', 'sacrum', 'sadden', 'saddik', 'saddle', 'sadism', 'sadist', 'saeter', 'saeume', 'safari', 'safely', 'safety', 'sagaie', 'sagely', 'sagene', 'sagger', 'saggon', 'saging', 'sagoin', 'sailed', 'sailer', 'sailor', 'sairly', 'sairve', 'saithe', 'sakeen', 'sakieh', 'salaam', 'salago', 'salamo', 'salary', 'salele', 'salema', 'salify', 'salina', 'saline', 'salite', 'saliva', 'sallee', 'sallet', 'salloo', 'sallow', 'salmis', 'salmon', 'saloon', 'saloop', 'salted', 'saltee', 'salten', 'salter', 'saltly', 'saltus', 'saluki', 'salung', 'salute', 'salver', 'salvor', 'samadh', 'samara', 'sambal', 'sambar', 'sambuk', 'samekh', 'samely', 'samiel', 'samiri', 'samite', 'samlet', 'sammel', 'sammer', 'sampan', 'sample', 'samshu', 'samson', 'sancho', 'sancta', 'sandak', 'sandal', 'sandan', 'sanded', 'sander', 'sandhi', 'sandix', 'sanely', 'sangar', 'sangei', 'sanger', 'sangha', 'sanies', 'sanify', 'sanity', 'sanjak', 'sankha', 'sannup', 'sansei', 'santal', 'santir', 'santon', 'sapful', 'saphie', 'sapota', 'sapote', 'sapper', 'saraad', 'sarcle', 'sardel', 'sargus', 'sarkar', 'sarkit', 'sarlak', 'sarlyk', 'sarong', 'sarraf', 'sarsen', 'sartor', 'sarwan', 'sasani', 'sashay', 'sasine', 'satang', 'satara', 'sateen', 'satine', 'satiny', 'satire', 'satrap', 'satron', 'sattle', 'sattva', 'satura', 'saucer', 'sauger', 'saulie', 'saumon', 'sauqui', 'saurel', 'savacu', 'savage', 'savant', 'saving', 'savior', 'savola', 'savory', 'savour', 'sawali', 'sawbwa', 'sawder', 'sawfly', 'sawing', 'sawish', 'sawman', 'sawmon', 'sawney', 'sawway', 'sawyer', 'saxten', 'saxtie', 'saying', 'sblood', 'scabby', 'scabid', 'scalar', 'scaldy', 'scaled', 'scaler', 'scales', 'scalma', 'scanty', 'scapel', 'scapha', 'scapus', 'scarab', 'scarce', 'scarer', 'scarfy', 'scarid', 'scarry', 'scarth', 'scarus', 'scatch', 'scathe', 'scatty', 'scavel', 'scazon', 'scenic', 'scerne', 'schanz', 'scharf', 'schema', 'scheme', 'schemy', 'schene', 'scherm', 'schism', 'schist', 'schola', 'schone', 'school', 'schoon', 'schorl', 'schout', 'schuhe', 'schuit', 'schule', 'schuss', 'schute', 'scient', 'scious', 'sclaff', 'sclate', 'sclera', 'sclere', 'scliff', 'sclimb', 'scobby', 'scolex', 'scolia', 'scolog', 'sconce', 'scopet', 'scopic', 'scorch', 'scored', 'scorer', 'scoria', 'scorny', 'scorse', 'scotch', 'scoter', 'scotia', 'scouch', 'scoury', 'scouse', 'scouth', 'scovel', 'scrabe', 'scrank', 'scrape', 'scrapy', 'scrath', 'scrawk', 'scrawl', 'scrawm', 'scraze', 'screak', 'scream', 'screed', 'screek', 'screel', 'screen', 'screet', 'screve', 'screwy', 'scribe', 'scride', 'scrike', 'scrime', 'scrimp', 'scrine', 'script', 'scrive', 'scrobe', 'scroff', 'scroll', 'scroop', 'scrota', 'scrout', 'scruff', 'scruft', 'scrump', 'scrunt', 'scrush', 'scruto', 'scruze', 'scryer', 'scuddy', 'scuffy', 'sculch', 'sculpt', 'sculsh', 'scummy', 'scurdy', 'scurfy', 'scurry', 'scurvy', 'scutal', 'scutch', 'scutel', 'scutty', 'scutum', 'scypha', 'scyphi', 'scythe', 'sdeath', 'seadog', 'sealch', 'sealed', 'sealer', 'sealet', 'seaman', 'seamed', 'seamer', 'seance', 'searce', 'search', 'seared', 'searer', 'season', 'seated', 'seater', 'seathe', 'seaway', 'sebait', 'sebate', 'sebkha', 'secant', 'secede', 'secern', 'secesh', 'secohm', 'second', 'secpar', 'secque', 'secret', 'sector', 'secund', 'secure', 'sedate', 'sedent', 'sedged', 'sedile', 'seduce', 'seduct', 'seeded', 'seeder', 'seeing', 'seeker', 'seemer', 'seemly', 'seenie', 'seeped', 'seesaw', 'seesee', 'seethe', 'seggar', 'segged', 'seiche', 'seidel', 'seiner', 'seizer', 'seizin', 'seizor', 'sejant', 'sejoin', 'seldom', 'seldor', 'select', 'selfly', 'selion', 'sellar', 'seller', 'sellie', 'selsyn', 'semble', 'semeed', 'semeia', 'semese', 'semify', 'semita', 'semmet', 'semmit', 'semola', 'semsem', 'senary', 'senate', 'sendal', 'sendee', 'sender', 'senega', 'senile', 'senior', 'sennet', 'sennit', 'sensal', 'sensed', 'sensor', 'sensum', 'sentry', 'sephen', 'sepian', 'sepion', 'sepium', 'sepone', 'sepsis', 'septal', 'septan', 'septet', 'septic', 'septum', 'sequel', 'sequin', 'serail', 'serang', 'serape', 'seraph', 'serdab', 'serene', 'serger', 'serial', 'series', 'serine', 'sermon', 'seroon', 'seroot', 'serosa', 'serous', 'serran', 'sertum', 'serval', 'server', 'servet', 'sesame', 'sesqui', 'sestet', 'setier', 'setoff', 'setose', 'setous', 'setout', 'settee', 'setter', 'settle', 'setula', 'setule', 'severe', 'severy', 'sewage', 'sewery', 'sewing', 'sexern', 'sexfid', 'sextan', 'sextar', 'sextet', 'sextic', 'sexton', 'sextry', 'sexual', 'shabby', 'shacky', 'shaded', 'shader', 'shadow', 'shafty', 'shaggy', 'shahin', 'shaikh', 'shaken', 'shaker', 'shakha', 'shakti', 'shallu', 'shalom', 'shamal', 'shaman', 'shamba', 'shamed', 'shamer', 'shamir', 'shammy', 'shandy', 'shanna', 'shanny', 'shansa', 'shanty', 'shaped', 'shapen', 'shaper', 'shardy', 'sharer', 'sharky', 'sharny', 'sharps', 'sharpy', 'sharry', 'shatan', 'shaugh', 'shauri', 'shauwe', 'shaved', 'shavee', 'shaven', 'shaver', 'shawny', 'sheafy', 'sheard', 'shears', 'sheath', 'sheave', 'sheder', 'sheely', 'sheeny', 'sheepy', 'sheety', 'shekel', 'shelfy', 'shelly', 'shelta', 'shelty', 'shelve', 'shelvy', 'sherif', 'sherry', 'sheugh', 'shevel', 'shevri', 'shewel', 'sheyle', 'shibah', 'shibar', 'shicer', 'shield', 'shiest', 'shifty', 'shikar', 'shikra', 'shilfa', 'shilla', 'shimal', 'shimmy', 'shindy', 'shiner', 'shinny', 'shinty', 'shinza', 'shippo', 'shippy', 'shirky', 'shirty', 'shiver', 'shivey', 'shivoo', 'shoaly', 'shoddy', 'shoder', 'shoful', 'shogun', 'shohet', 'shoofa', 'shoppe', 'shoppy', 'shoran', 'shored', 'shorer', 'shorts', 'shotty', 'should', 'shoval', 'shovel', 'shover', 'shower', 'showup', 'shradh', 'shrank', 'shrave', 'shrend', 'shrewd', 'shriek', 'shrift', 'shrike', 'shrill', 'shrimp', 'shrine', 'shrink', 'shrite', 'shrive', 'shroff', 'shroud', 'shrove', 'shruff', 'shrunk', 'shrups', 'shucks', 'shuler', 'shumac', 'shyish', 'sialic', 'sialid', 'sibbed', 'sibber', 'sicken', 'sicker', 'sickle', 'sickly', 'sicsac', 'sicula', 'sidder', 'siddur', 'siding', 'sidler', 'sieger', 'sienna', 'sierra', 'siesta', 'siever', 'sifaka', 'siffle', 'sifted', 'sifter', 'sigger', 'sigher', 'sighty', 'siglos', 'signal', 'signee', 'signer', 'signet', 'signum', 'sikhra', 'silage', 'silane', 'sileni', 'silent', 'silica', 'silico', 'silked', 'silken', 'silker', 'silkie', 'sillar', 'siller', 'sillon', 'silvan', 'silver', 'simbil', 'simiad', 'simial', 'simian', 'simile', 'simity', 'simkin', 'simlin', 'simmer', 'simmon', 'simnel', 'simony', 'simool', 'simoom', 'simoon', 'simous', 'simpai', 'simper', 'simple', 'simply', 'simsim', 'simson', 'sinawa', 'sinder', 'sindle', 'sindoc', 'sindon', 'sindry', 'sinewy', 'sinful', 'singed', 'singer', 'singey', 'single', 'singly', 'sinker', 'sinnen', 'sinner', 'sinnet', 'sinter', 'sintoc', 'sipage', 'siphon', 'siping', 'sipper', 'sippet', 'sippio', 'sircar', 'sirdar', 'sirene', 'sireny', 'siress', 'sirian', 'sirpea', 'sirple', 'sirrah', 'sirree', 'sirupy', 'sisham', 'siskin', 'sissoo', 'sister', 'sistle', 'sittee', 'sitten', 'sitter', 'situal', 'situla', 'siwash', 'sixain', 'sizing', 'sizzle', 'skance', 'skater', 'skedge', 'skeely', 'skeery', 'skeigh', 'skeily', 'skeipp', 'skelic', 'skelly', 'skerry', 'sketch', 'skewed', 'skewer', 'skewly', 'skibby', 'skiddy', 'skiing', 'skilly', 'skilts', 'skimpy', 'skinch', 'skinny', 'skippy', 'skirty', 'skiter', 'skitty', 'skiver', 'sklate', 'sklent', 'skrike', 'skully', 'skunky', 'skybal', 'skyful', 'skyish', 'skyman', 'skyway', 'slabby', 'slaggy', 'slaker', 'slangy', 'slarth', 'slashy', 'slatch', 'slater', 'slaved', 'slaver', 'slavey', 'slayer', 'sleave', 'sleazy', 'sledge', 'sleech', 'sleeky', 'sleepy', 'sleety', 'sleeve', 'sleigh', 'slepez', 'sleuth', 'slewed', 'slewer', 'sleyer', 'sliced', 'slicer', 'slicht', 'slided', 'slider', 'slight', 'slimer', 'slimly', 'slimsy', 'slinge', 'slinky', 'slippy', 'slitch', 'slithy', 'slitty', 'sliver', 'slobby', 'slodge', 'slogan', 'sloomy', 'sloosh', 'sloped', 'sloper', 'sloppy', 'sloshy', 'sloted', 'slouch', 'slough', 'sloush', 'sloven', 'slowly', 'slubby', 'sludge', 'sludgy', 'sluggy', 'sluice', 'sluicy', 'slummy', 'slumpy', 'slunge', 'slurry', 'slushy', 'slutch', 'slutty', 'slyish', 'smalls', 'smally', 'smalts', 'smarmy', 'smarty', 'smeary', 'smeech', 'smeeky', 'smeeth', 'smegma', 'smelly', 'smethe', 'smeuse', 'smidge', 'smilax', 'smiler', 'smilet', 'smirch', 'smiris', 'smirky', 'smitch', 'smiter', 'smithy', 'smoked', 'smoker', 'smooch', 'smooth', 'smouch', 'smouse', 'smriti', 'smudge', 'smudgy', 'smugly', 'smurry', 'smutch', 'smutty', 'snaggy', 'snails', 'snaily', 'snaith', 'snaker', 'snaper', 'snapps', 'snappy', 'snarer', 'snarly', 'snaste', 'snatch', 'snathe', 'snavel', 'sneaky', 'sneath', 'sneery', 'sneesh', 'sneest', 'sneeze', 'sneezy', 'snelly', 'snibel', 'sniffy', 'snifty', 'sniper', 'snippy', 'snitch', 'snithe', 'snithy', 'snivel', 'snobby', 'snodly', 'snoopy', 'snoose', 'snooty', 'snoove', 'snooze', 'snoozy', 'snorer', 'snorty', 'snotty', 'snouch', 'snouty', 'snowie', 'snubby', 'snudge', 'snuffy', 'snugly', 'snurly', 'snying', 'soaked', 'soaken', 'soaker', 'soally', 'soaper', 'soarer', 'sobber', 'sobeit', 'sobful', 'socage', 'soccer', 'social', 'socius', 'socker', 'socket', 'socman', 'sodaic', 'sodded', 'sodden', 'sodium', 'sodoku', 'sodomy', 'soekoe', 'soever', 'sofane', 'soffit', 'soften', 'softly', 'soiled', 'soiree', 'solace', 'solate', 'soldan', 'solder', 'soleas', 'soleil', 'solely', 'solemn', 'solent', 'soleus', 'soleyn', 'solidi', 'solist', 'sollar', 'solodi', 'soloth', 'solute', 'solver', 'somata', 'somber', 'sombre', 'somers', 'somite', 'somnus', 'sompay', 'sompne', 'sonant', 'sonata', 'soneri', 'songle', 'soniou', 'sonnet', 'sontag', 'soodle', 'soodly', 'sooner', 'soonly', 'sooter', 'soothe', 'sophia', 'sophic', 'sopite', 'sopper', 'sorage', 'sorbic', 'sorbin', 'sorbus', 'sorcer', 'sordes', 'sordid', 'sordor', 'sorely', 'sorema', 'sorgho', 'sorite', 'sorner', 'sorose', 'sorrel', 'sorroa', 'sorrow', 'sortal', 'sorted', 'sorter', 'sortie', 'sortly', 'soshed', 'sossle', 'sotnia', 'sotnik', 'sotted', 'sotter', 'souari', 'soucar', 'souchy', 'sought', 'souled', 'souper', 'souple', 'source', 'soured', 'souren', 'sourer', 'sourly', 'souser', 'souter', 'soviet', 'sovite', 'sovran', 'sowans', 'sowens', 'sowing', 'sowins', 'sowlth', 'sozzle', 'sozzly', 'spaced', 'spacer', 'spaded', 'spader', 'spadix', 'spandy', 'spanky', 'sparch', 'sparer', 'sparge', 'sparid', 'sparks', 'sparky', 'sparry', 'sparse', 'sparth', 'spatha', 'spathe', 'spaver', 'spavie', 'spavin', 'spawny', 'spayad', 'speary', 'specie', 'specks', 'specky', 'specus', 'speech', 'speedy', 'speiss', 'speltz', 'spence', 'spense', 'sperma', 'spermy', 'spetch', 'spewer', 'sphene', 'sphere', 'sphery', 'sphinx', 'spical', 'spiced', 'spicer', 'spider', 'spiffy', 'spigot', 'spiked', 'spiker', 'spiler', 'spilly', 'spilth', 'spilus', 'spinae', 'spinal', 'spined', 'spinel', 'spinet', 'spiral', 'spiran', 'spirea', 'spired', 'spirit', 'spital', 'splash', 'spleen', 'spleet', 'splice', 'spline', 'splint', 'splore', 'splosh', 'splurt', 'spoach', 'spoffy', 'spogel', 'spoilt', 'spoken', 'spolia', 'sponge', 'spongy', 'spooky', 'spoony', 'sporal', 'spored', 'sporid', 'sports', 'sporty', 'sposhy', 'spotty', 'spouse', 'spousy', 'spouty', 'sprack', 'sprain', 'sprang', 'sprank', 'sprawl', 'spread', 'spreng', 'sprent', 'sprewl', 'spried', 'sprier', 'spring', 'sprink', 'sprint', 'sprite', 'sproat', 'sproil', 'sprong', 'sprose', 'sprout', 'spruce', 'spruer', 'spruit', 'sprung', 'sprunt', 'spryly', 'spuddy', 'spunky', 'spunny', 'spurge', 'spurry', 'sputum', 'spydom', 'spyism', 'squail', 'squall', 'squalm', 'squama', 'squame', 'square', 'squark', 'squary', 'squash', 'squawk', 'squdge', 'squdgy', 'squeak', 'squeal', 'squeam', 'squint', 'squire', 'squirk', 'squirm', 'squirr', 'squirt', 'squish', 'squoze', 'squush', 'stable', 'stably', 'staboy', 'stacte', 'stadda', 'stadia', 'stadic', 'staged', 'stager', 'staggy', 'stairy', 'staith', 'staker', 'stalko', 'stalky', 'stamen', 'stamin', 'stance', 'stanch', 'stanno', 'stanza', 'stanze', 'stapes', 'staple', 'starch', 'staree', 'starer', 'starky', 'starry', 'starty', 'starve', 'starvy', 'stases', 'stasis', 'statal', 'stated', 'stater', 'static', 'stator', 'statue', 'status', 'staver', 'staxis', 'stayed', 'stayer', 'steady', 'stealy', 'steamy', 'steely', 'steepy', 'steeve', 'steigh', 'stekan', 'stelae', 'stelai', 'stelar', 'stella', 'stemma', 'stemmy', 'stenar', 'stench', 'stenog', 'steppe', 'stereo', 'steric', 'sterin', 'sterna', 'sterol', 'sterve', 'stetch', 'stevel', 'steven', 'stevia', 'stewed', 'stibic', 'sticks', 'sticky', 'stiddy', 'stifle', 'stigma', 'stigme', 'stilet', 'stilly', 'stilty', 'stinge', 'stingo', 'stingy', 'stinty', 'stiped', 'stipel', 'stipes', 'stirps', 'stirra', 'stitch', 'stithy', 'stiver', 'stoach', 'stocah', 'stocks', 'stocky', 'stodge', 'stodgy', 'stogie', 'stoker', 'stolae', 'stoled', 'stolen', 'stolid', 'stolon', 'stoned', 'stonen', 'stoner', 'stooge', 'stoond', 'stoory', 'stoper', 'storax', 'storer', 'storge', 'stormy', 'stound', 'stoury', 'stoush', 'stouth', 'stouty', 'stoven', 'stover', 'stowce', 'stower', 'strack', 'stract', 'strade', 'stradl', 'strafe', 'straik', 'strain', 'strait', 'strake', 'straky', 'stramp', 'strand', 'strang', 'strany', 'strass', 'strata', 'strath', 'strati', 'strave', 'strawy', 'streak', 'stream', 'streck', 'streek', 'streel', 'streen', 'streep', 'street', 'streke', 'streng', 'strent', 'stress', 'strewn', 'striae', 'strial', 'strich', 'strick', 'strict', 'stride', 'strife', 'striga', 'strike', 'strind', 'string', 'stripe', 'stript', 'stripy', 'strive', 'stroam', 'strode', 'stroil', 'stroke', 'stroky', 'strold', 'stroll', 'stroma', 'stromb', 'strome', 'strone', 'strong', 'strook', 'stroot', 'stroth', 'stroud', 'stroup', 'strove', 'strowd', 'strown', 'struck', 'struma', 'strung', 'strunt', 'struth', 'strych', 'stubby', 'stuber', 'stuboy', 'stucco', 'studia', 'studio', 'stuffy', 'stuggy', 'stumer', 'stummy', 'stumpy', 'stunty', 'stupex', 'stupid', 'stupor', 'sturdy', 'styful', 'stylar', 'styler', 'stylet', 'stylus', 'stymie', 'styrax', 'styrol', 'styryl', 'stythe', 'suable', 'suably', 'subact', 'subage', 'subaid', 'subaud', 'subdeb', 'subdie', 'subdue', 'subfeu', 'subfix', 'subget', 'subgit', 'subgod', 'subjee', 'sublet', 'sublid', 'sublot', 'subman', 'submit', 'subnex', 'suborn', 'subsea', 'subset', 'subtle', 'subtly', 'suburb', 'subway', 'succin', 'succor', 'succub', 'sucken', 'sucker', 'suckle', 'suclat', 'sucuri', 'sudary', 'sudate', 'sudden', 'sudder', 'suddle', 'suffer', 'suffix', 'sugamo', 'sugary', 'sugent', 'suitor', 'sulcal', 'sulcar', 'sulcus', 'sulker', 'sullen', 'sullow', 'sulpha', 'sulpho', 'sultam', 'sultan', 'sultry', 'sulung', 'sumbul', 'summar', 'summed', 'summer', 'summit', 'summon', 'summut', 'sumner', 'sumper', 'sumphy', 'sumpit', 'sumple', 'sunbow', 'suncup', 'sundae', 'sundek', 'sunder', 'sundew', 'sundik', 'sundog', 'sundra', 'sundri', 'sundry', 'sungha', 'sunglo', 'sunken', 'sunket', 'sunlet', 'sunlit', 'sunnud', 'sunray', 'sunset', 'sunway', 'sunyie', 'supari', 'supawn', 'superb', 'supine', 'supper', 'supple', 'supply', 'surahi', 'surbed', 'surely', 'surety', 'surfer', 'surfle', 'suriga', 'surnap', 'surnay', 'surrey', 'surtax', 'survey', 'suslik', 'susurr', 'suther', 'sutile', 'sutler', 'suttee', 'sutten', 'suttin', 'suttle', 'suture', 'svelte', 'swaddy', 'swager', 'swaggy', 'swaird', 'swaler', 'swallo', 'swampy', 'swangy', 'swanky', 'swanny', 'swaraj', 'swardy', 'swarmy', 'swarry', 'swarth', 'swarty', 'swarve', 'swashy', 'swatch', 'swathe', 'swathy', 'swaver', 'swayed', 'swayer', 'sweath', 'sweaty', 'swedge', 'sweeny', 'sweepy', 'sweety', 'swelly', 'swelth', 'swelty', 'swerve', 'swidge', 'swifty', 'swimmy', 'swiney', 'swinge', 'swingy', 'swiper', 'swipes', 'swiple', 'swirly', 'swishy', 'switch', 'swithe', 'swivel', 'swivet', 'swoony', 'swoosh', 'sycock', 'sycoma', 'syllab', 'sylphy', 'sylvae', 'sylvan', 'sylvic', 'symbol', 'syndic', 'syndoc', 'synema', 'syntan', 'syntax', 'sypher', 'syrinx', 'syrtic', 'syrupy', 'syssel', 'system', 'syzygy', 'tabard', 'tabber', 'tabefy', 'tabled', 'tabler', 'tables', 'tablet', 'taboot', 'tabour', 'tabret', 'tabula', 'tabule', 'tacker', 'tacket', 'tackey', 'tackle', 'tactic', 'tactor', 'tactus', 'taenia', 'taffle', 'tafwiz', 'tagged', 'tagger', 'taggle', 'taglet', 'tagrag', 'taguan', 'taheen', 'tahsil', 'taiaha', 'taigle', 'taihoa', 'tailed', 'tailer', 'tailet', 'tailge', 'taille', 'tailor', 'taimen', 'taipan', 'tairge', 'taisch', 'taiver', 'taking', 'talaje', 'talari', 'talbot', 'talcer', 'talcky', 'talcum', 'talent', 'talion', 'talite', 'talker', 'talkie', 'taller', 'talles', 'tallet', 'tallis', 'tallit', 'tallow', 'talose', 'talpid', 'taluka', 'taluto', 'talwar', 'tamale', 'tamanu', 'tamara', 'tambac', 'tamber', 'tamboo', 'tambor', 'tamein', 'tamely', 'tamise', 'tammie', 'tampan', 'tamper', 'tampin', 'tampon', 'tanach', 'tanbur', 'tancel', 'tandan', 'tandem', 'tandle', 'tanged', 'tanger', 'tangie', 'tangka', 'tangle', 'tangly', 'tangue', 'tangum', 'tangun', 'tanica', 'tanier', 'tanist', 'tanjib', 'tankah', 'tanked', 'tanker', 'tankle', 'tanned', 'tanner', 'tannic', 'tannin', 'tannyl', 'tanrec', 'tantle', 'tantra', 'tantum', 'tanzeb', 'tanzib', 'taotai', 'taoyin', 'tapalo', 'tapete', 'tapeti', 'tapism', 'tapist', 'taplet', 'tapnet', 'tapoun', 'tappen', 'tapper', 'tappet', 'tarage', 'tarand', 'taraph', 'tarata', 'tarbet', 'tarboy', 'tardle', 'tarefa', 'targer', 'target', 'tariff', 'tarish', 'tarmac', 'tarman', 'tarnal', 'tarpan', 'tarpon', 'tarpot', 'tarpum', 'tarras', 'tarred', 'tarrer', 'tarrie', 'tarrow', 'tarsal', 'tarsia', 'tarsus', 'tartan', 'tartar', 'tarten', 'tartle', 'tartly', 'tartro', 'tasajo', 'tascal', 'tashie', 'tasker', 'taskit', 'taslet', 'tassah', 'tassal', 'tassel', 'tasser', 'tasset', 'tassie', 'tassoo', 'tasted', 'tasten', 'taster', 'tatbeb', 'tatchy', 'tatler', 'tatter', 'tattle', 'tattoo', 'tattva', 'taught', 'taupou', 'tauric', 'tauryl', 'tauted', 'tauten', 'tautit', 'tautly', 'tautog', 'tavell', 'tavern', 'tavers', 'tavert', 'tavola', 'tawdry', 'tawery', 'tawite', 'tawkee', 'tawkin', 'tawney', 'tawnle', 'tawpie', 'tawtie', 'taxeme', 'taxine', 'taxing', 'taxite', 'taxman', 'taxwax', 'tchast', 'tchick', 'teabox', 'teaboy', 'teache', 'teachy', 'teacup', 'teagle', 'teaish', 'teaism', 'teaman', 'teameo', 'teamer', 'teanal', 'teapot', 'teapoy', 'tearer', 'teasel', 'teaser', 'teated', 'teathe', 'teazer', 'tebbet', 'tecali', 'tectal', 'tectum', 'tecuma', 'tedder', 'tedium', 'teedle', 'teemer', 'teenet', 'teensy', 'teenty', 'teerer', 'teetan', 'teeter', 'teethe', 'teethy', 'teevee', 'tegmen', 'tegula', 'tehsil', 'teioid', 'tekiah', 'tekken', 'telang', 'telary', 'teledu', 'telega', 'telfer', 'telial', 'telium', 'tellee', 'teller', 'telome', 'telson', 'temiak', 'temper', 'temple', 'tempre', 'temser', 'tenace', 'tenant', 'tender', 'tendon', 'tenent', 'tenner', 'tennis', 'tenpin', 'tenrec', 'tenson', 'tensor', 'tented', 'tenter', 'tenues', 'tenuis', 'tenure', 'teopan', 'tepefy', 'terbia', 'terbic', 'tercel', 'tercer', 'tercet', 'tercia', 'tercio', 'teredo', 'terete', 'terfez', 'tergal', 'tergum', 'termen', 'termer', 'termin', 'termly', 'termon', 'termor', 'ternal', 'ternar', 'terpin', 'terral', 'terrar', 'terret', 'terron', 'terror', 'tertia', 'terton', 'tervee', 'tesack', 'tessel', 'testar', 'tested', 'testee', 'tester', 'testes', 'testis', 'teston', 'testor', 'tetany', 'tetard', 'tetchy', 'tether', 'tetrad', 'tetric', 'tetryl', 'tetter', 'tettix', 'teufit', 'teviss', 'thakur', 'thaler', 'thalli', 'thanan', 'thanks', 'thapes', 'thatch', 'thawer', 'theave', 'thecae', 'thecal', 'thecia', 'thecla', 'theine', 'theirn', 'theirs', 'theism', 'theist', 'themer', 'themis', 'thenal', 'thenar', 'thence', 'theody', 'theory', 'theres', 'thermo', 'theses', 'thesis', 'thetch', 'thetic', 'thetin', 'thewed', 'theyll', 'theyre', 'thiasi', 'thieve', 'thight', 'thilly', 'thingy', 'thinly', 'thirst', 'thirty', 'thivel', 'thixle', 'thocht', 'tholoi', 'tholos', 'tholus', 'thongy', 'thooid', 'thoral', 'thorax', 'thoria', 'thoric', 'thorny', 'thoron', 'though', 'thouse', 'thowel', 'thrack', 'thraep', 'thrail', 'thrain', 'thrall', 'thrang', 'thrash', 'thrast', 'thrave', 'thrawn', 'thread', 'threap', 'threat', 'threne', 'thresh', 'thrice', 'thrift', 'thrill', 'thrimp', 'thring', 'thrips', 'thrive', 'throat', 'throck', 'throne', 'throng', 'throve', 'thrown', 'thrush', 'thrust', 'thujin', 'thujyl', 'thulia', 'thulir', 'thumby', 'thunge', 'thurse', 'thusly', 'thwack', 'thwart', 'thwite', 'thyine', 'thymic', 'thymol', 'thymus', 'thymyl', 'thyrse', 'thysel', 'thysen', 'tibiad', 'tibiae', 'tibial', 'ticked', 'ticken', 'ticker', 'ticket', 'tickey', 'tickie', 'tickle', 'tickly', 'tidbit', 'tiddle', 'tidely', 'tidily', 'tiding', 'tidley', 'tiepin', 'tierce', 'tiered', 'tierer', 'tiewig', 'tiffie', 'tiffin', 'tiffle', 'tifter', 'tigery', 'tigger', 'tights', 'tiglic', 'tignum', 'tigtag', 'tikker', 'tiklin', 'tilaka', 'tilery', 'tiling', 'tiller', 'tilley', 'tillot', 'tilmus', 'tilpah', 'tilter', 'tiltup', 'tilyer', 'timawa', 'timbal', 'timber', 'timbre', 'timely', 'timing', 'timish', 'timist', 'tincal', 'tindal', 'tinder', 'tineal', 'tinean', 'tineid', 'tinety', 'tinful', 'tinged', 'tinger', 'tingid', 'tingle', 'tingly', 'tinguy', 'tinily', 'tining', 'tinker', 'tinkle', 'tinkly', 'tinlet', 'tinman', 'tinned', 'tinner', 'tinnet', 'tinosa', 'tinsel', 'tinted', 'tinter', 'tintie', 'tipcat', 'tipful', 'tipiti', 'tiplet', 'tipman', 'tiponi', 'tipped', 'tippee', 'tipper', 'tippet', 'tipple', 'tipply', 'tiptoe', 'tiptop', 'tirade', 'tiriba', 'tiring', 'tirret', 'tirwit', 'tisane', 'tissue', 'tiswin', 'titano', 'titbit', 'tithal', 'tither', 'titian', 'titien', 'titled', 'titler', 'titmal', 'titman', 'titoki', 'titter', 'tittie', 'tittle', 'tittup', 'titule', 'tivoli', 'tizeur', 'tmesis', 'toader', 'toasty', 'toatoa', 'tobine', 'tobira', 'tocher', 'tocome', 'tocsin', 'todder', 'toddle', 'toecap', 'toetoe', 'toffee', 'tofter', 'togaed', 'togata', 'togate', 'toggel', 'toggle', 'toiled', 'toiler', 'toilet', 'tolane', 'tolite', 'toller', 'tolsey', 'tolter', 'toluic', 'toluol', 'toluyl', 'tomato', 'tombac', 'tombal', 'tombic', 'tomboy', 'tomcat', 'tomcod', 'toment', 'tomial', 'tomish', 'tomium', 'tomkin', 'tomorn', 'tompon', 'tomtit', 'tonant', 'toneme', 'tonger', 'tongue', 'tonify', 'tonish', 'tonite', 'tonjon', 'tonkin', 'tonlet', 'tonner', 'tonous', 'tonsil', 'tonsor', 'toodle', 'tooken', 'tooler', 'toomly', 'toorie', 'tooroo', 'tooter', 'toothy', 'tootle', 'tootsy', 'toozle', 'toozoo', 'topass', 'topazy', 'topcap', 'topeng', 'topepo', 'tophus', 'topman', 'topped', 'topper', 'topple', 'topply', 'torcel', 'torero', 'torfel', 'tormen', 'tornal', 'torney', 'tornus', 'toroid', 'torose', 'torous', 'torpid', 'torpor', 'torque', 'torrid', 'torsel', 'torula', 'torvid', 'tosher', 'toshly', 'tosily', 'tosser', 'tossup', 'toston', 'totara', 'totemy', 'tother', 'totora', 'totter', 'tottle', 'toucan', 'touchy', 'tought', 'toupee', 'toupet', 'tourer', 'tourte', 'touser', 'tousle', 'tously', 'touter', 'towage', 'toward', 'towery', 'towght', 'towhee', 'towing', 'towkay', 'towned', 'townee', 'towner', 'townet', 'townly', 'towser', 'toxity', 'toxoid', 'toxone', 'toydom', 'toyful', 'toying', 'toyish', 'toyman', 'trabal', 'trabea', 'tracer', 'tradal', 'trader', 'tragal', 'tragic', 'tragus', 'traily', 'trainy', 'trajet', 'tramal', 'trance', 'tranka', 'tranky', 'trapes', 'trappy', 'trashy', 'trauma', 'travel', 'travis', 'travoy', 'treaty', 'treble', 'trebly', 'trefle', 'tremie', 'tremor', 'trench', 'trepan', 'trepid', 'tressy', 'trevet', 'triace', 'triact', 'triage', 'triazo', 'tribal', 'tricae', 'tricar', 'trichi', 'trichy', 'tricky', 'tricot', 'triene', 'triens', 'trifid', 'trifle', 'trigly', 'trigon', 'trigyn', 'triker', 'trikir', 'trilby', 'trilit', 'trilli', 'trillo', 'trimer', 'trimly', 'trinal', 'trinol', 'triode', 'triole', 'triose', 'tripal', 'tripel', 'triple', 'triply', 'tripod', 'tripos', 'trisul', 'triton', 'tritor', 'trityl', 'triune', 'trivet', 'trivia', 'trocar', 'troche', 'trochi', 'trogon', 'trogue', 'troika', 'troker', 'trolly', 'tromba', 'trombe', 'trompe', 'troner', 'tropal', 'troper', 'trophi', 'trophy', 'tropic', 'tropyl', 'trotol', 'trotty', 'trotyl', 'trough', 'troupe', 'trouse', 'trouty', 'trover', 'trowel', 'trowth', 'truant', 'trucks', 'truddo', 'trudge', 'truish', 'truism', 'trullo', 'trumph', 'trunch', 'trusty', 'truthy', 'truvat', 'trygon', 'trying', 'tryout', 'trypan', 'tsadik', 'tsamba', 'tsetse', 'tubage', 'tubate', 'tubbal', 'tubber', 'tubbie', 'tubboe', 'tubful', 'tubing', 'tublet', 'tubman', 'tubule', 'tubuli', 'tuchit', 'tuchun', 'tucker', 'tucket', 'tucuma', 'tuffet', 'tufted', 'tufter', 'tugger', 'tughra', 'tugman', 'tugrik', 'tuille', 'tulare', 'tulasi', 'tuliac', 'tulipy', 'tulwar', 'tumbak', 'tumble', 'tumbly', 'tumefy', 'tummel', 'tummer', 'tumtum', 'tumuli', 'tumult', 'tunder', 'tundra', 'tundun', 'tunful', 'tuning', 'tunish', 'tunist', 'tunket', 'tunnel', 'tunner', 'tunnor', 'tupara', 'tupelo', 'tupman', 'tupuna', 'turban', 'turbeh', 'turbid', 'turbit', 'turbot', 'tureen', 'turfed', 'turfen', 'turgid', 'turgor', 'turion', 'turken', 'turkey', 'turkis', 'turkle', 'turmit', 'turned', 'turnel', 'turner', 'turney', 'turnip', 'turnix', 'turnup', 'turpid', 'turret', 'tursio', 'turtle', 'tururi', 'turwar', 'tusche', 'tushed', 'tusher', 'tuskar', 'tusked', 'tusker', 'tussah', 'tussal', 'tusser', 'tussis', 'tussle', 'tussur', 'tutela', 'tutman', 'tutory', 'tutrix', 'tutsan', 'tuxedo', 'tuyere', 'tuzzle', 'twaddy', 'twaite', 'twangy', 'twanky', 'twarly', 'twazzy', 'tweaky', 'tweedy', 'tweeny', 'tweesh', 'tweest', 'tweeze', 'twelve', 'twenty', 'twibil', 'twicer', 'twicet', 'twiggy', 'twilit', 'twilly', 'twiner', 'twinge', 'twinly', 'twirly', 'twisel', 'twisty', 'twitch', 'twitty', 'tycoon', 'tyddyn', 'tyking', 'tylion', 'tyloma', 'tylose', 'tylote', 'tympan', 'typhia', 'typhic', 'typhus', 'typica', 'typify', 'typist', 'tyrant', 'tyroma', 'tyrone', 'uberty', 'ubiety', 'ubussu', 'udaler', 'uglify', 'uglily', 'ugsome', 'ulcery', 'uletic', 'ulitis', 'ullage', 'ulling', 'ulluco', 'ulmous', 'ulnare', 'ulster', 'ultima', 'ultimo', 'umbone', 'umbrae', 'umbral', 'umbrel', 'umbril', 'umlaut', 'umpire', 'unable', 'unably', 'unaged', 'unakin', 'unarch', 'unaway', 'unawed', 'unbain', 'unbait', 'unbale', 'unbank', 'unbarb', 'unbare', 'unbark', 'unbase', 'unbear', 'unbell', 'unbelt', 'unbend', 'unbent', 'unbias', 'unbind', 'unbitt', 'unbled', 'unboat', 'unbody', 'unbold', 'unbolt', 'unbone', 'unboot', 'unborn', 'unbran', 'unbred', 'unbung', 'unburn', 'unbury', 'unbush', 'unbusk', 'unbusy', 'uncage', 'uncake', 'uncalk', 'uncall', 'uncalm', 'uncart', 'uncase', 'uncask', 'uncast', 'uncate', 'uncave', 'unchid', 'uncial', 'uncini', 'uncite', 'uncity', 'unclad', 'unclay', 'unclew', 'unclip', 'unclog', 'unclub', 'uncoat', 'uncock', 'uncoif', 'uncoil', 'uncoin', 'uncolt', 'uncoly', 'uncome', 'uncoop', 'uncope', 'uncord', 'uncore', 'uncork', 'uncost', 'uncous', 'uncowl', 'uncram', 'uncrib', 'uncurb', 'uncurd', 'uncurl', 'uncuth', 'undamn', 'undark', 'undate', 'undaub', 'undead', 'undeaf', 'undean', 'undear', 'undeck', 'undeep', 'undeft', 'undern', 'undewy', 'undies', 'undine', 'undirk', 'undock', 'undoer', 'undone', 'undose', 'undrab', 'undrag', 'undraw', 'unduke', 'undull', 'unduly', 'undust', 'unduty', 'undyed', 'unease', 'uneasy', 'uneath', 'unedge', 'unempt', 'unepic', 'uneven', 'unevil', 'uneyed', 'unface', 'unfact', 'unfain', 'unfair', 'unfast', 'unfeed', 'unfele', 'unfelt', 'unfile', 'unfill', 'unfilm', 'unfine', 'unfirm', 'unflag', 'unflat', 'unfold', 'unfond', 'unfool', 'unfork', 'unform', 'unfoul', 'unfoxy', 'unfree', 'unfret', 'unfull', 'unfurl', 'ungain', 'ungaro', 'ungear', 'ungelt', 'ungild', 'ungill', 'ungilt', 'ungird', 'ungirt', 'ungive', 'unglad', 'unglee', 'unglue', 'ungnaw', 'ungold', 'ungone', 'ungood', 'ungown', 'ungrip', 'ungrow', 'ungual', 'ungues', 'unguis', 'ungula', 'ungull', 'ungulp', 'ungyve', 'unhaft', 'unhair', 'unhand', 'unhang', 'unhard', 'unhasp', 'unhate', 'unhave', 'unhead', 'unheal', 'unheed', 'unheld', 'unhele', 'unhelm', 'unherd', 'unhero', 'unhewn', 'unhide', 'unhigh', 'unhive', 'unhoed', 'unhold', 'unholy', 'unhome', 'unhood', 'unhook', 'unhoop', 'unhose', 'unhull', 'unhung', 'unhurt', 'unhusk', 'uniate', 'unible', 'uniced', 'unicum', 'unidle', 'unidly', 'unific', 'unioid', 'uniped', 'unipod', 'unique', 'unison', 'unital', 'united', 'uniter', 'unjoin', 'unjust', 'unkept', 'unkill', 'unkind', 'unking', 'unkink', 'unkirk', 'unkiss', 'unkist', 'unknew', 'unknit', 'unknot', 'unknow', 'unlace', 'unlade', 'unlaid', 'unlame', 'unland', 'unlash', 'unlath', 'unlead', 'unleaf', 'unleal', 'unlean', 'unleft', 'unlent', 'unless', 'unlike', 'unlimb', 'unlime', 'unlimp', 'unline', 'unlink', 'unlist', 'unlive', 'unload', 'unlock', 'unlook', 'unloop', 'unlord', 'unlost', 'unlove', 'unluck', 'unlust', 'unlute', 'unmade', 'unmaid', 'unmail', 'unmake', 'unmask', 'unmast', 'unmate', 'unmaze', 'unmeek', 'unmeet', 'unmesh', 'unmind', 'unmiry', 'unmist', 'unmold', 'unmoor', 'unmown', 'unnail', 'unname', 'unneat', 'unnest', 'unneth', 'unnice', 'unnigh', 'unnose', 'unoily', 'unoped', 'unopen', 'unowed', 'unpack', 'unpaid', 'unpale', 'unpark', 'unpass', 'unpave', 'unpawn', 'unpeel', 'unpent', 'unpick', 'unpile', 'unplan', 'unplat', 'unplow', 'unplug', 'unpope', 'unpray', 'unprim', 'unprop', 'unpure', 'unquit', 'unrack', 'unrake', 'unrank', 'unrare', 'unrash', 'unread', 'unreal', 'unreel', 'unrein', 'unrent', 'unrest', 'unrich', 'unride', 'unrife', 'unrind', 'unring', 'unripe', 'unrobe', 'unroll', 'unroof', 'unroot', 'unrope', 'unrove', 'unrule', 'unruly', 'unrung', 'unrust', 'unruth', 'unsack', 'unsafe', 'unsage', 'unsaid', 'unsalt', 'unsane', 'unsash', 'unsawn', 'unseal', 'unseam', 'unseat', 'unseen', 'unself', 'unsent', 'unsewn', 'unshed', 'unship', 'unshod', 'unshoe', 'unshop', 'unshot', 'unshut', 'unsick', 'unsing', 'unskin', 'unslip', 'unslit', 'unslot', 'unslow', 'unsnap', 'unsnib', 'unsnow', 'unsoft', 'unsoil', 'unsold', 'unsole', 'unsome', 'unsore', 'unsort', 'unsoul', 'unsour', 'unsown', 'unspan', 'unspar', 'unsped', 'unspin', 'unspit', 'unspot', 'unspun', 'unstar', 'unstep', 'unstop', 'unstow', 'unsued', 'unsuit', 'unsung', 'unsunk', 'unsure', 'untack', 'untall', 'untame', 'untaut', 'unteam', 'unteem', 'untell', 'untent', 'unthaw', 'untidy', 'untied', 'untile', 'untill', 'untilt', 'untine', 'untipt', 'untire', 'untold', 'untomb', 'untone', 'untorn', 'untown', 'untrig', 'untrim', 'untrod', 'untrue', 'untuck', 'untune', 'unturf', 'unturn', 'unugly', 'unused', 'unvain', 'unveil', 'unvest', 'unvote', 'unwall', 'unware', 'unwarm', 'unwarn', 'unwarp', 'unwary', 'unweal', 'unweel', 'unweft', 'unweld', 'unwell', 'unwept', 'unwhig', 'unwhip', 'unwild', 'unwill', 'unwily', 'unwind', 'unwire', 'unwise', 'unwish', 'unwist', 'unwive', 'unwomb', 'unwoof', 'unwork', 'unworn', 'unwrap', 'unwrit', 'unyoke', 'unzone', 'uparch', 'uparna', 'upbank', 'upbear', 'upbeat', 'upbelt', 'upbend', 'upbind', 'upblow', 'upboil', 'upbolt', 'upbray', 'upbred', 'upbrim', 'upbrow', 'upbuoy', 'upburn', 'upcall', 'upcast', 'upcity', 'upcock', 'upcoil', 'upcome', 'upcrop', 'upcurl', 'updart', 'update', 'updeck', 'updive', 'updome', 'updrag', 'updraw', 'upfeed', 'upfill', 'upflee', 'upflow', 'upfold', 'upfurl', 'upgale', 'upgang', 'upgape', 'upgaze', 'upgird', 'upgirt', 'upgive', 'upgrow', 'upgush', 'uphand', 'uphang', 'uphasp', 'upheal', 'upheap', 'upheld', 'uphelm', 'uphill', 'uphold', 'uphung', 'uphurl', 'upjerk', 'upkeep', 'upknit', 'uplaid', 'uplake', 'upland', 'uplane', 'uplead', 'upleap', 'uplick', 'uplift', 'uplimb', 'upline', 'uplock', 'uplong', 'uplook', 'uploom', 'uploop', 'upmast', 'upmost', 'upmove', 'upness', 'uppard', 'uppent', 'uppers', 'uppile', 'upping', 'uppish', 'uppity', 'upplow', 'uppour', 'upprop', 'uppuff', 'uppull', 'uppush', 'uprear', 'uprein', 'uprend', 'uprest', 'uprise', 'uprist', 'uprive', 'uproad', 'uproar', 'uproom', 'uproot', 'uprose', 'uprush', 'upseal', 'upseek', 'upsend', 'upshot', 'upshut', 'upside', 'upslip', 'upsoak', 'upsoar', 'upspew', 'upspin', 'upstay', 'upstem', 'upstep', 'upstir', 'upsuck', 'upsway', 'uptake', 'uptear', 'uptend', 'uptide', 'uptill', 'uptilt', 'uptorn', 'uptoss', 'uptown', 'uptree', 'uptube', 'uptuck', 'upturn', 'upwaft', 'upwall', 'upward', 'upwarp', 'upways', 'upwell', 'upwent', 'upwhir', 'upwind', 'upwith', 'upwork', 'upwrap', 'upyard', 'upyoke', 'uracil', 'uraeus', 'uramil', 'uranic', 'uranin', 'uranyl', 'uratic', 'urbane', 'urbian', 'urbify', 'urceus', 'urchin', 'urease', 'ureide', 'ureido', 'uremia', 'uremic', 'uresis', 'uretal', 'ureter', 'uretic', 'urgent', 'urging', 'urheen', 'urinal', 'urling', 'urluch', 'urnful', 'urning', 'urnism', 'uronic', 'uropod', 'urosis', 'uroxin', 'ursine', 'ursoid', 'ursone', 'urtica', 'urtite', 'uruisg', 'urushi', 'usable', 'usager', 'usance', 'usaron', 'usedly', 'usednt', 'useful', 'usings', 'usself', 'ussels', 'ustion', 'usuary', 'usurer', 'usward', 'uterus', 'utinam', 'utmost', 'utopia', 'utrubi', 'uvalha', 'uveous', 'uvitic', 'uvulae', 'uvular', 'uzarin', 'uzaron', 'vacant', 'vacate', 'vacona', 'vacoua', 'vacouf', 'vacual', 'vacuum', 'vadium', 'vadose', 'vagary', 'vagile', 'vagina', 'vagrom', 'vahine', 'vainly', 'vakass', 'valent', 'valeta', 'valeur', 'valgus', 'valine', 'valise', 'vallar', 'valley', 'vallis', 'vallum', 'valued', 'valuer', 'valuta', 'valval', 'valved', 'vamped', 'vamper', 'vangee', 'vanglo', 'vanish', 'vanity', 'vanman', 'vanner', 'vannet', 'vapory', 'varied', 'varier', 'varlet', 'varsha', 'varved', 'vassal', 'vastly', 'vatful', 'vatman', 'vatter', 'vaulty', 'vaunty', 'vaward', 'vealer', 'vectis', 'vector', 'vedana', 'vedika', 'veduis', 'vegete', 'veigle', 'veiled', 'veiler', 'veinal', 'veined', 'veiner', 'velary', 'velate', 'vellon', 'vellum', 'velure', 'velvet', 'venada', 'vendee', 'vender', 'vendor', 'vendue', 'veneer', 'venene', 'venery', 'venger', 'venial', 'vennel', 'venner', 'venomy', 'venose', 'venous', 'venter', 'ventil', 'venula', 'venule', 'venust', 'verbal', 'verbid', 'verdea', 'verdet', 'verdin', 'verdoy', 'verdun', 'verger', 'verify', 'verily', 'verine', 'verism', 'verist', 'verite', 'verity', 'vermin', 'vermis', 'vermix', 'vernal', 'vernin', 'verrel', 'versal', 'versed', 'verser', 'verset', 'versor', 'versta', 'versus', 'vertex', 'vervel', 'vervet', 'veskit', 'vespal', 'vesper', 'vespid', 'vessel', 'vestal', 'vestee', 'vester', 'vestry', 'vetchy', 'vetoer', 'vetust', 'vexful', 'viable', 'viatic', 'viator', 'vicety', 'vicine', 'victim', 'victor', 'vicuna', 'viddui', 'vidual', 'vielle', 'viewer', 'viewly', 'vignin', 'vihara', 'viking', 'vilely', 'vilify', 'vility', 'villar', 'villus', 'vimana', 'vimful', 'vinage', 'vinata', 'vindex', 'vineal', 'vinery', 'vinose', 'vinous', 'vintem', 'vintry', 'violal', 'violer', 'violet', 'violin', 'violon', 'vipery', 'virago', 'virent', 'virgal', 'virgin', 'virial', 'virify', 'virile', 'virole', 'virose', 'virous', 'virtue', 'visage', 'viscid', 'viscin', 'viscus', 'visile', 'vision', 'visita', 'visite', 'visive', 'vistal', 'visual', 'vitals', 'vitium', 'vitric', 'vivary', 'vively', 'vivers', 'vivify', 'vizard', 'vizier', 'vocate', 'vocule', 'voeten', 'voguey', 'voiced', 'voicer', 'voided', 'voidee', 'voider', 'voidly', 'volage', 'volant', 'volata', 'volcan', 'volent', 'volery', 'volley', 'volost', 'volume', 'volupt', 'voluta', 'volute', 'vomica', 'vomito', 'voodoo', 'vorago', 'vorant', 'vorpal', 'vortex', 'votary', 'voteen', 'voting', 'votive', 'vowely', 'vowess', 'voyage', 'voyeur', 'vulgar', 'vulgus', 'vulpic', 'vulval', 'vulvar', 'wabber', 'wabble', 'wabbly', 'wabeno', 'wacago', 'wachna', 'wacken', 'wacker', 'wadder', 'waddly', 'wading', 'wadmal', 'wadset', 'wafery', 'waffle', 'waffly', 'wafter', 'wagaun', 'waggel', 'wagger', 'waggie', 'waggle', 'waggly', 'wagwag', 'wagwit', 'wahahe', 'wahine', 'waiata', 'waikly', 'wailer', 'wainer', 'wairch', 'wairsh', 'waiter', 'waiver', 'waivod', 'wajang', 'wakeel', 'wakiki', 'waking', 'wakiup', 'wakken', 'waling', 'walker', 'wallah', 'walled', 'waller', 'wallet', 'wallop', 'wallow', 'walnut', 'walrus', 'walter', 'wamara', 'wamble', 'wambly', 'wampee', 'wample', 'wampum', 'wampus', 'wander', 'wandle', 'wandoo', 'wangan', 'wangle', 'waning', 'wankle', 'wankly', 'wanner', 'wanter', 'wanton', 'wapiti', 'wapper', 'warabi', 'warble', 'warbly', 'warday', 'warded', 'warden', 'warder', 'warful', 'warily', 'warish', 'warman', 'warmed', 'warmer', 'warmly', 'warmth', 'warmus', 'warnel', 'warner', 'warped', 'warper', 'warple', 'warran', 'warree', 'warren', 'warrer', 'warrin', 'warrok', 'warsaw', 'warsel', 'warsle', 'warted', 'wasabi', 'washed', 'washen', 'washer', 'washin', 'waspen', 'wassie', 'wasted', 'wastel', 'waster', 'watery', 'wattle', 'wauble', 'waucht', 'waughy', 'wauken', 'waukit', 'waumle', 'wauner', 'wavery', 'wavily', 'waving', 'waxily', 'waxing', 'waxman', 'wayaka', 'wayang', 'waying', 'waylay', 'wayman', 'weaken', 'weakly', 'wealth', 'weanel', 'weaner', 'weapon', 'wearer', 'weasel', 'weaser', 'weason', 'weaved', 'weaver', 'weazen', 'webbed', 'webber', 'webeye', 'wedana', 'wedbed', 'wedded', 'wedder', 'wedged', 'wedger', 'wedset', 'weeble', 'weeded', 'weeder', 'weedow', 'weekly', 'weemen', 'weeper', 'weeshy', 'weever', 'weevil', 'weewow', 'wefted', 'weight', 'wejack', 'wekeen', 'welder', 'weldor', 'welkin', 'wellat', 'welted', 'welter', 'wenzel', 'werent', 'wergil', 'wervel', 'weskit', 'wester', 'wether', 'wetted', 'wetter', 'whabby', 'whacky', 'whaler', 'whally', 'wharry', 'wharve', 'whasle', 'whatna', 'whatso', 'whauve', 'whealy', 'wheaty', 'wheely', 'wheeze', 'wheezy', 'whekau', 'whelky', 'whelve', 'whenas', 'whence', 'whenso', 'wherry', 'whewer', 'wheyey', 'whidah', 'whiffy', 'whiles', 'whilie', 'whilly', 'whilom', 'whilst', 'whimmy', 'whiner', 'whinge', 'whinny', 'whippa', 'whippy', 'whirly', 'whirry', 'whisky', 'whited', 'whiten', 'whites', 'wholly', 'whomso', 'whoops', 'whoosh', 'whorly', 'whosen', 'whyfor', 'wicked', 'wicken', 'wicker', 'wicket', 'wickup', 'wicopy', 'widbin', 'widder', 'widdle', 'widely', 'widish', 'widowy', 'wieldy', 'wiener', 'wienie', 'wifely', 'wifish', 'wifock', 'wigdom', 'wigful', 'wigged', 'wiggen', 'wigger', 'wiggle', 'wiggly', 'wiglet', 'wigwag', 'wigwam', 'wilded', 'wilder', 'wildly', 'wilily', 'wilkin', 'willed', 'willer', 'willet', 'willey', 'willie', 'willow', 'wilter', 'wimble', 'wimick', 'wimple', 'wincer', 'wincey', 'winded', 'winder', 'windle', 'window', 'windup', 'winery', 'winful', 'winged', 'winger', 'wingle', 'winish', 'winkel', 'winker', 'winkle', 'winnel', 'winner', 'winnle', 'winnow', 'winrow', 'winter', 'wintle', 'wintry', 'wippen', 'wirble', 'wirily', 'wiring', 'wirrah', 'wisdom', 'wisely', 'wisent', 'wished', 'wisher', 'wishly', 'wisket', 'wissel', 'wistit', 'witchy', 'witess', 'witful', 'withal', 'withen', 'wither', 'within', 'witjar', 'witlet', 'witney', 'wittal', 'witted', 'witter', 'wittol', 'wivern', 'wizard', 'wizier', 'wizzen', 'woader', 'wobble', 'wobbly', 'woddie', 'woeful', 'wogiet', 'wokowi', 'wolfen', 'wolfer', 'wollop', 'wolter', 'wolver', 'wombat', 'wombed', 'womble', 'womera', 'wonder', 'wongen', 'woning', 'wonned', 'wonner', 'wonnot', 'wonted', 'wooded', 'wooden', 'woodly', 'woodsy', 'woofed', 'woofer', 'woohoo', 'wooing', 'wooled', 'woolen', 'wooler', 'woolly', 'woomer', 'woozle', 'worble', 'worded', 'worder', 'wordle', 'worked', 'worker', 'worldy', 'wormed', 'wormer', 'wormil', 'wornil', 'worral', 'worrit', 'worsen', 'worser', 'worset', 'worthy', 'woubit', 'wounds', 'woundy', 'wowser', 'wraith', 'wranny', 'wrasse', 'wrathy', 'wraxle', 'wreath', 'wrecky', 'wrench', 'wretch', 'wricht', 'wriest', 'wright', 'writee', 'writer', 'writhe', 'writhy', 'wrocht', 'wroken', 'wrothy', 'wuddie', 'wumble', 'wumman', 'wummel', 'wungee', 'wunner', 'wurley', 'wurmal', 'wurrus', 'wurset', 'wurzel', 'wusser', 'wuther', 'wuzzer', 'wuzzle', 'wymote', 'xarque', 'xenial', 'xenian', 'xenium', 'xeriff', 'xeroma', 'xoanon', 'xylate', 'xylene', 'xylite', 'xyloid', 'xyloma', 'xylose', 'xyloyl', 'xyster', 'xystos', 'xystum', 'xystus', 'yabber', 'yabble', 'yachan', 'yachty', 'yaffle', 'yagger', 'yakalo', 'yakman', 'yallow', 'yammer', 'yander', 'yaoort', 'yapped', 'yapper', 'yarder', 'yareta', 'yarnen', 'yarner', 'yarpha', 'yarran', 'yarrow', 'yatter', 'yaupon', 'yautia', 'yawler', 'yawner', 'yawney', 'yawper', 'yaxche', 'yearly', 'yearth', 'yeasty', 'yeller', 'yellow', 'yelmer', 'yelper', 'yender', 'yenite', 'yeoman', 'yercum', 'yester', 'yetapa', 'yether', 'yetlin', 'yieldy', 'ynambu', 'yochel', 'yockel', 'yogism', 'yogist', 'yoicks', 'yojana', 'yoking', 'yolden', 'yolked', 'yonder', 'yonner', 'yorker', 'youden', 'youthy', 'yowler', 'yowley', 'yttria', 'yttric', 'yuckel', 'yucker', 'yuckle', 'yugada', 'yukkel', 'yungan', 'yuzlik', 'yuzluk', 'zabeta', 'zabtie', 'zacate', 'zachun', 'zaffar', 'zaffer', 'zafree', 'zagged', 'zakkeu', 'zamang', 'zander', 'zapota', 'zapupe', 'zaqqum', 'zareba', 'zealot', 'zechin', 'zehner', 'zenana', 'zendik', 'zenick', 'zenith', 'zephyr', 'zequin', 'zeugma', 'ziamet', 'ziarat', 'zieger', 'zigzag', 'zillah', 'zimmis', 'zincic', 'zincke', 'zincky', 'zincum', 'zingel', 'zipper', 'zircon', 'zither', 'zoacum', 'zoaria', 'zodiac', 'zoetic', 'zombie', 'zonary', 'zonate', 'zoning', 'zonite', 'zonoid', 'zonule', 'zonure', 'zoonal', 'zoonic', 'zoosis', 'zooter', 'zootic', 'zoozoo', 'zoster', 'zounds', 'zuisin', 'zygion', 'zygite', 'zygoma', 'zygose', 'zygote', 'zygous', 'zymase', 'zymite', 'zymoid', 'zymome', 'zythem', 'zythum']\n"
     ]
    }
   ],
   "source": [
    "result = [w for w in wordlist if re.search('^......$', w)]\n",
    "print(result)"
   ]
  },
  {
   "cell_type": "markdown",
   "metadata": {},
   "source": [
    " ### re.search('^[ghi][mno][jlk][def]$', w) 여기서 [abc]는 abc중 아무거나 하나이다. 따라서 이 함수는 ghi중 아무거나 하나 mno 중 아마거나 하나 이런식으로 구성된 네글자의 단어이다.10개를 찾았으나 그런 단어는 4개뿐이라 아래와 같이 4개만 나온다."
   ]
  },
  {
   "cell_type": "code",
   "execution_count": 9,
   "metadata": {},
   "outputs": [
    {
     "name": "stdout",
     "output_type": "stream",
     "text": [
      "['gold', 'golf', 'hold', 'hole']\n"
     ]
    }
   ],
   "source": [
    "result = [w for w in wordlist if re.search('^[ghi][mno][jlk][def]$', w)]\n",
    "print(result[:10])"
   ]
  },
  {
   "cell_type": "code",
   "execution_count": 12,
   "metadata": {},
   "outputs": [
    {
     "name": "stdout",
     "output_type": "stream",
     "text": [
      "['old']\n"
     ]
    }
   ],
   "source": [
    "result = [w for w in wordlist if re.search('^[ghoi][jlk][def]$', w)]\n",
    "print(result[:10])"
   ]
  },
  {
   "cell_type": "markdown",
   "metadata": {},
   "source": [
    "### re.search('^[ah]+$', w)] 여기서 +는 +앞의 스트링이 하나 이상 올 수 있는 만큼 오는 것이다. 여기선 ah중에 하나가 오고 또 그뒤로 둘중 하나가 오고 이런식이다."
   ]
  },
  {
   "cell_type": "code",
   "execution_count": 10,
   "metadata": {},
   "outputs": [
    {
     "name": "stdout",
     "output_type": "stream",
     "text": [
      "['a', 'aa', 'ah', 'aha', 'h', 'ha', 'hah']\n"
     ]
    }
   ],
   "source": [
    "result = [w for w in wordlist if re.search('^[ah]+$', w)]\n",
    "print(result[:10])"
   ]
  },
  {
   "cell_type": "code",
   "execution_count": 37,
   "metadata": {},
   "outputs": [
    {
     "name": "stdout",
     "output_type": "stream",
     "text": [
      "['a', 'aa', 'ad', 'adad', 'add', 'adda', 'added', 'ade', 'adead', 'ae', 'affa', 'ah', 'aha', 'ahead', 'd', 'da', 'dad', 'dada', 'dade', 'dae', 'daff', 'dah', 'de', 'dead', 'deadhead', 'deaf', 'dee', 'deed', 'deedeed', 'dha', 'e', 'ea', 'edea', 'edh', 'eh', 'f', 'fa', 'fad', 'fade', 'faded', 'fae', 'faff', 'fe', 'fed', 'fee', 'feed', 'feedhead', 'h', 'ha', 'haaf', 'had', 'hade', 'haff', 'hah', 'he', 'head', 'headed', 'heaf', 'heed']\n"
     ]
    }
   ],
   "source": [
    "result = [w for w in wordlist if re.search('^[aedfh]+$', w)]\n",
    "print(result)"
   ]
  },
  {
   "cell_type": "markdown",
   "metadata": {},
   "source": [
    "## 이번엔 또 다른 corpus 함수다. 모든 영단어가 아닌 특수문자가 포함된 wsj 단어들이다."
   ]
  },
  {
   "cell_type": "code",
   "execution_count": 41,
   "metadata": {
    "collapsed": true
   },
   "outputs": [
    {
     "name": "stdout",
     "output_type": "stream",
     "text": [
      "['!', '#', '$', '%', '&', \"'\", \"''\", \"'30s\", \"'40s\", \"'50s\", \"'80s\", \"'82\", \"'86\", \"'S\", \"'d\", \"'ll\", \"'m\", \"'re\", \"'s\", \"'ve\", '*', '*-1', '*-10', '*-100', '*-101', '*-102', '*-103', '*-104', '*-105', '*-106', '*-107', '*-108', '*-109', '*-11', '*-110', '*-111', '*-112', '*-113', '*-114', '*-115', '*-116', '*-117', '*-118', '*-119', '*-12', '*-120', '*-121', '*-122', '*-123', '*-124', '*-125', '*-126', '*-127', '*-128', '*-129', '*-13', '*-130', '*-131', '*-132', '*-133', '*-134', '*-135', '*-136', '*-137', '*-138', '*-139', '*-14', '*-140', '*-141', '*-142', '*-144', '*-145', '*-146', '*-147', '*-149', '*-15', '*-150', '*-151', '*-152', '*-153', '*-154', '*-155', '*-156', '*-157', '*-158', '*-159', '*-16', '*-160', '*-161', '*-162', '*-163', '*-164', '*-165', '*-166', '*-17', '*-18', '*-19', '*-2', '*-20', '*-21', '*-22', '*-23', '*-24', '*-25', '*-26', '*-27', '*-28', '*-29', '*-3', '*-30', '*-31', '*-32', '*-33', '*-34', '*-35', '*-36', '*-37', '*-38', '*-39', '*-4', '*-40', '*-41', '*-42', '*-43', '*-44', '*-45', '*-46', '*-47', '*-48', '*-49', '*-5', '*-50', '*-51', '*-52', '*-53', '*-54', '*-55', '*-56', '*-57', '*-58', '*-59', '*-6', '*-60', '*-61', '*-62', '*-63', '*-64', '*-66', '*-67', '*-68', '*-69', '*-7', '*-70', '*-71', '*-72', '*-73', '*-74', '*-75', '*-76', '*-77', '*-78', '*-79', '*-8', '*-80', '*-81', '*-82', '*-83', '*-84', '*-85', '*-86', '*-87', '*-88', '*-89', '*-9', '*-90', '*-91', '*-92', '*-93', '*-94', '*-95', '*-96', '*-97', '*-98', '*-99', '*?*', '*EXP*-1', '*EXP*-2', '*EXP*-3', '*ICH*-1', '*ICH*-2', '*ICH*-3', '*ICH*-4', '*NOT*', '*PPA*-1', '*PPA*-2', '*PPA*-3', '*RNR*-1', '*RNR*-2', '*RNR*-4', '*T*-1', '*T*-10', '*T*-100', '*T*-101', '*T*-102', '*T*-103', '*T*-104', '*T*-105', '*T*-106', '*T*-107', '*T*-108', '*T*-109', '*T*-11', '*T*-110', '*T*-111', '*T*-112', '*T*-113', '*T*-114', '*T*-115', '*T*-116', '*T*-117', '*T*-118', '*T*-119', '*T*-12', '*T*-120', '*T*-121', '*T*-122', '*T*-123', '*T*-124', '*T*-125', '*T*-126', '*T*-127', '*T*-128', '*T*-129', '*T*-13', '*T*-130', '*T*-131', '*T*-132', '*T*-133', '*T*-134', '*T*-135', '*T*-136', '*T*-137', '*T*-138', '*T*-139', '*T*-14', '*T*-140', '*T*-141', '*T*-142', '*T*-143', '*T*-144', '*T*-145', '*T*-146', '*T*-147', '*T*-148', '*T*-149', '*T*-15', '*T*-150', '*T*-151', '*T*-152', '*T*-153', '*T*-154', '*T*-155', '*T*-156', '*T*-157', '*T*-158', '*T*-159', '*T*-16', '*T*-160', '*T*-161', '*T*-162', '*T*-163', '*T*-164', '*T*-165', '*T*-166', '*T*-167', '*T*-168', '*T*-169', '*T*-17', '*T*-170', '*T*-171', '*T*-172', '*T*-173', '*T*-174', '*T*-175', '*T*-176', '*T*-177', '*T*-178', '*T*-179', '*T*-18', '*T*-180', '*T*-181', '*T*-182', '*T*-183', '*T*-184', '*T*-185', '*T*-186', '*T*-187', '*T*-188', '*T*-189', '*T*-19', '*T*-190', '*T*-191', '*T*-192', '*T*-193', '*T*-194', '*T*-195', '*T*-196', '*T*-197', '*T*-198', '*T*-199', '*T*-2', '*T*-20', '*T*-200', '*T*-201', '*T*-202', '*T*-203', '*T*-204', '*T*-205', '*T*-206', '*T*-207', '*T*-208', '*T*-21', '*T*-210', '*T*-211', '*T*-212', '*T*-213', '*T*-214', '*T*-215', '*T*-216', '*T*-217', '*T*-218', '*T*-219', '*T*-22', '*T*-220', '*T*-221', '*T*-222', '*T*-223', '*T*-224', '*T*-225', '*T*-226', '*T*-227', '*T*-228', '*T*-229', '*T*-23', '*T*-230', '*T*-231', '*T*-232', '*T*-233', '*T*-234', '*T*-235', '*T*-236', '*T*-237', '*T*-238', '*T*-239', '*T*-24', '*T*-240', '*T*-241', '*T*-242', '*T*-243', '*T*-244', '*T*-245', '*T*-246', '*T*-247', '*T*-248', '*T*-249', '*T*-25', '*T*-250', '*T*-251', '*T*-252', '*T*-253', '*T*-254', '*T*-255', '*T*-256', '*T*-257', '*T*-258', '*T*-259', '*T*-26', '*T*-260', '*T*-27', '*T*-28', '*T*-29', '*T*-3', '*T*-30', '*T*-31', '*T*-32', '*T*-33', '*T*-34', '*T*-35', '*T*-36', '*T*-37', '*T*-38', '*T*-39', '*T*-4', '*T*-40', '*T*-41', '*T*-42', '*T*-43', '*T*-44', '*T*-45', '*T*-46', '*T*-47', '*T*-48', '*T*-49', '*T*-5', '*T*-50', '*T*-51', '*T*-52', '*T*-53', '*T*-54', '*T*-55', '*T*-56', '*T*-57', '*T*-58', '*T*-59', '*T*-6', '*T*-60', '*T*-61', '*T*-62', '*T*-63', '*T*-64', '*T*-65', '*T*-66', '*T*-67', '*T*-68', '*T*-69', '*T*-7', '*T*-70', '*T*-71', '*T*-72', '*T*-73', '*T*-74', '*T*-75', '*T*-76', '*T*-77', '*T*-78', '*T*-79', '*T*-8', '*T*-80', '*T*-81', '*T*-82', '*T*-83', '*T*-84', '*T*-85', '*T*-86', '*T*-87', '*T*-88', '*T*-89', '*T*-9', '*T*-90', '*T*-91', '*T*-92', '*T*-93', '*T*-94', '*T*-95', '*T*-96', '*T*-97', '*T*-98', '*T*-99', '*U*', ',', '-', '--', '-LCB-', '-LRB-', '-RCB-', '-RRB-', '.', '...', '0', '0.0085', '0.05', '0.1', '0.16', '0.2', '0.25', '0.28', '0.3', '0.4', '0.5', '0.50', '0.54', '0.56', '0.60', '0.7', '0.82', '0.84', '0.9', '0.95', '0.99', '1', '1,000', '1,050,000', '1,100', '1,200', '1,298', '1,400', '1,460', '1,500', '1,570', '1,620', '1,880', '1.01', '1.1', '1.125', '1.14', '1.1650', '1.17', '1.18', '1.19', '1.2', '1.20', '1.24', '1.25', '1.26', '1.28', '1.35', '1.39', '1.4', '1.457', '1.46', '1.49', '1.5', '1.50', '1.55', '1.56', '1.5755', '1.5805', '1.6', '1.61', '1.637', '1.64', '1.65', '1.7', '1.75', '1.76', '1.8', '1.82', '1.8415', '1.85', '1.8500', '1.9', '1.916', '1.92', '10', '10,000', '10-day', '10-lap', '10-year', '10.19', '10.2', '10.5', '100', '100,000', '100,980', '100-megabyte', '100-share', '101', '102', '103', '105', '106', '107', '107.03', '107.9', '108', '109.73', '10th', '11', '11,000', '11,390,000', '11,762', '11-month-old', '11.10', '11.5', '11.57', '11.6', '11.72', '11.95', '110', '111', '112.9', '113.2', '114', '115', '116.3', '116.4', '116.7', '116.9', '118', '118.6', '119', '11\\\\/16', '11th', '12', '12,252', '12-member', '12-point', '12-year', '12.09', '12.5', '12.52', '12.68', '12.7', '12.82', '12.97', '120', '120,000', '120-a-share', '120.7', '1206.26', '121.6', '125', '126,000', '126.1', '126.15', '127.03', '128', '129.91', '12\\\\/32', '13', '13,056', '13.1', '13.15', '13.5', '13.50', '13.625', '13.65', '13.73', '13.8', '13.90', '130', '130.6', '130.7', '131.01', '132', '132,000', '132.9', '133', '133.7', '133.8', '135', '138', '139', '13\\\\/16', '14', '14,821', '14-hour', '14.', '14.00', '14.13', '14.26', '14.28', '14.43', '14.5', '14.53', '14.54', '14.6', '14.75', '14.99', '140', '141.9', '142.84', '142.85', '143.08', '143.80', '143.93', '144', '145', '148', '148.9', '149', '149.9', '14\\\\/32', '15', '15,000', '15-day', '15.5', '150', '150,000', '150-point', '150.00', '152,000', '153.3', '154,240,000', '154.2', '155', '158,666', '16', '16,000', '16,072', '16.05', '16.09', '16.125', '16.2', '16.5', '16.68', '16.7', '16.9', '160', '1614', '1637', '169.9', '16\\\\/32', '17', '17-year-old', '17.3', '17.4', '17.5', '17.95', '170', '170,000', '170,262', '1738.1', '175', '176', '176.1', '177', '1787', '179', '18', '18,000', '18,444', '18-a-share', '18-year-old', '18.3', '18.6', '18.95', '180', '184', '185.9', '187', '188', '188.84', '19', '19-month-old', '19.3', '19.50', '19.6', '19.94', '19.95', '190', '190-point', '1901', '1903', '191.9', '1917', '1920s', '1925', '1928-33', '1929', '1933', '1934', '1937-40', '1940s', '1948', '195', '1950s', '1953', '1955', '1956', '1960s', '1961', '1965', '1966', '1967', '1968', '1969', '1970', '1970s', '1971', '1972', '1973', '1973-75', '1975', '1976', '1977', '1979', '198', '1980', '1980s', '1981', '1982', '1983', '1983-85', '1984', '1985', '1986', '1986-87', '1987', '1987-88', '1988', '1988-89', '1989', '1989-90', '1990', '1990-91', '1990s', '1991', '1991-1999', '1991-2000', '1992', '1992-1999', '1993', '1994', '1995', '1996', '1997', '1998', '1999', '1:30', '1\\\\/10th', '1\\\\/2', '1\\\\/4', '1\\\\/8', '1st', '2', '2,000', '2,050-passenger', '2,099', '2,303,328', '2,410', '2,500', '2,700', '2-3', '2-8', '2.07', '2.1', '2.15', '2.19', '2.2', '2.25', '2.29', '2.3', '2.30', '2.35', '2.375', '2.4', '2.42', '2.44', '2.46', '2.47', '2.5', '2.50', '2.6', '2.62', '2.65', '2.7', '2.75', '2.8', '2.80', '2.87', '2.875', '2.9', '2.95', '20', '20,000', '20-point', '20-stock', '20.07', '20.5', '200', '200,000', '2000', '2003\\\\/2007', '2005', '2009', '2017', '2019', '2029', '203', '20s', '21', '21,000', '21-month', '21.1', '21.9', '210', '210,000', '212', '214', '2141.7', '2160.1', '2163.2', '22', '22.75', '220', '220.45', '221.4', '225', '225,000', '225.6', '226,570,380', '227', '228', '22\\\\/32', '23', '23,000', '23,403', '23.25', '23.4', '23.5', '23.72', '230-215', '234.4', '235', '236.74', '236.79', '237-seat', '238,000-circulation', '24', '24,000', '24.95', '240', '240,000', '240-page', '241', '244,000', '245', '25', '25,000', '25-year-old', '25.50', '25.6', '250', '250,000', '251.2', '257', '26', '26,000', '26,956', '26.2', '26.5', '26.8', '260', '263.07', '2645.90', '266', '2691.19', '27', '27-year', '27.1', '27.4', '270', '271,124', '271-147', '273.5', '274', '275', '278.7', '28', '28.25', '28.36', '28.4', '28.5', '28.53', '28.6', '280', '282', '286', '29', '29.3', '29.4', '29.9', '292.32', '295', '29year', '2\\\\/32', '3', '3,040,000', '3,250,000', '3,288,453', '3,500', '3,600', '3-4', '3.01', '3.04', '3.1', '3.16', '3.18', '3.19', '3.2', '3.20', '3.23', '3.253', '3.28', '3.3', '3.35', '3.375', '3.4', '3.42', '3.43', '3.5', '3.55', '3.6', '3.61', '3.625', '3.7', '3.75', '3.8', '3.80', '3.9', '30', '30,000', '30,537', '30,841', '30-day', '30-minute', '30-point', '30-share', '30-year', '30.6', '30.9', '300', '300,000', '300-113', '300-a-share', '300-day', '301', '3057', '306', '30s', '31', '31-year-old', '310', '313', '319.75', '32', '32.8', '320', '321', '321,000', '325,000', '326', '33', '331,000', '334.5', '339', '34', '34.625', '340,000', '341.20', '343', '3436.58', '35', '35.2', '35.7', '350', '350,000', '352.7', '352.9', '353', '35500.64', '35564.43', '36', '36-day', '36-minute', '36-store', '36.9', '360', '361,376', '361.8', '3648.82', '37', '37-a-share', '37-year-old', '37.3', '37.5', '370', '372.14', '372.9', '374.19', '374.20', '377.60', '38', '38.3', '38.375', '38.5', '38.875', '380', '382-37', '386', '387.8', '388', '39', '396,000', '397', '3:15', '3\\\\/4', '3\\\\/8', '4', '4,000', '4,393,237', '4,645', '4.1', '4.10', '4.2', '4.25', '4.3', '4.4', '4.5', '4.55', '4.6', '4.7', '4.75', '4.8', '4.875', '4.898', '4.9', '40', '40,000', '40-megabyte', '40-year-old', '40.21', '400', '400,000', '405', '41', '41.60', '415', '415.6', '415.8', '42', '42-year', '42.1', '42.5', '420', '422.5', '43', '43-year-old', '43.875', '430', '434.4', '436.01', '44', '445', '446.62', '449.04', '45', '45,000', '45-a-share', '45.2', '45.3', '45.75', '450', '451', '454', '456.64', '458', '46', '46.1', '467', '47', '47.1', '47.125', '47.5', '47.6', '472', '48', '49', '49.9', '490', '492', '494.50', '497.34', '5', '5,000', '5,699', '5.1', '5.2180', '5.276', '5.29', '5.3', '5.39', '5.4', '5.435', '5.5', '5.57', '5.6', '5.63', '5.7', '5.70', '5.8', '5.82', '5.9', '5.92', '50', '50,000', '50-50', '50-state', '50.1', '50.38', '50.45', '500', '500,000', '500,004', '500-Stock', '500-stock', '501', '50\\\\/50', '51', '51-year-old', '51.25', '51.6', '512', '52', '52-week', '520-lawyer', '53', '53-year-old', '534', '54', '54-year-old', '55', '55-a-share', '55-year-old', '55.1', '550,000', '56', '566.54', '57', '57.50', '57.6', '57.7', '570', '576', '58', '58-year-old', '58.64', '59', '59-year-old', '59.6', '59.9', '598', '5\\\\/8', '6', '6,000', '6,500', '6,799', '6.03', '6.1', '6.20', '6.21', '6.25', '6.4', '6.40', '6.44', '6.5', '6.50', '6.53', '6.6', '6.7', '6.70', '6.79', '6.84', '6.9', '60', '60,000', '60.36', '600', '600,000', '605', '608,413', '609', '61', '618.1', '62', '62%-owned', '62-year-old', '62.1', '62.5', '62.625', '620', '63', '63-year-old', '63.79', '630.9', '64', '64-year-old', '64.5', '644', '645,000', '65', '66.5', '666', '672', '68', '69', '69-point', '692', '6\\\\/2', '7', '7,500', '7.15', '7.2', '7.20', '7.272', '7.3', '7.4', '7.40', '7.422', '7.45', '7.458', '7.5', '7.50', '7.52', '7.55', '7.60', '7.62', '7.63', '7.65', '7.74', '7.78', '7.79', '7.8', '7.80', '7.84', '7.88', '7.90', '7.95', '70', '70-a-share', '70.2', '70.7', '700', '700,000', '701', '705.6', '71', '71,309', '72', '72.7', '721', '722', '73', '730', '734.9', '737.5', '75', '75-year-old', '750', '750,000', '753', '76', '767', '77', '77,000', '77.56', '77.6', '77.70', '777', '778', '78', '79', '7\\\\/16', '7\\\\/8', '8', '8.04', '8.06', '8.07', '8.1', '8.12', '8.14', '8.15', '8.19', '8.2', '8.22', '8.25', '8.30', '8.35', '8.45', '8.467', '8.47', '8.48', '8.5', '8.50', '8.53', '8.55', '8.56', '8.575', '8.60', '8.64', '8.65', '8.70', '8.75', '8.9', '80', '80.50', '80.8', '800', '81.8', '811.9', '82,389', '83', '83,206', '83.4', '830,000', '8300', '8300s', '84-month', '84-year-old', '84.29', '84.9', '847', '85', '85.1', '85.7', '850', '858,000', '86', '86.12', '87-store', '87.5', '877,663', '879', '88', '88.32', '89', '89,500', '89.7', '89.9', '890', '9', '9,118', '9.3', '9.32', '9.37', '9.45', '9.5', '9.625', '9.75', '9.8', '9.82', '9.9', '90', '90-cent-an-hour', '90-day', '900', '909', '913', '917', '92', '92.9', '93', '93,000', '93.3', '93.9', '94', '94.2', '94.8', '95', '95,142', '95.09', '96.4', '960', '963', '967,809', '98', '98.3', '99', '99.1', '99.3', '992,000', '9\\\\/32', ':', ';', '?', '@', 'A', 'A-D', 'A.', 'A.C.', 'A.D.', 'A.L.', 'ABA', 'ABORTION', 'AC-130U', 'ACCEPTANCES', 'ACCOUNT', 'ACQUISITION', 'ADRs', 'AG', 'AGREES', 'AIDS', 'AMR', 'AN', 'AND', 'APPEARS', 'ASLACTON', 'ASSETS', 'ASSOCIATES', 'ASSOCIATION', 'AT&T', 'Abbey', 'Abbot', 'About', 'Above', 'Abrupt', 'Absorbed', 'Academically', 'Acceptance', 'According', 'Account', 'Achievement', 'Ackerman', 'Acquisition', 'Act', 'Activity', 'Actually', 'Ad', 'Adam', 'Adams', 'Adds', 'Administration', 'Adolph', 'Adopting', 'Advance', 'Advanced', 'Advancing', 'Advice', 'Advocates', 'Aerojet', 'Aerospace', 'Affairs', 'Africa', 'African', 'After', 'Again', 'Against', 'Agency', 'Agnew', 'Agriculture', 'Ailes', 'Air', 'Airlines', 'Airways', 'Akerfeldt', 'Akio', 'Aktiebolaget', 'Al', 'Ala', 'Ala.', 'Alan', 'Albany', 'Albert', 'Albuquerque', 'Alexander', 'Alfred', 'All', 'Alleghany', 'Allen', 'Allendale', 'Allergan', 'Alliance', 'Allied', 'Almost', 'Aloha', 'Along', 'Already', 'Also', 'Alstyne', 'Altair', 'Although', 'Altogether', 'Alurralde', 'Alvin', 'Always', 'Alysia', 'Alzheimer', 'Am', 'Amendment', 'America', 'American', 'American-made', 'American-style', 'Americana', 'Americans', 'Ames', 'Amin', 'Among', 'Amsterdam', 'An', 'Ana', 'Analysts', 'Ancient', 'And', 'Andean', 'Anderson', 'Andersson', 'Andrea', 'Andrew', 'Andy', 'Angeles', 'Angelo', 'Angels', 'Angier', 'Anglia', 'Anglian', 'Angola', 'Anku', 'Ann', 'Anne', 'Annualized', 'Another', 'Anthony', 'Anti-Deficiency', 'Antinori', 'Antitrust', 'Antonio', 'Any', 'Anything', 'Appeals', 'Appellate', 'Apple', 'Appropriations', 'April', 'Aptitude', 'Aquino', 'Arabia', 'Arabian', 'Arafat', 'Arbitrage', 'Arbitrage-related', 'Arbitraging', 'Areas', 'Argentina', 'Argentine', 'Ariail', 'Arighi', 'Ariz.', 'Arizona', 'Ark', 'Arlington', 'Army', 'Arnold', 'Arraignments', 'Arthur', 'Article', 'Articles', 'Artist', 'As', 'Asada', 'Asher', 'Asia', 'Asian', 'Asians', 'Asked', 'Aslacton', 'Assets', 'Assistant', 'Associates', 'Association', 'Assuming', 'Assurance', 'At', 'Atlanta', 'Atlanta-based', 'Atlantic', 'Atsushi', 'Attorney', 'Attorneys', 'Attwood', 'Auctions', 'Audit', 'Auditors', 'Aug.', 'August', 'Aurora', 'Austin', 'Australia', 'Australian', 'Austria', 'Austrian', 'Authority', 'Automobile', 'Avenue', 'Average', 'Avon', 'Avrett', 'B', 'B-1B', 'B.', 'B.A.T', 'BALLOT', 'BANKERS', 'BILLS', 'BIRDS', 'BMP', 'BMP-1', 'BRAMALEA', 'BRIEFS', 'BTR', 'Babcock', 'Back', 'Backe', 'Backer', 'Backseat', 'Bailey', 'Baim', 'Baker', 'Baking', 'Baldwin', 'Ballantine\\\\/Del', 'Ballot', 'Baltimore', 'Bancorp', 'Bangkok', 'Bank', 'Bankers', 'Banking', 'Bankruptcy', 'Banks', 'Banque', 'Bar', 'Barbados', 'Barbara', 'Barbaresco', 'Barclays', 'Barfield', 'Barge', 'Baris', 'Barnett', 'Barney', 'Barnum', 'Barrels', 'Barrett', 'Barron', 'Barth', 'Basham', 'Basic', 'Basin', 'Bass', 'Bates', 'Baton', 'Baum', 'Beach', 'Beall', 'Bears', 'Beatles', 'Beauty', 'Because', 'Before', 'Beginning', 'Behind', 'Beige', 'Beijing', 'Being', 'Beirut', 'Bell', 'Bellows', 'Bells', 'Belt', 'Bendectin', 'Bennett', 'Bentsen', 'Berger', 'Berlin', 'Berliner', 'Berman', 'Bermuda', 'Bermuda-based', 'Bernstein', 'Berson', 'Besides', 'Beta', 'Beth', 'Bethlehem', 'Betting', 'Beverly', 'Bew', 'Bhutto', 'Biaggi', 'Biedermann', 'Big', 'Bill', 'Billings', 'Biondi-Santi', 'Birmingham', 'Biscayne', 'Black', 'Blackstone', 'Blanc', 'Blanchard', 'Blancs', 'Blue', 'Blunt', 'Board', 'Bob', 'Boca', 'Bodner', 'Boeing', 'Boesel', 'Bolduc', 'Bolivia', 'Bon', 'Bond', 'Bonds', 'Bonnell', 'Book', 'Boone', 'Boorse', 'Bordeaux', 'Borge', 'Borough', 'Boston', 'Both', 'Bougainville', 'Boulder', 'Bowery', 'Bowes', 'Bowl', 'Bowman', 'Brace', 'Bradford', 'Bradley', 'Brady', 'Braidwood', 'Bramalea', 'Brands', 'Braun', 'Brazil', 'Brazilian', 'Breakey', 'Brean', 'Breeden', 'Brenda', 'Brent', 'Bretz', 'Brian', 'Bribe', 'Bricklayers', 'Bridge', 'Bridges', 'Bridgestone\\\\/Firestone', 'Bridgeville', 'Brigham', 'Brisk', 'Britain', 'British', 'Britta', 'Broadcasting', 'Broken', 'Bromwich', 'Bronces', 'Bronx', 'Brooke', 'Brooklyn', 'Brooks', 'Brothers', 'Brown', 'Brownell', 'Brownstein', 'Brunei', 'Brunello', 'Brunswick', 'Brussels', 'Buckhead', 'Bucking', 'Budget', 'Bugs', 'Buick', 'Builders', 'Bumkins', 'Bund', 'Bunny', 'Bureau', 'Burgundies', 'Burgundy', 'Burnham', 'Burt', 'Bush', 'Business', 'But', 'Butler', 'Buy', 'Buyers', 'Buying', 'By', 'Byron', 'C$', \"C'mon\", 'C-130', 'C-90', 'C.', 'C.D.s', 'C.J.B.', 'CALL', 'CAMPAIGN', 'CAT', 'CBS', 'CDC', 'CDs', 'CEO', 'CEOs', 'CERTIFICATES', 'CHANGED', 'CIA', 'CLEARS', 'COLLECTING', 'COMMERCIAL', 'COMMUNICATIONS', 'COMPUTERS', 'COPPER', 'CORP', \"CREATOR'S\", 'CS', 'CSV', 'CTB', 'CTBS', 'Cab', 'Cabbage', 'Cabernet', 'Cabernets', 'Calder', 'Caldor', 'Calif', 'Calif.', 'Calif.-based', 'California', 'Californian', 'Cambridge', 'Camille', 'Camilli', 'Campaign', 'Campbell', 'Campeau', 'Can', 'Canada', 'Canadian', 'Cancer', 'Candela', 'Candlestick', 'Canepa', 'Cannell', 'Capital', 'Capitol', 'Cara', 'Carballo', 'Carbide', 'Card', 'Care', 'Caribbean', 'Carl', 'Carla', 'Carlos', 'Carlton', 'Carnegie-Mellon', 'Carney', 'Carnival', 'Carolina', 'Carrier', 'Carson', 'Carter', 'Cartons', 'Cartoonist', 'Cask', 'Cataracts', 'Catch-22', 'Caters', 'Cathedral', 'Catholic', 'Cathryn', 'Cedric', 'Cellar', 'Cellars', 'Center', 'Centerbank', 'Centers', 'Central', 'Century', 'Cerf', 'Certainly', 'Chabrol', 'Chadha', 'Chafic', 'Chairman', 'Chamber', 'Champagne', 'Champagnes', 'Champion', 'Chandler', 'Change-ringing', 'Chaplin', 'Chapman', 'Chapter', 'Characters', 'Chardonnay', 'Chardonnays', 'Charities', 'Charles', 'Charlie', 'Charlotte', 'Charter', 'Chase', 'Chateau', 'Chatsworth', 'Cheese', 'Cheetham', 'ChemPlus', 'Chemical', 'Chevrolet', 'Chicago', 'Chicago-style', 'Child', 'Chile', 'Chilean', 'Chilver', 'China', 'Chinchon', 'Chinese', 'Chinese-American', 'Chiodo', 'Chivas', 'Chong-sik', 'Choose', 'Christian', 'Christie', 'Christmas', 'Christopher', 'Chrysler', 'Chuck', 'Church', 'Cigna', 'Cincinnati', 'Circle', 'Circuit', 'Circulation', 'Circulations', 'Citadel', 'Citibank', 'Citicorp', 'Citing', 'Citizen', 'Citizens', 'City', 'Civil', 'Civilization', 'Claire', 'Clairton', 'Clara', 'Clarence', 'Clark', 'Class', 'Claude', 'Clays', 'Clemens', 'Cleveland', 'Clinton', 'Clive', 'Close', 'Closes', 'Club', 'Cluff', 'Co', 'Co.', 'Coast', 'Coca-Cola', 'Coche-Dury', 'Coconut', 'Code', 'Coincident', 'Cole', 'Coleco', 'Coleman', 'Collector', 'College', 'Colleges', 'Collins', 'Colo.', 'Colonsville', 'Colony', 'Colorado', 'Colorliner', 'Columbia', 'Columbus', 'Combo', 'Commerce', 'Commission', 'Commissions', 'Committee', 'Commodities', 'Commodity', 'Commodore', 'Common', 'Commonwealth', 'Communication', 'Communications', 'Communist', 'Communists', 'Community', 'Companies', 'Compare', 'Competes', 'Composer', 'Composite', 'Compound', 'Comprehensive', 'Compromises', 'Computer', 'Comtes', 'Concerned', 'Concurrent', 'Conduct', 'Confederation', 'Conference', 'Confidence', 'Confronted', 'Congress', 'Congressman', 'Coniston', 'Conn', 'Conn.', 'Conn.based', 'Connecticut', 'Connections', 'Consent', 'Consequence', 'Consider', 'Consolidated', 'Constitution', 'Constitutional', 'Consumer', 'Containers', 'Contel', 'Continental', 'Continued', 'Continuing', 'Contra', 'Contracts', 'Contras', 'Control', 'Controls', 'Convention', 'Cooper', 'Coors', 'Copperweld', 'Corazon', 'CoreStates', 'Corn', 'Corp', 'Corp.', 'Corporate', 'Corporations', 'Corps', 'Correll', 'Corrigan', 'Corton-Charlemagne', 'Cos.', 'Cosby', 'Cosmopolitan', 'Cost-effective', 'Cote', 'Cotran', 'Cougar', 'Could', 'Council', 'Countries', 'Country', 'County', 'Court', 'Courter', 'Courts', 'Coxon', 'Craftsmen', 'Crane', 'Crash', 'Cray', 'Cray-3', 'Credit', 'Creek', 'Crew', 'Crime', 'Criminal', 'Cristal', 'Criticism', 'Critics', 'Cross', 'Crown', 'Cru', 'Crude', 'Cruise', 'Crum', 'Cullowhee', 'Cultural', 'Cup-Tote', 'Current', 'Currently', 'Curry', 'Customers', 'Cutrer', 'Czech', 'Czechoslovakia', \"D'Amico\", 'D.', 'D.C.', 'DD', 'DDB', 'DEFENSE', 'DEPOSIT', 'DES', 'DIALING', 'DIAPER', 'DISCOUNT', 'DNA', 'DOONESBURY', 'DOT', 'DSM', 'Dahl', 'Dai-Ichi', 'Daily', 'Daiwa', 'Dakota', 'Dakotas', 'Dale', 'Dallara', 'Dallas', 'Dan', 'Dana-Farber', 'Danforth', 'Daniel', 'Daniels', 'Danube', 'Danville', 'Danzig', 'Darkhorse', 'Darrell', 'Data', 'Datapoint', 'Davenport', 'David', 'Davies', 'Davis', 'Day', 'DeFazio', 'Dealers', 'Dean', 'Deane', 'Deborah', 'Debt', 'Dec.', 'December', 'Declining', 'Deere', 'Default', 'Defending', 'Defense', 'Del', 'Del.', 'Delaware', 'Delegates', 'Dell', 'Delmont', 'Delwin', 'Demand', 'Democracy', 'Democrat', 'Democratic', 'Democrats', 'Deng', 'Dennis', 'Denver', 'Department', 'Depending', 'Deposits-a', 'Derchin', 'Deregulation', 'Derek', 'Derel', 'Deryck', 'Des', 'Desai', 'Design', 'Designated', 'Despite', 'Destinations', 'Determining', 'Detroit', 'Developed', 'Development', 'Devon', 'DiLoreto', 'Diamond', 'Diaper', 'Diceon', 'Dick', 'Died', 'Different', 'Dill', 'Dingell', 'Dinkins', 'Discos', 'Disease', 'Disputada', 'Disputado', 'District', 'Dividend', 'Division', 'Do', 'Doak', 'Dobson', 'Documents', 'Dodge', 'Dodger', 'Doerflinger', 'Dogs', 'Dolan', 'Dole', 'Dollar', 'Dollar-yen', 'Dolphin', 'Dolphins', 'Dom', 'Domaine', 'Domestic', 'Dominion', 'Dominus', 'Dompierre', 'Don', 'Donald', 'Donaldson', 'Donoghue', 'Donuts', 'Dorothy', 'Dorrance', 'Douglas', 'Dover', 'Dow', 'Down', 'Dr.', 'Dresser', 'Drew', 'Drexel', 'Dreyfus', 'Drink', 'Driscoll', 'Driskill', 'Drobnick', 'Droz', 'Drug', 'Du', 'Duchossois', 'Due', 'Dugdale', 'Duke', 'Duluth', 'Dumpster', 'Dunkin', \"Dunkin'\", 'Dunn', 'Dunton', 'During', 'Dutch', 'DyDee', 'Dynamics', 'E.', 'E.C.', 'E.W.', 'EC', 'ECONOMIC', 'EEOC', 'ENDED', 'ENERGY', 'EST', 'EURODOLLARS', 'EVERYONE', 'EXCHANGE', 'Each', 'Eagleton', 'Eakle', 'Earle', 'Earlham', 'Earlier', 'Earnings', 'Earns', 'East', 'Eastern', 'Eaton', 'Economic', 'Economics', 'Economists', 'Economy', 'Ed', 'Edelman', 'Edge', 'Edison', 'Editorials', 'Ednie', 'Education', 'Educational', 'Edward', 'Edwards', 'Edwin', 'Eggers', 'Egnuss', 'Egypt', 'Egyptian', 'Einhorn', 'Either', 'El', 'Elco', 'Elders', 'Electric', 'Electronics', 'Eliminate', 'Elisa', 'Elisabeth', 'Elizabeth', 'Elliott', 'Ellis', 'Elmhurst', 'Elsevier', 'Elsewhere', 'Embassy', 'Emile', 'Employers', 'Employment', 'Encouraged', 'Encouraging', 'End', 'Energy', 'Engineers', 'England', 'English', 'English-speaking', 'Enright', 'Ensrud', 'Enterprise', 'Entertainment', 'Environment', 'Environmental', 'Enzor', 'Equal', 'Equitable', 'Equity', 'Equivalents', 'Equus', 'Erbamont', 'Eric', 'Esso', 'Estate', 'Estates', 'Estimated', 'Ethel', 'Eugene', 'Eurobonds', 'Europe', 'European', 'Evans', 'Even', 'Eveready', 'Every', 'Everybody', 'Everyone', 'Everything', 'Evidence', 'Examiner', 'Except', 'Exchange', 'Excision', 'Excluding', 'Experts', 'Explorer', 'Exports', 'Express', 'Express-Buick', 'Exxon', 'Exxon-owned', 'F', 'F-series', 'F.', 'F.H.', 'F.W.', 'FALL', 'FAMILY', 'FAX', 'FBI', 'FEDERAL', 'FERC', 'FIRST', 'FOREIGN', 'FT', 'FT-SE', 'FTC', 'FUNDS', 'Fabian', 'Facilities', 'Factories', 'Factory', 'Fahrenheit', 'Fails', 'Failure', 'Fair', 'Fairlawn', 'Fairless', 'Family', 'Fang', 'Fannie', 'Fans', 'Fantasy', 'Far', 'Fargo', 'Farm', 'Farmers', 'Farren', 'Faulding', 'Fax', 'Fe', 'Fears', 'Feb.', 'February', 'Fed', 'Federal', 'Federalist', 'Federation', 'Feeding', 'Fees', 'Fellowship', 'Felten', 'Feniger', 'Ferdinand', 'Fernando', 'Ferro', 'Few', 'Fewer', 'Fidelity', 'Fields', 'Fifteen', 'Filling', 'Filmed', 'Filter', 'Finance', 'Financial', 'Financially', 'Financing', 'Finland', 'Finmeccanica', 'Finnish', 'Fire', 'Firms', 'First', 'Fischer', 'Fishman', 'Five', 'Fla.', 'Florida', 'Florio', 'Floyd', 'Follow-up', 'Following', 'Food', 'Foods', 'Foot', 'For', 'Force', 'Ford', 'Foreign', 'Foreigners', 'Forget', 'Form', 'Forster', 'Fortune', 'Foster', 'Foundation', 'Founded', 'Fountain', 'Four', 'Fourteen', 'Fourth', 'Fracturing', 'France', 'Frances', 'Francis', 'Francisco', 'Francisco-based', 'Frank', 'Frankfurt', 'Frankly', 'Fred', 'Freddie', 'Frederick', 'Free', 'Freeport-McMoRan', 'Fremantle', 'French', 'Frenzy', 'Freshbake', 'Freud', 'FreudToy', 'Friday', 'Friedrichs', 'Friends', 'From', 'Fuentes', 'Fuji', 'Fujitsu', 'Fulbright', 'Fulham', 'Fulton', 'Fund', 'Fundamentalists', 'Funded', 'Funding', 'Funny', 'Furillo', 'Further', 'Furukawa', 'Futures', 'G', 'G.', 'G.m.b', 'GAF', 'GHKM', 'GHS', 'GM', 'GMAC', 'GOODY', 'GOP', 'GRAINS', 'GROWTH', 'Ga.', 'Gaithersburg', 'Gaja', 'Ganes', 'Garanti', 'Garbage', 'Gardner', 'Garret', 'Garrison', 'Garry', 'Gartner', 'Gary', 'Gas', 'Gasoline', 'Gates', 'Gates-Warren', 'Gayle', 'Gelles', 'GenCorp', 'Genel', 'General', 'Generalized', 'Generally', 'Genetics', 'Geneva', 'Genie', 'George', 'Georgetown', 'Georgia', 'Georgia-Pacific', 'Gerald', 'Gerard', 'Gerhard', 'German', 'Germans', 'Germany', 'Germany-based', 'Getting', 'Giant', 'Giants', 'Gillespie', 'Gillett', 'Gilts', 'Gingl', 'Ginnie', 'Ginsberg', 'Giraud', 'Giuliani', 'Given', 'Glass', 'Glauber', 'Glaxo', 'Glendale', 'Glenham', 'Glenn', 'God', 'Gold', 'Goldinger', 'Goldman', 'Goldsmith', 'Goode', 'Goodman', 'Gorbachev', 'Gordon', 'Gorman', 'Gotta', 'Gottlieb', 'Gov.', 'Government', 'Grace', 'Graduate', 'Graduates', 'Graham', 'Grain', 'Grand', 'Grandsire', 'Grange', 'Grant', 'Gray', 'Great', 'Greece', 'Green', 'Greenville', 'Greenwich', 'Greer', 'Gregory', 'Grgich', 'Griffin', 'Gringo', 'Gross', 'Groton', 'Groucho', 'Group', 'Groups', 'Growth', 'Guarantee', 'Guaranteed', 'Guard', 'Guber', 'Guber\\\\/Peters', 'Guerrilla', 'Guffey', 'Guigal', 'Guild', 'Guinea', 'Gulf', 'Gunmen', 'H.', 'H.N.', 'HHS', 'HOME', 'HUD', 'Hackensack', 'Haden', 'Hadson', 'Hahn', 'Hale', 'Hallett', 'Hallwood', 'Hamilton', 'Hammacher', 'Hammerschmidt', 'Hammersmith', 'Hammerton', 'Hammond', 'Hampshire', 'Hampton', 'Handelsbanken', 'Haney', 'Hanifen', 'Hanover', 'Hans', 'Hara', 'Harcourt', 'Harold', 'Harper', 'Harpo', 'Harris', 'Harrison', 'Harry', 'Hart-Scott-Rodino', 'Hartford', 'Haruki', 'Harvard', 'Hasbrouk', 'Hatch', 'Haut-Brion', 'Have', 'Haven', 'Having', 'Hawaii', 'Hawaiian', 'Hawke', 'Hayes', 'Hayne', 'Hazell', 'He', 'Health', 'Hearst', 'Heatherington', 'Heating', 'Heavy', 'Heidelberg', 'Heightened', 'Heights', 'Heiwado', 'Helsinki', 'Henderson', 'Henry', 'Her', 'Herald', 'Herald-American', 'Herbert', 'Here', 'Heritage', 'Hermitage', 'Herrington', 'High', 'High-grade', 'Higher', 'Highway', 'Hill', 'Hills', 'Hiroshi', 'Hiroshima', 'His', 'History', 'Hitachi', 'Hoffman', 'Hold', 'Holding', 'Holdings', 'Holland', 'Hollingsworth', 'Hollis', 'Holt', 'Home', 'Homebrew', 'Homeless', 'Honduras', 'Hong', 'Honolulu', 'Hoosier', 'Hopkins', 'Hopwood', 'Hormats', 'Horsham', 'Hospital', 'Hostess', 'Hot', 'Hotel', 'Houghton', 'Hours', 'House', 'House-Senate', 'Housing', 'Houston', 'How', 'Howard', 'However', 'Hoylake', 'Hubbard', 'Hubbell', 'Huber', 'Hudnut', 'Hudson', 'Huge', 'Hugo', 'Human', 'Hummerstone', 'Hungary', 'Huntington', 'Huntsville', 'Huppert', 'Hurley', 'Hurricane', 'Hutchinson', 'Hutton', 'Huxtable', 'Hymowitz', 'I', 'I.', 'IBC', 'IBM', 'II', 'III', 'IMSAI', 'INGERSOLL-RAND', 'INQUIRY', 'INS', 'INTER-TEL', 'INTERBANK', 'INTERPUBLIC', 'IOUs', 'IRAs', 'IRS', 'ISSUES', 'IT', 'ITC', 'IX', 'Ian', 'Icahn', 'Ichiro', 'Ideas', 'If', 'Ill', 'Ill.', 'Illinois', 'Illuminating', 'Ilminster', 'Image', 'Imhoff', 'Impact', 'Impediments', 'Imports', 'Improvement', 'In', 'Inc', 'Inc.', 'Income', 'Ind.', 'Indeed', 'Index', 'Index-arbitrage', 'Indexing', 'India', 'Indiana', 'Indianapolis', 'Individual', 'Individuals', 'Indonesia', 'Industrial', 'Industries', 'Industry', 'Information', 'Initiative', 'Inland', 'Inns', 'Inouye', 'Insight', 'Instead', 'Institute', 'Institutes', 'Institution', 'Institutions', 'Instruments', 'Insurance', 'Intecknings', 'Integra', 'Integra-A', 'Intel', 'Intelogic', 'Interleukin-3', 'Intermec', 'Intermediate', 'Internal', 'International', 'Internatonal', 'Interpublic', 'Interviews', 'Invariably', 'Inventor', 'Inventories', 'Investment', 'Investments', 'Investor', 'Investors', 'Iowa', 'Iran-Contra', 'Iran\\\\/Contra', 'Irvine', 'Irving', 'Irwin', 'Is', 'Isabelle', 'Islamabad', 'Islamic', 'Island', 'Islands', 'Israel', 'Issues', 'It', 'Italian', 'Italy', 'Items', 'Itoh', 'Its', 'J.', 'J.L.', 'J.P.', 'JUDGE', 'JUDICIAL', 'Jack', 'Jackson', 'Jacksonville', 'Jacob', 'Jacobs', 'Jaffray', 'Jaguar', 'Jail', 'Jalaalwalikraam', 'Jamaica', 'James', 'Jan.', 'January', 'Japan', 'Japanese', 'Jay', 'Jefferson', 'Jeffrey', 'Jenkins', 'Jennison', 'Jenrette', 'Jeremy', 'Jerritts', 'Jerry', 'Jersey', 'Jersey-based', 'Jews', 'Jihad', 'Jim', 'Jimmy', 'Joanne', 'Jobs', 'Joe', 'Joel', 'John', 'Johnny', 'Johns', 'Johnson', 'Johnson-era', 'Jon', 'Jonas', 'Jonathan', 'Jones', 'Joni', 'Joseph', 'Journal', 'Journals', 'Jovanovich', 'Jr', 'Jr.', 'Judah', 'Judge', 'Judges', 'Judging', 'Judicial', 'Judiciary', 'Judie', 'Judith', 'Julia', 'July', 'June', 'Junk', 'Junk-bond', 'Just', 'Justice', 'K.', 'Kalamazoo', 'Kalipharma', 'Kaminski', 'Kane', 'Kangyo', 'Kansas', 'Kappa', 'Karl', 'Karns', 'Kathleen', 'Kathryn', 'Katzenstein', 'Kawasaki', 'Kean', 'Kearny', 'Keehn', 'Keidanren', 'Keith', 'Kelli', 'Kendrick', 'Kennedy', 'Kenneth', 'Kensington', 'Kent', 'Kentucky', 'Kerensky', 'Ketchum', 'Key', 'Kidder', 'Kill', 'Killeen', 'Kingdom', 'Kingsbridge', 'Kirkpatrick', 'Klauser', 'Klein', 'Kligman', 'Knapp', 'Knopf', 'Knowing', 'Kobe', 'Kodansha', 'Koito', 'Koizumi', 'Komatsu', 'Kondo', 'Kong', 'Korea', 'Krenz', 'Kuala', 'Kuhns', 'Kurland', 'Kuvin', 'Ky.', 'L.', 'L.A.', 'L.P.', 'LANDOR', 'LATE', 'LIBOR', 'LOAN', 'LONDON', 'LSI', 'LTV', 'LYNCH', 'La', 'La.', 'LaSalle', 'Labor', 'Laboratories', 'Labouisse', 'Lafite-Rothschild', 'Lake', 'Lakes', 'Lama', 'Lambert', 'Lancaster', 'Landis', 'Landonne', 'Landor', 'Landrieu', 'Lane', 'Langner', 'Larry', 'Las', 'Laser', 'Last', 'Late', 'Later', 'Latin', 'Latour', 'Lauderhill', 'Laura', 'Laurence', 'Law', 'Lawless', 'Lawmakers', 'Lawyers', 'Lazzaroni', 'Lead', 'Leap', 'Learning', 'Lebanon', 'Lee', 'Lefcourt', 'Left', 'Legal', 'Legend', 'Legg', 'Legislating', 'Legislation', 'Lehman', 'Leigh', 'Leighton', 'Leinonen', 'Leming', 'Leningrad', 'Lentjes', 'Leo', 'Leon', 'Leroy', 'Level', 'Lewis', 'Lezovich', 'Li', 'Liberation', 'Lids', 'Lieberman', 'Life', 'Light', 'Lighthouse', 'Lights', 'Like', 'Lilly', 'Limited', 'Linda', 'Linden', 'Lindner', 'Lines', 'Literacy', 'Little', 'Lizhi', 'Lloyd', 'Loan', 'Lobo', 'Lobsenz', 'Local', 'Loewi', 'Loews', 'Logic', 'London', 'London-based', 'Long', 'Long-term', 'Longer', 'Longwood', 'Lonski', 'Lorain', 'Lord', 'Lorenzo', 'Lorillard', 'Los', 'Louis', 'Louisiana', 'Louisiana-Pacific', 'Louisville', 'Lovett', 'Lowe', 'Lt.', 'Ltd', 'Ltd.', 'Luce', 'Lucille', 'Lufkin', 'Lumpur', 'Lure', 'Lurgi', 'Lurie', 'Lyle', 'Lyn', 'Lynch', 'M.', 'M.D.', 'MEDICINE', 'MERRILL', 'METALS', 'MITI', 'MONEY', 'MORTGAGE', 'Mac', 'MacDonald', 'MacLellan', 'Macheski', 'Machines', 'Macmillan', 'Macmillan\\\\/McGraw', 'Macmillan\\\\/McGraw-Hill', 'Madison', 'Mae', 'Magleby', 'Magna', 'Mahoney', 'Maine', 'Major', 'Majority', 'Makato', 'Make', 'Malaysia', 'Malcolm', 'Malizia', 'Malta', 'Man', 'Management', 'Manchester', 'Manfred', 'Manhattan', 'Manila', 'Mannix', 'Manufacturers', 'Manufacturing', 'Many', 'Mara', 'Marathon', 'Marc', 'March', 'Marchand', 'Marchese', 'Marcus', 'Marder', 'Marge', 'Marie', 'Marie-Louise', 'Marietta', 'Marina', 'Marine', 'Mario', 'Marion', 'Mariotta', 'Mark', 'Market', 'Markets', 'Markey', 'Marshall', 'Martin', 'Marty', 'Marubeni', 'Marvin', 'Mary', 'Maryland', 'Mason', 'Mass', 'Mass.', 'Massachusetts', 'Materials', 'Mather', 'Matthew', 'Matthews', 'Mattress', 'Maughan', 'Maxwell', 'May', 'Maybe', 'Mayer', 'Mayland', 'Mayor', 'Maytag', 'Mazda', 'McAlpine', 'McAuley', 'McCabe', 'McCormick', 'McDermott', 'McDonald', 'McFall', 'McFarlan', 'McGovern', 'McGraw-Hill', 'McGuigan', 'McLeod', 'McMillin', 'Md.', 'Mead', 'Meanwhile', 'Media', 'Medical', 'Medicine', 'Meese', 'Mehrens', 'Mehta', 'Meinders', 'Melamed', 'Mellon', 'Memphis', 'Menem', 'Merc', 'Mercantile', 'Mercedes', 'Mercer', 'Merchant', 'Mercury', 'Mergers', 'Meridian', 'Merrick', 'Merrill', 'Mesnil', 'Messrs.', 'Metal', 'Metallgesellschaft', 'Metropolitan', 'Mexican', 'Mexico', 'Miami', 'Miami-based', 'Mich.', 'Mich.-based', 'Michael', 'Michaels', 'Michelin', 'Michigan', 'Michio', 'Mickey', 'Micronite', 'Middlesex', 'Midland', 'Midvale', 'Midwesco', 'Midwest', 'Midwestern', 'Mifflin', 'Miguel', 'Mike', 'Mikhail', 'Miklos', 'Milan', 'Miles', 'Miller', 'Millis', 'Milne', 'Milwaukee', 'Mindy', 'Minera', 'Mining', 'Minister', 'Ministry', 'Minn.', 'Minneapolis', 'Minneapolis-based', 'Minnesota', 'Miss.', 'Mission', 'Mississippi', 'Missouri', 'Mitchell', 'Mitsubishi', 'Mitsui', 'Mo', 'Mo.', 'Mo.-based', 'Modifications', 'Mogavero', 'Moines', 'Moleculon', 'Mona', 'Monchecourt', 'Monday', 'Monetary', 'Money', 'Monitor', 'Monopolies', 'Mont', 'Montedison', 'Montgomery', 'Monticello', 'Moody', 'Moon', 'Moore', 'More', 'Moreover', 'Morgan', 'Morita', 'Morrell', 'Morrison', 'Mortgage', 'Mortgage-Backed', 'Mortimer', 'Moscow', 'Moslem', 'Mossman', 'Most', 'Mostly', 'Motor', 'Motors', 'Mount', 'Moving', 'Mr.', 'Mrs', 'Mrs.', 'Ms.', 'Much', 'Mulford', 'Municipal', 'Murakami', 'Muramatsu', 'Murray', 'Muscolina', 'Mutchin', 'Mutual', 'Muzzling', 'My', 'Myron', 'N.', 'N.C', 'N.C.', 'N.H.', 'N.J', 'N.J.', 'N.J.-based', 'N.M.', 'N.V', 'N.V.', 'N.Y', 'N.Y.', 'NASD', 'NATIONAL', 'NBC', 'NBC-owned', 'NBI', 'NCNB', 'NCR', 'NEC', 'NESB', 'NEW', 'NIH', 'NIH-appointed', 'NL', 'NRDC', 'NTG', 'NYSE', 'Nagano', 'Nagymaros', 'Najarian', 'Named', 'Namibia', 'Namibian', 'Nancy', 'Napa', 'Napolitan', 'Nasdaq', 'Nasty', 'National', 'Nationale', 'Nations', 'Nationwide', 'Natural', 'Nature', 'Navy', 'Neal', 'Neanderthals', 'Nearby', 'Nebraska', 'Nederlanden', 'Needham', 'Negotiable', 'Negus', 'Neil', 'Neither', 'Nekoosa', 'Nelms', 'Nelson', 'Nemeth', 'Nesconset', 'Nestor', 'Net', 'NetWare', 'Netherlands', 'Neuberger', 'Nev.', 'Nevertheless', 'New', 'Newgate', 'Newhouse', 'News', 'News-American', 'Newspapers', 'Newsweek', 'Next', 'Nicaraguan', 'Nichol', 'Nicholas', 'Nicole', 'Nielsen', 'Nigel', 'Nikkei', 'Nilson', 'Nine', 'Nippon', 'Nipponese', 'Nissan', 'Nissho-Iwai', 'Nixon', 'No', 'No-Smoking', 'No.', 'Nobel', 'Noble', 'Nofzinger', 'Nomenklatura', 'Nomura', 'None', 'Nonetheless', 'Nor', 'Norfolk', 'Noriega', 'Norman', 'North', 'Northampton', 'Northeast', 'Northern', 'Northy', 'Norwalk', 'Norwegian', 'Norwest', 'Norwick', 'Not', 'Note', 'Notes', 'Nov.', 'Novell', 'Novello', 'November', 'Now', 'Numerous', 'Nuys', 'Nylev', \"O'Brien\", \"O'Connor\", \"O'Loughlin\", \"O'Neill\", 'O.', 'OF', 'OFFERED', 'OK', 'ON', 'ORTEGA', 'OSHA', 'OTC', 'OVER', 'Oak', 'Obligations', 'Observing', 'Occidental', 'Occupational', 'Oct.', 'October', 'Odd-year', 'Odyssey', 'Of', 'Off-Track', 'Offering', 'Office', 'Officials', 'Often', 'Ogilvy', 'Oh', 'Ohio', 'Ohio-based', 'Oil', 'Oklahoma', 'Old', 'Old-House', 'Oliver', 'Olsen', 'Olson', 'Olympia', 'Olympic', 'On', 'Once', 'One', 'Only', 'Open', 'Operations', 'Opinion', 'Opportunity', 'Optical', 'Options', 'Opus', 'Or', 'Orange', 'Orchestra', 'Order', 'Orders', 'Ordnance', 'Ore.', 'Organization', 'Organizations', 'Orlando', 'Orleans', 'Orleans-based', 'Orrick', 'Ortega', 'Orville', 'Osaka', 'Osborn', 'Oshkosh', 'Otero', 'Other', 'Otherwise', 'Output', 'Outside', 'Over', 'Overall', 'Overseas', 'Owner', 'Oxnard', 'Oy', 'P.', 'PAP', 'PAPER', 'PAPERS', 'PC', 'PCs', 'PETS', 'PHOTOGRAPH', 'PLC', 'PLO', 'POP', 'PORTING', 'POTABLES', 'PRECIOUS', 'PRIME', 'PRODUCTS', 'PS', 'PTA', 'Pa', 'Pa.', 'Pace', 'Pacific', 'Packages', 'Packaging', 'PaineWebber', 'Pakistan', 'Palestine', 'Palestinian', 'Palisades', 'Palmer', 'Pamela', 'Pamplin', 'Pan', 'Panama', 'Paper', 'Papua-New', 'Paramount', 'Pardus', 'Parent', 'Parents', 'Paribas', 'Paris', 'Park', 'Parkinson', 'Parliament', 'Part', 'Participants', 'Particularly', 'Partly', 'Partners', 'Partnership', 'Party', 'Pasadena', 'Paso', 'Pat', 'Patch', 'Pate', 'Patents', 'Patients', 'Patricia', 'Patrick', 'Pattenden', 'Paul', 'Pauline', 'Payments', 'Payouts', 'Peabody', 'Peck', 'Pencil', 'Peng', 'Peninsula', 'Pennsylvania', 'Pennview', 'Pentagon', 'People', 'Peoria', 'Pepperdine', 'Pepperidge', 'Per-share', 'Perch', 'Perestroika', 'Performing', 'Perhaps', 'Perignon', 'Periods', 'Perpetual', 'Perritt', 'Persky', 'Personal', 'Perspective', 'Pet', 'Peter', 'Peters', 'Petersburg', 'Petersen', 'Petroleum', 'Petrus', 'PhacoFlex', 'Pharaoh', 'Phelan', 'Phi', 'Philadelphia', 'Philadelphia-based', 'Philip', 'Philippine', 'Philippines', 'Phillip', 'Phillips', 'Phipps', 'Phoenix', 'Photograph', 'Photography', 'Pick', 'Pickens', 'Pictures', 'Piero', 'Pierre', 'Pinocchio', 'Piper', 'Piscataway', 'Pitcher', 'Pitney', 'Pittsburgh', 'Place', 'Plains', 'Plan', 'Plans', 'Plantation', 'Planters', 'Platt', 'Plaza', 'Poland', 'Policies', 'Policy', 'Polish', 'Political', 'Polls', 'Polytechnic', 'Pont', 'Poor', 'Poore', 'Population', 'Porter', 'Ports', 'Portugal', 'Possible', 'Possibly', 'Post', 'Posted', 'Power', 'Powers', 'Practical', 'Pramual', 'Prater', 'Pratt', 'Prebon', 'Precious', 'Preferences', 'Preliminary', 'Premier', 'President', 'Pressures', 'Preston', 'Pretax', 'Pretoria', 'Pretty', 'Previously', 'Price', 'Prices', 'Prime', 'Primerica', 'Princeton', 'Prior', 'Private', 'Prize', 'Pro-forma', 'Probably', 'Proceeds', 'Producers', 'Productions', 'Products', 'Prof', 'Prof.', 'Professional', 'Professors', 'Profit', 'Program', 'Programs', 'Propaganda', 'Proper', 'Property\\\\/casualty', 'Proponents', 'Prosecutors', 'Protection', 'Provided', 'Providence', 'Prudential-Bache', 'Psychiatry', 'Pty.', 'Public', 'Publications', 'Publishers', 'Publishing', 'Puccio', 'Puerto', 'Purchase', 'Purchasing', 'Purepac', 'Purina', 'Put', 'Putty', 'Quant', 'Queen', 'R', 'R.', 'R.D.', 'R.I.', 'R.P.', 'RATE', 'RATES', 'RBC', 'READY', 'RMS', 'ROGERS', 'RULING', 'Rabia', 'Radio', 'Rae', 'Rail', 'Railroad', 'Raleigh', 'Rally', 'Ralston', 'Ramirez', 'Randolph', 'Random', 'Ranger', 'Ranieri', 'Rankin', 'Rapanelli', 'Rate', 'Rated', 'Rather', 'Ratings', 'Ratner', 'Ratners', 'Raton', 'Raul', 'Ravenswood', 'Ray', 'Raymond', 'Reached', 'Reagan', 'Reagan-Bush', 'Reames', 'Reasons', 'Recently', 'Recess', 'Red', 'Red-blooded', 'Reddington', 'Redevelopment', 'Reducing', 'Reed', 'Regal', 'Regarded', 'Register', 'Regulatory', 'Rekindled', 'Related', 'Relations', 'Reliance', 'Remember', 'Renaissance-style', 'Renee', 'Rent-A-Car', 'Rep.', 'Report', 'Representative', 'Republican', 'Republicans', 'Research', 'Researchers', 'Reserve', 'Reserves', 'Resistance', 'Resources', 'Restaurant', 'Results', 'Retail', 'Retin-A', 'Reupke', 'Reuter', 'Reuters', 'Rev.', 'Revenue', 'Review', 'Revolution', 'Rexinger', 'Rey', 'Rey\\\\/Fawcett', 'Rhone', 'Rice', 'Richard', 'Richebourg', 'Richmond', 'Rick', 'Ricken', 'Rico', 'Ridgefield', 'Riese', 'Rieslings', 'Right', 'Rill', 'Ringers', 'Ringing', 'Riserva', 'Risks', 'Rita', 'River', 'Riviera', 'Riyadh', 'Robbie', 'Robert', 'Robertson', 'Rock', 'Rockefeller', 'Rockford', 'Rockwell', 'Roederer', 'Roger', 'Rogers', 'Roland', 'Rolling', 'Roman', 'Romanee-Conti', 'Ronald', 'Roof', 'Roosevelt', 'Root', 'Rosenblum', 'Ross', 'Rothschild', 'Rotie', 'Rouge', 'Roukema', 'Rowe', 'Royal', 'Rozell', 'Rubber', 'Rubicam', 'Rubinfien', 'Rudolph', 'Rumors', 'Runkel', 'Russel', 'Russell', 'Russian', 'Russo', 'Rust', 'Rusty', 'Ruth', 'S&L', 'S&P', 'S.', 'S.A', 'S.I.', 'S.p', 'S.p.A.', 'SALARIES', 'SALT', 'SAT', 'SCI', 'SDI', 'SEC', 'SERVICES', 'SHAREDATA', 'SOYBEANS', 'SWITCHING', 'Sabhavasu', 'Sable', 'Sachs', 'Sacramento', 'Sacramento-based', 'Safety', 'Saints', 'Saitama', 'Sale', 'Sales', 'Salinas', 'Salmore', 'Salomon', 'Salon', 'Salty', 'Salvador', 'Samnick', 'Samuel', 'San', 'Sandberg', 'Sanderoff', 'Sandifer', 'Sandinista', 'Sandoz', 'Sandra', 'Sanford', 'Sangyo', 'Santa', 'Sasaki', 'Satrum', 'Saturday', 'Saudi', 'Saul', 'Sauternes', 'Sauvignon', 'Savin', 'Savings', 'Sayers', 'Says', 'Scandinavian', 'Scannell', 'Schaefer', 'Scherer', 'Schlemmer', 'Schmidt', 'Scholastic', 'School', 'Schroder', 'Schwab', 'Schweiz', 'Science', 'Scientists', 'Scoring', 'Scotia', 'Scotland', 'Scott', 'Scowcroft', 'Scripps', 'Scypher', 'Sea', 'Seagate', 'Seahorse', 'Seats', 'Seattle', 'Seattle-based', 'Sebastian', 'Secilia', 'Second', 'Secretary', 'Section', 'Securities', 'Security', 'Seed', 'Sen.', 'Senate', 'Senate-House', 'Send', 'Senior', 'Seniors', 'Seoul', 'Separately', 'Sept.', 'Sept.30', 'September', 'Serial', 'Series', 'Service', 'Services', 'Session', 'Several', 'Seymour', 'Shangkun', 'Shapiro', 'Share', 'ShareData', 'Shaw', 'She', 'Shearson', 'Sheep', 'Sheffield', 'Shelby', 'Shell', 'Shepperd', 'Sherwin', 'Sherwood', 'Shipments', 'Shokubai', 'Shores', 'Short', 'Shorter', 'Shortly', 'Show', 'Showa', 'Shrum', 'Shugart', 'Shuxian', 'Si', 'Sidak', 'Sidewalk', 'Siegal', 'Sierra', 'Sigler', 'Sigmund', 'Signet', 'Signore', 'Signs', 'Silicon', 'Silver', 'Silverman', 'Simeon', 'Similar', 'Similarly', 'Simmons', 'Simon', 'Since', 'Singapore', 'Sino-U.S.', 'Sir', 'Sit', 'Siti', 'Sixth', 'Skilled', 'Skills', 'Skinner', 'Skokie', 'Sloan', 'Smaby', 'Small', 'Smelting', 'Smith', 'So', 'Social', 'Society', 'Soho', 'Sol', 'Solaia', 'Soldado', 'Solihull', 'Solomonic', 'Solution', 'Some', 'Somerset', 'Something', 'Sometimes', 'Sonnett', 'Sonny', 'Sony', 'Soon', 'Sotheby', 'Soup', 'Souper', 'Soups', 'Source', 'South', 'Southeast', 'Southern', 'Soviet', 'Soviets', 'Spaghetti', 'Spain', 'Spanish', 'Speculation', 'Speedway', 'Spence', 'Spending', 'Spiegel', 'Spielvogel', 'Spillane', 'Spirit', 'Spiro', 'Spitler', 'Spoon', 'Spreads', 'Springfield', 'Springs', 'Sprint', 'Squier', 'Sr.', 'St.', 'Stadium', 'Stadiums', 'Stag', 'Stamford', 'Standard', 'Standardized', 'Standing', 'Stanford', 'Stanley', 'Stark', 'Starting', 'State', 'States', 'Stearn', 'Steel', 'Steelworkers', 'Steinberg', 'Stena', 'Stephanie', 'Stephen', 'Stephens', 'Sterling', 'Stern', 'Sternberg', 'Steve', 'Steven', 'Stevens', 'Stevenson', 'Stewart', 'Stieglitz', 'Still', 'Stirlen', 'Stock', 'Stock-index', 'Stockbrokers', 'Stockholders', 'Stockholm', 'Stocks', 'Stoll', 'Stores', 'Stories', 'Stork', 'Story', 'Strait', 'Strategic', 'Street', 'Strindberg', 'Stronach', 'Strong', 'Strother', 'Structural', 'Stuart', 'Stung', 'Subcontractors', 'Such', 'Sugarman', 'Suisse', 'Sulaiman', 'Sullivan', 'Sumitomo', 'Sun', 'Sunday', 'Sundays', 'SuperDot', 'Superconductors', 'Superdome', 'Supportive', 'Supreme', 'Sure', 'Surrey', 'Survey', 'Susan', 'Sutcliffe', 'Svenska', 'Swearingen', 'Sweden', 'Swiss', 'Switzerland', 'Sydney', 'Symbol', 'Symphony', 'Syndicate', 'Synergistics', 'Syracuse', 'System', 'Systems', 'T-shirts', 'T.', 'TEXAS', 'THAT', 'THE', 'THREE', 'TIRED', 'TO', 'TRANSPLANT', 'TREASURY', 'TRIAL', 'TRIMMING', 'TROUBLES', 'TRS-80', 'TRUST', 'TV', 'TWO', 'TXO', 'Taccetta', 'Tache', 'Tailors', 'Taipei', 'Taittinger', 'Taiwan', 'Taizo', 'Takashima', 'Take', 'Takeover', 'Takes', 'Takeshi', 'Taking', 'Takuma', 'Talcott', 'Tandy', 'Tarwhine', 'Tassinari', 'Tatsunori', 'Taurus', 'Taylor', 'Teacher', 'Team', 'Technology', 'Teddy', 'Teikoku', 'Telegraph', 'Telephone', 'Telerate', 'Television', 'Temple', 'Ten', 'Tenn.', 'Terms', 'Terrace', 'Terrence', 'Test', 'Test-preparation', 'Texaco', 'Texan', 'Texas', 'Texas-based', 'Thai', 'Thailand', 'Than', 'That', 'The', 'Their', 'Then', 'Theodore', 'There', 'These', 'They', 'Think', 'Third', 'This', 'Thomas', 'Those', 'Though', 'Thousands', 'Thrall', 'Three', 'Thunderbird', 'Thursday', 'Thus', 'Tiger', 'Time', 'Times', 'Times-Stock', 'Timex', 'Tiny', 'Tip', 'Tiphook', 'Tire', 'Title', 'To', 'Today', 'Tokio', 'Tokyo', 'Tokyu', 'Toledo', 'Tom', 'Tony', 'Too', 'Topix', 'Toronto', 'Toronto-based', 'Torrington', 'Total', 'Totally', 'Tots', 'Touches', 'Tourism', 'Tower', 'Townes', 'Toys', 'Trace', 'Trade', 'Traded', 'Traders', 'Trading', 'Traditional', 'Traditionally', 'Traficant', 'Trailer', 'Train', 'Tramp', 'Trans', 'Transamerica', 'Transportation', 'Travelers', 'Traverse', 'Tray', 'Treasury', 'Treble', 'Trettien', 'Tribe', 'Tribune', 'Trinity', 'Triton', 'Trockenbeerenauslesen', 'Trojan', 'Trotter', 'Troubled', 'Truck', 'Trudeau', 'Trump', 'Trust', 'Trustco', 'Tube', 'Tuesday', 'Tulane', 'Turkey', 'Turnaround', 'Tuscany', 'Two', 'Typical', 'Typically', 'Tyre', 'U.K.', 'U.N.-supervised', 'U.S.', 'U.S.-Japan', 'U.S.-Japanese', 'U.S.-backed', 'U.S.A', 'U.S.A.', 'U.S.S.R.', 'UAL', 'UBS', 'UNION', 'UPHELD', 'US', 'US$', 'USA', 'USIA', 'USX', 'Unable', 'Uncertainty', 'Under', 'Underwood', 'Underwoods', 'Unemployment', 'Unfortunately', 'Unico', 'Unicorp', 'Union', 'United', 'Unitholders', 'University', 'Univest', 'Unless', 'Unlike', 'Until', 'Upham', 'Upjohn', 'Uptick', 'Urban', 'Us', 'Use', 'Used', 'Utah', 'Utilities', 'Utsumi', 'Uzi-model', 'VOA', 'Va.', 'Vacancies', 'Valhi', 'Valley', 'Valrico', 'Value', 'Van', 'VanSant', 'Vanderbilt', 'Vargas', 'Varying', 'Vega', 'Vegas', 'Velcro', 'Venture', 'Veraldi', 'Vermont', 'Veselich', 'Viacom', 'Vicar', 'Vice', 'Vichy', 'Victor', 'Video', 'Village', 'Vineyard', 'Vinken', 'Virgin', 'Virginia', 'Virginians', 'Virtually', 'Visa', 'Vitulli', 'Voice', 'Volatility', 'Volume', 'Vos', 'Vose', 'Voters', 'W.', 'W.D.', 'W.N.', 'W.R.', 'WAFA', 'WAR', 'WFRR', 'WHAS', 'WPP', 'WTD', 'WTVJ', 'Wa', 'Wadsworth', 'Waertsilae', 'Wakayama', 'Wakui', 'Walbrecher', 'Walker', 'Walkman', 'Wall', 'Wallach', 'Walt', 'Walters', 'Wamre', 'War', 'Ward', 'Warehouse', 'Warner', 'Warren', 'Warrenton', 'Warsaw', 'Wash.', 'Washington', 'Washington-based', 'Waste', 'Watanabe', 'Water', 'Waterloo', 'Watson', 'WayMar', 'Wayland', 'Wayne', 'We', 'Weatherly', 'Webb', 'Wednesday', 'Wedtech', 'Week', 'Weil', 'Weisfield', 'Wellcome', 'Wellington', 'Wells', 'Wertheim', 'West', 'Westborough', 'Western', 'Westminster', 'Westport', 'What', 'Wheeland', 'Whelen', 'When', 'Where', 'Whereas', 'Whether', 'While', 'Whip', 'White', 'Whiting', 'Who', 'Why', 'Wick', 'Wickliffe', 'Wilbur', 'Wilcox', 'Wild', 'Wilder', 'Wilfred', 'William', 'Williams', 'Wilmington', 'Wilson', 'Wilton', 'Wine', 'Winiarski', 'Winning', 'Wis.', 'With', 'Without', 'Wohlstetter', 'Wolf', 'Women', 'Wong', 'Wood', 'Woodcliff', 'Woodrow', 'Woodward', 'Woolworth', 'Workers', 'Works', 'Worksheets', 'World', 'World-Wide', 'Wozniak', 'Wright', 'Writers', 'Wu', 'X', 'Xerox', 'Xiaoping', 'YMCA', 'YWCA', 'Yale', 'Yamaichi', 'Yamamoto', 'Yang', 'Yasser', 'Yasuda', 'Year', 'Yeargin', 'Yesterday', 'Yet', 'Yields', 'York', 'York-based', 'Yorker', 'Yorkers', 'Yoshihashi', 'You', 'Young', 'Younkers', 'Your', 'Youths', 'Yquem', 'Z.', 'Zaharah', 'Zayed', 'Zealand', 'Zenith', 'Zicklin', 'Zuckerman', 'Zurich', '`', '``', 'a', 'abandon', 'abandoned', 'abating', 'abide', 'ability', 'able', 'aboard', 'abolishing', 'abortion', 'abortion-related', 'abortionist', 'abortions', 'abounding', 'about', 'above', 'above-market', 'abridging', 'abroad', 'absolute', 'absolutely', 'absorbed', 'absurd', 'absurdity', 'abuse', 'abuzz', 'academic', 'academics', 'acceded', 'accelerated', 'acceleration', 'accept', 'acceptance', 'acceptances', 'accepted', 'accepting', 'access', 'accessories', 'accident', 'accidentally', 'accidents', 'accommodate', 'accommodations', 'accompany', 'accomplishments', 'accord', 'accordance', 'according', 'account', 'accountability', 'accountant', 'accountants', 'accounted', 'accounting', 'accounts', 'accrue', 'accrued', 'accumulated', 'accurate', 'accurately', 'accused', 'accusing', 'aces', 'acetate', 'achieve', 'achieved', 'achievement', 'achievement-test', 'achieving', 'acid', 'acid-rain', 'acknowledge', 'acknowledges', 'acknowledging', 'acne', 'acquire', 'acquired', 'acquirer', 'acquirers', 'acquires', 'acquiring', 'acquisition', 'acquisition-minded', 'acquisitions', 'acre', 'acres', 'across', 'act', 'acted', 'acting', 'action', 'actions', 'active', 'actively', 'activities', 'activity', 'actor', 'actress', 'acts', 'actual', 'actually', 'acute', 'ad', 'adapted', 'adapting', 'add', 'added', 'addiction', 'adding', 'addition', 'additional', 'additions', 'address', 'addresses', 'addressing', 'adds', 'adequate', 'adequately', 'adjustable', 'adjusted', 'adjusting', 'adjustment', 'adjustments', 'administer', 'administration', 'administrations', 'administrative', 'administrator', 'administrators', 'admits', 'admitted', 'admitting', 'adopt', 'adopted', 'ads', 'adult', 'adults', 'advance', 'advanced', 'advances', 'advancing', 'advantage', 'advantages', 'advent', 'adverse', 'advertise', 'advertised', 'advertisements', 'advertisers', 'advertising', 'advertorial', 'advice', 'advise', 'advised', 'adviser', 'advisory', 'advocate', 'advocated', 'advocates', 'advocating', 'aerospace', 'aesthetic', 'affair', 'affairs', 'affect', 'affecting', 'affiliate', 'affiliates', 'affirmative', 'afflicted', 'afford', 'affordable', 'afraid', 'after', 'after-tax', 'aftereffects', 'aftermath', 'afternoon', 'afterwards', 'again', 'against', 'age', 'agencies', 'agency', 'agenda', 'agents', 'aggravated', 'aggressive', 'aggressively', 'aghast', 'ago', 'agree', 'agreed', 'agreed-upon', 'agreeing', 'agreement', 'agreements', 'agrees', 'agricultural', 'agriculture', 'ahead', 'ai', 'aid', 'aide', 'aides', 'aids', 'ailing', 'aim', 'aimed', 'aiming', 'aims', 'air', 'aircraft', 'aired', 'airline', 'airline-related', 'airlines', 'airplane', 'airports', 'aisles', 'akin', 'alarmed', 'alcohol', 'alcoholics', 'alcoholism', 'alert', 'alerts', 'alienated', 'alike', 'alive', 'all', 'all-cash', 'allegations', 'alleged', 'allegedly', 'alleging', 'alleviate', 'allies', 'allocated', 'allocation', 'allow', 'allowed', 'almost', 'alone', 'along', 'already', 'also', 'altar', 'altered', 'altering', 'alternative', 'alternatively', 'alternatives', 'although', 'altogether', 'altruistic', 'alumni', 'always', 'am', 'amass', 'amazingly', 'ambassador', 'ambassadors', 'ambitions', 'ambitious', 'amend', 'amended', 'amending', 'amendment', 'amendments', 'amicable', 'amid', 'among', 'amortization', 'amount', 'amounted', 'amounts', 'amphobiles', 'ample', 'amps', 'amusing', 'an', 'analysis', 'analyst', 'analysts', 'analyze', 'ancestry', 'ancient', 'ancillary', 'and', 'anecdotal', 'anemic', 'anger', 'angered', 'angle', 'angry', 'ankle', 'announce', 'announced', 'announcement', 'announcer', 'annoyed', 'annual', 'annualized', 'annually', 'another', 'answer', 'answered', 'answers', 'anti-China', 'anti-abortion', 'anti-abortionists', 'anti-drug', 'anti-dumping', 'anti-miscarriage', 'anti-morning-sickness', 'anti-program', 'anti-programmers', 'anti-takeover', 'anticipated', 'anticipates', 'anticipating', 'anticipation', 'antitrust', 'antitrust-law', 'anxieties', 'anxious', 'any', 'anybody', 'anyone', 'anything', 'anytime', 'anyway', 'anywhere', 'apart', 'apartment', 'apiece', 'apologize', 'apologizing', 'apology', 'apparel', 'apparent', 'apparently', 'appeal', 'appealing', 'appeals', 'appear', 'appeared', 'appearing', 'appears', 'appease', 'appetite', 'applaud', 'apple', 'apples', 'appliance', 'appliances', 'applicability', 'applicable', 'application', 'applications', 'applied', 'apply', 'appoint', 'appointed', 'appointment', 'appointments', 'appreciation', 'apprehensive', 'approach', 'approached', 'approaches', 'appropriate', 'appropriated', 'appropriation', 'appropriations', 'appropriators', 'approval', 'approve', 'approved', 'approves', 'approximately', 'arbitrage', 'arbitrager', 'arbitragers', 'arbs', 'arched', 'architect', 'architects', 'architectural', 'architecture', 'are', 'area', 'areas', 'argue', 'argued', 'argues', 'arguing', 'argument', 'arguments', 'arise', 'arising', 'arm', 'armed', 'arms', 'around', 'arranged', 'arrangement', 'arrangements', 'array', 'arrest', 'arrested', 'arrival', 'arrive', 'arrived', 'arrows', 'arsenide', 'art', 'article', 'articles', 'artist', 'arts', 'as', 'asbestos', 'asbestos-related', 'asbestosis', 'ascendency', 'ascribe', 'ask', 'asked', 'asking', 'asks', 'aspect', 'aspects', 'aspersions', 'aspires', 'assassinated', 'assault', 'assaults', 'assemble', 'assembled', 'assembly', 'assembly-line', 'assert', 'asserted', 'asserting', 'assertion', 'assertions', 'asserts', 'assess', 'assessed', 'asset', 'asset-sale', 'asset-valuation', 'assets', 'assigned', 'assist', 'assistance', 'assistant', 'assisted', 'associate', 'associated', 'associates', 'association', 'assume', 'assumed', 'assuming', 'assumption', 'assurance', 'assure', 'assured', 'astonishment', 'astronomical', 'at', 'athletic', 'atmosphere', 'attached', 'attack', 'attacking', 'attacks', 'attempt', 'attempted', 'attempting', 'attempts', 'attend', 'attendance', 'attended', 'attending', 'attention', 'attitude', 'attorney', 'attorney-client', 'attorneys', 'attract', 'attracted', 'attracting', 'attractions', 'attractive', 'attracts', 'attributed', 'attributes', 'auction', 'auctioned', 'auctions', 'audience', 'audiocassettes', 'audit', 'auditor', 'augment', 'auspices', 'austere', 'author', 'authorities', 'authority', 'authorized', 'authorizes', 'authorizing', 'authors', 'autions', 'auto', 'auto-safety', 'automated', 'automatic', 'automation', 'automobile', 'automobiles', 'automotive', 'automotive-lighting', 'automotive-parts', 'autos', 'autumn', 'available', 'avenge', 'avenues', 'average', 'averaged', 'avert', 'averted', 'avid', 'avoid', 'avoiding', 'awaits', 'awarded', 'awarding', 'awards', 'aware', 'awareness', 'away', 'awful', 'awfully', 'b', 'baby', 'back', 'backdrop', 'backed', 'backers', 'backgrounds', 'backing', 'backlog', 'backlogs', 'backyard', 'bad', 'badly', 'bag', 'bags', 'bakery', 'balance', 'balanced', 'bald-faced', 'balkanized', 'balked', 'ball', 'balloon', 'ballot', 'balloting', 'ballots', 'ballpark', 'ballplayers', 'ballroom', 'balls', 'ban', 'band', 'band-wagon', 'bang', 'bank', 'bank-backed', 'banker', 'bankers', 'banking', 'bankroll', 'bankrupt', 'bankruptcy', 'bankruptcy-law', 'banks', 'banned', 'banning', 'banquet', 'bans', 'bar', 'barely', 'bargain', 'bargains', 'barge', 'barges', 'barking', 'barometer', 'barred', 'barrel', 'barrels', 'barrier', 'barriers', 'bars', 'base', 'baseball', 'based', 'bases', 'basic', 'basically', 'basis', 'basket', 'baskets', 'bass', 'bat', 'battered', 'battery', 'battery-operated', 'batting', 'battle', 'battles', 'be', 'bearing', 'bearish', 'beat', 'beaten', 'beautiful', 'beauty', 'became', 'because', 'become', 'becomes', 'becoming', 'bedding', 'beds', 'been', 'beer', 'beer-belly', 'beers', 'befell', 'before', 'beforehand', 'befuddled', 'beg', 'began', 'begin', 'beginning', 'begins', 'begot', 'begun', 'behalf', 'behaving', 'behavior', 'beheading', 'behemoth', 'behest', 'behind', 'being', 'beleaguered', 'belfries', 'belfry', 'believe', 'believed', 'believes', 'bell', 'bell-ringer', 'bell-ringing', 'bellringers', 'bells', 'bellwether', 'belong', 'belonging', 'belongs', 'below', 'belt', 'belts', 'bench', 'benchmark', 'benchmarks', 'bend', 'beneficial', 'beneficiaries', 'beneficiary', 'benefit', 'benefited', 'benefits', 'benevolent', 'benign', 'best', 'best-seller', 'best-selling', 'besuboru', 'betrayer', 'better', 'betterment', 'betting', 'between', 'beverage', 'beyond', 'biannual', 'bias', 'bicameral', 'bickering', 'bid', 'bidder', 'bidders', 'bidding', 'bids', 'big', 'big-ticket', 'big-time', 'bigger', 'biggest', 'bilateral', 'bilingual', 'bill', 'billed', 'billing', 'billings', 'billion', 'billion-dollar', 'billionaire', 'billions', 'bills', 'bin', 'binders', 'binge', 'biscuit', 'bit', 'bitter', 'bitterness', 'black', 'black-and-white', 'blackjack', 'blacks', 'blamed', 'blames', 'blank', 'bled', 'blender', 'bless', 'blessing', 'blighted', 'blind', 'blindfold', 'blinks', 'blip', 'bloc', 'block', 'blocked', 'blocks', 'blood', 'blood-cell', 'bloods', 'bloody', 'blow', 'bludgeon', 'blue', 'blue-chip', 'blue-chips', 'blue-collar', 'blurred', 'board', 'boarding', 'boast', 'body', 'boilers', 'bold', 'bolster', 'bolstered', 'bomb', 'bombarding', 'bomber', 'bombers', 'bombs', 'bond', 'bonds', 'bone', 'bonus', 'bonuses', 'boogieman', 'book', 'booked', 'booklet', 'booklets', 'books', 'boom', 'boomers', 'booming', 'boost', 'boosted', 'boosters', 'boosting', 'boosts', 'boots', 'borders', 'born', 'borough', 'borrowed', 'borrowers', 'borrowing', 'borrowings', 'botched', 'both', 'bothered', 'bottle', 'bottlenecks', 'bottles', 'bottom', 'bottom-line', 'bought', 'bounce', 'bounced', 'bout', 'boutique', 'bowed', 'box', 'boy', 'boyfriends', 'boys', 'brain', 'brakes', 'branch', 'branches', 'brand', 'brat', 'breach', 'bread', 'bread-and-butter', 'break', 'breakdown', 'breaker', 'breakers', 'breakfast', 'breaking', 'breaks', 'breathe', 'breathed', 'breathtaking', 'breed', 'breezy', 'bribe', 'bribed', 'bribery', 'bribing', 'bricks', 'bridge', 'bridges', 'brief', 'briefing', 'briefings', 'bright', 'brightened', 'brightest', 'brilliant', 'brilliantly', 'bring', 'bringing', 'brings', 'broad', 'broad-based', 'broadcasting', 'broadcasts', 'broaden', 'broadened', 'broader', 'broadly', 'broke', 'broken', 'broker', 'brokerage', 'brokering', 'brokers', 'bronze', 'brought', 'brunt', 'brushed', 'brutal', 'buck', 'buckle', 'budding', 'budget', 'buffet', 'build', 'building', 'building-products', 'buildings', 'builds', 'buildup', 'built', 'built-from-kit', 'bulk', 'bull', 'bulldozers', 'bullets', 'bulls', 'bunches', 'bundles', 'bundling', 'buoyed', 'burden', 'burdens', 'bureaucracy', 'bureaucratic', 'burlap', 'burn', 'burned', 'buses', 'bushel', 'bushels', 'busiest', 'business', 'businesses', 'businessman', 'businessmen', 'busloads', 'bust', 'but', 'butterfly', 'buttoned-down', 'buy', 'buy-back', 'buy-out', 'buy-outs', 'buyer', 'buyers', 'buying', 'buys', 'by', 'bygone', 'ca', 'cabinet', 'cable', 'cabs', 'cadet', 'cadmium', 'cake', 'calculate', 'calculated', 'calculations', 'calculator', 'call', 'called', 'caller', 'callers', 'calling', 'calls', 'came', 'camera', 'campaign', 'campaigner', 'campaigning', 'campaigns', 'campus', 'can', 'cancellation', 'cancer', 'cancer-causing', 'cancers', 'candidate', 'candidates', 'cane', 'canine', 'cap', 'capability', 'capacity', 'capital', 'capital-gains', 'capital-markets', 'capitalism', 'capitalist', 'capitalize', 'capitalized', 'capped', 'capsules', 'captivating', 'captive', 'capture', 'car', 'car-care', 'car-development', 'car-safety', 'carbon', 'card', 'card-member', 'cardboard', 'cardiovascular', 'cards', 'care', 'cared', 'career', 'careers', 'carefree', 'careful', 'carefully', 'caretaker', 'cargo', 'carillons', 'carried', 'carrier', 'carriers', 'carries', 'carry', 'carrying', 'cars', 'cartilage', 'cartoonist', 'cascading', 'case', 'cases', 'cash', 'cash-and-stock', 'cash-flow', 'cash-rich', 'casino', 'cast', 'cast-iron', 'casting', 'castle', 'casts', 'cataract', 'catch', 'catch-up', 'categories', 'category', 'cater', 'cattle', 'caught', 'cause', 'caused', 'causes', 'causing', 'caustic', 'caution', 'cautioned', 'cautious', 'cautiously', 'caveat', 'cavernous', 'cease-fire', 'ceiling', 'celebrate', 'celebrity', 'cell', 'cells', 'cement', 'censorship', 'cent', 'centennial', 'center', 'centerpiece', 'centers', 'centimeter', 'central', 'centralized', 'cents', 'cents-a-unit', 'century', 'ceramic', 'cereal', 'certain', 'certainly', 'certificate', 'certificates', 'certified', 'certin', 'chain', 'chaired', 'chairman', 'chairs', 'chalk', 'challenge', 'challenging', 'chamber', 'championing', 'champions', 'chance', 'change', 'change-ringing', 'changed', 'changes', 'changing', 'channel', 'chaos', 'chaotic', 'character', 'characteristics', 'characterized', 'characterizing', 'characters', 'charge', 'charged', 'charges', 'charging', 'charm', 'charts', 'chary', 'chase', 'chassis', 'chastised', 'chat', 'chatter', 'chauffeur', 'cheaper', 'cheapest', 'cheat', 'cheating', 'check', 'checkbook', 'checking', 'checks', 'cheerleaders', 'cheerleading', 'chefs', 'chemical', 'chemicals', 'chest', 'chicago', 'chief', 'chiefly', 'child', 'childish', 'children', 'chilled', 'chip', 'chips', 'chocolate', 'choice', 'choose', 'chooses', 'choosing', 'chopped', 'chose', 'chosen', 'chronicle', 'chrysotile', 'chunk', 'chunks', 'church', 'church-goers', 'churches', 'cigarette', 'cigarettes', 'circle', 'circuit', 'circuit-board', 'circuit-breaker', 'circulated', 'circulation', 'circumstances', 'citation', 'citations', 'cite', 'cited', 'cites', 'cities', 'citing', 'citizen', 'citizen-sparked', 'citizens', 'city', 'city-owned', 'civics', 'civil', 'civilization', 'claim', 'claimed', 'claiming', 'claims', 'clamped', 'clannish', 'clarified', 'clarify', 'clashed', 'class', 'classed', 'classes', 'classic', 'classical', 'classics', 'classifications', 'classified', 'classmates', 'classroom', 'clause', 'clean', 'clean-air', 'clean-up', 'cleaned', 'cleaner', 'cleaner-burning', 'cleanliness', 'cleanup', 'clear', 'clearance', 'cleared', 'clearer', 'clearing', 'clearly', 'clerics', 'clerks', 'clicked', 'client', 'clients', 'climate', 'climb', 'climbed', 'climbing', 'clipped', 'clippings', 'clobbered', 'clock', 'close', 'close-up', 'closed', 'closed-end', 'closely', 'closeness', 'closer', 'closing', 'cloth', 'clothes', 'clothing', 'cloud', 'clouding', 'clouds', 'club', 'clubs', 'clues', 'cluster', 'cluttered', 'co-author', 'co-chairman', 'co-developers', 'co-founded', 'co-owner', 'coaching', 'coal', 'coal-fired', 'coated', 'cocky', 'cocoa', 'code', 'codified', 'coffee', 'cohesive', 'coincidental', 'coke', 'cold', 'colder', 'coliseum', 'collaborated', 'collapse', 'collapsed', 'collar', 'collateral', 'colleagues', 'collected', 'collecting', 'collection', 'collections', 'collective', 'collective-bargaining', 'college', 'college-bowl', 'colleges', 'colony', 'color', 'colored', 'column', 'columns', 'combat', 'combination', 'combinations', 'combine', 'combined', 'combines', 'come', 'comeback', 'comedies', 'comes', 'comfort', 'comfortable', 'comfortably', 'coming', 'command', 'commanded', 'comment', 'commenting', 'comments', 'commerce', 'commercial', 'commercials', 'commission', 'commissions', 'commit', 'commitment', 'commitments', 'committed', 'committee', 'committees', 'committing', 'commodities', 'commodity', 'common', 'common-law', 'communication', 'communications', 'community', 'companies', 'companion', 'company', 'comparable', 'compare', 'compared', 'compares', 'comparison', 'compassion', 'compatible', 'compel', 'compelling', 'compensate', 'compensation', 'compete', 'competed', 'competes', 'competing', 'competition', 'competitions', 'competitive', 'competitor', 'competitors', 'compilation', 'compiled', 'complain', 'complained', 'complaining', 'complains', 'complaint', 'complaints', 'complete', 'completed', 'completely', 'completeness', 'completing', 'completion', 'complex', 'complexes', 'compliance', 'complicate', 'complicated', 'composed', 'composite', 'compositions', 'composting', 'compound', 'comprehensive', 'compressed', 'compromise', 'computer', 'computer-aided', 'computer-assisted', 'computer-driven', 'computer-generated', 'computer-services', 'computer-system-design', 'computerize', 'computerized', 'computers', 'computing', 'concede', 'concedes', 'conceding', 'conceivable', 'concentrate', 'concentrated', 'concentrating', 'concentration', 'concept', 'concern', 'concerned', 'concerns', 'concession', 'concessions', 'conclude', 'concluded', 'concrete', 'condemned', 'condemning', 'condition', 'conditional', 'conditions', 'conduct', 'conducted', 'conducting', 'conduit', 'conferees', 'conference', 'confidant', 'confidence', 'confident', 'confidential', 'confined', 'confines', 'confirm', 'confirmed', 'confirms', 'conflict', 'conflicts', 'conforms', 'confrontational', 'confuse', 'confused', 'conglomerate', 'congregation', 'congressional', 'congressman', 'congressmen', 'connected', 'connection', 'consecutive', 'consensus', 'consent', 'consented', 'consequence', 'consequences', 'conservative', 'consider', 'considerable', 'considerably', 'consideration', 'considered', 'considering', 'considers', 'consist', 'consistent', 'consistently', 'consisting', 'consists', 'consomme', 'consonant', 'conspicuous', 'constantly', 'constituent', 'constitute', 'constitutional', 'constitutional-law', 'constraints', 'construction', 'construed', 'consultant', 'consultants', 'consulting', 'consumer', 'consumer-driven', 'consumers', 'consumption', 'contacted', 'contacts', 'contain', 'contained', 'container', 'containers', 'containing', 'contains', 'contemporary', 'contends', 'content', 'contest', 'contesting', 'contests', 'context', 'continental', 'contingency-fee', 'contingent', 'continually', 'continue', 'continued', 'continues', 'continuing', 'continuingly', 'continuous', 'continuously', 'contract', 'contracted', 'contractor', 'contractors', 'contracts', 'contradict', 'contradictions', 'contrary', 'contrast', 'contrasts', 'contribute', 'contributed', 'contributing', 'contribution', 'contributions', 'contributors', 'control', 'controlled', 'controlling', 'controls', 'controversial', 'controversy', 'convenient', 'conventional', 'conversations', 'conversion', 'convert', 'converted', 'convertible', 'converting', 'convey', 'convicted', 'conviction', 'convince', 'convinced', 'cool', 'cooled', 'cooperating', 'cooperation', 'coordinate', 'coordinator', 'cop-killer', 'cope', 'copied', 'copies', 'copper', 'copper-rich', 'copy', 'copycats', 'copying', 'copyright', 'copyrights', 'core', 'corkscrews', 'corn', 'corn-buying', 'corners', 'cornerstones', 'corporate', 'corporate-wide', 'corporation', 'corporations', 'correct', 'corrected', 'correcting', 'correspondence', 'corridors', 'corrupt', 'corruption', 'cosmetic', 'cost', 'cost-benefit', 'cost-control', 'cost-cutting', 'cost-sharing', 'costly', 'costs', 'cotton', 'could', 'council', 'councils', 'counseling', 'count', 'counter', 'counteract', 'counterattack', 'counterpart', 'counterparts', 'counterrevolutionary', 'counterweight', 'counting', 'countless', 'countries', 'country', 'counts', 'couple', 'coupled', 'couples', 'coupon', 'courage', 'course', 'court', 'court-ordered', 'courtroom', 'courts', 'cousins', 'cover', 'coverage', 'covered', 'covering', 'covers', 'cow', 'cozy', 'crack', 'crackdown', 'cracks', 'craft', 'crane-safety', 'cranked', 'crapshoot', 'crash', 'crashes', 'crashing', 'craze', 'creams', 'create', 'created', 'creates', 'creating', 'creation', 'creativity', 'creator', 'creature', 'credentials', 'credibility', 'credit', 'credit-rating', 'creditor', 'creditors', 'credits', 'creditworthiness', 'crews', 'crib', 'crime', 'criminal', 'crippled', 'crises', 'crisis', 'criteria', 'critical', 'criticism', 'criticized', 'critics', 'crocidolite', 'crook', 'crookery', 'crop', 'crops', 'cross-border', 'crossed', 'crossing', 'crowd', 'crowded', 'crucial', 'crude', 'cruise', 'cruising', 'crunch', 'crusade', 'crushed', 'cry', 'crying', 'crystal', 'crystal-lattice', 'crystals', 'cue', 'cues', 'culprit', 'cult', 'cultivated', 'cultivation', 'cumbersome', 'cups', 'curb', 'curbed', 'curbing', 'cure', 'curled', 'curly', 'currencies', 'currency', 'current', 'current-carrying', 'currently', 'curriculum', 'curse', 'curses', 'curtail', 'curtailed', 'cushion', 'cushioned', 'custom', 'custom-chip', 'customer', 'customers', 'customized', 'cut', 'cutbacks', 'cute', 'cuts', 'cutthroat', 'cutting', 'cuvees', 'cycle', 'cycles', 'cyclical', 'dailies', 'daily', 'dairy', 'dam', 'damage', 'damaged', 'damages', 'damaging', 'damn', 'dams', 'dances', 'dancing', 'dark', 'darned', 'dashed', 'dashes', 'data', 'date', 'dating', 'daughters', 'dawn', 'day', 'day-care', 'day-to-day', 'days', 'de', 'dead', 'dead-eyed', 'deadline', 'deadwood', 'deal', 'dealers', 'dealing', 'dealings', 'deals', 'dean', 'death', 'deaths', 'debacle', 'debate', 'debenture', 'debentures', 'debt', 'debts', 'debut', 'decade', 'decade-long', 'decades', 'decay', 'deceptive', 'decide', 'decided', 'decides', 'decision', 'decisions', 'decisive', 'deck', 'declaration', 'declare', 'declared', 'declaring', 'decline', 'declined', 'decliners', 'declines', 'declining', 'decorated', 'decorator', 'decrease', 'decried', 'decries', 'deducting', 'deeds', 'deem', 'deemed', 'deeply', 'default', 'defeat', 'defeated', 'defeats', 'defects', 'defendant', 'defendants', 'defended', 'defends', 'defense', 'defensive', 'deficiencies', 'deficit', 'define', 'defined', 'defines', 'definitely', 'definitive', 'defuse', 'defying', 'degenerative', 'degree', 'degrees', 'del', 'delay', 'delayed', 'delays', 'delete', 'deliberately', 'deliberating', 'delisted', 'deliver', 'delivered', 'delivering', 'delivery', 'deluge', 'deluxe', 'demand', 'demanding', 'demands', 'demise', 'demobilize', 'democracy', 'democratic', 'demographic', 'demonstrates', 'demonstrating', 'demonstrations', 'demonstrators', 'den', 'denial', 'denied', 'denies', 'denominator', 'denounce', 'denouncing', 'deny', 'denying', 'department', 'departments', 'departure', 'departures', 'depend', 'depended', 'depending', 'depends', 'depleted', 'deplorable', 'deposit', 'depositary', 'depository', 'deposits', 'depressed', 'depression', 'depressions', 'deprivation', 'deprived', 'deputy', 'deregulation', 'derisively', 'derivative', 'derivatives', 'derived', 'descending', 'describe', 'described', 'describes', 'deserve', 'deserving', 'design', 'designated', 'designation', 'designations', 'designed', 'designer', 'designers', 'designing', 'desirable', 'desire', 'desired', 'desires', 'desktop', 'desperately', 'despise', 'despised', 'despite', 'dessert', 'destination', 'destroy', 'desultory', 'detail', 'detailed', 'details', 'detective-story', 'deter', 'deteriorated', 'deteriorating', 'deterioration', 'determine', 'determined', 'deterring', 'devastating', 'develop', 'developed', 'developer', 'developing', 'development', 'developments', 'develops', 'deviant', 'deviation', 'device', 'devices', 'devise', 'devised', 'devote', 'devoted', 'devouring', 'dexterity', 'diabetes', 'diagnosed', 'diagram', 'dialogue', 'diamond', 'diaper', 'did', 'die', 'died', 'diethylstilbestrol', 'differ', 'difference', 'differences', 'different', 'differential', 'differently', 'difficult', 'difficulties', 'difficulty', 'digs', 'dilemma', 'diluted', 'diming', 'diminish', 'diminished', 'dinner', 'dinosaurs', 'diplomacy', 'diplomatic', 'diplomats', 'direct', 'direct-investment', 'direct-mail', 'directed', 'directing', 'direction', 'directionless', 'directly', 'director', 'directors', 'directorship', 'dirtiest', 'dirty', 'disadvantage', 'disaffected', 'disaffiliation', 'disagree', 'disagreeable', 'disagreed', 'disagreement', 'disagrees', 'disappear', 'disappears', 'disappointed', 'disappointing', 'disappointment', 'disapproval', 'disapprove', 'disapproved', 'disarray', 'disaster', 'disaster-assistance', 'disasters', 'discarded', 'discharge', 'disciplinary', 'disciplined', 'disclose', 'disclosed', 'disclosing', 'disclosure', 'disclosures', 'disconnect', 'discontent', 'discontinue', 'discontinued', 'discontinuing', 'discordant', 'discos', 'discount', 'discounts', 'discourage', 'discouraging', 'discovered', 'discredit', 'discrepancies', 'discretion', 'discretionary', 'discrimination', 'discuss', 'discussed', 'discussing', 'discussion', 'discussions', 'disease', 'diseases', 'disembodied', 'disgorge', 'disk', 'dislike', 'dismal', 'dismay', 'dismayed', 'dismiss', 'dismissal', 'dismissed', 'disorders', 'disparate', 'display', 'displays', 'disposables', 'disposal', 'disposed', 'disproportionate', 'dispute', 'disputed', 'disputes', 'disregard', 'disruption', 'disruptive', 'disseminate', 'disseminating', 'dissemination', 'dissident', 'dissolves', 'distant', 'distasteful', 'distinct', 'distinguished', 'distorted', 'distributable', 'distributed', 'distributes', 'distribution', 'distributor', 'district', 'districts', 'disturbing', 'disturbs', 'divergence', 'diverse', 'diversification', 'diversified', 'diversify', 'diversifying', 'diversionary', 'divest', 'divided', 'dividend', 'dividends', 'dividing', 'division', 'divisions', 'do', 'do-it-yourself', 'docile', 'doctor', 'doctorate', 'doctors', 'doctrine', 'document', 'documented', 'documents', 'does', 'doing', 'doling', 'dollar', 'dollar-denominated', 'dollars', 'dolls', 'domestic', 'domestically', 'dominance', 'dominant', 'dominated', 'dominates', 'dominating', 'domination', 'done', 'donor', 'door', 'doors', 'dormitory', 'double', 'double-A', 'double-C', 'double-digit', 'doubled', 'doubt', 'doubted', 'doubts', 'down', 'downfall', 'downgrade', 'downgraded', 'downgrading', 'downright', 'downside', 'downtown', 'downturn', 'downward', 'dozen', 'dozens', 'drafted', 'drag-down', 'drain', 'dramatic', 'dramatically', 'drastic', 'drastically', 'draw', 'drawbacks', 'drawing', 'drawn', 'draws', 'dreadful', 'dreamed', 'dreamt', 'drearier', 'dressed', 'drew', 'drift', 'drifted', 'drink', 'drinking', 'drinks', 'drive', 'driver', 'drivers', 'drives', 'driving', 'drooled', 'drop', 'drop-in', 'drop-off', 'dropped', 'drops', 'drought', 'droughts', 'drove', 'drug', 'drugs', 'drums', 'drunk', 'dry', 'dubbed', 'duck', 'duckling', 'due', 'duly', 'dumbfounded', 'dummies', 'dumped', 'duo', 'durable', 'durable-goods', 'during', 'dust', 'dust-up', 'dusty', 'duties', 'duty', 'duty-free', 'dwindling', 'dynamics', 'each', 'eager', 'earlier', 'earliest', 'early', 'early-retirement', 'earn', 'earned', 'earning', 'earnings', 'earns', 'earthquake', 'ease', 'eased', 'eases', 'easier', 'easily', 'easing', 'easy', 'easy-to-read', 'eat', 'eating', 'echoed', 'eclectic', 'eclipse', 'economic', 'economical', 'economics', 'economies', 'economist', 'economists', 'economy', 'edged', 'editing', 'edition', 'editions', 'editor', 'editorial', 'editorially', 'editors', 'educated', 'education', 'educational', 'educators', 'effect', 'effective', 'effectively', 'effects', 'efficiencies', 'efficiency', 'efficient', 'effort', 'efforts', 'egregious', 'eight', 'eight-count', 'eight-month', 'eight-person', 'eighth', 'either', 'elaborate', 'elderly', 'elected', 'election', 'elections', 'electorate', 'electric', 'electric-utility', 'electrical', 'electrical-safety', 'electricity', 'electronic', 'electronics', 'element', 'elementary', 'elephant', 'elevators', 'eligible', 'eliminate', 'eliminated', 'eliminates', 'eliminating', 'elimination', 'elite', 'else', 'elsewhere', 'elusive', 'emasculate', 'embarrassing', 'embassy', 'embroiled', 'emerge', 'emerged', 'emergencies', 'emergency', 'emerges', 'emerging', 'emigrate', 'emigres', 'emissions', 'emotional', 'emotions', 'emphasis', 'emphasized', 'empire', 'employed', 'employee', 'employees', 'employer', 'employers', 'employment', 'employs', 'empowered', 'empowers', 'empty', 'enable', 'enabled', 'enables', 'enabling', 'enact', 'enacted', 'encircling', 'enclosed', 'encounter', 'encourage', 'encourages', 'encouraging', 'encroaching', 'end', 'ended', 'ending', 'endless', 'endorse', 'endorsed', 'ends', 'energetic', 'energy', 'energy-services', 'enforce', 'enforcement', 'engage', 'engaged', 'engaging', 'engineer', 'engineered', 'engineering', 'engineers', 'engines', 'enhanced', 'enhances', 'enjoy', 'enjoyed', 'enjoying', 'enlarged', 'enormous', 'enormously', 'enough', 'enraged', 'enrollment', 'ensembles', 'ensnarled', 'ensure', 'entangled', 'enter', 'entered', 'entering', 'enters', 'entertain', 'entertaining', 'entertainment', 'enthusiasm', 'entice', 'enticed', 'entire', 'entirely', 'entitled', 'entitles', 'entity', 'entrance', 'entrants', 'entrench', 'entrenched', 'entrepreneur', 'entrusted', 'enviable', 'environment', 'environmental', 'environmentalists', 'environments', 'envoy', 'episodes', 'equal', 'equal-opportunity', 'equaling', 'equally', 'equals', 'equip', 'equipment', 'equipped', 'equities', 'equity', 'equity-purchase', 'equivalent', 'era', 'erasures', 'erect', 'erode', 'erodes', 'erroneous', 'error', 'errors', 'erudite', 'escalated', 'escape', 'escaped', 'escort', 'escrow', 'especially', 'espouse', 'essays', 'essentially', 'establish', 'established', 'establishing', 'establishment', 'estate', 'estimate', 'estimated', 'estimates', 'estimation', 'etc.', 'eternal', 'ethanol', 'ethical', 'ethics', 'evaluated', 'evaluating', 'evaluation', 'evaporated', 'even', 'evening', 'evenly', 'evensong', 'event', 'events', 'eventually', 'ever', 'every', 'everybody', 'everyday', 'everyone', 'everything', 'everywhere', 'evidence', 'evident', 'evil', 'evoke', 'evoking', 'evolution', 'evolve', 'evolved', 'ex-dividend', 'exacerbated', 'exact', 'exactly', 'examination', 'examinations', 'examine', 'examined', 'example', 'examples', 'exceed', 'exceeded', 'exceeding', 'exceedingly', 'exceeds', 'excellence', 'except', 'exception', 'exceptional', 'exceptionally', 'excess', 'excesses', 'excessive', 'excessively', 'exchange', 'exchanges', 'exchanging', 'excise', 'excision', 'excited', 'exciting', 'exclusion', 'exclusive', 'exclusively', 'execs', 'execute', 'executed', 'executes', 'executing', 'execution', 'executive', 'executive-office', 'executives', 'exempt', 'exemption', 'exercisable', 'exercise', 'exercised', 'exerting', 'exhaust', 'exhausted', 'exhibited', 'exhibition', 'exhibits', 'exist', 'existed', 'existence', 'existing', 'exists', 'exit', 'exits', 'exodus', 'exorbitant', 'expand', 'expanded', 'expanding', 'expands', 'expansion', 'expect', 'expectation', 'expectations', 'expected', 'expecting', 'expects', 'expedited', 'expelled', 'expendable', 'expenditures', 'expense', 'expenses', 'expensive', 'experience', 'experienced', 'experiencing', 'expert', 'experts', 'expire', 'expired', 'expires', 'explain', 'explained', 'explaining', 'explains', 'explanatory', 'exploded', 'exploit', 'exploration', 'explore', 'explosion', 'explosive', 'export', 'export-oriented', 'exporter', 'exporters', 'exports', 'exposed', 'exposure', 'exposures', 'expressed', 'expressing', 'expression', 'expressly', 'expunged', 'extend', 'extended', 'extending', 'extension', 'extensive', 'extent', 'external', 'extra', 'extramarital', 'extraordinary', 'extremely', 'exuded', 'eye', 'eyeing', 'eyes', 'fabled', 'fabricate', 'fabricator', 'facade', 'face', 'faced', 'faces', 'facial', 'facilitate', 'facilities', 'facility', 'facing', 'fact', 'factor', 'factoring', 'factors', 'factory', 'facts', 'faculty', 'faded', 'fail', 'failed', 'failing', 'fails', 'failures', 'faint', 'fainting', 'fair', 'fairly', 'fairness', 'faith', 'faithful', 'fall', 'fallen', 'falling', 'falls', 'falsify', 'faltered', 'famed', 'familiar', 'familiarization', 'families', 'family', 'family-planning', 'famous', 'fan', 'fanciful', 'fancy', 'fanfare', 'fans', 'far', 'fare', 'fared', 'farm', 'farmers', 'farms', 'fashion', 'fashioned', 'fast', 'fast-food', 'fast-growing', 'fasteners', 'faster', 'fastest', 'fastest-growing', 'fat', 'fatalities', 'fate', 'father', 'father-in-law', 'fattened', 'fault', 'faultlessly', 'favor', 'favorable', 'favorably', 'favored', 'favorite', 'favors', 'fawning', 'fear', 'feared', 'fearful', 'fears', 'feasible', 'feature', 'featured', 'features', 'featuring', 'fed', 'federal', 'federally', 'fee', 'feed', 'feeds', 'feel', 'feeling', 'feelings', 'feels', 'fees', 'feet', 'feline', 'fell', 'fellow', 'felonies', 'felony', 'felt', 'female', 'fend', 'fetal', 'fetal-tissue', 'fetching', 'feudal', 'few', 'fewer', 'fiber', 'fiber-end', 'fiber-optic', 'fibers', 'field', 'fielded', 'fields', 'fierce', 'fifth', 'fifth-grade', 'fifth-largest', 'fight', 'fighters', 'fighting', 'fights', 'figure', 'figures', 'file', 'filed', 'filing', 'filings', 'fill', 'filled', 'filling', 'fills', 'film', 'films', 'filter', 'filters', 'final', 'finalized', 'finally', 'finance', 'financed', 'financial', 'financial-services', 'financially', 'financier', 'financing', 'financings', 'find', 'finding', 'findings', 'finds', 'fine', 'fined', 'fines', 'finest', 'fingers', 'finished', 'finite', 'fire', 'fired', 'fires', 'firings', 'firm', 'firmed', 'firmly', 'firmness', 'firms', 'first', 'first-half', 'first-rate', 'first-time', 'fiscal', 'fit', 'fits', 'five', 'five-cent', 'five-day', 'five-inch', 'five-point', 'five-year', 'fixed', 'fixed-income', 'fixed-price', 'fixed-rate', 'fixes', 'fixtures', 'fizzled', 'flag', 'flagrant', 'flap', 'flashy', 'flat', 'flatulent', 'fled', 'fledgling', 'fleet', 'fleeting', 'flexibility', 'flies', 'flightiness', 'flights', 'flim-flammery', 'flirted', 'floated', 'floating-rate', 'flood', 'flooded', 'floor', 'floors', 'floral', 'flourish', 'flow', 'flows', 'fluctuation', 'fluctuations', 'fluent', 'flush', 'flux', 'fly', 'foam', 'focus', 'focused', 'focusing', 'fold', 'foldability', 'foldable', 'folded', 'folio', 'folks', 'follow', 'followed', 'following', 'follows', 'fond', 'food', 'food-industry', 'food-shop', 'foods', 'foot', 'football', 'for', 'force', 'forced', 'forces', 'forcing', 'forecast', 'forecasting', 'forecasts', 'foreign', 'foreign-led', 'foreign-stock', 'foreigners', 'forest-product', 'forest-products', 'forgiven', 'forgotten', 'form', 'formal', 'formally', 'format', 'formation', 'formed', 'former', 'formerly', 'forms', 'formula', 'forthcoming', 'fortunes', 'forum', 'forward', 'fought', 'foul', 'found', 'foundation', 'foundations', 'founded', 'founder', 'foundering', 'four', 'four-color', 'four-day', 'four-foot-high', 'four-year', 'four-year-old', 'fourth', 'fourth-quarter', 'fraction', 'fractionally', 'fracture', 'fragile', 'fragmentation', 'framers', 'framework', 'franc', 'francs', 'frankly', 'frantic', 'fraud', 'free', 'free-enterprise', 'free-lance', 'freedom', 'freedoms', 'freeway', 'frenzy', 'frequency', 'frequently', 'fresh', 'freshman', 'fret', 'fretted', 'friction', 'friend', 'friendly', 'friends', 'friendship', 'frightened', 'fringe', 'from', 'front', 'front-seat', 'fronts', 'frozen', 'frustrating', 'fuel', 'fueled', 'fueling', 'fuels', 'full', 'full-fledged', 'full-length', 'full-time', 'full-year', 'fuller', 'fully', 'fumes', 'fuming', 'functioning', 'functions', 'fund', 'fundamental', 'fundamentalist', 'fundamentally', 'funded', 'funding', 'fundraising', 'funds', 'funny', 'furious', 'furniture', 'furor', 'further', 'future', 'futures', 'futures-related', 'gain', 'gained', 'gaining', 'gains', 'galling', 'gallium', 'gallon', 'galvanized', 'gambler', 'gambling', 'game', 'games', 'gamut', 'gangs', 'garage', 'garbage', 'garden-variety', 'gas', 'gasoline', 'gather', 'gauge', 'gauges', 'gauging', 'gave', 'gelatin', 'general', 'generalizations', 'generally', 'generate', 'generated', 'generation', 'generations', 'generators', 'generic', 'generous', 'genes', 'genie', 'gentle', 'genuine', 'geography', 'geometrical', 'get', 'get-out-the-vote', 'gets', 'getting', 'giant', 'giants', 'gift', 'gifts', 'gigantic', 'gilt', 'girl', 'girlfriend', 'give', 'giveaways', 'given', 'gives', 'giving', 'glamorize', 'glass', 'glitches', 'global', 'globally', 'globe', 'gloomy', 'glory', 'gloss', 'go', 'goal', 'goblins', 'goes', 'going', 'gold', 'golden', 'gone', 'good', 'good-faith', 'good-hearted', 'good-natured', 'goodies', 'goods', 'goodwill', 'gored', 'got', 'gotten', 'goverment', 'government', 'government-certified', 'government-funded', 'government-owned', 'governor', 'governors', 'grade', 'grader', 'graders', 'gradual', 'gradually', 'graduated', 'grain', 'grains', 'grand', 'grandfather', 'grandstander', 'grant', 'granted', 'granting', 'grants', 'grapes', 'graphics', 'graphs', 'grapple', 'great', 'greater', 'greatest', 'greatly', 'greed', 'greedy', 'green', 'greenmailer', 'grew', 'grim', 'gripping', 'gross', 'ground', 'group', 'groups', 'grower', 'growers', 'growing', 'grown', 'grows', 'growth', 'growths', 'guarantee', 'guaranteed', 'guarantees', 'guarding', 'guards', 'gubernatorial', 'guerrillas', 'guest', 'guests', 'guide', 'guided', 'guild', 'guilders', 'guilty', 'guns', 'gunship', 'gut', 'gut-wrenching', 'guy', 'guys', 'gyrate', 'gyrations', 'habit', 'had', 'hailed', 'hailing', 'hair', 'half', 'half-hour', 'halls', 'halt', 'halted', 'halts', 'halve', 'hampered', 'hamstrung', 'hand', 'handed', 'handful', 'handle', 'handled', 'handles', 'handling', 'hands', 'hang', 'hangs', 'happen', 'happened', 'happening', 'happens', 'happier', 'happy', 'harass', 'harassment', 'harbinger', 'hard', 'hard-charging', 'hard-drinking', 'hard-hitting', 'harder', 'hardest-hit', 'hardly', 'hardware', 'harm', 'harmed', 'harmful', 'harmony', 'harms', 'harped', 'harsh', 'harshly', 'harvest', 'harvested', 'has', 'haul', 'hauled', 'hauling', 'have', 'having', 'hay', 'hazardous', 'hazards', 'he', 'head', 'headcount-control', 'headed', 'heading', 'headline', 'headlined', 'headquarters', 'headrests', 'heads', 'healing', 'health', 'healthy', 'hear', 'heard', 'hearing', 'hearings', 'heart', 'heartland', 'heated', 'heating', 'heavily', 'heavy', 'heavy-duty', 'heavy-truck', 'hedging', 'heebie-jeebies', 'hefty', 'hegemony', 'heightened', 'heirs', 'held', 'helm', 'help', 'helped', 'helpful', 'helping', 'helps', 'her', 'herald', 'here', 'hero', 'herself', 'hid', 'hidden', 'hierarchical', 'high', 'high-balance', 'high-flying', 'high-level', 'high-minded', 'high-polluting', 'high-priced', 'high-quality', 'high-rate', 'high-rise', 'high-risk', 'high-rolling', 'high-speed', 'high-stakes', 'high-tech', 'high-technology', 'high-volume', 'high-yield', 'higher', 'higher-salaried', 'highest', 'highest-pitched', 'highlight', 'highly', 'highs', 'highway', 'hill', 'him', 'himself', 'hint', 'hire', 'hired', 'his', 'historic', 'historical', 'historically', 'history', 'hit', 'hither', 'hits', 'hitter', 'hitting', 'hobbyists', 'hold', 'holder', 'holders', 'holding', 'holdings', 'holds', 'hole', 'holiday', 'holidays', 'home', 'home-market', 'homeless', 'homelessness', 'homes', 'homework', 'homosexual', 'honor', 'honorably', 'honors', 'hook', 'hoopla', 'hope', 'hoped', 'hopefully', 'hopes', 'hormone', 'horoscopes', 'hospitable', 'hospital', 'hospitals', 'host', 'hostage', 'hosted', 'hostile', 'hostility', 'hot', 'hotel', 'hotels', 'hottest', 'hour', 'hours', 'house', 'household', 'households', 'houses', 'housewife', 'housing', 'housing-assistance', 'how', 'how-to', 'however', 'hub', 'huge', 'hugging', 'human', 'humans', 'humble', 'hundred', 'hundreds', 'hung', 'hunker', 'hunted', 'hurdles', 'hurt', 'hurting', 'husband', 'hustlers', 'hydraulically', 'hypocrisy', 'hypothetical', 'hysteria', 'idea', 'ideas', 'identical', 'identified', 'identify', 'identities', 'identity-management', 'ideological', 'idiomatic', 'if', 'ignored', 'ignoring', 'ill', 'illegal', 'illegality', 'illegally', 'illness', 'illustrates', 'image', 'images', 'imaginative', 'imagine', 'imbalances', 'immediate', 'immediately', 'immense', 'imminent', 'immune', 'impact', 'impaired', 'impart', 'impartial', 'impatient', 'impede', 'impeding', 'impending', 'imperative', 'impetuous', 'impetus', 'implant', 'implement', 'implementation', 'implemented', 'implements', 'implication', 'implications', 'implicit', 'implicitly', 'implied', 'implies', 'imply', 'import', 'importance', 'important', 'imported', 'importer', 'imports', 'impose', 'imposed', 'imposes', 'imposing', 'impossible', 'impressed', 'impression', 'impressive', 'improbable', 'improper', 'improve', 'improved', 'improvement', 'improvements', 'improves', 'improving', 'impudent', 'in', 'in-store', 'inaccurate', 'inaccurately', 'inadequacy', 'inadequate', 'inappropriate', 'inauspicious', 'incapable', 'incentive', 'incentive-backed', 'incentive-bonus', 'incentives', 'inception', 'incest', 'inched', 'inches', 'inching', 'incident', 'incisions', 'include', 'included', 'includes', 'including', 'income', 'incomes', 'incomplete', 'incorporated', 'increase', 'increased', 'increases', 'increasing', 'increasingly', 'incredible', 'incurred', 'indeed', 'indefinitely', 'independence', 'independent', 'index', 'index-arbitrage', 'index-fund', 'index-options', 'index-related', 'indexers', 'indexes', 'indicate', 'indicated', 'indicates', 'indicating', 'indication', 'indications', 'indicator', 'indicators', 'indictment', 'indifference', 'indirect', 'individual', 'individuals', 'induce', 'indulging', 'industrial', 'industrial-production', 'industrialized', 'industrials', 'industries', 'industry', 'industry-supported', 'industry-wide', 'industrywide', 'inefficiencies', 'inevitable', 'infectious', 'inferences', 'inflated', 'inflation', 'inflationary', 'influence', 'influenced', 'influencing', 'influential', 'inform', 'informally', 'information', 'information-services', 'infrequent', 'infringed', 'infusion', 'ingenuity', 'ingredients', 'inherent', 'inherently', 'inherited', 'inheritor', 'inhibit', 'initial', 'initialing', 'initially', 'initiate', 'initiated', 'initiating', 'initiative', 'initiatives', 'injecting', 'injuries', 'injuring', 'injury', 'inkling', 'inmates', 'inner', 'inner-city', 'innovation', 'innovative', 'innuendoes', 'inoperative', 'inquiries', 'inquiring', 'inquiry', 'insane', 'insanity', 'insert', 'inserted', 'inside', 'insider', 'insider-trading', 'insiders', 'insidious', 'insinuating', 'insist', 'insisted', 'insistence', 'insists', 'insolvency', 'inspection', 'inspirational', 'inspired', 'install', 'installed', 'installing', 'installment', 'instance', 'instances', 'instead', 'institute', 'instituted', 'institution', 'institutional', 'institutions', 'instructed', 'instruction', 'instrument', 'instrumental', 'instruments', 'insurance', 'insurance-company', 'insured', 'insurer', 'insurgents', 'integrated', 'integration', 'integrity', 'intellectual', 'intellectual-property', 'intelligence', 'intelligent', 'intend', 'intended', 'intense', 'intensity', 'intent', 'intention', 'intentioned', 'interactions', 'interbank', 'interest', 'interest-bearing', 'interest-rate', 'interested', 'interesting', 'interests', 'interference', 'interim', 'interior', 'interjects', 'intermediate', 'internal', 'international', 'interpretation', 'interrogated', 'interrogation', 'interstate', 'intertitles', 'intervention', 'interventions', 'interview', 'interviewed', 'intimately', 'intimidate', 'into', 'intoxication', 'intraday', 'intraocular', 'intricate', 'intriguing', 'introduce', 'introduced', 'introduces', 'introducing', 'introduction', 'intrusion', 'intrusions', 'invades', 'invariably', 'invent', 'invented', 'invention', 'inventiveness', 'inventories', 'inventory', 'inverse', 'inverted', 'invest', 'invested', 'investigate', 'investigating', 'investigation', 'investigations', 'investing', 'investment', 'investment-grade', 'investments', 'investor', 'investor-relations', 'investors', 'invests', 'invite', 'inviting', 'involve', 'involved', 'involvement', 'involves', 'involving', 'iota', 'ire', 'irony', 'irrelevant', 'is', 'issue', 'issued', 'issuer', 'issuers', 'issues', 'issuing', 'it', 'item', 'items', 'its', 'itself', 'jail', 'jam', 'jeopardizing', 'jeopardy', 'jet', 'jeweler', 'jitters', 'job', 'jobs', 'jockeys', 'join', 'joined', 'joining', 'joins', 'joint', 'joint-venture', 'jointly', 'jolts', 'jostle', 'journal', 'journalistic', 'journalists', 'joy', 'joys', 'judge', 'judged', 'judges', 'judgment', 'judgments', 'judicial', 'judiciary', 'juggernaut', 'juggle', 'jugglers', 'jump', 'jumped', 'jumping', 'jumps', 'junk', 'junk-bond', 'jurisdiction', 'jurisdictional', 'jury', 'just', 'justice', 'justices', 'justified', 'justify', 'justifying', 'juvenile', 'keep', 'keeping', 'keeps', 'kept', 'key', 'keyboards', 'kicked', 'kicker', 'kidnapper', 'kidnapping', 'kidney', 'kids', 'kill', 'killed', 'killing', 'killings', 'kilobytes', 'kind', 'kindergarten', 'kindness', 'kinds', 'kit', 'kits', 'knell', 'knew', 'knife', 'knight', 'knitted', 'knocked', 'know', 'knowledge', 'knowledgeable', 'known', 'knowns', 'knows', 'la', 'lab', 'label', 'labeled', 'labeling', 'labels', 'labor', 'labor-backed', 'labor-intensive', 'labor-management', 'laboriously', 'lack', 'lacked', 'lackluster', 'lacks', 'lady', 'lagging', 'laid', 'land', 'land-idling', 'landfill', 'landfills', 'landing', 'landowners', 'language', 'language-housekeeper', 'languages', 'lap', 'lap-shoulder', 'lapses', 'large', 'large-scale', 'largely', 'larger', 'larger-than-normal', 'largest', 'laser', 'last', 'lasted', 'lasting', 'late', 'lately', 'later', 'latest', 'latter', 'lauded', 'laughing', 'launch', 'launch-vehicle', 'launched', 'laurels', 'law', 'lawmakers', 'lawmaking', 'laws', 'lawsuit', 'lawsuits', 'lawyer', 'lawyers', 'lay', 'layer', 'laying', 'le', 'lead', 'leader', 'leaders', 'leadership', 'leading', 'leaky', 'leap', 'leapt', 'learn', 'learned', 'learning', 'lease', 'leases', 'leash', 'leasing', 'least', 'leather', 'leave', 'leaves', 'leaving', 'led', 'leery', 'leeway', 'left', 'legal', 'legislation', 'legislative', 'legislators', 'legislature', 'len', 'lend-lease', 'lender', 'lenders', 'lending', 'length', 'lengthen', 'lengthened', 'lens', 'lent', 'lesions', 'less', 'less-serious', 'less-than-brilliant', 'lessen', 'lessening', 'lesser', 'lesson', 'let', 'letter', 'letter-writing', 'letters', 'letting', 'level', 'leveling', 'levels', 'leveraged', 'leveraging', 'liabilities', 'liability', 'liable', 'liberal', 'liberals', 'liberty', 'library', 'license', 'licensed', 'licenses', 'licensing', 'lieu', 'lieutenant', 'life', 'life-insurance', 'life-of-contract', 'life-style', 'lifes', 'lift', 'lifted', 'lifting', 'light', 'light-truck', 'lighter', 'lightning-fast', 'lights', 'like', 'likelihood', 'likely', 'likeness', 'limbo', 'limit', 'limitation', 'limited', 'limited-partnership', 'limiting', 'limits', 'limping', 'line', 'line-item', 'liners', 'lines', 'link', 'linked', 'links', 'lion', 'lipsticks', 'liquid', 'liquid-nitrogen', 'liquidated', 'liquidation', 'liquidity', 'list', 'listed', 'listeners', 'listing', 'litany', 'literary', 'literature', 'litigation', 'little', 'live', 'livelihood', 'lives', 'livestock', 'living', 'load', 'loaded', 'loading', 'loan', 'loans', 'loathsome', 'lobbies', 'lobbyist', 'lobbyists', 'lobster', 'local', 'locally', 'located', 'location', 'locations', 'lock', 'locked', 'lofty', 'log', 'logic', 'logistical', 'logjam', 'logo', 'long', 'long-tenured', 'long-term', 'long-time', 'longer', 'longer-term', 'longest', 'longevity', 'longstanding', 'longtime', 'look', 'looked', 'lookee-loos', 'looking', 'looks', 'loom', 'looming', 'loops', 'loose', 'lore', 'lose', 'loser', 'loses', 'losing', 'loss', 'losses', 'lost', 'lot', 'lotions', 'lotter', 'lottery', 'loudest', 'lousy', 'loved', 'loveliest', 'lovely', 'lover', 'low', 'low-ability', 'low-altitude', 'low-ball', 'low-cost', 'low-priced', 'low-tech', 'lower', 'lower-priced', 'lower-priority', 'lowered', 'lowering', 'lowest', 'loyal', 'loyalty', 'luck', 'lucky', 'lucrative', 'lunch', 'lung', 'lungs', 'lure', 'luxury', 'lying', 'lynch-mob', 'lyrics', 'machine', 'machine-gun-toting', 'machinery', 'machines', 'machinists', 'made', 'madly', 'magazine', 'magazines', 'magicians', 'magnetic', 'magnets', 'magnified', 'magnitude', 'mail', 'mailed', 'mailing', 'main', 'mainframe', 'mainland', 'mainly', 'maintain', 'maintained', 'maintaining', 'maintenance', 'major', 'major-league', 'majority', 'make', 'maker', 'makers', 'makes', 'making', 'male', 'male-dominated', 'male-only', 'males', 'malignant', 'malnutrition', 'mammoth', 'man', 'manage', 'managed', 'management', 'managements', 'manager', 'managers', 'manages', 'managing', 'mandates', 'mania', 'manipulate', 'manipulators', 'manmade-fiber', 'manner', 'manpower', 'manually', 'manufacture', 'manufactured', 'manufacturer', 'manufacturers', 'manufacturing', 'many', 'map', 'marbles', 'march', 'marching', 'margin', 'marginally', 'margins', 'mark', 'markdown', 'markdowns', 'market', 'market-based', 'market-makers', 'market-oriented', 'market-share', 'marketed', 'marketer', 'marketers', 'marketing', 'marketing-communications', 'marketplace', 'markets', 'markkaa', 'marks', 'markup', 'marriages', 'marrow', 'martyr', 'marvelously', 'massacre', 'massive', 'master', 'masters', 'match', 'matched', 'matches', 'matching', 'material', 'materialistic', 'materialize', 'materialized', 'materials', 'mathematical', 'mathematics', 'mating', 'matter', 'matters', 'mature', 'maturing', 'maturities', 'maturity', 'maximize', 'maximum', 'may', 'maybe', 'mayor', 'maze', 'me', 'meal', 'meals', 'mean', 'meaning', 'meaningful', 'means', 'meant', 'meanwhile', 'measure', 'measured', 'measurement', 'measures', 'meatpacking', 'mechanical', 'mechanically', 'mechanism', 'mechanisms', 'medallions', 'media', 'medical', 'medicine', 'mediocre', 'medium-sized', 'meet', 'meeting', 'meetings', 'meets', 'mega-stadium', 'megabytes', 'melt-textured', 'member', 'members', 'membership', 'memo', 'memories', 'memorize', 'memory', 'men', 'mend', 'mental', 'mentally', 'mention', 'mentioned', 'merchandise', 'merchandising', 'merchant', 'merchants', 'mere', 'merely', 'merge', 'merged', 'merger', 'merger-related', 'mergers', 'merit', 'merits', 'mesothelioma', 'message', 'met', 'metal', 'metals', 'methods', 'metric', 'metropolitan', 'microcomputers', 'microphone', 'microprocessor', 'microprocessors', 'microwave', 'mid-1970s', 'mid-1990s', 'mid-October', 'mid-afternoon', 'mid-size', 'middle', 'middle-ground', 'midnight', 'midrange', 'midsized', 'midtown', 'midyear', 'might', 'mignon', 'migrate', 'miles', 'milestone', 'milestones', 'military', 'milk', 'milked', 'mill', 'million', 'million-a-year', 'millionaires', 'millions', 'mimics', 'mind', 'mind-boggling', 'mindful', 'mine', 'miners', 'mines', 'minicrash', 'minimal', 'minimum', 'minimum-wage', 'mining', 'mininum-wage', 'minister', 'ministers', 'ministry', 'minivans', 'minor', 'minority', 'minority-owned', 'minted', 'minus', 'minute', 'minutes', 'mired', 'mirror', 'mirrors', 'miscarriages', 'misdemeanor', 'missed', 'missiles', 'mistake', 'mistakenly', 'mistakes', 'mistrials', 'mitigate', 'mix', 'mixed', 'mobile', 'mobilizing', 'mobster', 'mode', 'model', 'models', 'modems', 'moderate', 'moderated', 'moderately', 'modern', 'modern-day', 'modernization', 'modest', 'modestly', 'modification', 'modify', 'mollified', 'moment', 'momentary', 'moments', 'money', 'money-center', 'money-fund', 'money-losing', 'money-market', 'moneymakers', 'monied', 'monitor', 'monopolize', 'monopoly', 'monster', 'month', 'monthly', 'months', 'mood', 'moons', 'morale', 'morale-damaging', 'morass', 'moratorium', 'morbidity', 'more', 'more-advanced', 'more-efficient', 'moreover', 'morning', 'morphogenetic', 'mortgage', 'mortgage-backed', 'mortgage-based', 'mortgaged', 'mortgages', 'most', 'most-likely-successor', 'mostly', 'mother', 'mothers', 'motion', 'motive', 'motives', 'motor', 'motor-home', 'motors', 'mount', 'mounted', 'mousseline', 'mouth-up', 'move', 'moved', 'movement', 'movements', 'moves', 'movie', 'movies', 'moving', 'much', 'much-larger', 'mudslinging', 'muffled', 'mulling', 'multi-crystal', 'multibillion-dollar', 'multilevel', 'multinational', 'multinationals', 'multiples', 'multiplying', 'multitude', 'mundane', 'municipal', 'municipalities', 'municipality', 'murder', 'murdered', 'muscling', 'museum', 'museums', 'mushy', 'music', 'must', 'muster', 'muted', 'mutual', 'mutual-fund', 'muzzling', 'my', 'myriad', \"n't\", 'nail', 'name', 'named', 'nameless', 'namely', 'nameplate', 'names', 'naming', 'narcotics', 'narrow', 'narrowed', 'narrowly', 'nation', 'national', 'nationalist', 'nations', 'nationwide', 'native', 'natural', 'natural-gas', 'nature', 'navigation', 'near', 'near-limit', 'near-record', 'nearby', 'nearly', 'nearly-30', 'neat', 'necessarily', 'necessary', 'necessities', 'necklace', 'necks', 'need', 'needed', 'needing', 'needle-like', 'needs', 'needy', 'negative', 'negatives', 'negotiable', 'negotiate', 'negotiated', 'negotiating', 'negotiations', 'negotiator', 'negotiators', 'neighborhood', 'neighborhoods', 'neighboring', 'neighbors', 'neither', 'neoprene', 'nervous', 'nervousness', 'net', 'nets', 'network', 'networking', 'networks', 'neutrons', 'never', 'new', 'new-car', 'new-home', 'newcomer', 'newer', 'newest', 'newly', 'news', 'newspaper', 'newspaper-printing', 'newspapers', 'newsroom', 'newsstand', 'newsstands', 'newsweekly', 'newsworthy', 'next', 'nice', 'niches', 'nickel', 'nickname', 'night', 'nightmare', 'nine', 'nine-member', 'nine-month', 'nine-year', 'ninth', 'no', 'no-confidence', 'noble', 'nobody', 'nominal', 'nominate', 'nominated', 'nomination', 'nominee', 'nominees', 'non-U.S.', 'non-biodegradable', 'non-callable', 'non-core', 'non-encapsulating', 'non-farm', 'non-religious', 'noncompetitively', 'nondurable', 'none', 'nonetheless', 'nonexecutive', 'nonfat', 'nonfinancial', 'nonprofit', 'nonrecurring', 'nonresidential', 'noodles', 'nor', 'normal', 'normally', 'north', 'northern', 'nose', 'not', 'notable', 'notably', 'notch', 'notched', 'note', 'noted', 'notes', 'nothing', 'notice', 'noticed', 'noticing', 'notified', 'notify', 'noting', 'notion', 'notwithstanding', 'novel', 'novelist', 'now', 'nowhere', 'nuclear', 'nullified', 'number', 'numbered', 'numbers', 'numeral', 'numerous', 'nurtured', 'nutrition', 'nutty', 'obedient', 'objectionable', 'objective', 'objectives', 'obligated', 'obligation', 'obligations', 'oblivion', 'observance', 'observations', 'observed', 'observers', 'obsessed', 'obsession', 'obstacles', 'obtain', 'obtained', 'obtaining', 'obvious', 'obviously', 'occasionally', 'occupant', 'occupying', 'occur', 'occurred', 'occurrences', 'occurs', 'octogenarians', 'odd', 'odd-sounding', 'odd-year', 'odds', 'of', 'off', 'off-off', 'off-year', 'offend', 'offender', 'offenders', 'offending', 'offense', 'offensive', 'offer', 'offered', 'offering', 'offerings', 'offers', 'office', 'officer', 'officers', 'offices', 'official', 'officially', 'officials', 'offset', 'offsetting', 'often', 'oil', 'oilman', 'oils', 'old', 'old-fashioned', 'old-style', 'old-time', 'older', 'oldest', 'omitted', 'omnipresent', 'on', 'on-campus', 'once', 'one', 'one-country', 'one-day', 'one-fifth', 'one-hour', 'one-house', 'one-month', 'one-newspaper', 'one-third', 'one-time', 'one-upsmanship', 'one-week', 'one-year', 'one-yen', 'ones', 'ongoing', 'only', 'onslaught', 'onto', 'onus', 'open', 'open-end', 'open-top', 'opened', 'opening', 'openings', 'openly', 'opens', 'operate', 'operated', 'operates', 'operating', 'operation', 'operational', 'operations', 'operator', 'operators', 'opinion', 'opinions', 'opponents', 'opportunities', 'opportunity', 'oppose', 'opposed', 'opposes', 'opposite', 'opposition', 'optimism', 'option', 'options', 'or', 'orange', 'orchestrated', 'ordeal', 'order', 'ordered', 'ordering', 'orders', 'ordinary', 'organization', 'organizations', 'organized', 'oriented', 'original', 'originally', 'ornamental', 'other', 'others', 'otherwise', 'ought', 'ounce', 'ounces', 'our', 'oust', 'out', 'outbid', 'outcry', 'outdistanced', 'outlawed', 'outlawing', 'outlay', 'outlays', 'outlets', 'outlook', 'outnumbered', 'outpaced', 'outrage', 'outraged', 'outrageous', 'outranks', 'outright', 'outside', 'outsiders', 'outstanding', 'outstrips', 'ovation', 'over', 'over-the-counter', 'overall', 'overcapacity', 'overcome', 'overcrowding', 'overdone', 'overhead', 'overlap', 'overleveraged', 'overnight', 'overpaying', 'overpriced', 'overproduction', 'override', 'overriding', 'overruns', 'overseas', 'oversee', 'oversight', 'overstated', 'overtime', 'overused', 'overvalued', 'owed', 'own', 'owned', 'owner', 'owners', 'ownership', 'owning', 'owns', 'p.m', 'p.m.', 'pace', 'pack', 'package', 'packages', 'packaging', 'packed', 'pact', 'page', 'page-one', 'pages', 'paid', 'pain', 'pains', 'paint', 'painted', 'painting', 'pair', 'palace', 'pall', 'paltry', 'panel', 'panic', 'paper', 'paperback', 'papers', 'par', 'parallel', 'parallels', 'parched', 'parent', 'parents', 'parishes', 'parishioners', 'park', 'parking', 'parliament', 'parlors', 'part', 'partial', 'partially', 'participant', 'participants', 'participate', 'participated', 'participation', 'particular', 'particularly', 'particulars', 'parties', 'partisan', 'partisans', 'partly', 'partner', 'partners', 'partnership', 'parts', 'parts-engineering', 'party', 'pass', 'passage', 'passages', 'passbook', 'passed', 'passenger', 'passenger-car', 'passers-by', 'passing', 'passion', 'passions', 'passport', 'past', 'pasta', 'patent', 'patented', 'patents', 'path', 'pathlogy', 'patient', 'patients', 'pattern', 'patterns', 'pay', 'payable', 'paycheck', 'paying', 'payment', 'payments', 'payoff', 'payouts', 'payrolls', 'peace', 'peaceful', 'peak', 'peaked', 'peaks', 'peal', 'pealing', 'peals', 'peculiar', 'peculiarities', 'peddling', 'pediatrician', 'pegged', 'penalties', 'penalty', 'pence', 'penchant', 'pending', 'penetrate', 'penetration', 'pennies', 'penny', 'pension', 'pension-fund', 'people', 'pep', 'per', 'per-share', 'perceived', 'perceives', 'percent', 'percentage', 'perception', 'perceptions', 'perfection', 'perfectly', 'perform', 'performance', 'performed', 'performers', 'performing', 'perhaps', 'period', 'periodontal', 'periods', 'peripheral', 'permanent', 'permissible', 'permission', 'permit', 'permits', 'permitted', 'permitting', 'perpetual', 'perpetuate', 'perpetuates', 'persistent', 'person', 'personal', 'personally', 'personnel', 'persons', 'perspective', 'persuade', 'persuasion', 'persuasive', 'pet', 'petition', 'petroleum', 'petulant', 'pharaohs', 'pharmaceutical', 'pharmaceuticals', 'phase', 'phase-out', 'phasing', 'philosophy', 'phobias', 'phone', 'phony', 'photocopy', 'photocopying', 'photograph', 'photographic', 'photographs', 'photos', 'phrase', 'physical', 'physicist', 'physics', 'pianist-comedian', 'pick', 'pick-up', 'picked', 'pickers', 'picket', 'picking', 'picks', 'pickups', 'picture', 'pie', 'piece', 'pieces', 'pill', 'pillow', 'pills', 'pilots', 'pine', 'pinning', 'pins', 'pioneer', 'pipe', 'pipeline', 'pipes', 'piracy', 'pirates', 'pistols', 'pit', 'pitches', 'pitting', 'place', 'placed', 'placement', 'places', 'placing', 'plagued', 'plainclothes', 'plaintiffs', 'plaintive', 'plan', 'plane', 'planes', 'planned', 'planner', 'planners', 'planning', 'plans', 'plant', 'planted', 'planting', 'plants', 'plastic', 'plate', 'platforms', 'platinum', 'platitudes', 'play', 'played', 'player', 'players', 'playful', 'playgrounds', 'playing', 'plays', 'playwright', 'plea', 'pleaded', 'please', 'pleased', 'pledged', 'plenty', 'plight', 'plot', 'plugged', 'plummeted', 'plunge', 'plunged', 'plunging', 'plus', 'pocket', 'pockets', 'poignant', 'point', 'pointed', 'pointing', 'points', 'poison', 'polarized', 'police', 'policies', 'policy', 'policy-making', 'polish', 'politely', 'political', 'politically', 'politicians', 'politics', 'polled', 'polls', 'polluters', 'pollution', 'polyester', 'polyproplene', 'polystyrene', 'pool', 'pools', 'poor', 'poorly', 'popular', 'popularly', 'populated', 'population', 'port', 'portfolio', 'portfolios', 'portion', 'portions', 'portray', 'portrayal', 'portrayed', 'ports', 'pose', 'posing', 'position', 'positioned', 'positions', 'positive', 'possess', 'possessed', 'possessions', 'possibility', 'possible', 'possibly', 'post', 'post-hearing', 'posted', 'posters', 'posting', 'postponed', 'posts', 'potential', 'potentially', 'pound', 'pounds', 'pour', 'poured', 'poverty', 'powder', 'power', 'powerful', 'powerhouse', 'powers', 'powwow', 'practical', 'practice', 'practiced', 'practices', 'practicing', 'practitioners', 'praised', 'prayer', 'pre-1917', 'pre-1933', 'pre-Communist', 'pre-approved', 'pre-cooked', 'pre-emptive', 'pre-existing', 'pre-tax', 'preapproved', 'precedent', 'precedes', 'precious', 'precise', 'precisely', 'preclinical', 'preclude', 'predecessor', 'predicated', 'predict', 'predictable', 'predictably', 'predicted', 'predicting', 'predicts', 'predispose', 'preface', 'prefectural', 'prefecture', 'prefer', 'preference', 'preferences', 'preferred', 'pregnant', 'prejudice', 'preliminary', 'premier', 'premiere', 'premises', 'premium', 'premiums', 'preparation', 'preparatives', 'prepare', 'prepared', 'prepayment', 'prerogative', 'prerogatives', 'prescient', 'prescribe', 'prescription', 'presence', 'present', 'presentation', 'presented', 'preserving', 'preset', 'presidency', 'president', 'presidential', 'presidents', 'press', 'pressed', 'pressing', 'pressman', 'pressure', 'pressured', 'pressures', 'prestige', 'prestigious', 'presumably', 'presumes', 'pretax', 'pretext', 'pretty', 'prevailing', 'prevalance', 'prevent', 'preventative', 'preventing', 'prevents', 'previous', 'previously', 'price', 'price-depressing', 'price-support', 'priced', 'prices', 'priciest', 'pricing', 'pricings', 'pride', 'primarily', 'primary', 'prime', 'princely', 'principal', 'principals', 'principle', 'print', 'printed', 'printers', 'printing-press', 'prints', 'prior', 'prior-year', 'priority', 'prison', 'prisoners', 'privacy', 'private', 'privately', 'privilege', 'privileged', 'prize-fighter', 'prizes', 'pro-Iranian', 'pro-choice', 'pro-democracy', 'probably', 'problem', 'problems', 'procedural', 'procedure', 'procedures', 'proceedings', 'proceeds', 'process', 'processes', 'processing', 'processors', 'procurement', 'produce', 'produced', 'producer', 'producers', 'produces', 'producing', 'product', 'product-design', 'production', 'productivity', 'products', 'profess', 'profession', 'professional', 'professionals', 'professor', 'professors', 'profit', 'profit-taking', 'profitability', 'profitable', 'profitably', 'profited', 'profits', 'program', 'program-trading', 'programmer', 'programming', 'programs', 'progress', 'progressive', 'prohibited', 'prohibiting', 'prohibits', 'project', 'projections', 'projector', 'projects', 'prolonged', 'prominent', 'prominently', 'promise', 'promised', 'promises', 'promising', 'promissory', 'promote', 'promoting', 'promotion', 'promotional', 'promotions', 'prompted', 'promptly', 'prompts', 'proof', 'propaganda', 'propagandize', 'propagandizes', 'propelling', 'properly', 'properties', 'property', 'property\\\\/casualty', 'proponent', 'proponents', 'proportion', 'proposal', 'proposals', 'propose', 'proposed', 'proposing', 'proposition', 'proprietor', 'proscribes', 'prosecute', 'prosecuted', 'prosecuting', 'prosecution', 'prosecutor', 'prosecutors', 'prospect', 'prospective', 'prospectively', 'prospects', 'prostitute', 'protect', 'protected', 'protecting', 'protection', 'protections', 'protective', 'protects', 'protein', 'protein-1', 'proteins', 'protest', 'protesters', 'protests', 'protocols', 'prototype', 'protracted', 'prove', 'proved', 'proven', 'provide', 'provided', 'providers', 'provides', 'providing', 'province', 'proving', 'provision', 'provisions', 'proviso', 'provoke', 'provoked', 'prying', 'psychiatric', 'psychiatrist', 'psychology', 'pub', 'public', 'public-relations', 'publication', 'publications', 'publicity', 'publicized', 'publicly', 'publish', 'published', 'publisher', 'publishes', 'publishing', 'pull', 'pulled', 'pulling', 'pulls', 'pulp', 'pumping', 'punish', 'punishable', 'punishing', 'punishment', 'punitive', 'purchase', 'purchased', 'purchasers', 'purchases', 'purchasing', 'purely', 'purhasing', 'purpose', 'purposes', 'purrs', 'purse', 'pursuant', 'pursue', 'pursued', 'push', 'pushed', 'pushes', 'pushing', 'put', 'puts', 'putting', 'puzzled', 'pyramids', 'qualified', 'qualify', 'qualities', 'quality', 'quantitative', 'quantities', 'quantitive', 'quantity', 'quarter', 'quarterly', 'quarters', 'quashing', 'queers', 'question', 'questionable', 'questioned', 'questions', 'queuing', 'quick', 'quickly', 'quiet', 'quietly', 'quipped', 'quips', 'quite', 'quitting', 'quota', 'quotas', 'quotations', 'quote', 'quoted', 'quoting', 'race', 'raced', 'races', 'racing', 'racket', 'radically', 'radio', 'radio-station', 'radioactivity', 'railcar', 'railcars', 'railing', 'railings', 'railroad', 'rain', 'raise', 'raised', 'raises', 'raising', 'rally', 'rallying', 'rampage', 'ramparts', 'ran', 'rancor', 'rang', 'range', 'ranged', 'ranging', 'ranked', 'rankings', 'ranks', 'rap', 'rape', 'rapid', 'rapidly', 'rapists', 'rapport', 'rapprochement', 'rare', 'rarefied', 'rarely', 'raring', 'rash', 'raspberry', 'ratcheting', 'rate', 'rate-sensitive', 'rated', 'ratepayers', 'rates', 'rather', 'ratified', 'rating', 'ratings', 'rationed', 'raw', 'razor-thin', 're-election', 're-thought', 'reach', 'reached', 'reaches', 'reaching', 'reacted', 'reaction', 'read', 'reader', 'readership', 'reading', 'readings', 'ready', 'reaffirmed', 'real', 'real-estate', 'realestate', 'reality', 'realization', 'realize', 'realized', 'reallocate', 'reallocated', 'really', 'reap', 'reaped', 'reaping', 'rear', 'rear-seat', 'reason', 'reasonably', 'reasoning', 'reasons', 'reasserts', 'reassuring', 'rebel', 'rebellion', 'rebels', 'rebound', 'rebounding', 'rebuffed', 'rebuild', 'rebuilding', 'rebuked', 'recall', 'recalling', 'recalls', 'recede', 'receipt', 'receipts', 'receive', 'received', 'receivers', 'receives', 'receiving', 'recent', 'recently', 'receptive', 'recess', 'recession', 'recession-inspired', 'recessionary', 'rechargeable', 'recipient', 'reciting', 'reckless', 'reclaim', 'reclaimed', 'recognition', 'recognize', 'recognizing', 'recombinant', 'recommend', 'recommendation', 'recommendations', 'recommended', 'recommending', 'record', 'record-keeping', 'recorded', 'recorder', 'records', 'recouped', 'recover', 'recovered', 'recovering', 'recovery', 'recruit', 'recruited', 'recruiting', 'rectified', 'recyclability', 'recyclable', 'recycled', 'red', 'red-and-white', 'red-carpet', 'red-flag', 'redeem', 'redeemed', 'redeeming', 'redemption', 'redeploy', 'redistribute', 'redistributing', 'reds', 'reduce', 'reduced', 'reducing', 'reduction', 'reductions', 'reeling', 'refer', 'reference', 'referenda', 'referendum', 'referral', 'referrals', 'referred', 'referring', 'refile', 'refinery', 'refitting', 'reflect', 'reflected', 'reflecting', 'reflection', 'reflects', 'refocusing', 'reform', 'reformers', 'reforms', 'refreshing', 'refrigerator', 'refuge', 'refund', 'refunded', 'refunding', 'refunds', 'refusal', 'refuse', 'refused', 'refuses', 'regard', 'regarded', 'regarding', 'regardless', 'regenerate', 'regime', 'regimented', 'region', 'regional', 'regions', 'registered', 'registration', 'regret', 'regrettable', 'regular', 'regulate', 'regulated', 'regulating', 'regulation', 'regulations', 'regulators', 'regulatory', 'reimbursed', 'reins', 'reinstatement', 'reinstating', 'reinvestment', 'reject', 'rejected', 'related', 'relating', 'relation', 'relations', 'relationship', 'relative', 'relatively', 'relaunched', 'release', 'released', 'releases', 'relegated', 'relentlessly', 'relevance', 'reliance', 'relied', 'relief', 'relies', 'relieve', 'relieved', 'relocate', 'reluctance', 'reluctant', 'remain', 'remainder', 'remained', 'remaining', 'remains', 'remarkable', 'remarked', 'remarks', 'reminded', 'remodeling', 'remorse', 'removal', 'remove', 'removed', 'removing', 'rendering', 'renew', 'renewal', 'renewed', 'renewing', 'renovated', 'renovation', 'rentals', 'reopen', 'reopened', 'reorganization', 'reorganized', 'repaid', 'repair', 'repaired', 'repay', 'repayment', 'repeals', 'repeatedly', 'replace', 'replaced', 'replacement', 'replacement-car', 'replacing', 'replete', 'replicate', 'replicated', 'replicating', 'replies', 'report', 'reported', 'reportedly', 'reporter', 'reporters', 'reporting', 'reports', 'represent', 'representative', 'representatives', 'represented', 'representing', 'represents', 'repriced', 'reprint', 'reprove', 'reps', 'reputation', 'request', 'requested', 'requesting', 'requests', 'require', 'required', 'requirement', 'requirements', 'requires', 'requiring', 'reruns', 'rescheduled', 'research', 'researcher', 'researchers', 'researching', 'resembles', 'resent', 'resentment', 'reservations', 'reserve', 'reserved', 'reserves', 'reservoirs', 'reshaping', 'residence', 'residential', 'resign', 'resignation', 'resigned', 'resigning', 'resilient', 'resist', 'resistance', 'resistant', 'resisting', 'resists', 'resolution', 'resolve', 'resolved', 'resonate', 'resort', 'resources', 'respect', 'respectable', 'respected', 'respite', 'respond', 'responded', 'respondents', 'responding', 'responds', 'response', 'responses', 'responsibilities', 'responsibility', 'responsible', 'responsive', 'rest', 'restaurant', 'restaurants', 'restore', 'restored', 'restraints', 'restricting', 'restriction', 'restrictions', 'restricts', 'restructure', 'restructured', 'restructures', 'restructuring', 'restructurings', 'resubmit', 'result', 'resulted', 'resulting', 'results', 'resume', 'resumes', 'resumption', 'retail', 'retailer', 'retailers', 'retailing', 'retain', 'retained', 'retaining', 'retaliating', 'retaliation', 'retard', 'retardation', 'retentive', 'retired', 'retirement', 'retires', 'retiring', 'retort', 'retorts', 'retraced', 'retractable', 'return', 'returned', 'returning', 'returns', 'revelations', 'revenue', 'revenue-desperate', 'revenues', 'reversal', 'reversed', 'review', 'reviewed', 'reviewing', 'revised', 'revising', 'revival', 'revive', 'revived', 'revolt', 'revolves', 'reward', 'rewarding', 'rewards', 'rewrite', 'rhetoric', 'rhythm', 'rhythmically', 'rich', 'richer', 'rider', 'riders', 'riding', 'rifles', 'rigged', 'right', 'rights', 'rigid', 'rigors', 'rim', 'ring', 'ringer', 'ringers', 'ringing', 'rings', 'ripen', 'rise', 'risen', 'rises', 'rising', 'risk', 'risk-free', 'riskier', 'risks', 'ritual', 'rival', 'rivals', 'river', 'road', 'roadblock', 'robbed', 'robotic', 'robustly', 'rock', 'rocket', 'role', 'roll', 'rolled', 'rolling', 'rollover', 'romance', 'romanticized', 'roof', 'roof-crush', 'roofs', 'root', 'rooted', 'rope', 'rope-sight', 'ropes', 'rose', 'rough', 'roughhewn', 'roughly', 'round', 'round-trip', 'rounds', 'rout', 'route', 'routes', 'routine', 'row', 'royalty', 'rubber', 'rule', 'ruled', 'rulers', 'rules', 'ruling', 'rulings', 'rumor', 'rumored', 'rumors', 'run', 'run-down', 'rung', 'running', 'runs', 'rural', 'rushed', 'rusted', 'rusty', 'sabotage', 'sacked', 'sacks', 'sacrifice', 'sacrificing', 'sad', 'safe', 'safe-deposit', 'safeguarding', 'safety', 'sagged', 'sagging', 'said', 'sake', 'salable', 'salaries', 'salary', 'salarymen', 'sale', 'sales', 'same', 'samples', 'sanctions', 'sank', 'sassy', 'satisfaction', 'satisfactorily', 'satisfactory', 'satisfying', 'sauce', 'save', 'saved', 'savers\\\\/investors', 'saving', 'savings', 'savings-and-loan', 'savvier', 'saw', 'say', 'saying', 'says', 'scale', 'scammers', 'scams', 'scandal', 'scandals', 'scans', 'scant', 'scarce', 'scarcely', 'scared', 'scaring', 'scattered', 'scenario', 'scenes', 'scenic', 'schedule', 'scheduled', 'scheme', 'schemes', 'scholar', 'scholarly', 'scholars', 'school', 'school-board', 'school-district', 'school-improvement', 'school-research', 'school-sponsored', 'schoolboys', 'schoolchildren', 'schools', 'schoolteacher', 'science', 'scientific', 'scientist', 'scientists', 'scoffs', 'scoop', 'score', 'scores', 'scrambled', 'scrambling', 'scrape', 'scrapped', 'scream', 'screen', 'screened', 'screens', 'screenwriters', 'screwed', 'scripts', 'scrounge', 'scrupulously', 'scrutinizing', 'scrutiny', 'scuttle', 'seafood', 'search', 'search-and-seizure', 'searched', 'searching', 'season', 'seasonal', 'seasonally', 'seasoned', 'seat', 'seats', 'secede', 'second', 'second-largest', 'secondary', 'seconds', 'secret', 'secretary', 'section', 'sections', 'sector', 'sectors', 'secured', 'securities', 'securities-based', 'security', 'security-type', 'seduce', 'see', 'seeing', 'seek', 'seeking', 'seeks', 'seem', 'seemed', 'seems', 'seen', 'sees', 'segment', 'segmenting', 'segments', 'seize', 'seized', 'select', 'selected', 'self', 'self-aggrandizing', 'self-esteem', 'self-perpetuating', 'self-regulatory', 'self-serving', 'sell', 'sell-off', 'sell-offs', 'seller', 'sellers', 'selling', 'sells', 'semesters', 'semiannual', 'semicircular', 'semiconductor', 'semiconductors', 'semiliterate', 'seminar', 'senate', 'send', 'sending', 'sends', 'senior', 'sensation', 'sensational', 'sense', 'senses', 'sensitive', 'sensitivity', 'sent', 'sentence', 'sentencing', 'sentiment', 'sentimental', 'separate', 'separately', 'separation', 'serial', 'series', 'serious', 'seriously', 'serve', 'served', 'serves', 'service', 'serviced', 'services', 'servicing', 'serving', 'session', 'set', 'setback', 'sets', 'setting', 'settle', 'settled', 'settlement', 'settlements', 'seven', 'seven-day', 'seven-million-ton', 'seven-year', 'seven-yen', 'seventh', 'severable', 'several', 'several-year', 'severance', 'severe', 'sew', 'sewer', 'sewing-machine', 'sex', 'sexy', 'shaded', 'shadows', 'shake', 'shaken', 'shaky', 'shall', 'shallow', 'shambles', 'shame', 'shape', 'shaping', 'share', 'shared', 'shareholder', 'shareholder-rights', 'shareholders', 'shares', 'sharp', 'sharper', 'sharply', 'she', 'sheaf', 'shed', 'shedding', 'sheep', 'sheepskin', 'sheet', 'sheets', 'shelf', 'shelter', 'shift', 'ship', 'shipboard', 'shipbuilding', 'shipments', 'shipped', 'shipping', 'ships', 'shipyard', 'shipyards', 'shirt-sleeved', 'shirts', 'shivers', 'shoot', 'shop', 'shopped', 'shopping', 'shops', 'shore', 'shoring', 'short', 'short-lived', 'short-term', 'short-wave', 'shortage', 'shortages', 'shortly', 'shot', 'should', 'shoulder', 'shovels', 'show', 'showed', 'showing', 'showings', 'shown', 'shows', 'shrank', 'shrinking', 'shrinks', 'shrug', 'shudders', 'shut', 'shuttle', 'sickness', 'side', 'side-crash', 'sidelines', 'sides', 'sidestep', 'sidewalk', 'sigh', 'sight', 'sights', 'sign', 'signal', 'signaling', 'signals', 'signature', 'signboards', 'signed', 'significance', 'significant', 'significantly', 'signifying', 'signing', 'signs', 'silent', 'silicon', 'silicone', 'silver', 'similar', 'similarity', 'simple', 'simply', 'simulates', 'simultaneous', 'simultaneously', 'since', 'single', 'single-A', 'single-digit', 'single-family', 'single-handed', 'single-handedly', 'single-lot', 'singled', 'sinister', 'sink', 'sit', 'sites', 'sitting', 'situation', 'situations', 'six', 'six-bottle', 'six-inch', 'six-month', 'six-packs', 'sixth', 'sizable', 'size', 'skeptical', 'skepticism', 'sketch', 'sketching', 'skidded', 'skill', 'skilled', 'skills', 'skin', 'skip', 'skipped', 'skirmishes', 'skittishness', 'sky', 'skyrocketed', 'skyward', 'slab', 'slack', 'slash', 'slashing', 'slate', 'slated', 'slaying', 'sleep', 'sleeping', 'slew', 'slid', 'slide', 'slides', 'sliding', 'slightly', 'slip', 'slippage', 'slipped', 'slippery', 'slogan', 'slope', 'slow', 'slowdown', 'slowdowns', 'slowed', 'slower', 'slowing', 'slowly', 'sluggish', 'sluggishness', 'slump', 'small', 'small-company', 'small-time', 'smaller', 'smallest', 'smartly', 'smattering', 'smiles', 'smoke', 'smokers', 'smoking', 'smooth', 'smoothly', 'smothering', 'snaking', 'snapped', 'sneaked', 'snow', 'so', 'so-called', 'soared', 'soaring', 'social', 'social-studies', 'socialism', 'socialist', 'society', 'sociology', 'soft', 'softening', 'softer', 'software', 'sogo-shosha', 'sold', 'soldiers', 'sole', 'solely', 'solemn', 'solicitation', 'soliciting', 'solicitor', 'solicitous', 'solid', 'solidarity', 'solutions', 'solved', 'solvent', 'some', 'somebody', 'somehow', 'someone', 'something', 'sometimes', 'sometimes-exhausting', 'sometimes-tawdry', 'somewhat', 'son', 'soon', 'sooner', 'sophisticated', 'sorry', 'sort', 'sorting', 'sorts', 'sought', 'soul', 'sound', 'sounded', 'sounding', 'sounds', 'source', 'sources', 'soured', 'south', 'soybeans', 'space', 'spaces', 'spackle', 'sparing', 'spark', 'sparked', 'sparking', 'sparkplugs', 'speak', 'speaking', 'speaks', 'special', 'specialist', 'specialists', 'specialize', 'specialized', 'specializes', 'specializing', 'specialty', 'species', 'specific', 'specifics', 'specified', 'specify', 'spectacular', 'spectacularly', 'spectrum', 'speculate', 'speculated', 'speculating', 'speculation', 'speculative', 'speculator', 'speculators', 'speech', 'speeches', 'speed', 'speedway', 'spend', 'spenders', 'spending', 'spends', 'spent', 'sphere', 'spiders', 'spilling', 'spin-off', 'spinoff', 'spirit', 'spirits', 'spite', 'split', 'spoke', 'spokesman', 'spokeswoman', 'spokewoman', 'sponsor', 'sponsors', 'spook', 'spooked', 'sport-utility', 'sports', 'sports-oriented', 'spot', 'spotted', 'spouse', 'sprawling', 'spread', 'spreads', 'sprightly', 'spring', 'spun', 'spur', 'spurned', 'spurns', 'spurred', 'spurring', 'sputtered', 'squad', 'square', 'squeeze', 'squeezed', 'stabbed', 'stability', 'stable', 'stacked', 'stacking', 'stadium', 'stadiums', 'staff', 'staff-reduction', 'staffs', 'stage', 'stages', 'staggering', 'staid', 'stairs', 'stake', 'stakes', 'stalemate', 'stalls', 'stance', 'stand', 'standard', 'standardized', 'standards', 'standing', 'standpoint', 'stands', 'star', 'stare', 'stark', 'stars', 'start', 'start-up', 'started', 'starters', 'starting', 'startling', 'starts', 'state', 'state-appointed', 'state-owned', 'state-supervised', 'stated', 'statement', 'states', 'statewide', 'station', 'stations', 'statistics', 'statue', 'stature', 'status', 'statute', 'statutory', 'staunchly', 'stay', 'stayed', 'staying', 'stays', 'steadily', 'steady', 'steal', 'steel', 'steelmaker', 'steelmakers', 'steep', 'steeper', 'stellar', 'stem', 'stemmed', 'stemming', 'step', 'stepped', 'stepping', 'steps', 'stereo', 'stereotyped', 'sterling', 'stick', 'sticker', 'sticker-shock', 'sticking', 'sticky', 'stiff', 'stiffer', 'stifle', 'stigma', 'still', 'stimulated', 'stimulating', 'stirred', 'stirrings', 'stock', 'stock-index', 'stock-manipulation', 'stock-market', 'stock-picking', 'stock-price', 'stock-selection', 'stock-specialist', 'stockbroker', 'stockbrokers', 'stockholders', 'stockpiles', 'stocks', 'stoked', 'stone', 'stones', 'stood', 'stop', 'stoppage', 'stopped', 'storage', 'store', 'stored', 'stores', 'storm', 'story', 'straight', 'strain', 'strains', 'strapped', 'strategic', 'strategies', 'strategy', 'stream', 'street', 'streets', 'strength', 'strengthened', 'stress', 'stressed', 'stresses', 'stressing', 'stretch', 'stretched', 'stretching', 'strict', 'strictly', 'strike', 'striking', 'string', 'stringently', 'strings', 'strip', 'stripped', 'striving', 'strong', 'strong-willed', 'stronger', 'strongest', 'strongly', 'structural', 'structurally', 'structure', 'structured', 'structures', 'struggle', 'struggled', 'struggling', 'stuck', 'student', 'student-test', 'students', 'studied', 'studies', 'studio', 'studiously', 'study', 'studying', 'stuff', 'stunned', 'stupid', 'style', 'styles', 'sub-markets', 'sub-segments', 'subcommittee', 'subcontractor', 'subdued', 'subindustry', 'subject', 'subjecting', 'subjects', 'subminimum', 'submit', 'subordinate', 'subordinated', 'subpoenaed', 'subscribe', 'subscriber', 'subscribers', 'subscription', 'subscriptions', 'subsequent', 'subsidiaries', 'subsidiary', 'subsidize', 'subskill', 'subskills', 'substance', 'substance-abusing', 'substantial', 'substantially', 'substitute', 'subtraction', 'suburban', 'succeed', 'succeeded', 'succeeding', 'succeeds', 'success', 'successful', 'successfully', 'succession', 'successor', 'such', 'sudden', 'suddenly', 'sue', 'sued', 'suffer', 'suffered', 'suffering', 'sufficiency', 'sufficient', 'sufficiently', 'sugar', 'suggest', 'suggested', 'suggests', 'suing', 'suit', 'suitors', 'sulfur-dioxide', 'sum', 'summary', 'summer', 'summer\\\\/winter', 'summoned', 'summons', 'sums', 'sunlight', 'sunny', 'super-absorbent', 'supercilious', 'supercomputer', 'supercomputers', 'superconductor', 'superconductors', 'superimposed', 'superintendent', 'superior', 'superiors', 'supermarket', 'superpremiums', 'supplemental', 'supplier', 'suppliers', 'supplies', 'supply', 'support', 'supported', 'supporters', 'supportive', 'supports', 'supposedly', 'suppression', 'supreme', 'sure', 'surely', 'surfaced', 'surge', 'surged', 'surgeon', 'surgery', 'surplus', 'surpluses', 'surprise', 'surprised', 'surprising', 'surprisingly', 'surrender', 'surrendered', 'surreptitiously', 'surrounding', 'survey', 'surveyed', 'survival', 'survive', 'surviving', 'survivor', 'suspect', 'suspects', 'suspend', 'suspended', 'suspension', 'suspensions', 'sustained', 'swallow', 'swap', 'swapped', 'swapping', 'swaps', 'sweat', 'sweater', 'sweaters', 'sweatshirts', 'sweaty', 'sweeping', 'sweepstakes', 'sweet', 'sweeten', 'sweetened', 'swelling', 'swift', 'swiftly', 'swim', 'swing', 'swings', 'switch', 'switched', 'symbol', 'symbolic', 'symmetry', 'sympathetic', 'sympathy', 'symptoms', 'synchronized', 'syndicate', 'syndication', 'syndrome', 'synthetic', 'system', 'systematic', 'systems', 'table', 'tablets', 'tabloid', 'tackle', 'tactics', 'tad', 'tag', 'tags', 'tailor-made', 'tailored', 'tailoring', 'take', 'taken', 'takeover', 'takeover-stock', 'takes', 'taking', 'takings', 'talk', 'talk-show', 'talked', 'talking', 'talks', 'tall', 'tallies', 'tally', 'tanked', 'taper', 'tapes', 'tapping', 'target', 'targeted', 'targeting', 'targets', 'tariff', 'task', 'taste', 'tasty', 'taught', 'tax', 'taxable', 'taxation', 'taxes', 'taxpayer', 'taxpayers', 'tea', 'teach', 'teacher', 'teacher-cadet', 'teachers', 'teaches', 'teaching', 'team', 'teams', 'technical', 'technically', 'technique', 'techniques', 'technologies', 'technology', 'teenage', 'teetering', 'telecommunications', 'telegraph', 'telephone', 'telephone-information', 'telephones', 'television', 'tell', 'telling', 'tells', 'temperature', 'temporarily', 'temporary', 'temptation', 'tempted', 'tempts', 'tend', 'tender', 'tendered', 'tendering', 'tenfold', 'tens', 'tense', 'tension', 'tentatively', 'tenth', 'tenure', 'term', 'termed', 'terminated', 'terms', 'terrine', 'territory', 'terrorists', 'test', 'test-coaching', 'test-drive', 'test-practice', 'test-prep', 'test-preparation', 'tested', 'testify', 'testing', 'tests', 'tete-a-tete', 'text', 'textile', 'texts', 'texture', 'than', 'thanks', 'that', 'the', 'theaters', 'their', 'them', 'theme', 'themselves', 'then', 'then-Speaker', 'theological', 'theory', 'therapies', 'therapy', 'there', 'therefore', 'these', 'they', 'thieves', 'thin', 'thin-lipped', 'thing', 'things', 'think', 'thinking', 'thinks', 'third', 'third-highest', 'third-largest', 'third-quarter', 'thirtysomething', 'this', 'those', 'though', 'thought', 'thousand', 'thousands', 'thread', 'threat', 'threatened', 'threatens', 'threats', 'three', 'three-digit', 'three-lawyer', 'three-month', 'three-quarters', 'three-sevenths', 'three-year', 'thrift', 'thrifts', 'through', 'throughout', 'throws', 'thugs', 'thumbing', 'thumbs', 'thunder', 'thus', 'thwart', 'ticket', 'tickets', 'tidbits', 'tidily', 'tie-breaking', 'tie-in', 'tied', 'ties', 'tigers', 'tight', 'tightened', 'tightening', 'till', 'tilt', 'time', 'timely', 'times', 'timing', 'tinker', 'tiny', 'tip', 'tire', 'tire-kickers', 'tired', 'tires', 'tissue', 'tissue-transplant', 'tissues', 'titans', 'to', 'toast', 'tobacco', 'today', 'together', 'toilet', 'told', 'tolerate', 'toll', 'tomorrow', 'ton', 'tone', 'tons', 'too', 'took', 'tool', 'tools', 'tooth', 'top', 'top-level', 'top-selling', 'top-yielding', 'topics', 'topped', 'tormentors', 'torn', 'torrent', 'tort', 'total', 'totaled', 'totaling', 'tote', 'touch', 'touched', 'touchy', 'tough', 'tour', 'tours', 'touted', 'tow', 'toward', 'tower', 'town', 'towns', 'tows', 'toy', 'traced', 'track', 'tracked', 'tracking', 'tracks', 'trade', 'traded', 'trademark', 'trader', 'traders', 'trades', 'trading', 'trading-company', 'tradition', 'traditional', 'traditionalists', 'traditionally', 'traffic', 'trafficking', 'trail', 'trailed', 'train', 'trained', 'training', 'training-wage', 'trains', 'traitor', 'tramp', 'transacting', 'transaction', 'transactions', 'transcribe', 'transfer', 'transferring', 'transfers', 'transformed', 'transforming', 'transition', 'transplant', 'transplantation', 'transplants', 'transportation', 'transporting', 'trap', 'trash', 'travel', 'travel-related', 'traveled', 'travelers', 'traveling', 'trays', 'treat', 'treated', 'treating', 'treatment', 'treats', 'tree', 'trees', 'tremendous', 'trend', 'trends', 'trespass', 'trial', 'trials', 'tricky', 'tried', 'trigger', 'triggered', 'trillion', 'trim', 'trimmed', 'trimming', 'trip', 'triple', 'triple-A', 'triple-A-rated', 'triple-C', 'tripled', 'trivial', 'troop', 'troops', 'trouble', 'troubled', 'troubles', 'troublesome', 'truce', 'truck', 'trucks', 'true', 'trust', 'truth', 'truth-in-lending', 'truthful', 'try', 'trying', 'tubes', 'tubular', 'tuck', 'tumbled', 'tumultuous', 'tune', 'tunes', 'turf', 'turmoil', 'turn', 'turnaround', 'turned', 'turning', 'turnover', 'turns', 'tutorials', 'twice', 'twin', 'twin-jet', 'twindam', 'twinned', 'twist', 'twisting', 'two', 'two-letter', 'two-sevenths', 'two-thirds', 'two-tiered', 'two-time-losers', 'two-week', 'two-year', 'two-year-old', 'type', 'types', 'typically', 'ugly', 'ultimate', 'ultimately', 'ultimatum', 'unabated', 'unable', 'unaffiliated', 'unanimous', 'unanticipated', 'unattractive', 'unauthorized', 'unavailability', 'unaware', 'unbearably', 'uncanny', 'uncertainties', 'uncertainty', 'unchanged', 'uncharted', 'unclear', 'uncomfortable', 'uncompensated', 'uncomplaining', 'unconsolidated', 'unconstitutional', 'undelivered', 'under', 'undercut', 'undercutting', 'undergoing', 'underline', 'underlying', 'underperforming', 'underpin', 'underprivileged', 'underscore', 'undersecretary', 'understand', 'understanding', 'understands', 'understatement', 'understood', 'undertaking', 'undertone', 'underwent', 'underwriter', 'underwriters', 'undesirable', 'undiplomatic', 'undisclosed', 'undo', 'unemployment', 'unenthusiastic', 'unenticing', 'unethical', 'unexpected', 'unfair', 'unfair-trade', 'unfairly', 'unfathomable', 'unfettered', 'unfilled', 'unfocused', 'unfounded', 'unfunded', 'unhappy', 'unheard', 'unimpeded', 'unintelligible', 'union', 'unions', 'unique', 'unit', 'unitary', 'unitholders', 'units', 'universally', 'universities', 'university', 'unjust', 'unjustified', 'unknown', 'unlabeled', 'unleashed', 'unless', 'unlike', 'unlikely', 'unload', 'unloaded', 'unmarked', 'unneeded', 'unofficial', 'unpleasant', 'unpopularity', 'unproductive', 'unproven', 'unpublished', 'unraveling', 'unrealistically', 'unrealized', 'unreasonable', 'unrecognizable', 'unresolved', 'unrestricted', 'unsecured', 'unsettled', 'unsettling', 'unsolicited', 'unspecified', 'unstinting', 'unsuccessful', 'unsuccessfully', 'unsympathetic', 'until', 'untrained', 'untrue', 'unusual', 'unusually', 'unveil', 'unveiled', 'unwanted', 'unwary', 'unwashed', 'unwilling', 'unwind', 'unworkable', 'up', 'upbeat', 'upheld', 'upon', 'upper', 'upscale', 'upset', 'upsetting', 'upside', 'upstate', 'upstream', 'uptick', 'upturn', 'upward', 'urge', 'urged', 'urging', 'us', 'use', 'used', 'useful', 'users', 'uses', 'ushered', 'ushering', 'ushers', 'using', 'usual', 'usually', 'usurp', 'utilities', 'utility', 'uttering', 'utterly', 'v.', 'vacancy', 'vacant', 'vacation', 'vacations', 'vaccines', 'vagabond', 'vagrant', 'vague', 'valuable', 'valuation', 'valuations', 'value', 'valued', 'values', 'van', 'vans', 'variables', 'variation', 'varied', 'variety', 'various', 'vary', 'varying', 'vast', 'veal', 'vehicle', 'vehicles', 'vendors', 'venerable', 'ventilated', 'venture', 'ventures', 'verbatim', 'verge', 'version', 'versions', 'versus', 'vertically', 'very', 'vested', 'veteran', 'veto', 'vetoes', 'via', 'vicar', 'vicars', 'vice', 'vicious', 'vicissitudes', 'victim', 'victims', 'victory', 'video-viewing', 'videocassette', 'view', 'viewed', 'viewers', 'viewership', 'viewing', 'viewpoint', 'viewpoints', 'views', 'vindication', 'vineyard', 'vintage', 'vintages', 'vinyl', 'violate', 'violated', 'violating', 'violation', 'violations', 'violence', 'virtually', 'virtue', 'virtues', 'visible', 'vision', 'visit', 'visited', 'visiting', 'visitors', 'visits', 'vital', 'vitally', 'vitriolic', 'voice', 'voices', 'void', 'volatile', 'volatility', 'volume', 'voluntarily', 'voluntary', 'volunteer', 'vortex', 'vote', 'voted', 'voters', 'votes', 'voting', 'vow', 'vowed', 'vs.', 'wafers', 'wage', 'wages', 'waif', 'wait', 'waited', 'waiting', 'waive', 'waived', 'waiver', 'waivers', 'waiving', 'wake', 'walk', 'walking', 'walkout', 'wallowing', 'walls', 'want', 'wanted', 'wanting', 'wants', 'war', 'war-damaged', 'war-rationed', 'ward', 'warehouses', 'warehousing', 'warming', 'warn', 'warned', 'warning', 'warnings', 'warns', 'warrant', 'warranties', 'warrants', 'wary', 'was', 'waste', 'wasted', 'watch', 'watchdogs', 'watched', 'watchers', 'watches', 'watching', 'water', 'water-authority', 'waters', 'waterworks', 'wave', 'way', 'ways', 'we', 'we-Japanese', 'weak', 'weaken', 'weakening', 'weaker', 'weakness', 'wealth', 'wealthy', 'weapon', 'weapons-modernization', 'wear', 'wears', 'weather', 'web', 'wedded', 'weddings', 'week', 'weekends', 'weeklies', 'weekly', 'weeks', 'weigh', 'weighed', 'weighing', 'weight', 'weird', 'welcome', 'welcomed', 'welfare', 'well', 'well-connected', 'well-known', 'went', 'were', 'what', 'wheat', 'wheel-loader', 'wheels', 'when', 'when-issued', 'whenever', 'where', 'whereby', 'wherewithal', 'whether', 'which', 'whichever', 'while', 'whimsical', 'whipping', 'whipsaw', 'whirling', 'whistle', 'white', 'white-collar', 'who', 'whole', 'wholesale', 'wholesaler', 'whom', 'whose', 'why', 'wide', 'widely', 'widespread', 'widget', 'widgets', 'widow', 'wield', 'wife', 'wild', 'wildly', 'will', 'willing', 'willingness', 'win', 'windfall', 'winding', 'window', 'wine', 'wine-buying', 'wine-making', 'wines', 'wings', 'winner', 'winners', 'winning', 'wins', 'winter', 'wires', 'wisdom', 'wish', 'witches', 'with', 'withdraw', 'withdrawal', 'withdrawn', 'withdrew', 'withhold', 'within', 'without', 'withstand', 'witness', 'witnesses', 'wives', 'wizards', 'wo', 'woman', 'women', 'won', 'wonder', 'wooing', 'word', 'word-processing', 'words', 'work', 'workable', 'workbooks', 'worked', 'worker', 'workers', 'workforce', 'working', 'workplace', 'works', 'worksheets', 'world', 'world-wide', 'worms', 'worried', 'worries', 'worry', 'worrying', 'worse', 'worsen', 'worsening', 'worship', 'worst', 'worst-case', 'worth', 'worthiness', 'worthy', 'would', 'would-be', 'wound', 'wrath', 'wrecking', 'wrenching', 'wrestling', 'wrists', 'write', 'write-downs', 'write-off', 'writer', 'writers', 'writing', 'written', 'wrong', 'wrongdoing', 'wrote', 'year', 'year-ago', 'year-earlier', 'year-end', 'year-long', 'year-to-year', 'yearly', 'years', 'yellow', 'yen', 'yen-denominated', 'yen-support', 'yes', 'yesterday', 'yet', 'yet-to-be-formed', 'yield', 'yielded', 'yielding', 'yields', 'yon', 'you', 'young', 'younger', 'youngsters', 'your', 'yourself', 'youth', 'youthful', 'yttrium-containing', 'zero', 'zinc', 'zip', 'zone', 'zoomed']\n"
     ]
    }
   ],
   "source": [
    "wsj = sorted(set(nltk.corpus.treebank.words()))\n",
    "print(wsj)"
   ]
  },
  {
   "cell_type": "markdown",
   "metadata": {},
   "source": [
    "### 위에 영어단어들로 했던 것과 거의 같다. 여기선 wordlist를 wsj의 단어들 중에서 re.search('^[0-9]+\\.[0-9]+$', w)에만 해당 하는 단어를 for loop로 돌려서 받는 것이다. re.search('^[0-9]+\\.[0-9]+$', w) [0-9]는 0부터9 즉 모든 숫자이다. 그 뒤에 +가 붙었으니 실질적으로 wjs에 존재하는 모든 숫자다. 그리고 여기서 .은 앞의 모든 알파벳 중 하나가 아니다. 앞에 \\가 붙으면 특수문자 그 자체로 인식해야 한다. 때문에 \\.은 소수점이다. 따라서 이 함수는 단어장 내에 소주점이 포함된 모든 숫자이다. 그 중에서 앞의 10개"
   ]
  },
  {
   "cell_type": "code",
   "execution_count": 17,
   "metadata": {},
   "outputs": [
    {
     "name": "stdout",
     "output_type": "stream",
     "text": [
      "['0.0085', '0.05', '0.1', '0.16', '0.2', '0.25', '0.28', '0.3', '0.4', '0.5']\n"
     ]
    }
   ],
   "source": [
    "wordlist = [w for w in wsj if re.search('^[0-9]+\\.[0-9]+$', w)]\n",
    "print(wordlist[:10])"
   ]
  },
  {
   "cell_type": "markdown",
   "metadata": {},
   "source": [
    "### 이번엔 [A-Z]이다 대문자 알파벳 모두라고 할 수 있다. 그 뒤에 + 가 붙었으니 실질적으로 모든 단어라고 할 수 있다. 하지만 \\$을 붙여줘 그런 단어들 중에서 $가 붙은 단어만 가져오는 것이다."
   ]
  },
  {
   "cell_type": "code",
   "execution_count": 18,
   "metadata": {},
   "outputs": [
    {
     "name": "stdout",
     "output_type": "stream",
     "text": [
      "['C$', 'US$']\n"
     ]
    }
   ],
   "source": [
    "wordlist = [w for w in wsj if re.search('^[A-Z]+\\$$', w)]\n",
    "print(wordlist[:10])"
   ]
  },
  {
   "cell_type": "code",
   "execution_count": 23,
   "metadata": {},
   "outputs": [
    {
     "name": "stdout",
     "output_type": "stream",
     "text": [
      "['A', 'ABA', 'ABORTION', 'ACCEPTANCES', 'ACCOUNT', 'ACQUISITION', 'AG', 'AGREES', 'AIDS', 'AMR']\n"
     ]
    }
   ],
   "source": [
    "wordlist = [w for w in wsj if re.search('^[A-Z]+$', w)]\n",
    "print(wordlist[:10])"
   ]
  },
  {
   "cell_type": "code",
   "execution_count": 24,
   "metadata": {
    "scrolled": true
   },
   "outputs": [
    {
     "name": "stdout",
     "output_type": "stream",
     "text": [
      "['A', 'ABA', 'ABORTION', 'ACCEPTANCES', 'ACCOUNT', 'ACQUISITION', 'AG', 'AGREES', 'AIDS', 'AMR', 'AN', 'AND', 'APPEARS', 'ASLACTON', 'ASSETS', 'ASSOCIATES', 'ASSOCIATION', 'B', 'BALLOT', 'BANKERS', 'BILLS', 'BIRDS', 'BMP', 'BRAMALEA', 'BRIEFS', 'BTR', 'CALL', 'CAMPAIGN', 'CAT', 'CBS', 'CDC', 'CEO', 'CERTIFICATES', 'CHANGED', 'CIA', 'CLEARS', 'COLLECTING', 'COMMERCIAL', 'COMMUNICATIONS', 'COMPUTERS', 'COPPER', 'CORP', 'CS', 'CSV', 'CTB', 'CTBS', 'DD', 'DDB', 'DEFENSE', 'DEPOSIT', 'DES', 'DIALING', 'DIAPER', 'DISCOUNT', 'DNA', 'DOONESBURY', 'DOT', 'DSM', 'EC', 'ECONOMIC', 'EEOC', 'ENDED', 'ENERGY', 'EST', 'EURODOLLARS', 'EVERYONE', 'EXCHANGE', 'F', 'FALL', 'FAMILY', 'FAX', 'FBI', 'FEDERAL', 'FERC', 'FIRST', 'FOREIGN', 'FT', 'FTC', 'FUNDS', 'G', 'GAF', 'GHKM', 'GHS', 'GM', 'GMAC', 'GOODY', 'GOP', 'GRAINS', 'GROWTH', 'HHS', 'HOME', 'HUD', 'I', 'IBC', 'IBM', 'II', 'III', 'IMSAI', 'INQUIRY', 'INS', 'INTERBANK', 'INTERPUBLIC', 'IRS', 'ISSUES', 'IT', 'ITC', 'IX', 'JUDGE', 'JUDICIAL', 'LANDOR', 'LATE', 'LIBOR', 'LOAN', 'LONDON', 'LSI', 'LTV', 'LYNCH', 'MEDICINE', 'MERRILL', 'METALS', 'MITI', 'MONEY', 'MORTGAGE', 'NASD', 'NATIONAL', 'NBC', 'NBI', 'NCNB', 'NCR', 'NEC', 'NESB', 'NEW', 'NIH', 'NL', 'NRDC', 'NTG', 'NYSE', 'OF', 'OFFERED', 'OK', 'ON', 'ORTEGA', 'OSHA', 'OTC', 'OVER', 'PAP', 'PAPER', 'PAPERS', 'PC', 'PETS', 'PHOTOGRAPH', 'PLC', 'PLO', 'POP', 'PORTING', 'POTABLES', 'PRECIOUS', 'PRIME', 'PRODUCTS', 'PS', 'PTA', 'R', 'RATE', 'RATES', 'RBC', 'READY', 'RMS', 'ROGERS', 'RULING', 'SALARIES', 'SALT', 'SAT', 'SCI', 'SDI', 'SEC', 'SERVICES', 'SHAREDATA', 'SOYBEANS', 'SWITCHING', 'TEXAS', 'THAT', 'THE', 'THREE', 'TIRED', 'TO', 'TRANSPLANT', 'TREASURY', 'TRIAL', 'TRIMMING', 'TROUBLES', 'TRUST', 'TV', 'TWO', 'TXO', 'UAL', 'UBS', 'UNION', 'UPHELD', 'US', 'USA', 'USIA', 'USX', 'VOA', 'WAFA', 'WAR', 'WFRR', 'WHAS', 'WPP', 'WTD', 'WTVJ', 'X', 'YMCA', 'YWCA']\n"
     ]
    }
   ],
   "source": [
    "wordlist = [w for w in wsj if re.search('^[A-Z]+$', w)]\n",
    "print(wordlist)"
   ]
  },
  {
   "cell_type": "markdown",
   "metadata": {},
   "source": [
    "#### ('^[0-9]{4}$', w) {4}는 앞의 스트링을 네번 반복하는 것이다. 따라서 [0-9]{4} 4자리의 숫자인 것이다."
   ]
  },
  {
   "cell_type": "code",
   "execution_count": 25,
   "metadata": {},
   "outputs": [
    {
     "name": "stdout",
     "output_type": "stream",
     "text": [
      "['1614', '1637', '1787', '1901', '1903', '1917', '1925', '1929', '1933', '1934']\n"
     ]
    }
   ],
   "source": [
    "wordlist = [w for w in wsj if re.search('^[0-9]{4}$', w)]\n",
    "print(wordlist[:10])"
   ]
  },
  {
   "cell_type": "code",
   "execution_count": 27,
   "metadata": {},
   "outputs": [
    {
     "name": "stdout",
     "output_type": "stream",
     "text": [
      "['10', '11', '12', '13', '20', '21', '22', '23', '30', '31']\n"
     ]
    }
   ],
   "source": [
    "wordlist = [w for w in wsj if re.search('^[0-3]{2}$', w)]\n",
    "print(wordlist[:10])"
   ]
  },
  {
   "cell_type": "code",
   "execution_count": 28,
   "metadata": {},
   "outputs": [
    {
     "name": "stdout",
     "output_type": "stream",
     "text": [
      "['1206.26', '1614', '1637', '1738.1', '1787', '1901', '1903', '1917', '1920s', '1925']\n"
     ]
    }
   ],
   "source": [
    "wordlist = [w for w in wsj if re.search('^[0-9]{4}', w)]\n",
    "print(wordlist[:10])"
   ]
  },
  {
   "cell_type": "code",
   "execution_count": 29,
   "metadata": {},
   "outputs": [
    {
     "name": "stdout",
     "output_type": "stream",
     "text": [
      "['0.0085', '1.1650', '1.5755', '1.5805', '1.8415', '1.8500', '1206.26', '1614', '1637', '1738.1']\n"
     ]
    }
   ],
   "source": [
    "wordlist = [w for w in wsj if re.search('[0-9]{4}', w)]\n",
    "print(wordlist[:10])"
   ]
  },
  {
   "cell_type": "markdown",
   "metadata": {},
   "source": [
    "### ('^[0-9]+-[a-z]{3,5}$', w) 여기서 -는 빼기가 아닌 그냥 대시이다.  {3,5}는 세번에서 다섯번까지 반복이다. "
   ]
  },
  {
   "cell_type": "code",
   "execution_count": 26,
   "metadata": {},
   "outputs": [
    {
     "name": "stdout",
     "output_type": "stream",
     "text": [
      "['10-day', '10-lap', '10-year', '100-share', '12-point', '12-year', '14-hour', '15-day', '150-point', '190-point']\n"
     ]
    }
   ],
   "source": [
    "wordlist = [w for w in wsj if re.search('^[0-9]+-[a-z]{3,5}$', w)]\n",
    "print(wordlist[:10])"
   ]
  },
  {
   "cell_type": "markdown",
   "metadata": {},
   "source": [
    " ### re.search('^[a-z]{5,}-[a-z]{2,3}-[a-z]{,6}$', w) {5,}는 다섯번 이상 반복이다. {2,3}는 두번이상 세번이하 반복이다. {,6}은 여섯번이하 반복이다.따라서 소문자 알파벳 다섯글자이상- 소문자 알파벳 두글자 이상 세글자 이하 - 소문자 알파벳 여섯글자 이하의 단어가 오면 된다."
   ]
  },
  {
   "cell_type": "code",
   "execution_count": 42,
   "metadata": {},
   "outputs": [
    {
     "name": "stdout",
     "output_type": "stream",
     "text": [
      "['black-and-white', 'bread-and-butter', 'father-in-law', 'machine-gun-toting', 'savings-and-loan']\n"
     ]
    }
   ],
   "source": [
    "wordlist = [w for w in wsj if re.search('^[a-z]{5,}-[a-z]{2,3}-[a-z]{,6}$', w)]\n",
    "print(wordlist[:10])"
   ]
  },
  {
   "cell_type": "markdown",
   "metadata": {},
   "source": [
    "## | (바)는 or이다 따라서 끝에 ed or ing가 오는 단어를 찾는 것이다. "
   ]
  },
  {
   "cell_type": "code",
   "execution_count": 43,
   "metadata": {},
   "outputs": [
    {
     "name": "stdout",
     "output_type": "stream",
     "text": [
      "['62%-owned', 'Absorbed', 'According', 'Adopting', 'Advanced', 'Advancing', 'Alfred', 'Allied', 'Annualized', 'Anything']\n"
     ]
    }
   ],
   "source": [
    "wordlist = [w for w in wsj if re.search('(ed|ing)$', w)]\n",
    "print(wordlist[:10])"
   ]
  },
  {
   "cell_type": "code",
   "execution_count": 45,
   "metadata": {},
   "outputs": [
    {
     "name": "stdout",
     "output_type": "stream",
     "text": [
      "['62%-owned', 'Absorbed', 'Advanced', 'Alfred', 'Allied', 'Annualized', 'Arbitrage-related', 'Artist', 'Asked', 'Atlanta-based']\n"
     ]
    }
   ],
   "source": [
    "wordlist = [w for w in wsj if re.search('(ed|ist)$', w)]\n",
    "print(wordlist[:10])"
   ]
  },
  {
   "cell_type": "code",
   "execution_count": 46,
   "metadata": {},
   "outputs": [
    {
     "name": "stdout",
     "output_type": "stream",
     "text": [
      "['62%-owned', 'Absorbed', 'Advanced', 'Alfred', 'Allied', 'Annualized', 'Arbitrage-related', 'Artist', 'Asked', 'Atlanta-based', 'Bermuda-based', 'Calif.-based', 'Cartoonist', 'Communist', 'Concerned', 'Confronted', 'Conn.based', 'Consolidated', 'Continued', 'Designated', 'Developed', 'Died', 'Encouraged', 'Estimated', 'Exxon-owned', 'Fed', 'Federalist', 'Filmed', 'Founded', 'Francisco-based']\n"
     ]
    }
   ],
   "source": [
    "wordlist = [w for w in wsj if re.search('(ed|ist)$', w)]\n",
    "print(wordlist[:30])"
   ]
  },
  {
   "cell_type": "code",
   "execution_count": 8,
   "metadata": {
    "collapsed": true
   },
   "outputs": [
    {
     "name": "stdout",
     "output_type": "stream",
     "text": [
      "['a', 'aa', 'aal', 'aalii', 'aam', 'aardvark', 'aardwolf', 'aba', 'abac', 'abaca']\n",
      "['abaissed', 'abandoned', 'abased', 'abashed', 'abatised', 'abed', 'aborted', 'abridged', 'abscessed', 'absconded']\n",
      "['abjectly', 'adjuster', 'dejected', 'dejectly', 'injector', 'majestic', 'objectee', 'objector', 'rejecter', 'rejector']\n",
      "['gold', 'golf', 'hold', 'hole']\n",
      "['a', 'aa', 'ah', 'aha', 'h', 'ha', 'hah']\n",
      "['0.0085', '0.05', '0.1', '0.16', '0.2', '0.25', '0.28', '0.3', '0.4', '0.5']\n",
      "['C$', 'US$']\n",
      "['1614', '1637', '1787', '1901', '1903', '1917', '1925', '1929', '1933', '1934']\n",
      "['10-day', '10-lap', '10-year', '100-share', '12-point', '12-year', '14-hour', '15-day', '150-point', '190-point']\n",
      "['black-and-white', 'bread-and-butter', 'father-in-law', 'machine-gun-toting', 'savings-and-loan']\n",
      "['62%-owned', 'Absorbed', 'According', 'Adopting', 'Advanced', 'Advancing', 'Alfred', 'Allied', 'Annualized', 'Anything']\n",
      "['straight', 'strain', 'strains', 'strapped', 'strategic', 'strategies', 'strategy', 'stream', 'street', 'streets']\n"
     ]
    }
   ],
   "source": [
    "wordlist = [w for w in nltk.corpus.words.words('en') if w.islower()]\n",
    "print(wordlist[:10])\n",
    "result = [w for w in wordlist if re.search('ed$', w)][:10]\n",
    "print(result[:10])\n",
    "result = [w for w in wordlist if re.search('^..j..t..$', w)][:10]\n",
    "print(result[:10])\n",
    "result = [w for w in wordlist if re.search('^[ghi][mno][jlk][def]$', w)][:10]\n",
    "print(result[:10])\n",
    "result = [w for w in wordlist if re.search('^[ah]+$', w)][:10]\n",
    "print(result[:10])\n",
    "\n",
    "wsj = sorted(set(nltk.corpus.treebank.words()))\n",
    "wordlist = [w for w in wsj if re.search('^[0-9]+\\.[0-9]+$', w)]\n",
    "print(wordlist[:10])\n",
    "wordlist = [w for w in wsj if re.search('^[A-Z]+\\$$', w)]\n",
    "print(wordlist[:10])\n",
    "wordlist = [w for w in wsj if re.search('^[0-9]{4}$', w)]\n",
    "print(wordlist[:10])\n",
    "wordlist = [w for w in wsj if re.search('^[0-9]+-[a-z]{3,5}$', w)]\n",
    "print(wordlist[:10])\n",
    "wordlist = [w for w in wsj if re.search('^[a-z]{5,}-[a-z]{2,3}-[a-z]{,6}$', w)]\n",
    "print(wordlist[:10])\n",
    "wordlist = [w for w in wsj if re.search('(ed|ing)$', w)]\n",
    "print(wordlist[:10])"
   ]
  },
  {
   "cell_type": "code",
   "execution_count": null,
   "metadata": {},
   "outputs": [],
   "source": [
    "wsj = sorted(set(nltk.corpus.treebank.words()))\n",
    "fdist = nltk.FreqDist(vs for word in wsj for vs in re.findall(r'[aeiou]{2,}', word))\n",
    "fdist.most_common(10)"
   ]
  },
  {
   "cell_type": "code",
   "execution_count": 23,
   "metadata": {},
   "outputs": [
    {
     "name": "stdout",
     "output_type": "stream",
     "text": [
      "['u', 'e', 'a', 'i', 'a', 'i', 'i', 'i', 'e', 'i', 'a', 'i', 'o', 'i', 'o', 'u']\n",
      "['rc', 'fr', 'st', 'xp', 'ci']\n",
      "['supercalifragilisticexpialidocious']\n",
      "['sup', 'rcal', 'frag', 'lis', 'tic', 'xpial', 'doc']\n"
     ]
    }
   ],
   "source": [
    "word = 'supercalifragilisticexpialidocious'\n",
    "result = re.findall(r'[aeiou]', word)\n",
    "print(result)\n",
    "result = re.findall('[aeiou](..)[aeiou]', word)\n",
    "print(result)\n",
    "result = re.findall('[^aeiou].+[^aeiou]', word)\n",
    "print(result)\n",
    "result = re.findall('[^aeiou].+?[^aeiou]', word)\n",
    "print(result)"
   ]
  },
  {
   "cell_type": "code",
   "execution_count": 3,
   "metadata": {},
   "outputs": [
    {
     "name": "stdout",
     "output_type": "stream",
     "text": [
      "    a   e   i   o   u \n",
      "k 418 148  94 420 173 \n",
      "p  83  31 105  34  51 \n",
      "r 187  63  84  89  79 \n",
      "s   0   0 100   2   1 \n",
      "t  47   8   0 148  37 \n",
      "v  93  27 105  48  49 \n"
     ]
    }
   ],
   "source": [
    "regexp = r'^[AEIOUaeiou]+|[AEIOUaeiou]+$|[^AEIOUaeiou]'\n",
    "def compress(word):\n",
    "    pieces = re.findall(regexp, word)\n",
    "    return ''.join(pieces)\n",
    "\n",
    "english_udhr = nltk.corpus.udhr.words('English-Latin1')\n",
    "print(nltk.tokenwrap(compress(w) for w in english_udhr[:75]))\n"
   ]
  },
  {
   "cell_type": "code",
   "execution_count": 27,
   "metadata": {},
   "outputs": [
    {
     "name": "stdout",
     "output_type": "stream",
     "text": [
      "    a   e   i   o   u \n",
      "k 418 148  94 420 173 \n",
      "p  83  31 105  34  51 \n",
      "r 187  63  84  89  79 \n",
      "s   0   0 100   2   1 \n",
      "t  47   8   0 148  37 \n",
      "v  93  27 105  48  49 \n"
     ]
    }
   ],
   "source": [
    "rotokas_words = nltk.corpus.toolbox.words('rotokas.dic')\n",
    "cvs = [cv for w in rotokas_words for cv in re.findall(r'[ptksvr][aeiou]', w)]\n",
    "cfd = nltk.ConditionalFreqDist(cvs) # CFD works pairwise only\n",
    "cfd.tabulate()"
   ]
  },
  {
   "cell_type": "code",
   "execution_count": null,
   "metadata": {},
   "outputs": [],
   "source": [
    "cv_word_pairs = [(cv, w) for w in rotokas_words for cv in re.findall(r'[ptksvr][aeiou]', w)]\n",
    "cv_index = nltk.Index(cv_word_pairs)\n",
    "cv_index['po']"
   ]
  }
 ],
 "metadata": {
  "kernelspec": {
   "display_name": "Python 3",
   "language": "python",
   "name": "python3"
  },
  "language_info": {
   "codemirror_mode": {
    "name": "ipython",
    "version": 3
   },
   "file_extension": ".py",
   "mimetype": "text/x-python",
   "name": "python",
   "nbconvert_exporter": "python",
   "pygments_lexer": "ipython3",
   "version": "3.7.1"
  }
 },
 "nbformat": 4,
 "nbformat_minor": 1
}
